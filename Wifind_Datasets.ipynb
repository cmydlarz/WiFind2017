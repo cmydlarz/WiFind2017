{
 "cells": [
  {
   "cell_type": "markdown",
   "metadata": {},
   "source": [
    "# Wifind Datasets\n",
    "\n",
    "### Author_: Christian Rosado"
   ]
  },
  {
   "cell_type": "markdown",
   "metadata": {},
   "source": [
    "# Data to have on hand:\n",
    "* https://www1.nyc.gov/site/planning/data-maps/open-data.page\n",
    "* https://data.cityofnewyork.us/Social-Services/LinkNYC-Map/tgrn-h24f/data\n",
    "* https://www1.nyc.gov/site/planning/data-maps/open-data/dwn-pluto-mappluto.page\n",
    "* NYC census data:  http://maps.nyc.gov/census/\n",
    "    * http://data.beta.nyc/dataset/median-household-income-2010-census-tracts/resource/92bbc70e-2b4e-40aa-8a1f-d39b11124b49\n",
    "* Section 8 vouchers data: http://wordondastreet.com/hasidic-neighborhood-exposed-as-top-section-8-beneficiary-pushing-blacks-latinos-out-of-brooklyn/ \n",
    "    * New York City’s 123,000 vouchers make this the largest Section 8 voucher program in the country. Reluctant landlords and rising rents are making vouchers nearly impossible to use in many areas of the city. Tenants, especially larger families, are often relegated to the edges of Brooklyn and the Bronx. That’s why this cluster of Hasidic households stands out.\n",
    "    * The neighborhood is home to one of the highest concentrations of Section 8 housing vouchers in the city, according to federal data analyzed by WNYC and the Daily News. In several of its census tracts, Section 8 tenants compose more than 30% of residents, a level reached only in scattered pockets of the Bronx.\n",
    "    * https://catalog.data.gov/dataset/active-multifamily-portfolio-property-level-data\n",
    "    * https://catalog.data.gov/dataset/public-housing-agency-pha-inventory\n",
    "    * https://catalog.data.gov/dataset/fair-market-rents-for-the-section-8-housing-assistance-payments-program\n",
    "    * Hasidic neighborhood in South Williamsburg is a top beneficiary of Section 8, but some question whether law is strictly followed\n",
    "        * http://www.nydailynews.com/new-york/hasidic-neighborhood-b-klyn-top-beneficiary-section-8-article-1.2639120\n",
    "* https://data.cityofnewyork.us/City-Government/NYC-Street-Centerline-CSCL-/exjm-f27b/data"
   ]
  },
  {
   "cell_type": "markdown",
   "metadata": {},
   "source": [
    "# Needed variables:\n",
    "* Total Population\n",
    "* Population Density\n",
    "* House Hold Density\n",
    "* Median Household Income\n",
    "* Wifi Counts (open and other)\n",
    "* Poverty Level\n",
    "* Section 8 (T/F)\n",
    "* Location (lat, long)\n",
    "    "
   ]
  },
  {
   "cell_type": "code",
   "execution_count": null,
   "metadata": {
    "collapsed": true
   },
   "outputs": [],
   "source": [
    "# NYC_Street_Centerline_(CSCL)\n",
    "shape_path = \"../Downloads/NYC_Street_Centerline_(CSCL)/geo_export_5354736e-3527-44b9-bb36-7ba27a36cab2.shp\"\n",
    "NYC_Street = GeoDataFrame.from_file(shape_path)"
   ]
  },
  {
   "cell_type": "code",
   "execution_count": null,
   "metadata": {
    "collapsed": true
   },
   "outputs": [],
   "source": [
    "# non-open networks map with street overlay\n",
    "f,ax = pl.subplots(figsize=(20,10))\n",
    "BKMapPLUTO[::10].plot(ax=ax, color=\"#DDDDDD\")\n",
    "housing_projects[housing_projects.developmen == \"SUMNER\"].plot(ax=ax, color=\"#0074D9\")\n",
    "housing_projects[housing_projects.developmen.str.contains(\"ROOSEVELT I\")].plot(ax=ax, color=\"#0074D9\")\n",
    "#housing_projects[housing_projects.developmen.str.contains(\"ROOSEVELT II\")].plot(ax=ax, color=\"white\")\n",
    "housing_projects[housing_projects.developmen.str.contains(\"303 VERNON AVENUE\")].plot(ax=ax, color=\"#0074D9\")\n",
    "housing_projects[housing_projects.developmen.str.contains(\"TOMPKINS\")].plot(ax=ax, color=\"#0074D9\")\n",
    "bklyn_housing[::100].plot(column='developmen', markersize=10, ax=ax, legend=True)\n",
    "\n",
    "#BKMapPLUTO[BKMapPLUTO.Address.str.contains(\"VERNON\")].plot(ax=ax, color=\"#7FDBFF\")\n",
    "#BKMapPLUTO[BKMapPLUTO.Address.str.contains(\"MARCUS GARVEY\")].plot(ax=ax, color=\"#7FDBFF\")\n",
    "#NYC_Street[::10].plot(ax=ax, color=\"#7FDBFF\")\n",
    "plt.title(\"Collected Wifi Networks (Points) in Selected Low-Income Housing Projects\", fontsize=30)\n",
    "ax.set_ylabel('Latitude', fontsize=18)\n",
    "ax.set_xlabel(\"Longitude\", fontsize=18)\n",
    "ax.set_xlim([-73.948, -73.932])\n",
    "ax.set_ylim([40.6900, 40.7025])"
   ]
  },
  {
   "cell_type": "code",
   "execution_count": 1,
   "metadata": {
    "collapsed": false
   },
   "outputs": [
    {
     "name": "stdout",
     "output_type": "stream",
     "text": [
      "Populating the interactive namespace from numpy and matplotlib\n"
     ]
    }
   ],
   "source": [
    "# imports\n",
    "from __future__  import print_function, division\n",
    "import pylab as pl\n",
    "import pandas as pd\n",
    "import numpy as np\n",
    "from geopandas import GeoDataFrame\n",
    "import matplotlib.pyplot as plt\n",
    "from fiona.crs import from_epsg\n",
    "import shapely as shp\n",
    "import seaborn \n",
    "import os\n",
    "import geopandas as gpd\n",
    "%pylab inline"
   ]
  },
  {
   "cell_type": "code",
   "execution_count": 2,
   "metadata": {
    "collapsed": false
   },
   "outputs": [],
   "source": [
    "link_NYC = pd.read_csv(\"LinkNYC_Map.csv\")"
   ]
  },
  {
   "cell_type": "code",
   "execution_count": null,
   "metadata": {
    "collapsed": false
   },
   "outputs": [],
   "source": [
    "link_NYC.head()"
   ]
  },
  {
   "cell_type": "code",
   "execution_count": 3,
   "metadata": {
    "collapsed": false
   },
   "outputs": [],
   "source": [
    "#original_data[\"geometry\"] = \"POINT (\" + original_data.lng + \" \" + original_data.lat + \")\"\n",
    "link_NYC[\"geometry\"] = \" \""
   ]
  },
  {
   "cell_type": "code",
   "execution_count": 4,
   "metadata": {
    "collapsed": false
   },
   "outputs": [
    {
     "name": "stderr",
     "output_type": "stream",
     "text": [
      "/Applications/anaconda/lib/python3.6/site-packages/pandas/core/indexing.py:132: SettingWithCopyWarning: \n",
      "A value is trying to be set on a copy of a slice from a DataFrame\n",
      "\n",
      "See the caveats in the documentation: http://pandas.pydata.org/pandas-docs/stable/indexing.html#indexing-view-versus-copy\n",
      "  self._setitem_with_indexer(indexer, value)\n"
     ]
    }
   ],
   "source": [
    "for n, p in enumerate(zip(link_NYC.Latitude, link_NYC.Longitude)):\n",
    "    link_NYC[\"geometry\"].iloc[n] = shp.geometry.Point(p)"
   ]
  },
  {
   "cell_type": "code",
   "execution_count": null,
   "metadata": {
    "collapsed": false
   },
   "outputs": [],
   "source": [
    "link_NYC.head()"
   ]
  },
  {
   "cell_type": "code",
   "execution_count": 5,
   "metadata": {
    "collapsed": true
   },
   "outputs": [],
   "source": [
    "# NYC_Street_Centerline_(CSCL)\n",
    "shape_path = \"../Downloads/NYC_Street_Centerline_(CSCL)/geo_export_5354736e-3527-44b9-bb36-7ba27a36cab2.shp\"\n",
    "NYC_Street = GeoDataFrame.from_file(shape_path)"
   ]
  },
  {
   "cell_type": "code",
   "execution_count": null,
   "metadata": {
    "collapsed": false
   },
   "outputs": [],
   "source": [
    "NYC_Street.l_zip.head()"
   ]
  },
  {
   "cell_type": "code",
   "execution_count": null,
   "metadata": {
    "collapsed": true
   },
   "outputs": [],
   "source": [
    "from geopandas import GeoDataFrame\n",
    "from shapely.geometry import Point\n",
    "\n",
    "geometry = [Point(xy) for xy in zip(df.Lon, df.Lat)]\n",
    "df = df.drop(['Lon', 'Lat'], axis=1)\n",
    "crs = {'init': 'epsg:4326'}\n",
    "geo_df = GeoDataFrame(df, crs=crs, geometry=geometry)"
   ]
  },
  {
   "cell_type": "code",
   "execution_count": 6,
   "metadata": {
    "collapsed": false
   },
   "outputs": [],
   "source": [
    "geo_link_NYC = GeoDataFrame(link_NYC, crs={'init': 'epsg:4326'}, geometry=link_NYC.geometry)"
   ]
  },
  {
   "cell_type": "code",
   "execution_count": 7,
   "metadata": {
    "collapsed": false
   },
   "outputs": [],
   "source": [
    "geo_link_NYC.crs = NYC_Street.crs"
   ]
  },
  {
   "cell_type": "code",
   "execution_count": 8,
   "metadata": {
    "collapsed": false
   },
   "outputs": [
    {
     "data": {
      "text/plain": [
       "{'init': 'epsg:4326'}"
      ]
     },
     "execution_count": 8,
     "metadata": {},
     "output_type": "execute_result"
    }
   ],
   "source": [
    "NYC_Street.crs"
   ]
  },
  {
   "cell_type": "code",
   "execution_count": 9,
   "metadata": {
    "collapsed": false
   },
   "outputs": [
    {
     "data": {
      "text/plain": [
       "{'init': 'epsg:4326'}"
      ]
     },
     "execution_count": 9,
     "metadata": {},
     "output_type": "execute_result"
    }
   ],
   "source": [
    "geo_link_NYC.crs"
   ]
  },
  {
   "cell_type": "code",
   "execution_count": 18,
   "metadata": {
    "collapsed": false
   },
   "outputs": [
    {
     "data": {
      "text/plain": [
       "(40.69, 40.7025)"
      ]
     },
     "execution_count": 18,
     "metadata": {},
     "output_type": "execute_result"
    },
    {
     "data": {
      "image/png": "[encoded data removed]",
      "text/plain": [
       "<matplotlib.figure.Figure at 0x175c80940>"
      ]
     },
     "metadata": {},
     "output_type": "display_data"
    }
   ],
   "source": [
    "f,ax = pl.subplots(figsize=(20,10))\n",
    "geo_link_NYC[::100].plot(ax=ax, color=\"#01FF70\")\n",
    "NYC_Street[::10].plot(ax=ax, color=\"#001f3f\")\n",
    "ax.set_xlim([-73.948, -73.932])\n",
    "ax.set_ylim([40.6900, 40.7025])"
   ]
  },
  {
   "cell_type": "code",
   "execution_count": null,
   "metadata": {
    "collapsed": true
   },
   "outputs": [],
   "source": []
  }
 ],
 "metadata": {
  "kernelspec": {
   "display_name": "Python 3",
   "language": "python",
   "name": "python3"
  },
  "language_info": {
   "codemirror_mode": {
    "name": "ipython",
    "version": 3
   },
   "file_extension": ".py",
   "mimetype": "text/x-python",
   "name": "python",
   "nbconvert_exporter": "python",
   "pygments_lexer": "ipython3",
   "version": "3.6.0"
  }
 },
 "nbformat": 4,
 "nbformat_minor": 2
}

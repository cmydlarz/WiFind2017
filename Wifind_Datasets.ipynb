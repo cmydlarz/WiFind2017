{
 "cells": [
  {
   "cell_type": "markdown",
   "metadata": {},
   "source": [
    "# Wifind Datasets\n",
    "\n",
    "### Author_: Christian Rosado"
   ]
  },
  {
   "cell_type": "markdown",
   "metadata": {},
   "source": [
    "# Data to have on hand:\n",
    "* https://www1.nyc.gov/site/planning/data-maps/open-data.page\n",
    "* https://data.cityofnewyork.us/Social-Services/LinkNYC-Map/tgrn-h24f/data\n",
    "* https://www1.nyc.gov/site/planning/data-maps/open-data/dwn-pluto-mappluto.page\n",
    "* NYC census data:  http://maps.nyc.gov/census/\n",
    "* Section 8 vouchers data: http://wordondastreet.com/hasidic-neighborhood-exposed-as-top-section-8-beneficiary-pushing-blacks-latinos-out-of-brooklyn/ \n",
    "    * New York City’s 123,000 vouchers make this the largest Section 8 voucher program in the country. Reluctant landlords and rising rents are making vouchers nearly impossible to use in many areas of the city. Tenants, especially larger families, are often relegated to the edges of Brooklyn and the Bronx. That’s why this cluster of Hasidic households stands out.\n",
    "    * The neighborhood is home to one of the highest concentrations of Section 8 housing vouchers in the city, according to federal data analyzed by WNYC and the Daily News. In several of its census tracts, Section 8 tenants compose more than 30% of residents, a level reached only in scattered pockets of the Bronx.\n",
    "    * https://catalog.data.gov/dataset/active-multifamily-portfolio-property-level-data\n",
    "    * https://catalog.data.gov/dataset/public-housing-agency-pha-inventory\n",
    "    * https://catalog.data.gov/dataset/fair-market-rents-for-the-section-8-housing-assistance-payments-program\n",
    "    * Hasidic neighborhood in South Williamsburg is a top beneficiary of Section 8, but some question whether law is strictly followed\n",
    "        * http://www.nydailynews.com/new-york/hasidic-neighborhood-b-klyn-top-beneficiary-section-8-article-1.2639120\n"
   ]
  },
  {
   "cell_type": "markdown",
   "metadata": {},
   "source": [
    "# Needed variables:\n",
    "* Total Population\n",
    "* Population Density\n",
    "* House Hold Density\n",
    "* Median Household Income\n",
    "* Wifi Counts (open and other)\n",
    "* Poverty Level\n",
    "* Section 8 (T/F)\n",
    "* Location (lat, long)\n",
    "    "
   ]
  },
  {
   "cell_type": "code",
   "execution_count": null,
   "metadata": {
    "collapsed": true
   },
   "outputs": [],
   "source": []
  }
 ],
 "metadata": {
  "kernelspec": {
   "display_name": "Python 3",
   "language": "python",
   "name": "python3"
  },
  "language_info": {
   "codemirror_mode": {
    "name": "ipython",
    "version": 3
   },
   "file_extension": ".py",
   "mimetype": "text/x-python",
   "name": "python",
   "nbconvert_exporter": "python",
   "pygments_lexer": "ipython3",
   "version": "3.6.0"
  }
 },
 "nbformat": 4,
 "nbformat_minor": 2
}

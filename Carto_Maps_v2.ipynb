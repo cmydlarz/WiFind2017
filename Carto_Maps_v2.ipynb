{
 "cells": [
  {
   "cell_type": "markdown",
   "metadata": {},
   "source": [
    "# Carto Maps\n",
    "\n",
    "### Author_: Christian Rosado"
   ]
  },
  {
   "cell_type": "code",
   "execution_count": 1,
   "metadata": {
    "collapsed": false
   },
   "outputs": [
    {
     "name": "stdout",
     "output_type": "stream",
     "text": [
      "Populating the interactive namespace from numpy and matplotlib\n"
     ]
    }
   ],
   "source": [
    "import pandas as pd\n",
    "from shapely.geometry import Point\n",
    "import datetime as dt\n",
    "import geopandas as gpd\n",
    "from fiona.crs import from_epsg\n",
    "import pyproj\n",
    "import pylab as pl\n",
    "import mplleaflet\n",
    "import folium\n",
    "import shapefile as shp\n",
    "import math\n",
    "import os\n",
    "import urllib\n",
    "import urllib2\n",
    "import requests\n",
    "import json\n",
    "%pylab inline"
   ]
  },
  {
   "cell_type": "code",
   "execution_count": 2,
   "metadata": {
    "collapsed": true
   },
   "outputs": [],
   "source": [
    "#Pulling Data via API\n",
    "# Read File\n",
    "wifi_data = pd.read_json(\"http://wifindproject.com/wifipulling/?device_model=VS425&timeformat=1\")"
   ]
  },
  {
   "cell_type": "code",
   "execution_count": 3,
   "metadata": {
    "collapsed": false
   },
   "outputs": [
    {
     "data": {
      "text/html": [
       "<div>\n",
       "<style>\n",
       "    .dataframe thead tr:only-child th {\n",
       "        text-align: right;\n",
       "    }\n",
       "\n",
       "    .dataframe thead th {\n",
       "        text-align: left;\n",
       "    }\n",
       "\n",
       "    .dataframe tbody tr th {\n",
       "        vertical-align: top;\n",
       "    }\n",
       "</style>\n",
       "<table border=\"1\" class=\"dataframe\">\n",
       "  <thead>\n",
       "    <tr style=\"text-align: right;\">\n",
       "      <th></th>\n",
       "      <th>acc</th>\n",
       "      <th>altitude</th>\n",
       "      <th>app_version</th>\n",
       "      <th>bssid</th>\n",
       "      <th>caps</th>\n",
       "      <th>device_mac</th>\n",
       "      <th>device_model</th>\n",
       "      <th>droid_version</th>\n",
       "      <th>freq</th>\n",
       "      <th>idx</th>\n",
       "      <th>lat</th>\n",
       "      <th>level</th>\n",
       "      <th>lng</th>\n",
       "      <th>ssid</th>\n",
       "      <th>time</th>\n",
       "    </tr>\n",
       "  </thead>\n",
       "  <tbody>\n",
       "    <tr>\n",
       "      <th>0</th>\n",
       "      <td>19.957</td>\n",
       "      <td>0.0</td>\n",
       "      <td>0.3.3</td>\n",
       "      <td>1c:e8:5d:ca:8f:33</td>\n",
       "      <td>[wpa-eap-tkip][wpa2-eap-ccmp][ess]</td>\n",
       "      <td>d3a2898a5e731607</td>\n",
       "      <td>VS425</td>\n",
       "      <td>5.1.1</td>\n",
       "      <td>2437</td>\n",
       "      <td>56629534</td>\n",
       "      <td>40.690966</td>\n",
       "      <td>-60</td>\n",
       "      <td>-73.987686</td>\n",
       "      <td>nyu-legacy</td>\n",
       "      <td>06-12-2017 15:49:53</td>\n",
       "    </tr>\n",
       "  </tbody>\n",
       "</table>\n",
       "</div>"
      ],
      "text/plain": [
       "      acc  altitude app_version              bssid  \\\n",
       "0  19.957       0.0       0.3.3  1c:e8:5d:ca:8f:33   \n",
       "\n",
       "                                 caps        device_mac device_model  \\\n",
       "0  [wpa-eap-tkip][wpa2-eap-ccmp][ess]  d3a2898a5e731607        VS425   \n",
       "\n",
       "  droid_version  freq       idx        lat  level        lng        ssid  \\\n",
       "0         5.1.1  2437  56629534  40.690966    -60 -73.987686  nyu-legacy   \n",
       "\n",
       "                  time  \n",
       "0  06-12-2017 15:49:53  "
      ]
     },
     "execution_count": 3,
     "metadata": {},
     "output_type": "execute_result"
    }
   ],
   "source": [
    "wifi_data.head(1)"
   ]
  },
  {
   "cell_type": "code",
   "execution_count": 4,
   "metadata": {
    "collapsed": true
   },
   "outputs": [],
   "source": [
    "wifi_data = wifi_data.drop(wifi_data[wifi_data.acc > 50].index)"
   ]
  },
  {
   "cell_type": "code",
   "execution_count": 5,
   "metadata": {
    "collapsed": false
   },
   "outputs": [],
   "source": [
    "#starttime = '06/29/2017'\n",
    "#batch = '500' # how many records you want to fetch \n",
    "#url = 'http://wifindproject.com/wifipulling/?columns=lat%7Clng%7Cssid%7Cbssid%7Ctime&startdate='+\\\n",
    "       # starttime+'&batch='+batch+'&timeformat=1'\n",
    "#resp = requests.get(url)\n",
    "#print url"
   ]
  },
  {
   "cell_type": "code",
   "execution_count": 6,
   "metadata": {
    "collapsed": true
   },
   "outputs": [],
   "source": [
    "df = wifi_data"
   ]
  },
  {
   "cell_type": "code",
   "execution_count": 7,
   "metadata": {
    "collapsed": true
   },
   "outputs": [],
   "source": [
    "file_name = \"chris.csv\"\n",
    "cell_length = 50 # usft\n",
    "delete_empty_cell = True"
   ]
  },
  {
   "cell_type": "code",
   "execution_count": 8,
   "metadata": {
    "collapsed": true
   },
   "outputs": [],
   "source": [
    "# All or Only Free\n",
    "only_free_wifi = False\n",
    "\n",
    "# free wifi list\n",
    "free_wifi = ['#flatiron free wifi', 'freewifibysurface',\n",
    "             'bryantpark.org', 'DowntownBrooklynWiFi_Fon',\n",
    "             'linknyc free wi-fi', 'Metrotech',\n",
    "             'usp park wifi', 'Red Hook Wifi']"
   ]
  },
  {
   "cell_type": "code",
   "execution_count": 10,
   "metadata": {
    "collapsed": false
   },
   "outputs": [],
   "source": [
    "# Read File\n",
    "#df = pd.read_csv(file_name)\n",
    "#df = pd.read_json(resp.text)\n",
    "# for Free WiFi\n",
    "s1 = set(df.ssid); s2 = set(free_wifi); free_wifi_intersection = list(s1.intersection(s2))\n",
    "if only_free_wifi:\n",
    "    df = df[df['ssid'].isin(free_wifi_intersection)]\n",
    "    #df = df[df['ssid'] == 'linknyc free wi-fi']"
   ]
  },
  {
   "cell_type": "code",
   "execution_count": 11,
   "metadata": {
    "collapsed": true
   },
   "outputs": [],
   "source": [
    "# convert Unix timestamp into readable timestamp\n",
    "#df['time2'] = map(lambda x: dt.datetime.fromtimestamp(x), df.time.astype(float)/1000)\n",
    "df['time2'] = pd.to_datetime(df.time)\n",
    "df['month'] = map(lambda x: x.month, df['time2'])\n",
    "df['day'] = map(lambda x: x.day, df['time2'])\n",
    "df['hour'] = map(lambda x: x.hour, df['time2'])\n",
    "df['minute'] = map(lambda x: x.minute, df['time2'])\n",
    "df['sec'] = map(lambda x: x.second, df['time2'])"
   ]
  },
  {
   "cell_type": "code",
   "execution_count": 12,
   "metadata": {
    "collapsed": false
   },
   "outputs": [],
   "source": [
    "# Filter data according to datetime -> ! INPUT DATETIME MANUALLY\n",
    "df2 = df.copy() # depends on your input data\n",
    "if file_name == \"dj.csv\":\n",
    "    df2 = df2[((df2['month'] == 6) & (df2['day'] == 14)) | ((df2['month'] == 6) & \\\n",
    "    (df2['day'] == 22) & (df2['hour'] <10)) | ((df2['month'] == 6) & (df2['day'] == 29))]"
   ]
  },
  {
   "cell_type": "code",
   "execution_count": 13,
   "metadata": {
    "collapsed": true
   },
   "outputs": [],
   "source": [
    "# geo\n",
    "df2.reset_index(drop=True, inplace=True)\n",
    "df2['geo'] = zip(df2.lng, df2.lat)\n",
    "df2['geometry'] = map(lambda x: Point(x), zip(df2.lng, df2.lat))"
   ]
  },
  {
   "cell_type": "code",
   "execution_count": 14,
   "metadata": {
    "collapsed": true
   },
   "outputs": [],
   "source": [
    "# groupby geo, unique bssid\n",
    "access_count = df2.groupby(df2.geo).apply(lambda x: len(x.bssid.unique()))\n",
    "access_bssidList = df2.groupby(df2.geo).apply(lambda x: list(x.bssid.unique()))\n",
    "df3 = pd.DataFrame(map(lambda x: Point(x), access_count.index), columns=['geometry'])\n",
    "df3['unique_bssid_count'] = access_count.values\n",
    "df3['unique_bssid_list'] = access_bssidList.values"
   ]
  },
  {
   "cell_type": "code",
   "execution_count": 15,
   "metadata": {
    "collapsed": true
   },
   "outputs": [],
   "source": [
    "# crs\n",
    "df3= gpd.GeoDataFrame(df3)\n",
    "df3.crs = from_epsg(4326)\n",
    "df3.to_crs(epsg=2263, inplace=True)\n",
    "df3.to_pickle('unique_bssid.p')"
   ]
  },
  {
   "cell_type": "code",
   "execution_count": 16,
   "metadata": {
    "collapsed": true
   },
   "outputs": [],
   "source": [
    "# grid boundry\n",
    "all_x = map(lambda p: p.x, df3.geometry)\n",
    "all_y = map(lambda p: p.y, df3.geometry)\n",
    "minx, maxx, miny, maxy = min(all_x), max(all_x), min(all_y), max(all_y) "
   ]
  },
  {
   "cell_type": "code",
   "execution_count": 17,
   "metadata": {
    "collapsed": true
   },
   "outputs": [],
   "source": [
    "# grid length\n",
    "dx = cell_length\n",
    "dy = cell_length\n",
    "nx = int(math.ceil(abs(maxx - minx)/dx))\n",
    "ny = int(math.ceil(abs(maxy - miny)/dy))"
   ]
  },
  {
   "cell_type": "code",
   "execution_count": 18,
   "metadata": {
    "collapsed": false
   },
   "outputs": [],
   "source": [
    "# grid plotting\n",
    "w = shp.Writer(shp.POLYGON)\n",
    "w.autoBalance = 1\n",
    "w.field(\"ID\")\n",
    "id=0\n",
    "for i in range(ny):\n",
    "    for j in range(nx):\n",
    "        id+=1\n",
    "        vertices = []\n",
    "        parts = []\n",
    "        vertices.append([min(minx+dx*j,maxx),max(maxy-dy*i,miny)])\n",
    "        vertices.append([min(minx+dx*(j+1),maxx),max(maxy-dy*i,miny)])\n",
    "        vertices.append([min(minx+dx*(j+1),maxx),max(maxy-dy*(i+1),miny)])\n",
    "        vertices.append([min(minx+dx*j,maxx),max(maxy-dy*(i+1),miny)])\n",
    "        parts.append(vertices)\n",
    "        w.poly(parts)\n",
    "        w.record(id)\n",
    "w.save('polygon_grid')"
   ]
  },
  {
   "cell_type": "code",
   "execution_count": 19,
   "metadata": {
    "collapsed": true
   },
   "outputs": [],
   "source": [
    "# read data: TBD\n",
    "grid = gpd.read_file('./polygon_grid.shp')\n",
    "grid.crs = from_epsg(2263)\n",
    "uni_bssid = pd.read_pickle(\"./unique_bssid.p\")\n",
    "uni_bssid = gpd.GeoDataFrame(uni_bssid)\n",
    "uni_bssid.crs = from_epsg(2263)"
   ]
  },
  {
   "cell_type": "code",
   "execution_count": 20,
   "metadata": {
    "collapsed": false
   },
   "outputs": [],
   "source": [
    "import rtree\n",
    "# geo points in which cell?\n",
    "PointInPoly = gpd.sjoin(uni_bssid, grid, how='left', op='intersects')\n",
    "PointInPoly.dropna(subset=['ID'], inplace=True) # ? why a few points don't intersect with any cell?"
   ]
  },
  {
   "cell_type": "code",
   "execution_count": 21,
   "metadata": {
    "collapsed": true
   },
   "outputs": [],
   "source": [
    "# groupby cell.ID to get list of bssid (with duplications) for each cell, then calculate length of unique bssid \"uni\"\n",
    "grouped = PointInPoly.groupby('ID').apply(lambda x: reduce(lambda x,y: x+y, x.unique_bssid_list))\n",
    "bssidInPoly = pd.DataFrame(grouped, columns=['all_bssid_list'])\n",
    "bssidInPoly['unique_bssid_list'] = map(lambda x: set(x), grouped)\n",
    "bssidInPoly['cum'] = map(lambda x: len(x), grouped)\n",
    "bssidInPoly['uni'] = map(lambda x: len(set(x)), grouped)\n",
    "bssidInPoly['ID'] = bssidInPoly.index\n",
    "bssidInPoly.reset_index(drop=True, inplace=True)"
   ]
  },
  {
   "cell_type": "code",
   "execution_count": 22,
   "metadata": {
    "collapsed": true
   },
   "outputs": [],
   "source": [
    "# merge grid and bssidInPoly\n",
    "grid_bssid = pd.merge(grid, bssidInPoly, how='left', on='ID')\n",
    "grid_bssid.to_crs(epsg=2263, inplace=True)\n",
    "if not delete_empty_cell: \n",
    "    grid_bssid.uni.fillna(inplace=True, value=0)"
   ]
  },
  {
   "cell_type": "code",
   "execution_count": 23,
   "metadata": {
    "collapsed": true
   },
   "outputs": [],
   "source": [
    "# Data for Plot\n",
    "grid_plot = grid_bssid.loc[:, ['ID', 'uni', 'geometry']]\n",
    "grid_plot.dropna(subset=['uni'], inplace=True) \n",
    "grid_plot.to_file('MyGeometries.shp', driver='ESRI Shapefile')"
   ]
  },
  {
   "cell_type": "code",
   "execution_count": 24,
   "metadata": {
    "collapsed": false
   },
   "outputs": [
    {
     "data": {
      "text/html": [
       "<div>\n",
       "<style>\n",
       "    .dataframe thead tr:only-child th {\n",
       "        text-align: right;\n",
       "    }\n",
       "\n",
       "    .dataframe thead th {\n",
       "        text-align: left;\n",
       "    }\n",
       "\n",
       "    .dataframe tbody tr th {\n",
       "        vertical-align: top;\n",
       "    }\n",
       "</style>\n",
       "<table border=\"1\" class=\"dataframe\">\n",
       "  <thead>\n",
       "    <tr style=\"text-align: right;\">\n",
       "      <th></th>\n",
       "      <th>ID</th>\n",
       "      <th>uni</th>\n",
       "      <th>geometry</th>\n",
       "    </tr>\n",
       "  </thead>\n",
       "  <tbody>\n",
       "    <tr>\n",
       "      <th>5</th>\n",
       "      <td>6</td>\n",
       "      <td>88.0</td>\n",
       "      <td>POLYGON ((985142.1834711203 203903.2751781193,...</td>\n",
       "    </tr>\n",
       "    <tr>\n",
       "      <th>6</th>\n",
       "      <td>7</td>\n",
       "      <td>63.0</td>\n",
       "      <td>POLYGON ((985192.1834711221 203903.2751781193,...</td>\n",
       "    </tr>\n",
       "    <tr>\n",
       "      <th>7</th>\n",
       "      <td>8</td>\n",
       "      <td>78.0</td>\n",
       "      <td>POLYGON ((985242.1834711212 203903.2751781147,...</td>\n",
       "    </tr>\n",
       "    <tr>\n",
       "      <th>699</th>\n",
       "      <td>700</td>\n",
       "      <td>66.0</td>\n",
       "      <td>POLYGON ((984942.183471121 203803.2751781217, ...</td>\n",
       "    </tr>\n",
       "    <tr>\n",
       "      <th>1396</th>\n",
       "      <td>1397</td>\n",
       "      <td>105.0</td>\n",
       "      <td>POLYGON ((984892.1834711218 203703.2751781195,...</td>\n",
       "    </tr>\n",
       "    <tr>\n",
       "      <th>1750</th>\n",
       "      <td>1751</td>\n",
       "      <td>40.0</td>\n",
       "      <td>POLYGON ((985142.1834711207 203653.2751781183,...</td>\n",
       "    </tr>\n",
       "    <tr>\n",
       "      <th>70808</th>\n",
       "      <td>70809</td>\n",
       "      <td>92.0</td>\n",
       "      <td>POLYGON ((1000392.183471122 193803.2751781202,...</td>\n",
       "    </tr>\n",
       "    <tr>\n",
       "      <th>70817</th>\n",
       "      <td>70818</td>\n",
       "      <td>70.0</td>\n",
       "      <td>POLYGON ((1000842.18347112 193803.2751781295, ...</td>\n",
       "    </tr>\n",
       "    <tr>\n",
       "      <th>71151</th>\n",
       "      <td>71152</td>\n",
       "      <td>62.0</td>\n",
       "      <td>POLYGON ((1000092.183471122 193753.2751781144,...</td>\n",
       "    </tr>\n",
       "    <tr>\n",
       "      <th>71158</th>\n",
       "      <td>71159</td>\n",
       "      <td>92.0</td>\n",
       "      <td>POLYGON ((1000442.183471119 193753.2751781191,...</td>\n",
       "    </tr>\n",
       "    <tr>\n",
       "      <th>71160</th>\n",
       "      <td>71161</td>\n",
       "      <td>52.0</td>\n",
       "      <td>POLYGON ((1000542.183471121 193753.2751781144,...</td>\n",
       "    </tr>\n",
       "    <tr>\n",
       "      <th>71501</th>\n",
       "      <td>71502</td>\n",
       "      <td>51.0</td>\n",
       "      <td>POLYGON ((1000142.183471121 193703.275178118, ...</td>\n",
       "    </tr>\n",
       "    <tr>\n",
       "      <th>71504</th>\n",
       "      <td>71505</td>\n",
       "      <td>55.0</td>\n",
       "      <td>POLYGON ((1000292.18347112 193703.275178118, 1...</td>\n",
       "    </tr>\n",
       "    <tr>\n",
       "      <th>71516</th>\n",
       "      <td>71517</td>\n",
       "      <td>76.0</td>\n",
       "      <td>POLYGON ((1000892.183471123 193703.275178118, ...</td>\n",
       "    </tr>\n",
       "    <tr>\n",
       "      <th>71840</th>\n",
       "      <td>71841</td>\n",
       "      <td>86.0</td>\n",
       "      <td>POLYGON ((999642.1834711221 193653.2751781215,...</td>\n",
       "    </tr>\n",
       "    <tr>\n",
       "      <th>71852</th>\n",
       "      <td>71853</td>\n",
       "      <td>69.0</td>\n",
       "      <td>POLYGON ((1000242.183471121 193653.2751781215,...</td>\n",
       "    </tr>\n",
       "    <tr>\n",
       "      <th>71858</th>\n",
       "      <td>71859</td>\n",
       "      <td>55.0</td>\n",
       "      <td>POLYGON ((1000542.183471121 193653.2751781215,...</td>\n",
       "    </tr>\n",
       "    <tr>\n",
       "      <th>71859</th>\n",
       "      <td>71860</td>\n",
       "      <td>65.0</td>\n",
       "      <td>POLYGON ((1000592.183471122 193653.2751781261,...</td>\n",
       "    </tr>\n",
       "    <tr>\n",
       "      <th>71864</th>\n",
       "      <td>71865</td>\n",
       "      <td>68.0</td>\n",
       "      <td>POLYGON ((1000842.183471121 193653.2751781122,...</td>\n",
       "    </tr>\n",
       "    <tr>\n",
       "      <th>71865</th>\n",
       "      <td>71866</td>\n",
       "      <td>78.0</td>\n",
       "      <td>POLYGON ((1000892.18347112 193653.2751781215, ...</td>\n",
       "    </tr>\n",
       "    <tr>\n",
       "      <th>72182</th>\n",
       "      <td>72183</td>\n",
       "      <td>104.0</td>\n",
       "      <td>POLYGON ((999292.1834711225 193603.2751781204,...</td>\n",
       "    </tr>\n",
       "    <tr>\n",
       "      <th>72185</th>\n",
       "      <td>72186</td>\n",
       "      <td>79.0</td>\n",
       "      <td>POLYGON ((999442.1834711214 193603.2751781111,...</td>\n",
       "    </tr>\n",
       "    <tr>\n",
       "      <th>72187</th>\n",
       "      <td>72188</td>\n",
       "      <td>65.0</td>\n",
       "      <td>POLYGON ((999542.1834711217 193603.2751781204,...</td>\n",
       "    </tr>\n",
       "    <tr>\n",
       "      <th>72192</th>\n",
       "      <td>72193</td>\n",
       "      <td>57.0</td>\n",
       "      <td>POLYGON ((999792.1834711226 193603.2751781157,...</td>\n",
       "    </tr>\n",
       "    <tr>\n",
       "      <th>72527</th>\n",
       "      <td>72528</td>\n",
       "      <td>81.0</td>\n",
       "      <td>POLYGON ((999092.1834711207 193553.2751781192,...</td>\n",
       "    </tr>\n",
       "    <tr>\n",
       "      <th>72528</th>\n",
       "      <td>72529</td>\n",
       "      <td>104.0</td>\n",
       "      <td>POLYGON ((999142.1834711223 193553.2751781099,...</td>\n",
       "    </tr>\n",
       "    <tr>\n",
       "      <th>72890</th>\n",
       "      <td>72891</td>\n",
       "      <td>65.0</td>\n",
       "      <td>POLYGON ((999792.1834711209 193503.2751781088,...</td>\n",
       "    </tr>\n",
       "    <tr>\n",
       "      <th>73224</th>\n",
       "      <td>73225</td>\n",
       "      <td>82.0</td>\n",
       "      <td>POLYGON ((999042.1834711202 193453.275178117, ...</td>\n",
       "    </tr>\n",
       "    <tr>\n",
       "      <th>73238</th>\n",
       "      <td>73239</td>\n",
       "      <td>67.0</td>\n",
       "      <td>POLYGON ((999742.1834711224 193453.275178117, ...</td>\n",
       "    </tr>\n",
       "    <tr>\n",
       "      <th>73251</th>\n",
       "      <td>73252</td>\n",
       "      <td>72.0</td>\n",
       "      <td>POLYGON ((1000392.18347112 193453.2751781124, ...</td>\n",
       "    </tr>\n",
       "    <tr>\n",
       "      <th>...</th>\n",
       "      <td>...</td>\n",
       "      <td>...</td>\n",
       "      <td>...</td>\n",
       "    </tr>\n",
       "    <tr>\n",
       "      <th>86261</th>\n",
       "      <td>86262</td>\n",
       "      <td>66.0</td>\n",
       "      <td>POLYGON ((987792.1834711224 191553.2751781254,...</td>\n",
       "    </tr>\n",
       "    <tr>\n",
       "      <th>86523</th>\n",
       "      <td>86524</td>\n",
       "      <td>118.0</td>\n",
       "      <td>POLYGON ((1000892.183471122 191553.2751781162,...</td>\n",
       "    </tr>\n",
       "    <tr>\n",
       "      <th>86524</th>\n",
       "      <td>86525</td>\n",
       "      <td>93.0</td>\n",
       "      <td>POLYGON ((1000942.18347112 191553.2751781254, ...</td>\n",
       "    </tr>\n",
       "    <tr>\n",
       "      <th>86525</th>\n",
       "      <td>86526</td>\n",
       "      <td>57.0</td>\n",
       "      <td>POLYGON ((1000992.183471122 191553.2751781115,...</td>\n",
       "    </tr>\n",
       "    <tr>\n",
       "      <th>86526</th>\n",
       "      <td>86527</td>\n",
       "      <td>28.0</td>\n",
       "      <td>POLYGON ((1001042.183471121 191553.2751781208,...</td>\n",
       "    </tr>\n",
       "    <tr>\n",
       "      <th>86872</th>\n",
       "      <td>86873</td>\n",
       "      <td>89.0</td>\n",
       "      <td>POLYGON ((1000892.18347112 191503.2751781197, ...</td>\n",
       "    </tr>\n",
       "    <tr>\n",
       "      <th>86873</th>\n",
       "      <td>86874</td>\n",
       "      <td>133.0</td>\n",
       "      <td>POLYGON ((1000942.18347112 191503.275178115, 1...</td>\n",
       "    </tr>\n",
       "    <tr>\n",
       "      <th>86874</th>\n",
       "      <td>86875</td>\n",
       "      <td>44.0</td>\n",
       "      <td>POLYGON ((1000992.183471121 191503.2751781104,...</td>\n",
       "    </tr>\n",
       "    <tr>\n",
       "      <th>86958</th>\n",
       "      <td>86959</td>\n",
       "      <td>121.0</td>\n",
       "      <td>POLYGON ((987742.1834711193 191453.2751781139,...</td>\n",
       "    </tr>\n",
       "    <tr>\n",
       "      <th>86960</th>\n",
       "      <td>86961</td>\n",
       "      <td>89.0</td>\n",
       "      <td>POLYGON ((987842.1834711217 191453.2751781139,...</td>\n",
       "    </tr>\n",
       "    <tr>\n",
       "      <th>87221</th>\n",
       "      <td>87222</td>\n",
       "      <td>22.0</td>\n",
       "      <td>POLYGON ((1000892.183471121 191453.2751781232,...</td>\n",
       "    </tr>\n",
       "    <tr>\n",
       "      <th>87222</th>\n",
       "      <td>87223</td>\n",
       "      <td>35.0</td>\n",
       "      <td>POLYGON ((1000942.18347112 191453.2751781186, ...</td>\n",
       "    </tr>\n",
       "    <tr>\n",
       "      <th>87223</th>\n",
       "      <td>87224</td>\n",
       "      <td>25.0</td>\n",
       "      <td>POLYGON ((1000992.183471123 191453.2751781232,...</td>\n",
       "    </tr>\n",
       "    <tr>\n",
       "      <th>87224</th>\n",
       "      <td>87225</td>\n",
       "      <td>31.0</td>\n",
       "      <td>POLYGON ((1001042.183471122 191453.2751781139,...</td>\n",
       "    </tr>\n",
       "    <tr>\n",
       "      <th>87307</th>\n",
       "      <td>87308</td>\n",
       "      <td>115.0</td>\n",
       "      <td>POLYGON ((987742.1834711204 191403.2751781035,...</td>\n",
       "    </tr>\n",
       "    <tr>\n",
       "      <th>87570</th>\n",
       "      <td>87571</td>\n",
       "      <td>18.0</td>\n",
       "      <td>POLYGON ((1000892.183471122 191403.2751781174,...</td>\n",
       "    </tr>\n",
       "    <tr>\n",
       "      <th>87571</th>\n",
       "      <td>87572</td>\n",
       "      <td>21.0</td>\n",
       "      <td>POLYGON ((1000942.183471122 191403.2751781221,...</td>\n",
       "    </tr>\n",
       "    <tr>\n",
       "      <th>87573</th>\n",
       "      <td>87574</td>\n",
       "      <td>18.0</td>\n",
       "      <td>POLYGON ((1001042.183471122 191403.2751781128,...</td>\n",
       "    </tr>\n",
       "    <tr>\n",
       "      <th>87655</th>\n",
       "      <td>87656</td>\n",
       "      <td>79.0</td>\n",
       "      <td>POLYGON ((987692.1834711215 191353.2751781163,...</td>\n",
       "    </tr>\n",
       "    <tr>\n",
       "      <th>87656</th>\n",
       "      <td>87657</td>\n",
       "      <td>106.0</td>\n",
       "      <td>POLYGON ((987742.1834711202 191353.2751781163,...</td>\n",
       "    </tr>\n",
       "    <tr>\n",
       "      <th>87662</th>\n",
       "      <td>87663</td>\n",
       "      <td>58.0</td>\n",
       "      <td>POLYGON ((988042.1834711203 191353.2751781163,...</td>\n",
       "    </tr>\n",
       "    <tr>\n",
       "      <th>87920</th>\n",
       "      <td>87921</td>\n",
       "      <td>33.0</td>\n",
       "      <td>POLYGON ((1000942.183471121 191353.2751781163,...</td>\n",
       "    </tr>\n",
       "    <tr>\n",
       "      <th>88705</th>\n",
       "      <td>88706</td>\n",
       "      <td>87.0</td>\n",
       "      <td>POLYGON ((987842.18347112 191203.2751781176, 9...</td>\n",
       "    </tr>\n",
       "    <tr>\n",
       "      <th>89051</th>\n",
       "      <td>89052</td>\n",
       "      <td>49.0</td>\n",
       "      <td>POLYGON ((987692.1834711196 191153.2751781165,...</td>\n",
       "    </tr>\n",
       "    <tr>\n",
       "      <th>89055</th>\n",
       "      <td>89056</td>\n",
       "      <td>64.0</td>\n",
       "      <td>POLYGON ((987892.1834711225 191153.2751781211,...</td>\n",
       "    </tr>\n",
       "    <tr>\n",
       "      <th>89748</th>\n",
       "      <td>89749</td>\n",
       "      <td>185.0</td>\n",
       "      <td>POLYGON ((987642.1834711191 191053.2751781096,...</td>\n",
       "    </tr>\n",
       "    <tr>\n",
       "      <th>89749</th>\n",
       "      <td>89750</td>\n",
       "      <td>153.0</td>\n",
       "      <td>POLYGON ((987692.18347112 191053.2751781142, 9...</td>\n",
       "    </tr>\n",
       "    <tr>\n",
       "      <th>89756</th>\n",
       "      <td>89757</td>\n",
       "      <td>68.0</td>\n",
       "      <td>POLYGON ((988042.1834711194 191053.2751781096,...</td>\n",
       "    </tr>\n",
       "    <tr>\n",
       "      <th>90097</th>\n",
       "      <td>90098</td>\n",
       "      <td>84.0</td>\n",
       "      <td>POLYGON ((987642.1834711195 191003.2751781177,...</td>\n",
       "    </tr>\n",
       "    <tr>\n",
       "      <th>90105</th>\n",
       "      <td>90106</td>\n",
       "      <td>40.0</td>\n",
       "      <td>POLYGON ((988042.1834711212 191003.2751781177,...</td>\n",
       "    </tr>\n",
       "  </tbody>\n",
       "</table>\n",
       "<p>191 rows × 3 columns</p>\n",
       "</div>"
      ],
      "text/plain": [
       "          ID    uni                                           geometry\n",
       "5          6   88.0  POLYGON ((985142.1834711203 203903.2751781193,...\n",
       "6          7   63.0  POLYGON ((985192.1834711221 203903.2751781193,...\n",
       "7          8   78.0  POLYGON ((985242.1834711212 203903.2751781147,...\n",
       "699      700   66.0  POLYGON ((984942.183471121 203803.2751781217, ...\n",
       "1396    1397  105.0  POLYGON ((984892.1834711218 203703.2751781195,...\n",
       "1750    1751   40.0  POLYGON ((985142.1834711207 203653.2751781183,...\n",
       "70808  70809   92.0  POLYGON ((1000392.183471122 193803.2751781202,...\n",
       "70817  70818   70.0  POLYGON ((1000842.18347112 193803.2751781295, ...\n",
       "71151  71152   62.0  POLYGON ((1000092.183471122 193753.2751781144,...\n",
       "71158  71159   92.0  POLYGON ((1000442.183471119 193753.2751781191,...\n",
       "71160  71161   52.0  POLYGON ((1000542.183471121 193753.2751781144,...\n",
       "71501  71502   51.0  POLYGON ((1000142.183471121 193703.275178118, ...\n",
       "71504  71505   55.0  POLYGON ((1000292.18347112 193703.275178118, 1...\n",
       "71516  71517   76.0  POLYGON ((1000892.183471123 193703.275178118, ...\n",
       "71840  71841   86.0  POLYGON ((999642.1834711221 193653.2751781215,...\n",
       "71852  71853   69.0  POLYGON ((1000242.183471121 193653.2751781215,...\n",
       "71858  71859   55.0  POLYGON ((1000542.183471121 193653.2751781215,...\n",
       "71859  71860   65.0  POLYGON ((1000592.183471122 193653.2751781261,...\n",
       "71864  71865   68.0  POLYGON ((1000842.183471121 193653.2751781122,...\n",
       "71865  71866   78.0  POLYGON ((1000892.18347112 193653.2751781215, ...\n",
       "72182  72183  104.0  POLYGON ((999292.1834711225 193603.2751781204,...\n",
       "72185  72186   79.0  POLYGON ((999442.1834711214 193603.2751781111,...\n",
       "72187  72188   65.0  POLYGON ((999542.1834711217 193603.2751781204,...\n",
       "72192  72193   57.0  POLYGON ((999792.1834711226 193603.2751781157,...\n",
       "72527  72528   81.0  POLYGON ((999092.1834711207 193553.2751781192,...\n",
       "72528  72529  104.0  POLYGON ((999142.1834711223 193553.2751781099,...\n",
       "72890  72891   65.0  POLYGON ((999792.1834711209 193503.2751781088,...\n",
       "73224  73225   82.0  POLYGON ((999042.1834711202 193453.275178117, ...\n",
       "73238  73239   67.0  POLYGON ((999742.1834711224 193453.275178117, ...\n",
       "73251  73252   72.0  POLYGON ((1000392.18347112 193453.2751781124, ...\n",
       "...      ...    ...                                                ...\n",
       "86261  86262   66.0  POLYGON ((987792.1834711224 191553.2751781254,...\n",
       "86523  86524  118.0  POLYGON ((1000892.183471122 191553.2751781162,...\n",
       "86524  86525   93.0  POLYGON ((1000942.18347112 191553.2751781254, ...\n",
       "86525  86526   57.0  POLYGON ((1000992.183471122 191553.2751781115,...\n",
       "86526  86527   28.0  POLYGON ((1001042.183471121 191553.2751781208,...\n",
       "86872  86873   89.0  POLYGON ((1000892.18347112 191503.2751781197, ...\n",
       "86873  86874  133.0  POLYGON ((1000942.18347112 191503.275178115, 1...\n",
       "86874  86875   44.0  POLYGON ((1000992.183471121 191503.2751781104,...\n",
       "86958  86959  121.0  POLYGON ((987742.1834711193 191453.2751781139,...\n",
       "86960  86961   89.0  POLYGON ((987842.1834711217 191453.2751781139,...\n",
       "87221  87222   22.0  POLYGON ((1000892.183471121 191453.2751781232,...\n",
       "87222  87223   35.0  POLYGON ((1000942.18347112 191453.2751781186, ...\n",
       "87223  87224   25.0  POLYGON ((1000992.183471123 191453.2751781232,...\n",
       "87224  87225   31.0  POLYGON ((1001042.183471122 191453.2751781139,...\n",
       "87307  87308  115.0  POLYGON ((987742.1834711204 191403.2751781035,...\n",
       "87570  87571   18.0  POLYGON ((1000892.183471122 191403.2751781174,...\n",
       "87571  87572   21.0  POLYGON ((1000942.183471122 191403.2751781221,...\n",
       "87573  87574   18.0  POLYGON ((1001042.183471122 191403.2751781128,...\n",
       "87655  87656   79.0  POLYGON ((987692.1834711215 191353.2751781163,...\n",
       "87656  87657  106.0  POLYGON ((987742.1834711202 191353.2751781163,...\n",
       "87662  87663   58.0  POLYGON ((988042.1834711203 191353.2751781163,...\n",
       "87920  87921   33.0  POLYGON ((1000942.183471121 191353.2751781163,...\n",
       "88705  88706   87.0  POLYGON ((987842.18347112 191203.2751781176, 9...\n",
       "89051  89052   49.0  POLYGON ((987692.1834711196 191153.2751781165,...\n",
       "89055  89056   64.0  POLYGON ((987892.1834711225 191153.2751781211,...\n",
       "89748  89749  185.0  POLYGON ((987642.1834711191 191053.2751781096,...\n",
       "89749  89750  153.0  POLYGON ((987692.18347112 191053.2751781142, 9...\n",
       "89756  89757   68.0  POLYGON ((988042.1834711194 191053.2751781096,...\n",
       "90097  90098   84.0  POLYGON ((987642.1834711195 191003.2751781177,...\n",
       "90105  90106   40.0  POLYGON ((988042.1834711212 191003.2751781177,...\n",
       "\n",
       "[191 rows x 3 columns]"
      ]
     },
     "execution_count": 24,
     "metadata": {},
     "output_type": "execute_result"
    }
   ],
   "source": [
    "grid_plot"
   ]
  },
  {
   "cell_type": "code",
   "execution_count": 25,
   "metadata": {
    "collapsed": false
   },
   "outputs": [
    {
     "data": {
      "text/plain": [
       "'chris'"
      ]
     },
     "execution_count": 25,
     "metadata": {},
     "output_type": "execute_result"
    }
   ],
   "source": [
    "file_name.split(\".\")[0]"
   ]
  },
  {
   "cell_type": "code",
   "execution_count": null,
   "metadata": {
    "collapsed": true
   },
   "outputs": [],
   "source": []
  }
 ],
 "metadata": {
  "kernelspec": {
   "display_name": "Python 2",
   "language": "python",
   "name": "python2"
  },
  "language_info": {
   "codemirror_mode": {
    "name": "ipython",
    "version": 2
   },
   "file_extension": ".py",
   "mimetype": "text/x-python",
   "name": "python",
   "nbconvert_exporter": "python",
   "pygments_lexer": "ipython2",
   "version": "2.7.13"
  }
 },
 "nbformat": 4,
 "nbformat_minor": 2
}

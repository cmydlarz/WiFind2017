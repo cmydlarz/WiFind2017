{
 "cells": [
  {
   "cell_type": "markdown",
   "metadata": {},
   "source": [
    "# Regression Analysis \n",
    "\n",
    "### Author_: Christian Rosado"
   ]
  },
  {
   "cell_type": "code",
   "execution_count": 734,
   "metadata": {
    "collapsed": false
   },
   "outputs": [
    {
     "name": "stdout",
     "output_type": "stream",
     "text": [
      "Populating the interactive namespace from numpy and matplotlib\n"
     ]
    }
   ],
   "source": [
    "# imports\n",
    "from __future__  import print_function, division\n",
    "import pylab as pl\n",
    "import pandas as pd\n",
    "import numpy as np\n",
    "#from geopandas import GeoDataFrame\n",
    "import geopandas as gpd\n",
    "import matplotlib.pyplot as plt\n",
    "from fiona.crs import from_epsg\n",
    "import shapely as shp\n",
    "import seaborn \n",
    "import os\n",
    "import urllib\n",
    "import requests\n",
    "%pylab inline"
   ]
  },
  {
   "cell_type": "code",
   "execution_count": 2,
   "metadata": {
    "collapsed": true
   },
   "outputs": [],
   "source": [
    "#Pulling Data via API\n",
    "wifi_data = pd.read_json(\"http://wifindproject.com/wifipulling/?device_model=VS425\")"
   ]
  },
  {
   "cell_type": "code",
   "execution_count": 3,
   "metadata": {
    "collapsed": false
   },
   "outputs": [
    {
     "data": {
      "text/html": [
       "<div>\n",
       "<table border=\"1\" class=\"dataframe\">\n",
       "  <thead>\n",
       "    <tr style=\"text-align: right;\">\n",
       "      <th></th>\n",
       "      <th>acc</th>\n",
       "      <th>altitude</th>\n",
       "      <th>app_version</th>\n",
       "      <th>bssid</th>\n",
       "      <th>caps</th>\n",
       "      <th>device_mac</th>\n",
       "      <th>device_model</th>\n",
       "      <th>droid_version</th>\n",
       "      <th>freq</th>\n",
       "      <th>idx</th>\n",
       "      <th>lat</th>\n",
       "      <th>level</th>\n",
       "      <th>lng</th>\n",
       "      <th>ssid</th>\n",
       "      <th>time</th>\n",
       "    </tr>\n",
       "  </thead>\n",
       "  <tbody>\n",
       "    <tr>\n",
       "      <th>0</th>\n",
       "      <td>19.957</td>\n",
       "      <td>0.0</td>\n",
       "      <td>0.3.3</td>\n",
       "      <td>1c:e8:5d:ca:8f:33</td>\n",
       "      <td>[wpa-eap-tkip][wpa2-eap-ccmp][ess]</td>\n",
       "      <td>d3a2898a5e731607</td>\n",
       "      <td>VS425</td>\n",
       "      <td>5.1.1</td>\n",
       "      <td>2437</td>\n",
       "      <td>56629534</td>\n",
       "      <td>40.690966</td>\n",
       "      <td>-60</td>\n",
       "      <td>-73.987686</td>\n",
       "      <td>nyu-legacy</td>\n",
       "      <td>1497296993826</td>\n",
       "    </tr>\n",
       "    <tr>\n",
       "      <th>1</th>\n",
       "      <td>19.957</td>\n",
       "      <td>0.0</td>\n",
       "      <td>0.3.3</td>\n",
       "      <td>1c:e8:5d:ca:8f:32</td>\n",
       "      <td>[wpa2-eap-ccmp][ess]</td>\n",
       "      <td>d3a2898a5e731607</td>\n",
       "      <td>VS425</td>\n",
       "      <td>5.1.1</td>\n",
       "      <td>2437</td>\n",
       "      <td>56629535</td>\n",
       "      <td>40.690966</td>\n",
       "      <td>-59</td>\n",
       "      <td>-73.987686</td>\n",
       "      <td>eduroam</td>\n",
       "      <td>1497296993826</td>\n",
       "    </tr>\n",
       "    <tr>\n",
       "      <th>2</th>\n",
       "      <td>19.957</td>\n",
       "      <td>0.0</td>\n",
       "      <td>0.3.3</td>\n",
       "      <td>cc:d5:39:27:f2:43</td>\n",
       "      <td>[wpa-eap-tkip][wpa2-eap-ccmp][ess]</td>\n",
       "      <td>d3a2898a5e731607</td>\n",
       "      <td>VS425</td>\n",
       "      <td>5.1.1</td>\n",
       "      <td>2412</td>\n",
       "      <td>56629536</td>\n",
       "      <td>40.690966</td>\n",
       "      <td>-66</td>\n",
       "      <td>-73.987686</td>\n",
       "      <td>nyu-legacy</td>\n",
       "      <td>1497296993826</td>\n",
       "    </tr>\n",
       "    <tr>\n",
       "      <th>3</th>\n",
       "      <td>19.957</td>\n",
       "      <td>0.0</td>\n",
       "      <td>0.3.3</td>\n",
       "      <td>cc:d5:39:27:f2:42</td>\n",
       "      <td>[wpa2-eap-ccmp][ess]</td>\n",
       "      <td>d3a2898a5e731607</td>\n",
       "      <td>VS425</td>\n",
       "      <td>5.1.1</td>\n",
       "      <td>2412</td>\n",
       "      <td>56629537</td>\n",
       "      <td>40.690966</td>\n",
       "      <td>-67</td>\n",
       "      <td>-73.987686</td>\n",
       "      <td>eduroam</td>\n",
       "      <td>1497296993826</td>\n",
       "    </tr>\n",
       "    <tr>\n",
       "      <th>4</th>\n",
       "      <td>19.957</td>\n",
       "      <td>0.0</td>\n",
       "      <td>0.3.3</td>\n",
       "      <td>00:a2:ee:03:e3:20</td>\n",
       "      <td>[wpa2-eap-ccmp][ess]</td>\n",
       "      <td>d3a2898a5e731607</td>\n",
       "      <td>VS425</td>\n",
       "      <td>5.1.1</td>\n",
       "      <td>2412</td>\n",
       "      <td>56629538</td>\n",
       "      <td>40.690966</td>\n",
       "      <td>-73</td>\n",
       "      <td>-73.987686</td>\n",
       "      <td>constitution</td>\n",
       "      <td>1497296993826</td>\n",
       "    </tr>\n",
       "  </tbody>\n",
       "</table>\n",
       "</div>"
      ],
      "text/plain": [
       "      acc  altitude app_version              bssid  \\\n",
       "0  19.957       0.0       0.3.3  1c:e8:5d:ca:8f:33   \n",
       "1  19.957       0.0       0.3.3  1c:e8:5d:ca:8f:32   \n",
       "2  19.957       0.0       0.3.3  cc:d5:39:27:f2:43   \n",
       "3  19.957       0.0       0.3.3  cc:d5:39:27:f2:42   \n",
       "4  19.957       0.0       0.3.3  00:a2:ee:03:e3:20   \n",
       "\n",
       "                                 caps        device_mac device_model  \\\n",
       "0  [wpa-eap-tkip][wpa2-eap-ccmp][ess]  d3a2898a5e731607        VS425   \n",
       "1                [wpa2-eap-ccmp][ess]  d3a2898a5e731607        VS425   \n",
       "2  [wpa-eap-tkip][wpa2-eap-ccmp][ess]  d3a2898a5e731607        VS425   \n",
       "3                [wpa2-eap-ccmp][ess]  d3a2898a5e731607        VS425   \n",
       "4                [wpa2-eap-ccmp][ess]  d3a2898a5e731607        VS425   \n",
       "\n",
       "  droid_version  freq       idx        lat  level        lng          ssid  \\\n",
       "0         5.1.1  2437  56629534  40.690966    -60 -73.987686    nyu-legacy   \n",
       "1         5.1.1  2437  56629535  40.690966    -59 -73.987686       eduroam   \n",
       "2         5.1.1  2412  56629536  40.690966    -66 -73.987686    nyu-legacy   \n",
       "3         5.1.1  2412  56629537  40.690966    -67 -73.987686       eduroam   \n",
       "4         5.1.1  2412  56629538  40.690966    -73 -73.987686  constitution   \n",
       "\n",
       "            time  \n",
       "0  1497296993826  \n",
       "1  1497296993826  \n",
       "2  1497296993826  \n",
       "3  1497296993826  \n",
       "4  1497296993826  "
      ]
     },
     "execution_count": 3,
     "metadata": {},
     "output_type": "execute_result"
    }
   ],
   "source": [
    "wifi_data.head()"
   ]
  },
  {
   "cell_type": "code",
   "execution_count": 4,
   "metadata": {
    "collapsed": false
   },
   "outputs": [],
   "source": [
    "# filter records with accuaracy scores of 50 and above\n",
    "wifi_data = wifi_data.drop(wifi_data[wifi_data.acc > 50].index)"
   ]
  },
  {
   "cell_type": "code",
   "execution_count": 5,
   "metadata": {
    "collapsed": false
   },
   "outputs": [
    {
     "data": {
      "text/html": [
       "<div>\n",
       "<table border=\"1\" class=\"dataframe\">\n",
       "  <thead>\n",
       "    <tr style=\"text-align: right;\">\n",
       "      <th></th>\n",
       "      <th>acc</th>\n",
       "      <th>altitude</th>\n",
       "      <th>app_version</th>\n",
       "      <th>bssid</th>\n",
       "      <th>caps</th>\n",
       "      <th>device_mac</th>\n",
       "      <th>device_model</th>\n",
       "      <th>droid_version</th>\n",
       "      <th>freq</th>\n",
       "      <th>idx</th>\n",
       "      <th>lat</th>\n",
       "      <th>level</th>\n",
       "      <th>lng</th>\n",
       "      <th>ssid</th>\n",
       "      <th>time</th>\n",
       "    </tr>\n",
       "  </thead>\n",
       "  <tbody>\n",
       "    <tr>\n",
       "      <th>0</th>\n",
       "      <td>19.957</td>\n",
       "      <td>0.0</td>\n",
       "      <td>0.3.3</td>\n",
       "      <td>1c:e8:5d:ca:8f:33</td>\n",
       "      <td>[wpa-eap-tkip][wpa2-eap-ccmp][ess]</td>\n",
       "      <td>d3a2898a5e731607</td>\n",
       "      <td>VS425</td>\n",
       "      <td>5.1.1</td>\n",
       "      <td>2437</td>\n",
       "      <td>56629534</td>\n",
       "      <td>40.690966</td>\n",
       "      <td>-60</td>\n",
       "      <td>-73.987686</td>\n",
       "      <td>nyu-legacy</td>\n",
       "      <td>1497296993826</td>\n",
       "    </tr>\n",
       "    <tr>\n",
       "      <th>1</th>\n",
       "      <td>19.957</td>\n",
       "      <td>0.0</td>\n",
       "      <td>0.3.3</td>\n",
       "      <td>1c:e8:5d:ca:8f:32</td>\n",
       "      <td>[wpa2-eap-ccmp][ess]</td>\n",
       "      <td>d3a2898a5e731607</td>\n",
       "      <td>VS425</td>\n",
       "      <td>5.1.1</td>\n",
       "      <td>2437</td>\n",
       "      <td>56629535</td>\n",
       "      <td>40.690966</td>\n",
       "      <td>-59</td>\n",
       "      <td>-73.987686</td>\n",
       "      <td>eduroam</td>\n",
       "      <td>1497296993826</td>\n",
       "    </tr>\n",
       "    <tr>\n",
       "      <th>2</th>\n",
       "      <td>19.957</td>\n",
       "      <td>0.0</td>\n",
       "      <td>0.3.3</td>\n",
       "      <td>cc:d5:39:27:f2:43</td>\n",
       "      <td>[wpa-eap-tkip][wpa2-eap-ccmp][ess]</td>\n",
       "      <td>d3a2898a5e731607</td>\n",
       "      <td>VS425</td>\n",
       "      <td>5.1.1</td>\n",
       "      <td>2412</td>\n",
       "      <td>56629536</td>\n",
       "      <td>40.690966</td>\n",
       "      <td>-66</td>\n",
       "      <td>-73.987686</td>\n",
       "      <td>nyu-legacy</td>\n",
       "      <td>1497296993826</td>\n",
       "    </tr>\n",
       "    <tr>\n",
       "      <th>3</th>\n",
       "      <td>19.957</td>\n",
       "      <td>0.0</td>\n",
       "      <td>0.3.3</td>\n",
       "      <td>cc:d5:39:27:f2:42</td>\n",
       "      <td>[wpa2-eap-ccmp][ess]</td>\n",
       "      <td>d3a2898a5e731607</td>\n",
       "      <td>VS425</td>\n",
       "      <td>5.1.1</td>\n",
       "      <td>2412</td>\n",
       "      <td>56629537</td>\n",
       "      <td>40.690966</td>\n",
       "      <td>-67</td>\n",
       "      <td>-73.987686</td>\n",
       "      <td>eduroam</td>\n",
       "      <td>1497296993826</td>\n",
       "    </tr>\n",
       "    <tr>\n",
       "      <th>4</th>\n",
       "      <td>19.957</td>\n",
       "      <td>0.0</td>\n",
       "      <td>0.3.3</td>\n",
       "      <td>00:a2:ee:03:e3:20</td>\n",
       "      <td>[wpa2-eap-ccmp][ess]</td>\n",
       "      <td>d3a2898a5e731607</td>\n",
       "      <td>VS425</td>\n",
       "      <td>5.1.1</td>\n",
       "      <td>2412</td>\n",
       "      <td>56629538</td>\n",
       "      <td>40.690966</td>\n",
       "      <td>-73</td>\n",
       "      <td>-73.987686</td>\n",
       "      <td>constitution</td>\n",
       "      <td>1497296993826</td>\n",
       "    </tr>\n",
       "  </tbody>\n",
       "</table>\n",
       "</div>"
      ],
      "text/plain": [
       "      acc  altitude app_version              bssid  \\\n",
       "0  19.957       0.0       0.3.3  1c:e8:5d:ca:8f:33   \n",
       "1  19.957       0.0       0.3.3  1c:e8:5d:ca:8f:32   \n",
       "2  19.957       0.0       0.3.3  cc:d5:39:27:f2:43   \n",
       "3  19.957       0.0       0.3.3  cc:d5:39:27:f2:42   \n",
       "4  19.957       0.0       0.3.3  00:a2:ee:03:e3:20   \n",
       "\n",
       "                                 caps        device_mac device_model  \\\n",
       "0  [wpa-eap-tkip][wpa2-eap-ccmp][ess]  d3a2898a5e731607        VS425   \n",
       "1                [wpa2-eap-ccmp][ess]  d3a2898a5e731607        VS425   \n",
       "2  [wpa-eap-tkip][wpa2-eap-ccmp][ess]  d3a2898a5e731607        VS425   \n",
       "3                [wpa2-eap-ccmp][ess]  d3a2898a5e731607        VS425   \n",
       "4                [wpa2-eap-ccmp][ess]  d3a2898a5e731607        VS425   \n",
       "\n",
       "  droid_version  freq       idx        lat  level        lng          ssid  \\\n",
       "0         5.1.1  2437  56629534  40.690966    -60 -73.987686    nyu-legacy   \n",
       "1         5.1.1  2437  56629535  40.690966    -59 -73.987686       eduroam   \n",
       "2         5.1.1  2412  56629536  40.690966    -66 -73.987686    nyu-legacy   \n",
       "3         5.1.1  2412  56629537  40.690966    -67 -73.987686       eduroam   \n",
       "4         5.1.1  2412  56629538  40.690966    -73 -73.987686  constitution   \n",
       "\n",
       "            time  \n",
       "0  1497296993826  \n",
       "1  1497296993826  \n",
       "2  1497296993826  \n",
       "3  1497296993826  \n",
       "4  1497296993826  "
      ]
     },
     "execution_count": 5,
     "metadata": {},
     "output_type": "execute_result"
    }
   ],
   "source": [
    "wifi_data.head()"
   ]
  },
  {
   "cell_type": "markdown",
   "metadata": {},
   "source": [
    "# Needed variables:\n",
    "* Total Population\n",
    "* Population Density\n",
    "* House Hold Density\n",
    "* Median Household Income\n",
    "* Wifi Counts (open and other)\n",
    "* Location (lat, long)\n",
    "    "
   ]
  },
  {
   "cell_type": "code",
   "execution_count": 1063,
   "metadata": {
    "collapsed": true
   },
   "outputs": [],
   "source": [
    "# 2010 & 2000 pop by census tract - BK\n",
    "#NYC_pop_data = pd.read_json(\"https://data.cityofnewyork.us/resource/rx2e-87id.json\", dtype={'census_tract': str})\n",
    "NYC_pop_data = pd.read_csv(\"https://data.cityofnewyork.us/api/views/rx2e-87id/rows.csv?accessType=DOWNLOAD\", dtype={'Census Tract': str})"
   ]
  },
  {
   "cell_type": "code",
   "execution_count": 1064,
   "metadata": {
    "collapsed": false
   },
   "outputs": [
    {
     "data": {
      "text/plain": [
       "(1522, 6)"
      ]
     },
     "execution_count": 1064,
     "metadata": {},
     "output_type": "execute_result"
    }
   ],
   "source": [
    "NYC_pop_data.shape"
   ]
  },
  {
   "cell_type": "code",
   "execution_count": 1065,
   "metadata": {
    "collapsed": false
   },
   "outputs": [
    {
     "data": {
      "text/html": [
       "<div>\n",
       "<table border=\"1\" class=\"dataframe\">\n",
       "  <thead>\n",
       "    <tr style=\"text-align: right;\">\n",
       "      <th></th>\n",
       "      <th>Borough</th>\n",
       "      <th>Year</th>\n",
       "      <th>FIPS County Code</th>\n",
       "      <th>DCP Borough Code</th>\n",
       "      <th>Census Tract</th>\n",
       "      <th>Population</th>\n",
       "    </tr>\n",
       "  </thead>\n",
       "  <tbody>\n",
       "    <tr>\n",
       "      <th>0</th>\n",
       "      <td>Brooklyn</td>\n",
       "      <td>2000</td>\n",
       "      <td>47</td>\n",
       "      <td>3</td>\n",
       "      <td>000100</td>\n",
       "      <td>5498</td>\n",
       "    </tr>\n",
       "    <tr>\n",
       "      <th>1</th>\n",
       "      <td>Brooklyn</td>\n",
       "      <td>2000</td>\n",
       "      <td>47</td>\n",
       "      <td>3</td>\n",
       "      <td>000200</td>\n",
       "      <td>1303</td>\n",
       "    </tr>\n",
       "    <tr>\n",
       "      <th>2</th>\n",
       "      <td>Brooklyn</td>\n",
       "      <td>2000</td>\n",
       "      <td>47</td>\n",
       "      <td>3</td>\n",
       "      <td>000301</td>\n",
       "      <td>5036</td>\n",
       "    </tr>\n",
       "    <tr>\n",
       "      <th>3</th>\n",
       "      <td>Brooklyn</td>\n",
       "      <td>2000</td>\n",
       "      <td>47</td>\n",
       "      <td>3</td>\n",
       "      <td>000501</td>\n",
       "      <td>3415</td>\n",
       "    </tr>\n",
       "    <tr>\n",
       "      <th>4</th>\n",
       "      <td>Brooklyn</td>\n",
       "      <td>2000</td>\n",
       "      <td>47</td>\n",
       "      <td>3</td>\n",
       "      <td>000502</td>\n",
       "      <td>2739</td>\n",
       "    </tr>\n",
       "  </tbody>\n",
       "</table>\n",
       "</div>"
      ],
      "text/plain": [
       "    Borough  Year  FIPS County Code  DCP Borough Code Census Tract  Population\n",
       "0  Brooklyn  2000                47                 3       000100        5498\n",
       "1  Brooklyn  2000                47                 3       000200        1303\n",
       "2  Brooklyn  2000                47                 3       000301        5036\n",
       "3  Brooklyn  2000                47                 3       000501        3415\n",
       "4  Brooklyn  2000                47                 3       000502        2739"
      ]
     },
     "execution_count": 1065,
     "metadata": {},
     "output_type": "execute_result"
    }
   ],
   "source": [
    "NYC_pop_data.head()"
   ]
  },
  {
   "cell_type": "code",
   "execution_count": 1066,
   "metadata": {
    "collapsed": false
   },
   "outputs": [],
   "source": [
    "NYC_pop_data.drop(NYC_pop_data[NYC_pop_data.Year == 2000].index, inplace=True)"
   ]
  },
  {
   "cell_type": "code",
   "execution_count": 1067,
   "metadata": {
    "collapsed": false
   },
   "outputs": [
    {
     "data": {
      "text/html": [
       "<div>\n",
       "<table border=\"1\" class=\"dataframe\">\n",
       "  <thead>\n",
       "    <tr style=\"text-align: right;\">\n",
       "      <th></th>\n",
       "      <th>Borough</th>\n",
       "      <th>Year</th>\n",
       "      <th>FIPS County Code</th>\n",
       "      <th>DCP Borough Code</th>\n",
       "      <th>Census Tract</th>\n",
       "      <th>Population</th>\n",
       "    </tr>\n",
       "  </thead>\n",
       "  <tbody>\n",
       "    <tr>\n",
       "      <th>761</th>\n",
       "      <td>Brooklyn</td>\n",
       "      <td>2010</td>\n",
       "      <td>47</td>\n",
       "      <td>3</td>\n",
       "      <td>000100</td>\n",
       "      <td>4338</td>\n",
       "    </tr>\n",
       "    <tr>\n",
       "      <th>762</th>\n",
       "      <td>Brooklyn</td>\n",
       "      <td>2010</td>\n",
       "      <td>47</td>\n",
       "      <td>3</td>\n",
       "      <td>000200</td>\n",
       "      <td>1470</td>\n",
       "    </tr>\n",
       "    <tr>\n",
       "      <th>763</th>\n",
       "      <td>Brooklyn</td>\n",
       "      <td>2010</td>\n",
       "      <td>47</td>\n",
       "      <td>3</td>\n",
       "      <td>000301</td>\n",
       "      <td>4259</td>\n",
       "    </tr>\n",
       "    <tr>\n",
       "      <th>764</th>\n",
       "      <td>Brooklyn</td>\n",
       "      <td>2010</td>\n",
       "      <td>47</td>\n",
       "      <td>3</td>\n",
       "      <td>000501</td>\n",
       "      <td>4247</td>\n",
       "    </tr>\n",
       "    <tr>\n",
       "      <th>765</th>\n",
       "      <td>Brooklyn</td>\n",
       "      <td>2010</td>\n",
       "      <td>47</td>\n",
       "      <td>3</td>\n",
       "      <td>000502</td>\n",
       "      <td>2512</td>\n",
       "    </tr>\n",
       "  </tbody>\n",
       "</table>\n",
       "</div>"
      ],
      "text/plain": [
       "      Borough  Year  FIPS County Code  DCP Borough Code Census Tract  \\\n",
       "761  Brooklyn  2010                47                 3       000100   \n",
       "762  Brooklyn  2010                47                 3       000200   \n",
       "763  Brooklyn  2010                47                 3       000301   \n",
       "764  Brooklyn  2010                47                 3       000501   \n",
       "765  Brooklyn  2010                47                 3       000502   \n",
       "\n",
       "     Population  \n",
       "761        4338  \n",
       "762        1470  \n",
       "763        4259  \n",
       "764        4247  \n",
       "765        2512  "
      ]
     },
     "execution_count": 1067,
     "metadata": {},
     "output_type": "execute_result"
    }
   ],
   "source": [
    "NYC_pop_data.head()"
   ]
  },
  {
   "cell_type": "code",
   "execution_count": 1068,
   "metadata": {
    "collapsed": false
   },
   "outputs": [
    {
     "data": {
      "text/plain": [
       "(761, 6)"
      ]
     },
     "execution_count": 1068,
     "metadata": {},
     "output_type": "execute_result"
    }
   ],
   "source": [
    "NYC_pop_data.shape"
   ]
  },
  {
   "cell_type": "code",
   "execution_count": 1069,
   "metadata": {
    "collapsed": false
   },
   "outputs": [],
   "source": [
    "NYC_pop_data[\"boro_ct2010\"] = NYC_pop_data[\"DCP Borough Code\"].astype(str) + NYC_pop_data[\"Census Tract\"].astype(str)"
   ]
  },
  {
   "cell_type": "code",
   "execution_count": 1070,
   "metadata": {
    "collapsed": true
   },
   "outputs": [],
   "source": [
    "NYC_pop_data[\"boro_ct2010\"] = NYC_pop_data[\"boro_ct2010\"].astype(int)"
   ]
  },
  {
   "cell_type": "code",
   "execution_count": 1071,
   "metadata": {
    "collapsed": false
   },
   "outputs": [
    {
     "data": {
      "text/plain": [
       "dtype('int64')"
      ]
     },
     "execution_count": 1071,
     "metadata": {},
     "output_type": "execute_result"
    }
   ],
   "source": [
    "NYC_pop_data[\"boro_ct2010\"].dtype"
   ]
  },
  {
   "cell_type": "code",
   "execution_count": 1072,
   "metadata": {
    "collapsed": false
   },
   "outputs": [
    {
     "data": {
      "text/plain": [
       "array(['Brooklyn'], dtype=object)"
      ]
     },
     "execution_count": 1072,
     "metadata": {},
     "output_type": "execute_result"
    }
   ],
   "source": [
    "NYC_pop_data.Borough.unique()"
   ]
  },
  {
   "cell_type": "code",
   "execution_count": 1073,
   "metadata": {
    "collapsed": false
   },
   "outputs": [
    {
     "data": {
      "text/html": [
       "<div>\n",
       "<table border=\"1\" class=\"dataframe\">\n",
       "  <thead>\n",
       "    <tr style=\"text-align: right;\">\n",
       "      <th></th>\n",
       "      <th>Borough</th>\n",
       "      <th>Year</th>\n",
       "      <th>FIPS County Code</th>\n",
       "      <th>DCP Borough Code</th>\n",
       "      <th>Census Tract</th>\n",
       "      <th>Population</th>\n",
       "      <th>boro_ct2010</th>\n",
       "    </tr>\n",
       "  </thead>\n",
       "  <tbody>\n",
       "    <tr>\n",
       "      <th>761</th>\n",
       "      <td>Brooklyn</td>\n",
       "      <td>2010</td>\n",
       "      <td>47</td>\n",
       "      <td>3</td>\n",
       "      <td>000100</td>\n",
       "      <td>4338</td>\n",
       "      <td>3000100</td>\n",
       "    </tr>\n",
       "    <tr>\n",
       "      <th>762</th>\n",
       "      <td>Brooklyn</td>\n",
       "      <td>2010</td>\n",
       "      <td>47</td>\n",
       "      <td>3</td>\n",
       "      <td>000200</td>\n",
       "      <td>1470</td>\n",
       "      <td>3000200</td>\n",
       "    </tr>\n",
       "    <tr>\n",
       "      <th>763</th>\n",
       "      <td>Brooklyn</td>\n",
       "      <td>2010</td>\n",
       "      <td>47</td>\n",
       "      <td>3</td>\n",
       "      <td>000301</td>\n",
       "      <td>4259</td>\n",
       "      <td>3000301</td>\n",
       "    </tr>\n",
       "    <tr>\n",
       "      <th>764</th>\n",
       "      <td>Brooklyn</td>\n",
       "      <td>2010</td>\n",
       "      <td>47</td>\n",
       "      <td>3</td>\n",
       "      <td>000501</td>\n",
       "      <td>4247</td>\n",
       "      <td>3000501</td>\n",
       "    </tr>\n",
       "    <tr>\n",
       "      <th>765</th>\n",
       "      <td>Brooklyn</td>\n",
       "      <td>2010</td>\n",
       "      <td>47</td>\n",
       "      <td>3</td>\n",
       "      <td>000502</td>\n",
       "      <td>2512</td>\n",
       "      <td>3000502</td>\n",
       "    </tr>\n",
       "  </tbody>\n",
       "</table>\n",
       "</div>"
      ],
      "text/plain": [
       "      Borough  Year  FIPS County Code  DCP Borough Code Census Tract  \\\n",
       "761  Brooklyn  2010                47                 3       000100   \n",
       "762  Brooklyn  2010                47                 3       000200   \n",
       "763  Brooklyn  2010                47                 3       000301   \n",
       "764  Brooklyn  2010                47                 3       000501   \n",
       "765  Brooklyn  2010                47                 3       000502   \n",
       "\n",
       "     Population  boro_ct2010  \n",
       "761        4338      3000100  \n",
       "762        1470      3000200  \n",
       "763        4259      3000301  \n",
       "764        4247      3000501  \n",
       "765        2512      3000502  "
      ]
     },
     "execution_count": 1073,
     "metadata": {},
     "output_type": "execute_result"
    }
   ],
   "source": [
    "# 6 digits\n",
    "# leading with 2 zeros for 2 digit numbers\n",
    "# leading with 1 zeros for 3 digit numbers\n",
    "# ending with 2 zeros for decimal places\n",
    "\n",
    "NYC_pop_data[NYC_pop_data[\"Census Tract\"].str.contains(\"0\")].head()"
   ]
  },
  {
   "cell_type": "code",
   "execution_count": 1074,
   "metadata": {
    "collapsed": false
   },
   "outputs": [
    {
     "data": {
      "text/plain": [
       "(761, 7)"
      ]
     },
     "execution_count": 1074,
     "metadata": {},
     "output_type": "execute_result"
    }
   ],
   "source": [
    "NYC_pop_data.shape"
   ]
  },
  {
   "cell_type": "code",
   "execution_count": 1075,
   "metadata": {
    "collapsed": false
   },
   "outputs": [
    {
     "name": "stderr",
     "output_type": "stream",
     "text": [
      "WARNING:Fiona:PROJ data files not located, PROJ_LIB not set\n"
     ]
    },
    {
     "data": {
      "text/html": [
       "<div>\n",
       "<table border=\"1\" class=\"dataframe\">\n",
       "  <thead>\n",
       "    <tr style=\"text-align: right;\">\n",
       "      <th></th>\n",
       "      <th>boro_code</th>\n",
       "      <th>boro_ct201</th>\n",
       "      <th>boro_name</th>\n",
       "      <th>cdeligibil</th>\n",
       "      <th>ct2010</th>\n",
       "      <th>ctlabel</th>\n",
       "      <th>geometry</th>\n",
       "      <th>ntacode</th>\n",
       "      <th>ntaname</th>\n",
       "      <th>puma</th>\n",
       "      <th>shape_area</th>\n",
       "      <th>shape_leng</th>\n",
       "    </tr>\n",
       "  </thead>\n",
       "  <tbody>\n",
       "    <tr>\n",
       "      <th>0</th>\n",
       "      <td>5</td>\n",
       "      <td>5000900</td>\n",
       "      <td>Staten Island</td>\n",
       "      <td>I</td>\n",
       "      <td>000900</td>\n",
       "      <td>9</td>\n",
       "      <td>POLYGON ((-74.07920577013245 40.64343078374567...</td>\n",
       "      <td>SI22</td>\n",
       "      <td>West New Brighton-New Brighton-St. George</td>\n",
       "      <td>3903</td>\n",
       "      <td>2.497010e+06</td>\n",
       "      <td>7729.016794</td>\n",
       "    </tr>\n",
       "    <tr>\n",
       "      <th>1</th>\n",
       "      <td>1</td>\n",
       "      <td>1009800</td>\n",
       "      <td>Manhattan</td>\n",
       "      <td>I</td>\n",
       "      <td>009800</td>\n",
       "      <td>98</td>\n",
       "      <td>POLYGON ((-73.96432543478758 40.75638153099091...</td>\n",
       "      <td>MN19</td>\n",
       "      <td>Turtle Bay-East Midtown</td>\n",
       "      <td>3808</td>\n",
       "      <td>1.906016e+06</td>\n",
       "      <td>5534.199811</td>\n",
       "    </tr>\n",
       "    <tr>\n",
       "      <th>2</th>\n",
       "      <td>1</td>\n",
       "      <td>1010000</td>\n",
       "      <td>Manhattan</td>\n",
       "      <td>I</td>\n",
       "      <td>010000</td>\n",
       "      <td>100</td>\n",
       "      <td>POLYGON ((-73.96802436915851 40.75957814005282...</td>\n",
       "      <td>MN19</td>\n",
       "      <td>Turtle Bay-East Midtown</td>\n",
       "      <td>3808</td>\n",
       "      <td>1.860938e+06</td>\n",
       "      <td>5692.168737</td>\n",
       "    </tr>\n",
       "    <tr>\n",
       "      <th>3</th>\n",
       "      <td>1</td>\n",
       "      <td>1010200</td>\n",
       "      <td>Manhattan</td>\n",
       "      <td>I</td>\n",
       "      <td>010200</td>\n",
       "      <td>102</td>\n",
       "      <td>POLYGON ((-73.97124277307127 40.76093641847906...</td>\n",
       "      <td>MN17</td>\n",
       "      <td>Midtown-Midtown South</td>\n",
       "      <td>3807</td>\n",
       "      <td>1.860993e+06</td>\n",
       "      <td>5687.802439</td>\n",
       "    </tr>\n",
       "    <tr>\n",
       "      <th>4</th>\n",
       "      <td>1</td>\n",
       "      <td>1010400</td>\n",
       "      <td>Manhattan</td>\n",
       "      <td>I</td>\n",
       "      <td>010400</td>\n",
       "      <td>104</td>\n",
       "      <td>POLYGON ((-73.97445730550224 40.76229308352487...</td>\n",
       "      <td>MN17</td>\n",
       "      <td>Midtown-Midtown South</td>\n",
       "      <td>3807</td>\n",
       "      <td>1.864600e+06</td>\n",
       "      <td>5693.036367</td>\n",
       "    </tr>\n",
       "  </tbody>\n",
       "</table>\n",
       "</div>"
      ],
      "text/plain": [
       "  boro_code boro_ct201      boro_name cdeligibil  ct2010 ctlabel  \\\n",
       "0         5    5000900  Staten Island          I  000900       9   \n",
       "1         1    1009800      Manhattan          I  009800      98   \n",
       "2         1    1010000      Manhattan          I  010000     100   \n",
       "3         1    1010200      Manhattan          I  010200     102   \n",
       "4         1    1010400      Manhattan          I  010400     104   \n",
       "\n",
       "                                            geometry ntacode  \\\n",
       "0  POLYGON ((-74.07920577013245 40.64343078374567...    SI22   \n",
       "1  POLYGON ((-73.96432543478758 40.75638153099091...    MN19   \n",
       "2  POLYGON ((-73.96802436915851 40.75957814005282...    MN19   \n",
       "3  POLYGON ((-73.97124277307127 40.76093641847906...    MN17   \n",
       "4  POLYGON ((-73.97445730550224 40.76229308352487...    MN17   \n",
       "\n",
       "                                     ntaname  puma    shape_area   shape_leng  \n",
       "0  West New Brighton-New Brighton-St. George  3903  2.497010e+06  7729.016794  \n",
       "1                    Turtle Bay-East Midtown  3808  1.906016e+06  5534.199811  \n",
       "2                    Turtle Bay-East Midtown  3808  1.860938e+06  5692.168737  \n",
       "3                      Midtown-Midtown South  3807  1.860993e+06  5687.802439  \n",
       "4                      Midtown-Midtown South  3807  1.864600e+06  5693.036367  "
      ]
     },
     "execution_count": 1075,
     "metadata": {},
     "output_type": "execute_result"
    }
   ],
   "source": [
    "# 2010 Census Tracts - NYC Open Data\n",
    "# https://data.cityofnewyork.us/City-Government/2010-Census-Tracts/fxpq-c8ku\n",
    "\n",
    "\"\"\"REFERENCE SYSTEM IDENTIFIER\n",
    "* VALUE 2263\n",
    "* CODESPACE EPSG\n",
    "* VERSION 8.6.2\"\"\"\n",
    "\n",
    "#data = requests.get(\"https://data.cityofnewyork.us/resource/i69b-3rdj.json\")\n",
    "#data = \"https://data.cityofnewyork.us/api/views/i69b-3rdj/rows.csv?accessType=DOWNLOAD\"\n",
    "#df = pd.read_csv(data)\n",
    "gdf = gpd.GeoDataFrame.from_file(\"../Downloads/2010_Census_Tracts/geo_export_8ad4f19d-1ddb-439a-86bc-803d35337ad4.shp\") #(data.json())\n",
    "gdf.head()"
   ]
  },
  {
   "cell_type": "code",
   "execution_count": 1076,
   "metadata": {
    "collapsed": false
   },
   "outputs": [],
   "source": [
    "gdf[\"boro_ct2010\"] = gdf[\"boro_ct201\"].astype(int)"
   ]
  },
  {
   "cell_type": "code",
   "execution_count": 1077,
   "metadata": {
    "collapsed": false
   },
   "outputs": [
    {
     "data": {
      "text/plain": [
       "(760, 13)"
      ]
     },
     "execution_count": 1077,
     "metadata": {},
     "output_type": "execute_result"
    }
   ],
   "source": [
    "gdf[gdf.boro_code == \"3\"].shape"
   ]
  },
  {
   "cell_type": "code",
   "execution_count": 1078,
   "metadata": {
    "collapsed": true
   },
   "outputs": [],
   "source": [
    "#country_shapes = country_shapes.merge(country_names, on='iso_a3')\n",
    "NYC_shape = gdf.merge(NYC_pop_data, on=\"boro_ct2010\")"
   ]
  },
  {
   "cell_type": "code",
   "execution_count": 1079,
   "metadata": {
    "collapsed": false
   },
   "outputs": [
    {
     "data": {
      "text/plain": [
       "(760, 19)"
      ]
     },
     "execution_count": 1079,
     "metadata": {},
     "output_type": "execute_result"
    }
   ],
   "source": [
    "NYC_shape.shape"
   ]
  },
  {
   "cell_type": "code",
   "execution_count": 1080,
   "metadata": {
    "collapsed": false
   },
   "outputs": [
    {
     "data": {
      "text/html": [
       "<div>\n",
       "<table border=\"1\" class=\"dataframe\">\n",
       "  <thead>\n",
       "    <tr style=\"text-align: right;\">\n",
       "      <th></th>\n",
       "      <th>boro_code</th>\n",
       "      <th>boro_ct201</th>\n",
       "      <th>boro_name</th>\n",
       "      <th>cdeligibil</th>\n",
       "      <th>ct2010</th>\n",
       "      <th>ctlabel</th>\n",
       "      <th>geometry</th>\n",
       "      <th>ntacode</th>\n",
       "      <th>ntaname</th>\n",
       "      <th>puma</th>\n",
       "      <th>shape_area</th>\n",
       "      <th>shape_leng</th>\n",
       "      <th>boro_ct2010</th>\n",
       "      <th>Borough</th>\n",
       "      <th>Year</th>\n",
       "      <th>FIPS County Code</th>\n",
       "      <th>DCP Borough Code</th>\n",
       "      <th>Census Tract</th>\n",
       "      <th>Population</th>\n",
       "    </tr>\n",
       "  </thead>\n",
       "  <tbody>\n",
       "    <tr>\n",
       "      <th>0</th>\n",
       "      <td>3</td>\n",
       "      <td>3000501</td>\n",
       "      <td>Brooklyn</td>\n",
       "      <td>I</td>\n",
       "      <td>000501</td>\n",
       "      <td>5.01</td>\n",
       "      <td>POLYGON ((-73.99301822153384 40.6974623645668,...</td>\n",
       "      <td>BK09</td>\n",
       "      <td>Brooklyn Heights-Cobble Hill</td>\n",
       "      <td>4004</td>\n",
       "      <td>9.015070e+05</td>\n",
       "      <td>4828.169912</td>\n",
       "      <td>3000501</td>\n",
       "      <td>Brooklyn</td>\n",
       "      <td>2010</td>\n",
       "      <td>47</td>\n",
       "      <td>3</td>\n",
       "      <td>000501</td>\n",
       "      <td>4247</td>\n",
       "    </tr>\n",
       "    <tr>\n",
       "      <th>1</th>\n",
       "      <td>3</td>\n",
       "      <td>3002000</td>\n",
       "      <td>Brooklyn</td>\n",
       "      <td>I</td>\n",
       "      <td>002000</td>\n",
       "      <td>20</td>\n",
       "      <td>POLYGON ((-74.01266264860631 40.64925555478156...</td>\n",
       "      <td>BK32</td>\n",
       "      <td>Sunset Park West</td>\n",
       "      <td>4012</td>\n",
       "      <td>1.620770e+06</td>\n",
       "      <td>5426.067279</td>\n",
       "      <td>3002000</td>\n",
       "      <td>Brooklyn</td>\n",
       "      <td>2010</td>\n",
       "      <td>47</td>\n",
       "      <td>3</td>\n",
       "      <td>002000</td>\n",
       "      <td>1672</td>\n",
       "    </tr>\n",
       "    <tr>\n",
       "      <th>2</th>\n",
       "      <td>3</td>\n",
       "      <td>3004100</td>\n",
       "      <td>Brooklyn</td>\n",
       "      <td>I</td>\n",
       "      <td>004100</td>\n",
       "      <td>41</td>\n",
       "      <td>POLYGON ((-73.98181677448231 40.68732980276495...</td>\n",
       "      <td>BK38</td>\n",
       "      <td>DUMBO-Vinegar Hill-Downtown Brooklyn-Boerum Hill</td>\n",
       "      <td>4004</td>\n",
       "      <td>1.744094e+06</td>\n",
       "      <td>5283.856660</td>\n",
       "      <td>3004100</td>\n",
       "      <td>Brooklyn</td>\n",
       "      <td>2010</td>\n",
       "      <td>47</td>\n",
       "      <td>3</td>\n",
       "      <td>004100</td>\n",
       "      <td>3598</td>\n",
       "    </tr>\n",
       "    <tr>\n",
       "      <th>3</th>\n",
       "      <td>3</td>\n",
       "      <td>3005202</td>\n",
       "      <td>Brooklyn</td>\n",
       "      <td>I</td>\n",
       "      <td>005202</td>\n",
       "      <td>52.02</td>\n",
       "      <td>POLYGON ((-74.03809447949381 40.62058489897851...</td>\n",
       "      <td>BK31</td>\n",
       "      <td>Bay Ridge</td>\n",
       "      <td>4013</td>\n",
       "      <td>1.398134e+06</td>\n",
       "      <td>5190.713818</td>\n",
       "      <td>3005202</td>\n",
       "      <td>Brooklyn</td>\n",
       "      <td>2010</td>\n",
       "      <td>47</td>\n",
       "      <td>3</td>\n",
       "      <td>005202</td>\n",
       "      <td>2481</td>\n",
       "    </tr>\n",
       "    <tr>\n",
       "      <th>4</th>\n",
       "      <td>3</td>\n",
       "      <td>3005800</td>\n",
       "      <td>Brooklyn</td>\n",
       "      <td>E</td>\n",
       "      <td>005800</td>\n",
       "      <td>58</td>\n",
       "      <td>POLYGON ((-74.02956408409689 40.61983253935202...</td>\n",
       "      <td>BK31</td>\n",
       "      <td>Bay Ridge</td>\n",
       "      <td>4013</td>\n",
       "      <td>2.080303e+06</td>\n",
       "      <td>6098.167799</td>\n",
       "      <td>3005800</td>\n",
       "      <td>Brooklyn</td>\n",
       "      <td>2010</td>\n",
       "      <td>47</td>\n",
       "      <td>3</td>\n",
       "      <td>005800</td>\n",
       "      <td>3152</td>\n",
       "    </tr>\n",
       "  </tbody>\n",
       "</table>\n",
       "</div>"
      ],
      "text/plain": [
       "  boro_code boro_ct201 boro_name cdeligibil  ct2010 ctlabel  \\\n",
       "0         3    3000501  Brooklyn          I  000501    5.01   \n",
       "1         3    3002000  Brooklyn          I  002000      20   \n",
       "2         3    3004100  Brooklyn          I  004100      41   \n",
       "3         3    3005202  Brooklyn          I  005202   52.02   \n",
       "4         3    3005800  Brooklyn          E  005800      58   \n",
       "\n",
       "                                            geometry ntacode  \\\n",
       "0  POLYGON ((-73.99301822153384 40.6974623645668,...    BK09   \n",
       "1  POLYGON ((-74.01266264860631 40.64925555478156...    BK32   \n",
       "2  POLYGON ((-73.98181677448231 40.68732980276495...    BK38   \n",
       "3  POLYGON ((-74.03809447949381 40.62058489897851...    BK31   \n",
       "4  POLYGON ((-74.02956408409689 40.61983253935202...    BK31   \n",
       "\n",
       "                                            ntaname  puma    shape_area  \\\n",
       "0                      Brooklyn Heights-Cobble Hill  4004  9.015070e+05   \n",
       "1                                  Sunset Park West  4012  1.620770e+06   \n",
       "2  DUMBO-Vinegar Hill-Downtown Brooklyn-Boerum Hill  4004  1.744094e+06   \n",
       "3                                         Bay Ridge  4013  1.398134e+06   \n",
       "4                                         Bay Ridge  4013  2.080303e+06   \n",
       "\n",
       "    shape_leng  boro_ct2010   Borough  Year  FIPS County Code  \\\n",
       "0  4828.169912      3000501  Brooklyn  2010                47   \n",
       "1  5426.067279      3002000  Brooklyn  2010                47   \n",
       "2  5283.856660      3004100  Brooklyn  2010                47   \n",
       "3  5190.713818      3005202  Brooklyn  2010                47   \n",
       "4  6098.167799      3005800  Brooklyn  2010                47   \n",
       "\n",
       "   DCP Borough Code Census Tract  Population  \n",
       "0                 3       000501        4247  \n",
       "1                 3       002000        1672  \n",
       "2                 3       004100        3598  \n",
       "3                 3       005202        2481  \n",
       "4                 3       005800        3152  "
      ]
     },
     "execution_count": 1080,
     "metadata": {},
     "output_type": "execute_result"
    }
   ],
   "source": [
    "NYC_shape.head()"
   ]
  },
  {
   "cell_type": "code",
   "execution_count": 1081,
   "metadata": {
    "collapsed": false
   },
   "outputs": [
    {
     "data": {
      "text/plain": [
       "dtype('int64')"
      ]
     },
     "execution_count": 1081,
     "metadata": {},
     "output_type": "execute_result"
    }
   ],
   "source": [
    "NYC_shape.Population.dtype"
   ]
  },
  {
   "cell_type": "code",
   "execution_count": 1082,
   "metadata": {
    "collapsed": false
   },
   "outputs": [
    {
     "data": {
      "text/plain": [
       "dtype('float64')"
      ]
     },
     "execution_count": 1082,
     "metadata": {},
     "output_type": "execute_result"
    }
   ],
   "source": [
    "NYC_shape.shape_area.dtype"
   ]
  },
  {
   "cell_type": "code",
   "execution_count": 1083,
   "metadata": {
    "collapsed": false
   },
   "outputs": [
    {
     "data": {
      "text/html": [
       "<div>\n",
       "<table border=\"1\" class=\"dataframe\">\n",
       "  <thead>\n",
       "    <tr style=\"text-align: right;\">\n",
       "      <th></th>\n",
       "      <th>boro_code</th>\n",
       "      <th>boro_ct201</th>\n",
       "      <th>boro_name</th>\n",
       "      <th>cdeligibil</th>\n",
       "      <th>ct2010</th>\n",
       "      <th>ctlabel</th>\n",
       "      <th>geometry</th>\n",
       "      <th>ntacode</th>\n",
       "      <th>ntaname</th>\n",
       "      <th>puma</th>\n",
       "      <th>shape_area</th>\n",
       "      <th>shape_leng</th>\n",
       "      <th>boro_ct2010</th>\n",
       "      <th>Borough</th>\n",
       "      <th>Year</th>\n",
       "      <th>FIPS County Code</th>\n",
       "      <th>DCP Borough Code</th>\n",
       "      <th>Census Tract</th>\n",
       "      <th>Population</th>\n",
       "    </tr>\n",
       "  </thead>\n",
       "  <tbody>\n",
       "    <tr>\n",
       "      <th>0</th>\n",
       "      <td>3</td>\n",
       "      <td>3000501</td>\n",
       "      <td>Brooklyn</td>\n",
       "      <td>I</td>\n",
       "      <td>000501</td>\n",
       "      <td>5.01</td>\n",
       "      <td>POLYGON ((-73.99301822153384 40.6974623645668,...</td>\n",
       "      <td>BK09</td>\n",
       "      <td>Brooklyn Heights-Cobble Hill</td>\n",
       "      <td>4004</td>\n",
       "      <td>9.015070e+05</td>\n",
       "      <td>4828.169912</td>\n",
       "      <td>3000501</td>\n",
       "      <td>Brooklyn</td>\n",
       "      <td>2010</td>\n",
       "      <td>47</td>\n",
       "      <td>3</td>\n",
       "      <td>000501</td>\n",
       "      <td>4247</td>\n",
       "    </tr>\n",
       "    <tr>\n",
       "      <th>1</th>\n",
       "      <td>3</td>\n",
       "      <td>3002000</td>\n",
       "      <td>Brooklyn</td>\n",
       "      <td>I</td>\n",
       "      <td>002000</td>\n",
       "      <td>20</td>\n",
       "      <td>POLYGON ((-74.01266264860631 40.64925555478156...</td>\n",
       "      <td>BK32</td>\n",
       "      <td>Sunset Park West</td>\n",
       "      <td>4012</td>\n",
       "      <td>1.620770e+06</td>\n",
       "      <td>5426.067279</td>\n",
       "      <td>3002000</td>\n",
       "      <td>Brooklyn</td>\n",
       "      <td>2010</td>\n",
       "      <td>47</td>\n",
       "      <td>3</td>\n",
       "      <td>002000</td>\n",
       "      <td>1672</td>\n",
       "    </tr>\n",
       "    <tr>\n",
       "      <th>2</th>\n",
       "      <td>3</td>\n",
       "      <td>3004100</td>\n",
       "      <td>Brooklyn</td>\n",
       "      <td>I</td>\n",
       "      <td>004100</td>\n",
       "      <td>41</td>\n",
       "      <td>POLYGON ((-73.98181677448231 40.68732980276495...</td>\n",
       "      <td>BK38</td>\n",
       "      <td>DUMBO-Vinegar Hill-Downtown Brooklyn-Boerum Hill</td>\n",
       "      <td>4004</td>\n",
       "      <td>1.744094e+06</td>\n",
       "      <td>5283.856660</td>\n",
       "      <td>3004100</td>\n",
       "      <td>Brooklyn</td>\n",
       "      <td>2010</td>\n",
       "      <td>47</td>\n",
       "      <td>3</td>\n",
       "      <td>004100</td>\n",
       "      <td>3598</td>\n",
       "    </tr>\n",
       "    <tr>\n",
       "      <th>3</th>\n",
       "      <td>3</td>\n",
       "      <td>3005202</td>\n",
       "      <td>Brooklyn</td>\n",
       "      <td>I</td>\n",
       "      <td>005202</td>\n",
       "      <td>52.02</td>\n",
       "      <td>POLYGON ((-74.03809447949381 40.62058489897851...</td>\n",
       "      <td>BK31</td>\n",
       "      <td>Bay Ridge</td>\n",
       "      <td>4013</td>\n",
       "      <td>1.398134e+06</td>\n",
       "      <td>5190.713818</td>\n",
       "      <td>3005202</td>\n",
       "      <td>Brooklyn</td>\n",
       "      <td>2010</td>\n",
       "      <td>47</td>\n",
       "      <td>3</td>\n",
       "      <td>005202</td>\n",
       "      <td>2481</td>\n",
       "    </tr>\n",
       "    <tr>\n",
       "      <th>4</th>\n",
       "      <td>3</td>\n",
       "      <td>3005800</td>\n",
       "      <td>Brooklyn</td>\n",
       "      <td>E</td>\n",
       "      <td>005800</td>\n",
       "      <td>58</td>\n",
       "      <td>POLYGON ((-74.02956408409689 40.61983253935202...</td>\n",
       "      <td>BK31</td>\n",
       "      <td>Bay Ridge</td>\n",
       "      <td>4013</td>\n",
       "      <td>2.080303e+06</td>\n",
       "      <td>6098.167799</td>\n",
       "      <td>3005800</td>\n",
       "      <td>Brooklyn</td>\n",
       "      <td>2010</td>\n",
       "      <td>47</td>\n",
       "      <td>3</td>\n",
       "      <td>005800</td>\n",
       "      <td>3152</td>\n",
       "    </tr>\n",
       "  </tbody>\n",
       "</table>\n",
       "</div>"
      ],
      "text/plain": [
       "  boro_code boro_ct201 boro_name cdeligibil  ct2010 ctlabel  \\\n",
       "0         3    3000501  Brooklyn          I  000501    5.01   \n",
       "1         3    3002000  Brooklyn          I  002000      20   \n",
       "2         3    3004100  Brooklyn          I  004100      41   \n",
       "3         3    3005202  Brooklyn          I  005202   52.02   \n",
       "4         3    3005800  Brooklyn          E  005800      58   \n",
       "\n",
       "                                            geometry ntacode  \\\n",
       "0  POLYGON ((-73.99301822153384 40.6974623645668,...    BK09   \n",
       "1  POLYGON ((-74.01266264860631 40.64925555478156...    BK32   \n",
       "2  POLYGON ((-73.98181677448231 40.68732980276495...    BK38   \n",
       "3  POLYGON ((-74.03809447949381 40.62058489897851...    BK31   \n",
       "4  POLYGON ((-74.02956408409689 40.61983253935202...    BK31   \n",
       "\n",
       "                                            ntaname  puma    shape_area  \\\n",
       "0                      Brooklyn Heights-Cobble Hill  4004  9.015070e+05   \n",
       "1                                  Sunset Park West  4012  1.620770e+06   \n",
       "2  DUMBO-Vinegar Hill-Downtown Brooklyn-Boerum Hill  4004  1.744094e+06   \n",
       "3                                         Bay Ridge  4013  1.398134e+06   \n",
       "4                                         Bay Ridge  4013  2.080303e+06   \n",
       "\n",
       "    shape_leng  boro_ct2010   Borough  Year  FIPS County Code  \\\n",
       "0  4828.169912      3000501  Brooklyn  2010                47   \n",
       "1  5426.067279      3002000  Brooklyn  2010                47   \n",
       "2  5283.856660      3004100  Brooklyn  2010                47   \n",
       "3  5190.713818      3005202  Brooklyn  2010                47   \n",
       "4  6098.167799      3005800  Brooklyn  2010                47   \n",
       "\n",
       "   DCP Borough Code Census Tract  Population  \n",
       "0                 3       000501        4247  \n",
       "1                 3       002000        1672  \n",
       "2                 3       004100        3598  \n",
       "3                 3       005202        2481  \n",
       "4                 3       005800        3152  "
      ]
     },
     "execution_count": 1083,
     "metadata": {},
     "output_type": "execute_result"
    }
   ],
   "source": [
    "NYC_shape.head()"
   ]
  },
  {
   "cell_type": "code",
   "execution_count": 1084,
   "metadata": {
    "collapsed": true
   },
   "outputs": [],
   "source": [
    "#from fiona.crs import from_epsg\n",
    "#ct_shape.crs = from_epsg(4326) # epsg=4326: lat/on | 26918: NAD83/UTM zone 18N | epsg=2263 is US feet\n",
    "#NYC_Area=ct_shape.to_crs(epsg=2263).geometry.area.sum()/(2.788*10**7) # from ft2 to mi2 \n",
    "#print 'total NYC land area: %s (mi^2)'%str(NYC_Area)[:5] # from ft2 to mi2 #epsg=2263 is US feet"
   ]
  },
  {
   "cell_type": "code",
   "execution_count": 1085,
   "metadata": {
    "collapsed": true
   },
   "outputs": [],
   "source": [
    "NYC_shape.crs = from_epsg(4326)"
   ]
  },
  {
   "cell_type": "code",
   "execution_count": 1086,
   "metadata": {
    "collapsed": false
   },
   "outputs": [
    {
     "data": {
      "text/plain": [
       "{'init': 'epsg:4326', 'no_defs': True}"
      ]
     },
     "execution_count": 1086,
     "metadata": {},
     "output_type": "execute_result"
    }
   ],
   "source": [
    "NYC_shape.crs"
   ]
  },
  {
   "cell_type": "code",
   "execution_count": 1087,
   "metadata": {
    "collapsed": false
   },
   "outputs": [],
   "source": [
    "# Population density by 1,000 sq feet\n",
    "NYC_shape[\"pop_density\"] = (NYC_shape.Population/NYC_shape.shape_area)*5280"
   ]
  },
  {
   "cell_type": "code",
   "execution_count": 1088,
   "metadata": {
    "collapsed": false
   },
   "outputs": [
    {
     "data": {
      "text/html": [
       "<div>\n",
       "<table border=\"1\" class=\"dataframe\">\n",
       "  <thead>\n",
       "    <tr style=\"text-align: right;\">\n",
       "      <th></th>\n",
       "      <th>boro_code</th>\n",
       "      <th>boro_ct201</th>\n",
       "      <th>boro_name</th>\n",
       "      <th>cdeligibil</th>\n",
       "      <th>ct2010</th>\n",
       "      <th>ctlabel</th>\n",
       "      <th>geometry</th>\n",
       "      <th>ntacode</th>\n",
       "      <th>ntaname</th>\n",
       "      <th>puma</th>\n",
       "      <th>shape_area</th>\n",
       "      <th>shape_leng</th>\n",
       "      <th>boro_ct2010</th>\n",
       "      <th>Borough</th>\n",
       "      <th>Year</th>\n",
       "      <th>FIPS County Code</th>\n",
       "      <th>DCP Borough Code</th>\n",
       "      <th>Census Tract</th>\n",
       "      <th>Population</th>\n",
       "      <th>pop_density</th>\n",
       "    </tr>\n",
       "  </thead>\n",
       "  <tbody>\n",
       "    <tr>\n",
       "      <th>0</th>\n",
       "      <td>3</td>\n",
       "      <td>3000501</td>\n",
       "      <td>Brooklyn</td>\n",
       "      <td>I</td>\n",
       "      <td>000501</td>\n",
       "      <td>5.01</td>\n",
       "      <td>POLYGON ((-73.99301822153384 40.6974623645668,...</td>\n",
       "      <td>BK09</td>\n",
       "      <td>Brooklyn Heights-Cobble Hill</td>\n",
       "      <td>4004</td>\n",
       "      <td>9.015070e+05</td>\n",
       "      <td>4828.169912</td>\n",
       "      <td>3000501</td>\n",
       "      <td>Brooklyn</td>\n",
       "      <td>2010</td>\n",
       "      <td>47</td>\n",
       "      <td>3</td>\n",
       "      <td>000501</td>\n",
       "      <td>4247</td>\n",
       "      <td>24.874084</td>\n",
       "    </tr>\n",
       "    <tr>\n",
       "      <th>1</th>\n",
       "      <td>3</td>\n",
       "      <td>3002000</td>\n",
       "      <td>Brooklyn</td>\n",
       "      <td>I</td>\n",
       "      <td>002000</td>\n",
       "      <td>20</td>\n",
       "      <td>POLYGON ((-74.01266264860631 40.64925555478156...</td>\n",
       "      <td>BK32</td>\n",
       "      <td>Sunset Park West</td>\n",
       "      <td>4012</td>\n",
       "      <td>1.620770e+06</td>\n",
       "      <td>5426.067279</td>\n",
       "      <td>3002000</td>\n",
       "      <td>Brooklyn</td>\n",
       "      <td>2010</td>\n",
       "      <td>47</td>\n",
       "      <td>3</td>\n",
       "      <td>002000</td>\n",
       "      <td>1672</td>\n",
       "      <td>5.446892</td>\n",
       "    </tr>\n",
       "    <tr>\n",
       "      <th>2</th>\n",
       "      <td>3</td>\n",
       "      <td>3004100</td>\n",
       "      <td>Brooklyn</td>\n",
       "      <td>I</td>\n",
       "      <td>004100</td>\n",
       "      <td>41</td>\n",
       "      <td>POLYGON ((-73.98181677448231 40.68732980276495...</td>\n",
       "      <td>BK38</td>\n",
       "      <td>DUMBO-Vinegar Hill-Downtown Brooklyn-Boerum Hill</td>\n",
       "      <td>4004</td>\n",
       "      <td>1.744094e+06</td>\n",
       "      <td>5283.856660</td>\n",
       "      <td>3004100</td>\n",
       "      <td>Brooklyn</td>\n",
       "      <td>2010</td>\n",
       "      <td>47</td>\n",
       "      <td>3</td>\n",
       "      <td>004100</td>\n",
       "      <td>3598</td>\n",
       "      <td>10.892438</td>\n",
       "    </tr>\n",
       "    <tr>\n",
       "      <th>3</th>\n",
       "      <td>3</td>\n",
       "      <td>3005202</td>\n",
       "      <td>Brooklyn</td>\n",
       "      <td>I</td>\n",
       "      <td>005202</td>\n",
       "      <td>52.02</td>\n",
       "      <td>POLYGON ((-74.03809447949381 40.62058489897851...</td>\n",
       "      <td>BK31</td>\n",
       "      <td>Bay Ridge</td>\n",
       "      <td>4013</td>\n",
       "      <td>1.398134e+06</td>\n",
       "      <td>5190.713818</td>\n",
       "      <td>3005202</td>\n",
       "      <td>Brooklyn</td>\n",
       "      <td>2010</td>\n",
       "      <td>47</td>\n",
       "      <td>3</td>\n",
       "      <td>005202</td>\n",
       "      <td>2481</td>\n",
       "      <td>9.369399</td>\n",
       "    </tr>\n",
       "    <tr>\n",
       "      <th>4</th>\n",
       "      <td>3</td>\n",
       "      <td>3005800</td>\n",
       "      <td>Brooklyn</td>\n",
       "      <td>E</td>\n",
       "      <td>005800</td>\n",
       "      <td>58</td>\n",
       "      <td>POLYGON ((-74.02956408409689 40.61983253935202...</td>\n",
       "      <td>BK31</td>\n",
       "      <td>Bay Ridge</td>\n",
       "      <td>4013</td>\n",
       "      <td>2.080303e+06</td>\n",
       "      <td>6098.167799</td>\n",
       "      <td>3005800</td>\n",
       "      <td>Brooklyn</td>\n",
       "      <td>2010</td>\n",
       "      <td>47</td>\n",
       "      <td>3</td>\n",
       "      <td>005800</td>\n",
       "      <td>3152</td>\n",
       "      <td>8.000064</td>\n",
       "    </tr>\n",
       "  </tbody>\n",
       "</table>\n",
       "</div>"
      ],
      "text/plain": [
       "  boro_code boro_ct201 boro_name cdeligibil  ct2010 ctlabel  \\\n",
       "0         3    3000501  Brooklyn          I  000501    5.01   \n",
       "1         3    3002000  Brooklyn          I  002000      20   \n",
       "2         3    3004100  Brooklyn          I  004100      41   \n",
       "3         3    3005202  Brooklyn          I  005202   52.02   \n",
       "4         3    3005800  Brooklyn          E  005800      58   \n",
       "\n",
       "                                            geometry ntacode  \\\n",
       "0  POLYGON ((-73.99301822153384 40.6974623645668,...    BK09   \n",
       "1  POLYGON ((-74.01266264860631 40.64925555478156...    BK32   \n",
       "2  POLYGON ((-73.98181677448231 40.68732980276495...    BK38   \n",
       "3  POLYGON ((-74.03809447949381 40.62058489897851...    BK31   \n",
       "4  POLYGON ((-74.02956408409689 40.61983253935202...    BK31   \n",
       "\n",
       "                                            ntaname  puma    shape_area  \\\n",
       "0                      Brooklyn Heights-Cobble Hill  4004  9.015070e+05   \n",
       "1                                  Sunset Park West  4012  1.620770e+06   \n",
       "2  DUMBO-Vinegar Hill-Downtown Brooklyn-Boerum Hill  4004  1.744094e+06   \n",
       "3                                         Bay Ridge  4013  1.398134e+06   \n",
       "4                                         Bay Ridge  4013  2.080303e+06   \n",
       "\n",
       "    shape_leng  boro_ct2010   Borough  Year  FIPS County Code  \\\n",
       "0  4828.169912      3000501  Brooklyn  2010                47   \n",
       "1  5426.067279      3002000  Brooklyn  2010                47   \n",
       "2  5283.856660      3004100  Brooklyn  2010                47   \n",
       "3  5190.713818      3005202  Brooklyn  2010                47   \n",
       "4  6098.167799      3005800  Brooklyn  2010                47   \n",
       "\n",
       "   DCP Borough Code Census Tract  Population  pop_density  \n",
       "0                 3       000501        4247    24.874084  \n",
       "1                 3       002000        1672     5.446892  \n",
       "2                 3       004100        3598    10.892438  \n",
       "3                 3       005202        2481     9.369399  \n",
       "4                 3       005800        3152     8.000064  "
      ]
     },
     "execution_count": 1088,
     "metadata": {},
     "output_type": "execute_result"
    }
   ],
   "source": [
    "NYC_shape.head()"
   ]
  },
  {
   "cell_type": "code",
   "execution_count": 1089,
   "metadata": {
    "collapsed": true
   },
   "outputs": [],
   "source": [
    "#building_data = pd.read_json(\"https://data.cityofnewyork.us/resource/q3m4-ttp3.json\", dtype={'census_tract': str}) "
   ]
  },
  {
   "cell_type": "code",
   "execution_count": 1090,
   "metadata": {
    "collapsed": false
   },
   "outputs": [
    {
     "data": {
      "text/html": [
       "<div>\n",
       "<table border=\"1\" class=\"dataframe\">\n",
       "  <thead>\n",
       "    <tr style=\"text-align: right;\">\n",
       "      <th></th>\n",
       "      <th>FID</th>\n",
       "      <th>STATEFP10</th>\n",
       "      <th>COUNTYFP10</th>\n",
       "      <th>TRACTCE10</th>\n",
       "      <th>GEOID10</th>\n",
       "      <th>INTPTLAT10</th>\n",
       "      <th>INTPTLON10</th>\n",
       "      <th>State</th>\n",
       "      <th>COUNTY</th>\n",
       "      <th>HH_COUNT</th>\n",
       "      <th>...</th>\n",
       "      <th>MSMOC_TOT_</th>\n",
       "      <th>TAX_RET</th>\n",
       "      <th>Avg_TransC</th>\n",
       "      <th>REtaxperow</th>\n",
       "      <th>DISP_INC</th>\n",
       "      <th>energy_cos</th>\n",
       "      <th>REtax_ACS</th>\n",
       "      <th>AVG_TTL</th>\n",
       "      <th>LOCALNAME</th>\n",
       "      <th>Shape_Area</th>\n",
       "    </tr>\n",
       "  </thead>\n",
       "  <tbody>\n",
       "    <tr>\n",
       "      <th>0</th>\n",
       "      <td>0</td>\n",
       "      <td>34</td>\n",
       "      <td>17</td>\n",
       "      <td>32400</td>\n",
       "      <td>34017032400</td>\n",
       "      <td>40.792844</td>\n",
       "      <td>-74.013482</td>\n",
       "      <td>New Jersey</td>\n",
       "      <td>Hudson County</td>\n",
       "      <td>2187</td>\n",
       "      <td>...</td>\n",
       "      <td>22740</td>\n",
       "      <td>2264.889916</td>\n",
       "      <td>4145.566539</td>\n",
       "      <td>4966.370331</td>\n",
       "      <td>12232.00950</td>\n",
       "      <td>1773.280152</td>\n",
       "      <td>7735</td>\n",
       "      <td>5007.444405</td>\n",
       "      <td>West New York Town</td>\n",
       "      <td>0.000036</td>\n",
       "    </tr>\n",
       "    <tr>\n",
       "      <th>1</th>\n",
       "      <td>1</td>\n",
       "      <td>34</td>\n",
       "      <td>17</td>\n",
       "      <td>10100</td>\n",
       "      <td>34017010100</td>\n",
       "      <td>40.691559</td>\n",
       "      <td>-74.110913</td>\n",
       "      <td>New Jersey</td>\n",
       "      <td>Hudson County</td>\n",
       "      <td>2255</td>\n",
       "      <td>...</td>\n",
       "      <td>27804</td>\n",
       "      <td>2363.430717</td>\n",
       "      <td>5969.286255</td>\n",
       "      <td>4490.984109</td>\n",
       "      <td>22077.84024</td>\n",
       "      <td>1876.844806</td>\n",
       "      <td>7917</td>\n",
       "      <td>6146.888195</td>\n",
       "      <td>Bayonne City</td>\n",
       "      <td>0.000106</td>\n",
       "    </tr>\n",
       "    <tr>\n",
       "      <th>2</th>\n",
       "      <td>2</td>\n",
       "      <td>34</td>\n",
       "      <td>17</td>\n",
       "      <td>10200</td>\n",
       "      <td>34017010200</td>\n",
       "      <td>40.682103</td>\n",
       "      <td>-74.104573</td>\n",
       "      <td>New Jersey</td>\n",
       "      <td>Hudson County</td>\n",
       "      <td>1218</td>\n",
       "      <td>...</td>\n",
       "      <td>28068</td>\n",
       "      <td>1260.718928</td>\n",
       "      <td>6014.489564</td>\n",
       "      <td>3339.224580</td>\n",
       "      <td>20488.60531</td>\n",
       "      <td>2167.175106</td>\n",
       "      <td>7692</td>\n",
       "      <td>6193.436421</td>\n",
       "      <td>Bayonne City</td>\n",
       "      <td>0.000031</td>\n",
       "    </tr>\n",
       "    <tr>\n",
       "      <th>3</th>\n",
       "      <td>3</td>\n",
       "      <td>34</td>\n",
       "      <td>17</td>\n",
       "      <td>10300</td>\n",
       "      <td>34017010300</td>\n",
       "      <td>40.672439</td>\n",
       "      <td>-74.081016</td>\n",
       "      <td>New Jersey</td>\n",
       "      <td>Hudson County</td>\n",
       "      <td>1093</td>\n",
       "      <td>...</td>\n",
       "      <td>22620</td>\n",
       "      <td>1229.562591</td>\n",
       "      <td>4798.787758</td>\n",
       "      <td>3793.386763</td>\n",
       "      <td>15514.61337</td>\n",
       "      <td>2163.964082</td>\n",
       "      <td>7831</td>\n",
       "      <td>4941.564294</td>\n",
       "      <td>Bayonne City</td>\n",
       "      <td>0.000108</td>\n",
       "    </tr>\n",
       "    <tr>\n",
       "      <th>4</th>\n",
       "      <td>4</td>\n",
       "      <td>34</td>\n",
       "      <td>17</td>\n",
       "      <td>10400</td>\n",
       "      <td>34017010400</td>\n",
       "      <td>40.670599</td>\n",
       "      <td>-74.089940</td>\n",
       "      <td>New Jersey</td>\n",
       "      <td>Hudson County</td>\n",
       "      <td>1571</td>\n",
       "      <td>...</td>\n",
       "      <td>20724</td>\n",
       "      <td>2209.874484</td>\n",
       "      <td>7611.970058</td>\n",
       "      <td>4478.110461</td>\n",
       "      <td>35131.00534</td>\n",
       "      <td>2114.480847</td>\n",
       "      <td>7918</td>\n",
       "      <td>7838.446154</td>\n",
       "      <td>Bayonne City</td>\n",
       "      <td>0.000234</td>\n",
       "    </tr>\n",
       "  </tbody>\n",
       "</table>\n",
       "<p>5 rows × 28 columns</p>\n",
       "</div>"
      ],
      "text/plain": [
       "   FID  STATEFP10  COUNTYFP10 TRACTCE10      GEOID10  INTPTLAT10  INTPTLON10  \\\n",
       "0    0         34          17     32400  34017032400   40.792844  -74.013482   \n",
       "1    1         34          17     10100  34017010100   40.691559  -74.110913   \n",
       "2    2         34          17     10200  34017010200   40.682103  -74.104573   \n",
       "3    3         34          17     10300  34017010300   40.672439  -74.081016   \n",
       "4    4         34          17     10400  34017010400   40.670599  -74.089940   \n",
       "\n",
       "        State         COUNTY  HH_COUNT     ...      MSMOC_TOT_      TAX_RET  \\\n",
       "0  New Jersey  Hudson County      2187     ...           22740  2264.889916   \n",
       "1  New Jersey  Hudson County      2255     ...           27804  2363.430717   \n",
       "2  New Jersey  Hudson County      1218     ...           28068  1260.718928   \n",
       "3  New Jersey  Hudson County      1093     ...           22620  1229.562591   \n",
       "4  New Jersey  Hudson County      1571     ...           20724  2209.874484   \n",
       "\n",
       "    Avg_TransC   REtaxperow     DISP_INC   energy_cos  REtax_ACS      AVG_TTL  \\\n",
       "0  4145.566539  4966.370331  12232.00950  1773.280152       7735  5007.444405   \n",
       "1  5969.286255  4490.984109  22077.84024  1876.844806       7917  6146.888195   \n",
       "2  6014.489564  3339.224580  20488.60531  2167.175106       7692  6193.436421   \n",
       "3  4798.787758  3793.386763  15514.61337  2163.964082       7831  4941.564294   \n",
       "4  7611.970058  4478.110461  35131.00534  2114.480847       7918  7838.446154   \n",
       "\n",
       "            LOCALNAME  Shape_Area  \n",
       "0  West New York Town    0.000036  \n",
       "1        Bayonne City    0.000106  \n",
       "2        Bayonne City    0.000031  \n",
       "3        Bayonne City    0.000108  \n",
       "4        Bayonne City    0.000234  \n",
       "\n",
       "[5 rows x 28 columns]"
      ]
     },
     "execution_count": 1090,
     "metadata": {},
     "output_type": "execute_result"
    }
   ],
   "source": [
    "# Shapefile: Median Household Income, Census Tract\n",
    "#http://data.beta.nyc/dataset/median-household-income-2010-census-tracts/resource/92bbc70e-2b4e-40aa-8a1f-d39b11124b49\n",
    "\n",
    "path = \"../Downloads/medianhouseholdincomecensustract.csv\"\n",
    "house_data = pd.read_csv(path, dtype={'TRACTCE10': str})\n",
    "house_data.head()"
   ]
  },
  {
   "cell_type": "code",
   "execution_count": 1091,
   "metadata": {
    "collapsed": false
   },
   "outputs": [
    {
     "data": {
      "text/plain": [
       "Index(['FID', 'STATEFP10', 'COUNTYFP10', 'TRACTCE10', 'GEOID10', 'INTPTLAT10',\n",
       "       'INTPTLON10', 'State', 'COUNTY', 'HH_COUNT', 'OHU_OWN', 'OHU_RENT',\n",
       "       'PERC_OWN', 'PERC_RENT', 'MHI', 'MED_VAL', 'HOUSINGCOS', 'MCR_ANNUAL',\n",
       "       'MSMOC_TOT_', 'TAX_RET', 'Avg_TransC', 'REtaxperow', 'DISP_INC',\n",
       "       'energy_cos', 'REtax_ACS', 'AVG_TTL', 'LOCALNAME', 'Shape_Area'],\n",
       "      dtype='object')"
      ]
     },
     "execution_count": 1091,
     "metadata": {},
     "output_type": "execute_result"
    }
   ],
   "source": [
    "house_data.columns"
   ]
  },
  {
   "cell_type": "code",
   "execution_count": 1092,
   "metadata": {
    "collapsed": false
   },
   "outputs": [],
   "source": [
    "#house_data[house_data.TRACTCE10.str.contains(\"11\")]"
   ]
  },
  {
   "cell_type": "code",
   "execution_count": 1093,
   "metadata": {
    "collapsed": false
   },
   "outputs": [],
   "source": [
    "#house_data[\"boro_ct2010\"] = house_data.TRACTCE10.str.ljust(5,'0')"
   ]
  },
  {
   "cell_type": "code",
   "execution_count": 1094,
   "metadata": {
    "collapsed": false
   },
   "outputs": [],
   "source": [
    "house_data[\"boro_ct2010\"] = house_data.TRACTCE10.str.zfill(6)"
   ]
  },
  {
   "cell_type": "code",
   "execution_count": 1095,
   "metadata": {
    "collapsed": false,
    "scrolled": true
   },
   "outputs": [
    {
     "data": {
      "text/html": [
       "<div>\n",
       "<table border=\"1\" class=\"dataframe\">\n",
       "  <thead>\n",
       "    <tr style=\"text-align: right;\">\n",
       "      <th></th>\n",
       "      <th>FID</th>\n",
       "      <th>STATEFP10</th>\n",
       "      <th>COUNTYFP10</th>\n",
       "      <th>TRACTCE10</th>\n",
       "      <th>GEOID10</th>\n",
       "      <th>INTPTLAT10</th>\n",
       "      <th>INTPTLON10</th>\n",
       "      <th>State</th>\n",
       "      <th>COUNTY</th>\n",
       "      <th>HH_COUNT</th>\n",
       "      <th>...</th>\n",
       "      <th>TAX_RET</th>\n",
       "      <th>Avg_TransC</th>\n",
       "      <th>REtaxperow</th>\n",
       "      <th>DISP_INC</th>\n",
       "      <th>energy_cos</th>\n",
       "      <th>REtax_ACS</th>\n",
       "      <th>AVG_TTL</th>\n",
       "      <th>LOCALNAME</th>\n",
       "      <th>Shape_Area</th>\n",
       "      <th>boro_ct2010</th>\n",
       "    </tr>\n",
       "  </thead>\n",
       "  <tbody>\n",
       "    <tr>\n",
       "      <th>0</th>\n",
       "      <td>0</td>\n",
       "      <td>34</td>\n",
       "      <td>17</td>\n",
       "      <td>32400</td>\n",
       "      <td>34017032400</td>\n",
       "      <td>40.792844</td>\n",
       "      <td>-74.013482</td>\n",
       "      <td>New Jersey</td>\n",
       "      <td>Hudson County</td>\n",
       "      <td>2187</td>\n",
       "      <td>...</td>\n",
       "      <td>2264.889916</td>\n",
       "      <td>4145.566539</td>\n",
       "      <td>4966.370331</td>\n",
       "      <td>12232.00950</td>\n",
       "      <td>1773.280152</td>\n",
       "      <td>7735</td>\n",
       "      <td>5007.444405</td>\n",
       "      <td>West New York Town</td>\n",
       "      <td>0.000036</td>\n",
       "      <td>032400</td>\n",
       "    </tr>\n",
       "    <tr>\n",
       "      <th>1</th>\n",
       "      <td>1</td>\n",
       "      <td>34</td>\n",
       "      <td>17</td>\n",
       "      <td>10100</td>\n",
       "      <td>34017010100</td>\n",
       "      <td>40.691559</td>\n",
       "      <td>-74.110913</td>\n",
       "      <td>New Jersey</td>\n",
       "      <td>Hudson County</td>\n",
       "      <td>2255</td>\n",
       "      <td>...</td>\n",
       "      <td>2363.430717</td>\n",
       "      <td>5969.286255</td>\n",
       "      <td>4490.984109</td>\n",
       "      <td>22077.84024</td>\n",
       "      <td>1876.844806</td>\n",
       "      <td>7917</td>\n",
       "      <td>6146.888195</td>\n",
       "      <td>Bayonne City</td>\n",
       "      <td>0.000106</td>\n",
       "      <td>010100</td>\n",
       "    </tr>\n",
       "    <tr>\n",
       "      <th>2</th>\n",
       "      <td>2</td>\n",
       "      <td>34</td>\n",
       "      <td>17</td>\n",
       "      <td>10200</td>\n",
       "      <td>34017010200</td>\n",
       "      <td>40.682103</td>\n",
       "      <td>-74.104573</td>\n",
       "      <td>New Jersey</td>\n",
       "      <td>Hudson County</td>\n",
       "      <td>1218</td>\n",
       "      <td>...</td>\n",
       "      <td>1260.718928</td>\n",
       "      <td>6014.489564</td>\n",
       "      <td>3339.224580</td>\n",
       "      <td>20488.60531</td>\n",
       "      <td>2167.175106</td>\n",
       "      <td>7692</td>\n",
       "      <td>6193.436421</td>\n",
       "      <td>Bayonne City</td>\n",
       "      <td>0.000031</td>\n",
       "      <td>010200</td>\n",
       "    </tr>\n",
       "    <tr>\n",
       "      <th>3</th>\n",
       "      <td>3</td>\n",
       "      <td>34</td>\n",
       "      <td>17</td>\n",
       "      <td>10300</td>\n",
       "      <td>34017010300</td>\n",
       "      <td>40.672439</td>\n",
       "      <td>-74.081016</td>\n",
       "      <td>New Jersey</td>\n",
       "      <td>Hudson County</td>\n",
       "      <td>1093</td>\n",
       "      <td>...</td>\n",
       "      <td>1229.562591</td>\n",
       "      <td>4798.787758</td>\n",
       "      <td>3793.386763</td>\n",
       "      <td>15514.61337</td>\n",
       "      <td>2163.964082</td>\n",
       "      <td>7831</td>\n",
       "      <td>4941.564294</td>\n",
       "      <td>Bayonne City</td>\n",
       "      <td>0.000108</td>\n",
       "      <td>010300</td>\n",
       "    </tr>\n",
       "    <tr>\n",
       "      <th>4</th>\n",
       "      <td>4</td>\n",
       "      <td>34</td>\n",
       "      <td>17</td>\n",
       "      <td>10400</td>\n",
       "      <td>34017010400</td>\n",
       "      <td>40.670599</td>\n",
       "      <td>-74.089940</td>\n",
       "      <td>New Jersey</td>\n",
       "      <td>Hudson County</td>\n",
       "      <td>1571</td>\n",
       "      <td>...</td>\n",
       "      <td>2209.874484</td>\n",
       "      <td>7611.970058</td>\n",
       "      <td>4478.110461</td>\n",
       "      <td>35131.00534</td>\n",
       "      <td>2114.480847</td>\n",
       "      <td>7918</td>\n",
       "      <td>7838.446154</td>\n",
       "      <td>Bayonne City</td>\n",
       "      <td>0.000234</td>\n",
       "      <td>010400</td>\n",
       "    </tr>\n",
       "  </tbody>\n",
       "</table>\n",
       "<p>5 rows × 29 columns</p>\n",
       "</div>"
      ],
      "text/plain": [
       "   FID  STATEFP10  COUNTYFP10 TRACTCE10      GEOID10  INTPTLAT10  INTPTLON10  \\\n",
       "0    0         34          17     32400  34017032400   40.792844  -74.013482   \n",
       "1    1         34          17     10100  34017010100   40.691559  -74.110913   \n",
       "2    2         34          17     10200  34017010200   40.682103  -74.104573   \n",
       "3    3         34          17     10300  34017010300   40.672439  -74.081016   \n",
       "4    4         34          17     10400  34017010400   40.670599  -74.089940   \n",
       "\n",
       "        State         COUNTY  HH_COUNT     ...           TAX_RET   Avg_TransC  \\\n",
       "0  New Jersey  Hudson County      2187     ...       2264.889916  4145.566539   \n",
       "1  New Jersey  Hudson County      2255     ...       2363.430717  5969.286255   \n",
       "2  New Jersey  Hudson County      1218     ...       1260.718928  6014.489564   \n",
       "3  New Jersey  Hudson County      1093     ...       1229.562591  4798.787758   \n",
       "4  New Jersey  Hudson County      1571     ...       2209.874484  7611.970058   \n",
       "\n",
       "    REtaxperow     DISP_INC   energy_cos  REtax_ACS      AVG_TTL  \\\n",
       "0  4966.370331  12232.00950  1773.280152       7735  5007.444405   \n",
       "1  4490.984109  22077.84024  1876.844806       7917  6146.888195   \n",
       "2  3339.224580  20488.60531  2167.175106       7692  6193.436421   \n",
       "3  3793.386763  15514.61337  2163.964082       7831  4941.564294   \n",
       "4  4478.110461  35131.00534  2114.480847       7918  7838.446154   \n",
       "\n",
       "            LOCALNAME  Shape_Area  boro_ct2010  \n",
       "0  West New York Town    0.000036       032400  \n",
       "1        Bayonne City    0.000106       010100  \n",
       "2        Bayonne City    0.000031       010200  \n",
       "3        Bayonne City    0.000108       010300  \n",
       "4        Bayonne City    0.000234       010400  \n",
       "\n",
       "[5 rows x 29 columns]"
      ]
     },
     "execution_count": 1095,
     "metadata": {},
     "output_type": "execute_result"
    }
   ],
   "source": [
    "house_data.head()"
   ]
  },
  {
   "cell_type": "markdown",
   "metadata": {},
   "source": [
    "Manhattan - New York County. 1\n",
    "Bronx - Bronx County. 2\n",
    "Brooklyn - Kings County. 3\n",
    "Queens - Queens County. 4\n",
    "Staten Island - Richmond County. 5"
   ]
  },
  {
   "cell_type": "code",
   "execution_count": 1096,
   "metadata": {
    "collapsed": true
   },
   "outputs": [],
   "source": [
    "def boro(x):\n",
    "    if x == \"New York County\":\n",
    "        return 1\n",
    "    if x == \"Bronx County\":\n",
    "        return 2\n",
    "    if x == \"Kings County\":\n",
    "        return 3\n",
    "    if x == \"Queens County\":\n",
    "        return 4\n",
    "    if x == \"Richmond County\":\n",
    "        return 5"
   ]
  },
  {
   "cell_type": "code",
   "execution_count": 1097,
   "metadata": {
    "collapsed": false
   },
   "outputs": [
    {
     "data": {
      "text/plain": [
       "1"
      ]
     },
     "execution_count": 1097,
     "metadata": {},
     "output_type": "execute_result"
    }
   ],
   "source": [
    "boro('New York County')"
   ]
  },
  {
   "cell_type": "code",
   "execution_count": 1098,
   "metadata": {
    "collapsed": false
   },
   "outputs": [
    {
     "data": {
      "text/html": [
       "<div>\n",
       "<table border=\"1\" class=\"dataframe\">\n",
       "  <thead>\n",
       "    <tr style=\"text-align: right;\">\n",
       "      <th></th>\n",
       "      <th>FID</th>\n",
       "      <th>STATEFP10</th>\n",
       "      <th>COUNTYFP10</th>\n",
       "      <th>TRACTCE10</th>\n",
       "      <th>GEOID10</th>\n",
       "      <th>INTPTLAT10</th>\n",
       "      <th>INTPTLON10</th>\n",
       "      <th>State</th>\n",
       "      <th>COUNTY</th>\n",
       "      <th>HH_COUNT</th>\n",
       "      <th>...</th>\n",
       "      <th>TAX_RET</th>\n",
       "      <th>Avg_TransC</th>\n",
       "      <th>REtaxperow</th>\n",
       "      <th>DISP_INC</th>\n",
       "      <th>energy_cos</th>\n",
       "      <th>REtax_ACS</th>\n",
       "      <th>AVG_TTL</th>\n",
       "      <th>LOCALNAME</th>\n",
       "      <th>Shape_Area</th>\n",
       "      <th>boro_ct2010</th>\n",
       "    </tr>\n",
       "  </thead>\n",
       "  <tbody>\n",
       "    <tr>\n",
       "      <th>0</th>\n",
       "      <td>0</td>\n",
       "      <td>34</td>\n",
       "      <td>17</td>\n",
       "      <td>32400</td>\n",
       "      <td>34017032400</td>\n",
       "      <td>40.792844</td>\n",
       "      <td>-74.013482</td>\n",
       "      <td>New Jersey</td>\n",
       "      <td>Hudson County</td>\n",
       "      <td>2187</td>\n",
       "      <td>...</td>\n",
       "      <td>2264.889916</td>\n",
       "      <td>4145.566539</td>\n",
       "      <td>4966.370331</td>\n",
       "      <td>12232.00950</td>\n",
       "      <td>1773.280152</td>\n",
       "      <td>7735</td>\n",
       "      <td>5007.444405</td>\n",
       "      <td>West New York Town</td>\n",
       "      <td>0.000036</td>\n",
       "      <td>032400</td>\n",
       "    </tr>\n",
       "    <tr>\n",
       "      <th>1</th>\n",
       "      <td>1</td>\n",
       "      <td>34</td>\n",
       "      <td>17</td>\n",
       "      <td>10100</td>\n",
       "      <td>34017010100</td>\n",
       "      <td>40.691559</td>\n",
       "      <td>-74.110913</td>\n",
       "      <td>New Jersey</td>\n",
       "      <td>Hudson County</td>\n",
       "      <td>2255</td>\n",
       "      <td>...</td>\n",
       "      <td>2363.430717</td>\n",
       "      <td>5969.286255</td>\n",
       "      <td>4490.984109</td>\n",
       "      <td>22077.84024</td>\n",
       "      <td>1876.844806</td>\n",
       "      <td>7917</td>\n",
       "      <td>6146.888195</td>\n",
       "      <td>Bayonne City</td>\n",
       "      <td>0.000106</td>\n",
       "      <td>010100</td>\n",
       "    </tr>\n",
       "    <tr>\n",
       "      <th>2</th>\n",
       "      <td>2</td>\n",
       "      <td>34</td>\n",
       "      <td>17</td>\n",
       "      <td>10200</td>\n",
       "      <td>34017010200</td>\n",
       "      <td>40.682103</td>\n",
       "      <td>-74.104573</td>\n",
       "      <td>New Jersey</td>\n",
       "      <td>Hudson County</td>\n",
       "      <td>1218</td>\n",
       "      <td>...</td>\n",
       "      <td>1260.718928</td>\n",
       "      <td>6014.489564</td>\n",
       "      <td>3339.224580</td>\n",
       "      <td>20488.60531</td>\n",
       "      <td>2167.175106</td>\n",
       "      <td>7692</td>\n",
       "      <td>6193.436421</td>\n",
       "      <td>Bayonne City</td>\n",
       "      <td>0.000031</td>\n",
       "      <td>010200</td>\n",
       "    </tr>\n",
       "    <tr>\n",
       "      <th>3</th>\n",
       "      <td>3</td>\n",
       "      <td>34</td>\n",
       "      <td>17</td>\n",
       "      <td>10300</td>\n",
       "      <td>34017010300</td>\n",
       "      <td>40.672439</td>\n",
       "      <td>-74.081016</td>\n",
       "      <td>New Jersey</td>\n",
       "      <td>Hudson County</td>\n",
       "      <td>1093</td>\n",
       "      <td>...</td>\n",
       "      <td>1229.562591</td>\n",
       "      <td>4798.787758</td>\n",
       "      <td>3793.386763</td>\n",
       "      <td>15514.61337</td>\n",
       "      <td>2163.964082</td>\n",
       "      <td>7831</td>\n",
       "      <td>4941.564294</td>\n",
       "      <td>Bayonne City</td>\n",
       "      <td>0.000108</td>\n",
       "      <td>010300</td>\n",
       "    </tr>\n",
       "    <tr>\n",
       "      <th>4</th>\n",
       "      <td>4</td>\n",
       "      <td>34</td>\n",
       "      <td>17</td>\n",
       "      <td>10400</td>\n",
       "      <td>34017010400</td>\n",
       "      <td>40.670599</td>\n",
       "      <td>-74.089940</td>\n",
       "      <td>New Jersey</td>\n",
       "      <td>Hudson County</td>\n",
       "      <td>1571</td>\n",
       "      <td>...</td>\n",
       "      <td>2209.874484</td>\n",
       "      <td>7611.970058</td>\n",
       "      <td>4478.110461</td>\n",
       "      <td>35131.00534</td>\n",
       "      <td>2114.480847</td>\n",
       "      <td>7918</td>\n",
       "      <td>7838.446154</td>\n",
       "      <td>Bayonne City</td>\n",
       "      <td>0.000234</td>\n",
       "      <td>010400</td>\n",
       "    </tr>\n",
       "  </tbody>\n",
       "</table>\n",
       "<p>5 rows × 29 columns</p>\n",
       "</div>"
      ],
      "text/plain": [
       "   FID  STATEFP10  COUNTYFP10 TRACTCE10      GEOID10  INTPTLAT10  INTPTLON10  \\\n",
       "0    0         34          17     32400  34017032400   40.792844  -74.013482   \n",
       "1    1         34          17     10100  34017010100   40.691559  -74.110913   \n",
       "2    2         34          17     10200  34017010200   40.682103  -74.104573   \n",
       "3    3         34          17     10300  34017010300   40.672439  -74.081016   \n",
       "4    4         34          17     10400  34017010400   40.670599  -74.089940   \n",
       "\n",
       "        State         COUNTY  HH_COUNT     ...           TAX_RET   Avg_TransC  \\\n",
       "0  New Jersey  Hudson County      2187     ...       2264.889916  4145.566539   \n",
       "1  New Jersey  Hudson County      2255     ...       2363.430717  5969.286255   \n",
       "2  New Jersey  Hudson County      1218     ...       1260.718928  6014.489564   \n",
       "3  New Jersey  Hudson County      1093     ...       1229.562591  4798.787758   \n",
       "4  New Jersey  Hudson County      1571     ...       2209.874484  7611.970058   \n",
       "\n",
       "    REtaxperow     DISP_INC   energy_cos  REtax_ACS      AVG_TTL  \\\n",
       "0  4966.370331  12232.00950  1773.280152       7735  5007.444405   \n",
       "1  4490.984109  22077.84024  1876.844806       7917  6146.888195   \n",
       "2  3339.224580  20488.60531  2167.175106       7692  6193.436421   \n",
       "3  3793.386763  15514.61337  2163.964082       7831  4941.564294   \n",
       "4  4478.110461  35131.00534  2114.480847       7918  7838.446154   \n",
       "\n",
       "            LOCALNAME  Shape_Area  boro_ct2010  \n",
       "0  West New York Town    0.000036       032400  \n",
       "1        Bayonne City    0.000106       010100  \n",
       "2        Bayonne City    0.000031       010200  \n",
       "3        Bayonne City    0.000108       010300  \n",
       "4        Bayonne City    0.000234       010400  \n",
       "\n",
       "[5 rows x 29 columns]"
      ]
     },
     "execution_count": 1098,
     "metadata": {},
     "output_type": "execute_result"
    }
   ],
   "source": [
    "house_data.head()"
   ]
  },
  {
   "cell_type": "code",
   "execution_count": 1099,
   "metadata": {
    "collapsed": false
   },
   "outputs": [],
   "source": [
    "house_data[\"boro_code\"] = house_data.COUNTY.map({\"New York County\": \"1\", \"Bronx County\": \"2\", \"Kings County\": \"3\", \\\n",
    "                                           \"Queens County\": \"4\", \"Richmond County\": \"5\"})"
   ]
  },
  {
   "cell_type": "code",
   "execution_count": 1100,
   "metadata": {
    "collapsed": false
   },
   "outputs": [],
   "source": [
    "house_data.boro_ct2010 = house_data.boro_code.astype(str) + house_data.boro_ct2010.astype(str)"
   ]
  },
  {
   "cell_type": "code",
   "execution_count": 1101,
   "metadata": {
    "collapsed": false
   },
   "outputs": [],
   "source": [
    "#house_data[house_data.boro_code == \"3\"]"
   ]
  },
  {
   "cell_type": "code",
   "execution_count": 1102,
   "metadata": {
    "collapsed": false
   },
   "outputs": [
    {
     "data": {
      "text/html": [
       "<div>\n",
       "<table border=\"1\" class=\"dataframe\">\n",
       "  <thead>\n",
       "    <tr style=\"text-align: right;\">\n",
       "      <th></th>\n",
       "      <th>boro_code</th>\n",
       "      <th>boro_ct201</th>\n",
       "      <th>boro_name</th>\n",
       "      <th>cdeligibil</th>\n",
       "      <th>ct2010</th>\n",
       "      <th>ctlabel</th>\n",
       "      <th>geometry</th>\n",
       "      <th>ntacode</th>\n",
       "      <th>ntaname</th>\n",
       "      <th>puma</th>\n",
       "      <th>shape_area</th>\n",
       "      <th>shape_leng</th>\n",
       "      <th>boro_ct2010</th>\n",
       "      <th>Borough</th>\n",
       "      <th>Year</th>\n",
       "      <th>FIPS County Code</th>\n",
       "      <th>DCP Borough Code</th>\n",
       "      <th>Census Tract</th>\n",
       "      <th>Population</th>\n",
       "      <th>pop_density</th>\n",
       "    </tr>\n",
       "  </thead>\n",
       "  <tbody>\n",
       "    <tr>\n",
       "      <th>224</th>\n",
       "      <td>3</td>\n",
       "      <td>3074000</td>\n",
       "      <td>Brooklyn</td>\n",
       "      <td>I</td>\n",
       "      <td>074000</td>\n",
       "      <td>740</td>\n",
       "      <td>POLYGON ((-73.93915724418619 40.62559953621171...</td>\n",
       "      <td>BK58</td>\n",
       "      <td>Flatlands</td>\n",
       "      <td>4009</td>\n",
       "      <td>1.747895e+06</td>\n",
       "      <td>5614.8792</td>\n",
       "      <td>3074000</td>\n",
       "      <td>Brooklyn</td>\n",
       "      <td>2010</td>\n",
       "      <td>47</td>\n",
       "      <td>3</td>\n",
       "      <td>074000</td>\n",
       "      <td>3531</td>\n",
       "      <td>10.666364</td>\n",
       "    </tr>\n",
       "  </tbody>\n",
       "</table>\n",
       "</div>"
      ],
      "text/plain": [
       "    boro_code boro_ct201 boro_name cdeligibil  ct2010 ctlabel  \\\n",
       "224         3    3074000  Brooklyn          I  074000     740   \n",
       "\n",
       "                                              geometry ntacode    ntaname  \\\n",
       "224  POLYGON ((-73.93915724418619 40.62559953621171...    BK58  Flatlands   \n",
       "\n",
       "     puma    shape_area  shape_leng  boro_ct2010   Borough  Year  \\\n",
       "224  4009  1.747895e+06   5614.8792      3074000  Brooklyn  2010   \n",
       "\n",
       "     FIPS County Code  DCP Borough Code Census Tract  Population  pop_density  \n",
       "224                47                 3       074000        3531    10.666364  "
      ]
     },
     "execution_count": 1102,
     "metadata": {},
     "output_type": "execute_result"
    }
   ],
   "source": [
    "NYC_shape[NYC_shape.boro_ct2010 == 3074000]"
   ]
  },
  {
   "cell_type": "code",
   "execution_count": 1103,
   "metadata": {
    "collapsed": true
   },
   "outputs": [],
   "source": [
    "#building_data[\"boro_ct2010\"] = building_data.census_tract.str.ljust(5, '0')"
   ]
  },
  {
   "cell_type": "code",
   "execution_count": 1104,
   "metadata": {
    "collapsed": true
   },
   "outputs": [],
   "source": [
    "#building_data[\"boro_ct2010\"] = building_data.boro_ct2010.str.zfill(6)"
   ]
  },
  {
   "cell_type": "code",
   "execution_count": 1105,
   "metadata": {
    "collapsed": false
   },
   "outputs": [],
   "source": [
    "#del building_data[\"great\"]"
   ]
  },
  {
   "cell_type": "code",
   "execution_count": 1106,
   "metadata": {
    "collapsed": false
   },
   "outputs": [],
   "source": [
    "#building_data.tail()"
   ]
  },
  {
   "cell_type": "code",
   "execution_count": 1107,
   "metadata": {
    "collapsed": false
   },
   "outputs": [],
   "source": [
    "#building_data.boro_ct2010.dtype"
   ]
  },
  {
   "cell_type": "code",
   "execution_count": 1108,
   "metadata": {
    "collapsed": false
   },
   "outputs": [],
   "source": [
    "#building_data[\"great\"] = building_data.boro_ct2010.str.len() > 6"
   ]
  },
  {
   "cell_type": "code",
   "execution_count": 1109,
   "metadata": {
    "collapsed": false
   },
   "outputs": [],
   "source": [
    "#building_data.shape"
   ]
  },
  {
   "cell_type": "code",
   "execution_count": 1110,
   "metadata": {
    "collapsed": false
   },
   "outputs": [],
   "source": [
    "#building_data.borough.unique()"
   ]
  },
  {
   "cell_type": "code",
   "execution_count": 1111,
   "metadata": {
    "collapsed": true
   },
   "outputs": [],
   "source": [
    "#building_data[\"boro_code\"] = building_data.borough.map({\"Manhattan\": \"1\", \"Bronx\": \"2\", \"Brooklyn\": \"3\", \\\n",
    "                                          # \"Queens\": \"4\", \"Staten Island\": \"5\"})"
   ]
  },
  {
   "cell_type": "code",
   "execution_count": 1112,
   "metadata": {
    "collapsed": false
   },
   "outputs": [],
   "source": [
    "#building_data[\"boro_ct2010\"] = building_data[\"boro_code\"].astype(str) + building_data[\"boro_ct2010\"].astype(str)"
   ]
  },
  {
   "cell_type": "code",
   "execution_count": 1113,
   "metadata": {
    "collapsed": false
   },
   "outputs": [],
   "source": [
    "#building_data.tail()"
   ]
  },
  {
   "cell_type": "code",
   "execution_count": 1114,
   "metadata": {
    "collapsed": true
   },
   "outputs": [],
   "source": [
    "#NYC_shape merge with house data merge with building_data"
   ]
  },
  {
   "cell_type": "code",
   "execution_count": 1115,
   "metadata": {
    "collapsed": false
   },
   "outputs": [
    {
     "data": {
      "text/plain": [
       "(760, 20)"
      ]
     },
     "execution_count": 1115,
     "metadata": {},
     "output_type": "execute_result"
    }
   ],
   "source": [
    "NYC_shape.shape"
   ]
  },
  {
   "cell_type": "code",
   "execution_count": 1116,
   "metadata": {
    "collapsed": false
   },
   "outputs": [
    {
     "data": {
      "text/plain": [
       "dtype('int64')"
      ]
     },
     "execution_count": 1116,
     "metadata": {},
     "output_type": "execute_result"
    }
   ],
   "source": [
    "NYC_shape.boro_ct2010.dtype"
   ]
  },
  {
   "cell_type": "code",
   "execution_count": 1117,
   "metadata": {
    "collapsed": false
   },
   "outputs": [],
   "source": [
    "NYC_shape.boro_ct2010 = NYC_shape.boro_ct2010.astype(str)"
   ]
  },
  {
   "cell_type": "code",
   "execution_count": 1118,
   "metadata": {
    "collapsed": false
   },
   "outputs": [
    {
     "data": {
      "text/plain": [
       "dtype('O')"
      ]
     },
     "execution_count": 1118,
     "metadata": {},
     "output_type": "execute_result"
    }
   ],
   "source": [
    "NYC_shape.boro_ct2010.dtype"
   ]
  },
  {
   "cell_type": "code",
   "execution_count": 1119,
   "metadata": {
    "collapsed": false
   },
   "outputs": [],
   "source": [
    "NYC_shape = NYC_shape.merge(house_data, on=\"boro_ct2010\")"
   ]
  },
  {
   "cell_type": "code",
   "execution_count": 1120,
   "metadata": {
    "collapsed": false
   },
   "outputs": [
    {
     "data": {
      "text/plain": [
       "(760, 49)"
      ]
     },
     "execution_count": 1120,
     "metadata": {},
     "output_type": "execute_result"
    }
   ],
   "source": [
    "NYC_shape.shape"
   ]
  },
  {
   "cell_type": "code",
   "execution_count": 1121,
   "metadata": {
    "collapsed": false
   },
   "outputs": [
    {
     "data": {
      "text/html": [
       "<div>\n",
       "<table border=\"1\" class=\"dataframe\">\n",
       "  <thead>\n",
       "    <tr style=\"text-align: right;\">\n",
       "      <th></th>\n",
       "      <th>boro_code_x</th>\n",
       "      <th>boro_ct201</th>\n",
       "      <th>boro_name</th>\n",
       "      <th>cdeligibil</th>\n",
       "      <th>ct2010</th>\n",
       "      <th>ctlabel</th>\n",
       "      <th>geometry</th>\n",
       "      <th>ntacode</th>\n",
       "      <th>ntaname</th>\n",
       "      <th>puma</th>\n",
       "      <th>...</th>\n",
       "      <th>TAX_RET</th>\n",
       "      <th>Avg_TransC</th>\n",
       "      <th>REtaxperow</th>\n",
       "      <th>DISP_INC</th>\n",
       "      <th>energy_cos</th>\n",
       "      <th>REtax_ACS</th>\n",
       "      <th>AVG_TTL</th>\n",
       "      <th>LOCALNAME</th>\n",
       "      <th>Shape_Area</th>\n",
       "      <th>boro_code_y</th>\n",
       "    </tr>\n",
       "  </thead>\n",
       "  <tbody>\n",
       "    <tr>\n",
       "      <th>0</th>\n",
       "      <td>3</td>\n",
       "      <td>3000501</td>\n",
       "      <td>Brooklyn</td>\n",
       "      <td>I</td>\n",
       "      <td>000501</td>\n",
       "      <td>5.01</td>\n",
       "      <td>POLYGON ((-73.99301822153384 40.6974623645668,...</td>\n",
       "      <td>BK09</td>\n",
       "      <td>Brooklyn Heights-Cobble Hill</td>\n",
       "      <td>4004</td>\n",
       "      <td>...</td>\n",
       "      <td>1737.071267</td>\n",
       "      <td>7205.977121</td>\n",
       "      <td>2600.965286</td>\n",
       "      <td>36501.21653</td>\n",
       "      <td>1412.983117</td>\n",
       "      <td>4711</td>\n",
       "      <td>17116.407730</td>\n",
       "      <td>Brooklyn Heights</td>\n",
       "      <td>0.000009</td>\n",
       "      <td>3</td>\n",
       "    </tr>\n",
       "    <tr>\n",
       "      <th>1</th>\n",
       "      <td>3</td>\n",
       "      <td>3002000</td>\n",
       "      <td>Brooklyn</td>\n",
       "      <td>I</td>\n",
       "      <td>002000</td>\n",
       "      <td>20</td>\n",
       "      <td>POLYGON ((-74.01266264860631 40.64925555478156...</td>\n",
       "      <td>BK32</td>\n",
       "      <td>Sunset Park West</td>\n",
       "      <td>4012</td>\n",
       "      <td>...</td>\n",
       "      <td>574.850160</td>\n",
       "      <td>3064.116727</td>\n",
       "      <td>580.101530</td>\n",
       "      <td>13647.01968</td>\n",
       "      <td>2061.361323</td>\n",
       "      <td>1700</td>\n",
       "      <td>2968.716870</td>\n",
       "      <td>Bush Terminal</td>\n",
       "      <td>0.000016</td>\n",
       "      <td>3</td>\n",
       "    </tr>\n",
       "    <tr>\n",
       "      <th>2</th>\n",
       "      <td>3</td>\n",
       "      <td>3004100</td>\n",
       "      <td>Brooklyn</td>\n",
       "      <td>I</td>\n",
       "      <td>004100</td>\n",
       "      <td>41</td>\n",
       "      <td>POLYGON ((-73.98181677448231 40.68732980276495...</td>\n",
       "      <td>BK38</td>\n",
       "      <td>DUMBO-Vinegar Hill-Downtown Brooklyn-Boerum Hill</td>\n",
       "      <td>4004</td>\n",
       "      <td>...</td>\n",
       "      <td>1374.638495</td>\n",
       "      <td>8024.382252</td>\n",
       "      <td>2001.736607</td>\n",
       "      <td>39450.88208</td>\n",
       "      <td>1690.291069</td>\n",
       "      <td>4224</td>\n",
       "      <td>15948.483090</td>\n",
       "      <td>Boerum Hill</td>\n",
       "      <td>0.000017</td>\n",
       "      <td>3</td>\n",
       "    </tr>\n",
       "    <tr>\n",
       "      <th>3</th>\n",
       "      <td>3</td>\n",
       "      <td>3005202</td>\n",
       "      <td>Brooklyn</td>\n",
       "      <td>I</td>\n",
       "      <td>005202</td>\n",
       "      <td>52.02</td>\n",
       "      <td>POLYGON ((-74.03809447949381 40.62058489897851...</td>\n",
       "      <td>BK31</td>\n",
       "      <td>Bay Ridge</td>\n",
       "      <td>4013</td>\n",
       "      <td>...</td>\n",
       "      <td>1582.632893</td>\n",
       "      <td>5761.039594</td>\n",
       "      <td>2039.785814</td>\n",
       "      <td>33727.02430</td>\n",
       "      <td>1585.245533</td>\n",
       "      <td>2937</td>\n",
       "      <td>9382.433070</td>\n",
       "      <td>Bay Ridge</td>\n",
       "      <td>0.000015</td>\n",
       "      <td>3</td>\n",
       "    </tr>\n",
       "    <tr>\n",
       "      <th>4</th>\n",
       "      <td>3</td>\n",
       "      <td>3005800</td>\n",
       "      <td>Brooklyn</td>\n",
       "      <td>E</td>\n",
       "      <td>005800</td>\n",
       "      <td>58</td>\n",
       "      <td>POLYGON ((-74.02956408409689 40.61983253935202...</td>\n",
       "      <td>BK31</td>\n",
       "      <td>Bay Ridge</td>\n",
       "      <td>4013</td>\n",
       "      <td>...</td>\n",
       "      <td>1713.269708</td>\n",
       "      <td>4568.334204</td>\n",
       "      <td>3609.383943</td>\n",
       "      <td>24360.97565</td>\n",
       "      <td>1599.484797</td>\n",
       "      <td>4026</td>\n",
       "      <td>7439.992247</td>\n",
       "      <td>Bay Ridge</td>\n",
       "      <td>0.000021</td>\n",
       "      <td>3</td>\n",
       "    </tr>\n",
       "  </tbody>\n",
       "</table>\n",
       "<p>5 rows × 49 columns</p>\n",
       "</div>"
      ],
      "text/plain": [
       "  boro_code_x boro_ct201 boro_name cdeligibil  ct2010 ctlabel  \\\n",
       "0           3    3000501  Brooklyn          I  000501    5.01   \n",
       "1           3    3002000  Brooklyn          I  002000      20   \n",
       "2           3    3004100  Brooklyn          I  004100      41   \n",
       "3           3    3005202  Brooklyn          I  005202   52.02   \n",
       "4           3    3005800  Brooklyn          E  005800      58   \n",
       "\n",
       "                                            geometry ntacode  \\\n",
       "0  POLYGON ((-73.99301822153384 40.6974623645668,...    BK09   \n",
       "1  POLYGON ((-74.01266264860631 40.64925555478156...    BK32   \n",
       "2  POLYGON ((-73.98181677448231 40.68732980276495...    BK38   \n",
       "3  POLYGON ((-74.03809447949381 40.62058489897851...    BK31   \n",
       "4  POLYGON ((-74.02956408409689 40.61983253935202...    BK31   \n",
       "\n",
       "                                            ntaname  puma     ...       \\\n",
       "0                      Brooklyn Heights-Cobble Hill  4004     ...        \n",
       "1                                  Sunset Park West  4012     ...        \n",
       "2  DUMBO-Vinegar Hill-Downtown Brooklyn-Boerum Hill  4004     ...        \n",
       "3                                         Bay Ridge  4013     ...        \n",
       "4                                         Bay Ridge  4013     ...        \n",
       "\n",
       "       TAX_RET   Avg_TransC   REtaxperow     DISP_INC   energy_cos  REtax_ACS  \\\n",
       "0  1737.071267  7205.977121  2600.965286  36501.21653  1412.983117       4711   \n",
       "1   574.850160  3064.116727   580.101530  13647.01968  2061.361323       1700   \n",
       "2  1374.638495  8024.382252  2001.736607  39450.88208  1690.291069       4224   \n",
       "3  1582.632893  5761.039594  2039.785814  33727.02430  1585.245533       2937   \n",
       "4  1713.269708  4568.334204  3609.383943  24360.97565  1599.484797       4026   \n",
       "\n",
       "        AVG_TTL         LOCALNAME  Shape_Area  boro_code_y  \n",
       "0  17116.407730  Brooklyn Heights    0.000009            3  \n",
       "1   2968.716870     Bush Terminal    0.000016            3  \n",
       "2  15948.483090       Boerum Hill    0.000017            3  \n",
       "3   9382.433070         Bay Ridge    0.000015            3  \n",
       "4   7439.992247         Bay Ridge    0.000021            3  \n",
       "\n",
       "[5 rows x 49 columns]"
      ]
     },
     "execution_count": 1121,
     "metadata": {},
     "output_type": "execute_result"
    }
   ],
   "source": [
    "NYC_shape.head()"
   ]
  },
  {
   "cell_type": "code",
   "execution_count": 1122,
   "metadata": {
    "collapsed": false
   },
   "outputs": [],
   "source": [
    "house_data.boro_ct2010 = house_data.boro_ct2010.astype(str)"
   ]
  },
  {
   "cell_type": "code",
   "execution_count": 1123,
   "metadata": {
    "collapsed": false
   },
   "outputs": [
    {
     "data": {
      "text/plain": [
       "dtype('O')"
      ]
     },
     "execution_count": 1123,
     "metadata": {},
     "output_type": "execute_result"
    }
   ],
   "source": [
    "house_data.boro_ct2010.dtype"
   ]
  },
  {
   "cell_type": "code",
   "execution_count": 1124,
   "metadata": {
    "collapsed": false
   },
   "outputs": [
    {
     "data": {
      "text/html": [
       "<div>\n",
       "<table border=\"1\" class=\"dataframe\">\n",
       "  <thead>\n",
       "    <tr style=\"text-align: right;\">\n",
       "      <th></th>\n",
       "      <th>FID</th>\n",
       "      <th>STATEFP10</th>\n",
       "      <th>COUNTYFP10</th>\n",
       "      <th>TRACTCE10</th>\n",
       "      <th>GEOID10</th>\n",
       "      <th>INTPTLAT10</th>\n",
       "      <th>INTPTLON10</th>\n",
       "      <th>State</th>\n",
       "      <th>COUNTY</th>\n",
       "      <th>HH_COUNT</th>\n",
       "      <th>...</th>\n",
       "      <th>Avg_TransC</th>\n",
       "      <th>REtaxperow</th>\n",
       "      <th>DISP_INC</th>\n",
       "      <th>energy_cos</th>\n",
       "      <th>REtax_ACS</th>\n",
       "      <th>AVG_TTL</th>\n",
       "      <th>LOCALNAME</th>\n",
       "      <th>Shape_Area</th>\n",
       "      <th>boro_ct2010</th>\n",
       "      <th>boro_code</th>\n",
       "    </tr>\n",
       "  </thead>\n",
       "  <tbody>\n",
       "    <tr>\n",
       "      <th>0</th>\n",
       "      <td>0</td>\n",
       "      <td>34</td>\n",
       "      <td>17</td>\n",
       "      <td>32400</td>\n",
       "      <td>34017032400</td>\n",
       "      <td>40.792844</td>\n",
       "      <td>-74.013482</td>\n",
       "      <td>New Jersey</td>\n",
       "      <td>Hudson County</td>\n",
       "      <td>2187</td>\n",
       "      <td>...</td>\n",
       "      <td>4145.566539</td>\n",
       "      <td>4966.370331</td>\n",
       "      <td>12232.00950</td>\n",
       "      <td>1773.280152</td>\n",
       "      <td>7735</td>\n",
       "      <td>5007.444405</td>\n",
       "      <td>West New York Town</td>\n",
       "      <td>0.000036</td>\n",
       "      <td>nan032400</td>\n",
       "      <td>NaN</td>\n",
       "    </tr>\n",
       "    <tr>\n",
       "      <th>1</th>\n",
       "      <td>1</td>\n",
       "      <td>34</td>\n",
       "      <td>17</td>\n",
       "      <td>10100</td>\n",
       "      <td>34017010100</td>\n",
       "      <td>40.691559</td>\n",
       "      <td>-74.110913</td>\n",
       "      <td>New Jersey</td>\n",
       "      <td>Hudson County</td>\n",
       "      <td>2255</td>\n",
       "      <td>...</td>\n",
       "      <td>5969.286255</td>\n",
       "      <td>4490.984109</td>\n",
       "      <td>22077.84024</td>\n",
       "      <td>1876.844806</td>\n",
       "      <td>7917</td>\n",
       "      <td>6146.888195</td>\n",
       "      <td>Bayonne City</td>\n",
       "      <td>0.000106</td>\n",
       "      <td>nan010100</td>\n",
       "      <td>NaN</td>\n",
       "    </tr>\n",
       "    <tr>\n",
       "      <th>2</th>\n",
       "      <td>2</td>\n",
       "      <td>34</td>\n",
       "      <td>17</td>\n",
       "      <td>10200</td>\n",
       "      <td>34017010200</td>\n",
       "      <td>40.682103</td>\n",
       "      <td>-74.104573</td>\n",
       "      <td>New Jersey</td>\n",
       "      <td>Hudson County</td>\n",
       "      <td>1218</td>\n",
       "      <td>...</td>\n",
       "      <td>6014.489564</td>\n",
       "      <td>3339.224580</td>\n",
       "      <td>20488.60531</td>\n",
       "      <td>2167.175106</td>\n",
       "      <td>7692</td>\n",
       "      <td>6193.436421</td>\n",
       "      <td>Bayonne City</td>\n",
       "      <td>0.000031</td>\n",
       "      <td>nan010200</td>\n",
       "      <td>NaN</td>\n",
       "    </tr>\n",
       "    <tr>\n",
       "      <th>3</th>\n",
       "      <td>3</td>\n",
       "      <td>34</td>\n",
       "      <td>17</td>\n",
       "      <td>10300</td>\n",
       "      <td>34017010300</td>\n",
       "      <td>40.672439</td>\n",
       "      <td>-74.081016</td>\n",
       "      <td>New Jersey</td>\n",
       "      <td>Hudson County</td>\n",
       "      <td>1093</td>\n",
       "      <td>...</td>\n",
       "      <td>4798.787758</td>\n",
       "      <td>3793.386763</td>\n",
       "      <td>15514.61337</td>\n",
       "      <td>2163.964082</td>\n",
       "      <td>7831</td>\n",
       "      <td>4941.564294</td>\n",
       "      <td>Bayonne City</td>\n",
       "      <td>0.000108</td>\n",
       "      <td>nan010300</td>\n",
       "      <td>NaN</td>\n",
       "    </tr>\n",
       "    <tr>\n",
       "      <th>4</th>\n",
       "      <td>4</td>\n",
       "      <td>34</td>\n",
       "      <td>17</td>\n",
       "      <td>10400</td>\n",
       "      <td>34017010400</td>\n",
       "      <td>40.670599</td>\n",
       "      <td>-74.089940</td>\n",
       "      <td>New Jersey</td>\n",
       "      <td>Hudson County</td>\n",
       "      <td>1571</td>\n",
       "      <td>...</td>\n",
       "      <td>7611.970058</td>\n",
       "      <td>4478.110461</td>\n",
       "      <td>35131.00534</td>\n",
       "      <td>2114.480847</td>\n",
       "      <td>7918</td>\n",
       "      <td>7838.446154</td>\n",
       "      <td>Bayonne City</td>\n",
       "      <td>0.000234</td>\n",
       "      <td>nan010400</td>\n",
       "      <td>NaN</td>\n",
       "    </tr>\n",
       "  </tbody>\n",
       "</table>\n",
       "<p>5 rows × 30 columns</p>\n",
       "</div>"
      ],
      "text/plain": [
       "   FID  STATEFP10  COUNTYFP10 TRACTCE10      GEOID10  INTPTLAT10  INTPTLON10  \\\n",
       "0    0         34          17     32400  34017032400   40.792844  -74.013482   \n",
       "1    1         34          17     10100  34017010100   40.691559  -74.110913   \n",
       "2    2         34          17     10200  34017010200   40.682103  -74.104573   \n",
       "3    3         34          17     10300  34017010300   40.672439  -74.081016   \n",
       "4    4         34          17     10400  34017010400   40.670599  -74.089940   \n",
       "\n",
       "        State         COUNTY  HH_COUNT    ...       Avg_TransC   REtaxperow  \\\n",
       "0  New Jersey  Hudson County      2187    ...      4145.566539  4966.370331   \n",
       "1  New Jersey  Hudson County      2255    ...      5969.286255  4490.984109   \n",
       "2  New Jersey  Hudson County      1218    ...      6014.489564  3339.224580   \n",
       "3  New Jersey  Hudson County      1093    ...      4798.787758  3793.386763   \n",
       "4  New Jersey  Hudson County      1571    ...      7611.970058  4478.110461   \n",
       "\n",
       "      DISP_INC   energy_cos  REtax_ACS      AVG_TTL           LOCALNAME  \\\n",
       "0  12232.00950  1773.280152       7735  5007.444405  West New York Town   \n",
       "1  22077.84024  1876.844806       7917  6146.888195        Bayonne City   \n",
       "2  20488.60531  2167.175106       7692  6193.436421        Bayonne City   \n",
       "3  15514.61337  2163.964082       7831  4941.564294        Bayonne City   \n",
       "4  35131.00534  2114.480847       7918  7838.446154        Bayonne City   \n",
       "\n",
       "   Shape_Area  boro_ct2010  boro_code  \n",
       "0    0.000036    nan032400        NaN  \n",
       "1    0.000106    nan010100        NaN  \n",
       "2    0.000031    nan010200        NaN  \n",
       "3    0.000108    nan010300        NaN  \n",
       "4    0.000234    nan010400        NaN  \n",
       "\n",
       "[5 rows x 30 columns]"
      ]
     },
     "execution_count": 1124,
     "metadata": {},
     "output_type": "execute_result"
    }
   ],
   "source": [
    "house_data.head()"
   ]
  },
  {
   "cell_type": "code",
   "execution_count": 1125,
   "metadata": {
    "collapsed": false
   },
   "outputs": [
    {
     "data": {
      "text/html": [
       "<div>\n",
       "<table border=\"1\" class=\"dataframe\">\n",
       "  <thead>\n",
       "    <tr style=\"text-align: right;\">\n",
       "      <th></th>\n",
       "      <th>boro_code_x</th>\n",
       "      <th>boro_ct201</th>\n",
       "      <th>boro_name</th>\n",
       "      <th>cdeligibil</th>\n",
       "      <th>ct2010</th>\n",
       "      <th>ctlabel</th>\n",
       "      <th>geometry</th>\n",
       "      <th>ntacode</th>\n",
       "      <th>ntaname</th>\n",
       "      <th>puma</th>\n",
       "      <th>...</th>\n",
       "      <th>TAX_RET</th>\n",
       "      <th>Avg_TransC</th>\n",
       "      <th>REtaxperow</th>\n",
       "      <th>DISP_INC</th>\n",
       "      <th>energy_cos</th>\n",
       "      <th>REtax_ACS</th>\n",
       "      <th>AVG_TTL</th>\n",
       "      <th>LOCALNAME</th>\n",
       "      <th>Shape_Area</th>\n",
       "      <th>boro_code_y</th>\n",
       "    </tr>\n",
       "  </thead>\n",
       "  <tbody>\n",
       "    <tr>\n",
       "      <th>0</th>\n",
       "      <td>3</td>\n",
       "      <td>3000501</td>\n",
       "      <td>Brooklyn</td>\n",
       "      <td>I</td>\n",
       "      <td>000501</td>\n",
       "      <td>5.01</td>\n",
       "      <td>POLYGON ((-73.99301822153384 40.6974623645668,...</td>\n",
       "      <td>BK09</td>\n",
       "      <td>Brooklyn Heights-Cobble Hill</td>\n",
       "      <td>4004</td>\n",
       "      <td>...</td>\n",
       "      <td>1737.071267</td>\n",
       "      <td>7205.977121</td>\n",
       "      <td>2600.965286</td>\n",
       "      <td>36501.21653</td>\n",
       "      <td>1412.983117</td>\n",
       "      <td>4711</td>\n",
       "      <td>17116.407730</td>\n",
       "      <td>Brooklyn Heights</td>\n",
       "      <td>0.000009</td>\n",
       "      <td>3</td>\n",
       "    </tr>\n",
       "    <tr>\n",
       "      <th>1</th>\n",
       "      <td>3</td>\n",
       "      <td>3002000</td>\n",
       "      <td>Brooklyn</td>\n",
       "      <td>I</td>\n",
       "      <td>002000</td>\n",
       "      <td>20</td>\n",
       "      <td>POLYGON ((-74.01266264860631 40.64925555478156...</td>\n",
       "      <td>BK32</td>\n",
       "      <td>Sunset Park West</td>\n",
       "      <td>4012</td>\n",
       "      <td>...</td>\n",
       "      <td>574.850160</td>\n",
       "      <td>3064.116727</td>\n",
       "      <td>580.101530</td>\n",
       "      <td>13647.01968</td>\n",
       "      <td>2061.361323</td>\n",
       "      <td>1700</td>\n",
       "      <td>2968.716870</td>\n",
       "      <td>Bush Terminal</td>\n",
       "      <td>0.000016</td>\n",
       "      <td>3</td>\n",
       "    </tr>\n",
       "    <tr>\n",
       "      <th>2</th>\n",
       "      <td>3</td>\n",
       "      <td>3004100</td>\n",
       "      <td>Brooklyn</td>\n",
       "      <td>I</td>\n",
       "      <td>004100</td>\n",
       "      <td>41</td>\n",
       "      <td>POLYGON ((-73.98181677448231 40.68732980276495...</td>\n",
       "      <td>BK38</td>\n",
       "      <td>DUMBO-Vinegar Hill-Downtown Brooklyn-Boerum Hill</td>\n",
       "      <td>4004</td>\n",
       "      <td>...</td>\n",
       "      <td>1374.638495</td>\n",
       "      <td>8024.382252</td>\n",
       "      <td>2001.736607</td>\n",
       "      <td>39450.88208</td>\n",
       "      <td>1690.291069</td>\n",
       "      <td>4224</td>\n",
       "      <td>15948.483090</td>\n",
       "      <td>Boerum Hill</td>\n",
       "      <td>0.000017</td>\n",
       "      <td>3</td>\n",
       "    </tr>\n",
       "    <tr>\n",
       "      <th>3</th>\n",
       "      <td>3</td>\n",
       "      <td>3005202</td>\n",
       "      <td>Brooklyn</td>\n",
       "      <td>I</td>\n",
       "      <td>005202</td>\n",
       "      <td>52.02</td>\n",
       "      <td>POLYGON ((-74.03809447949381 40.62058489897851...</td>\n",
       "      <td>BK31</td>\n",
       "      <td>Bay Ridge</td>\n",
       "      <td>4013</td>\n",
       "      <td>...</td>\n",
       "      <td>1582.632893</td>\n",
       "      <td>5761.039594</td>\n",
       "      <td>2039.785814</td>\n",
       "      <td>33727.02430</td>\n",
       "      <td>1585.245533</td>\n",
       "      <td>2937</td>\n",
       "      <td>9382.433070</td>\n",
       "      <td>Bay Ridge</td>\n",
       "      <td>0.000015</td>\n",
       "      <td>3</td>\n",
       "    </tr>\n",
       "    <tr>\n",
       "      <th>4</th>\n",
       "      <td>3</td>\n",
       "      <td>3005800</td>\n",
       "      <td>Brooklyn</td>\n",
       "      <td>E</td>\n",
       "      <td>005800</td>\n",
       "      <td>58</td>\n",
       "      <td>POLYGON ((-74.02956408409689 40.61983253935202...</td>\n",
       "      <td>BK31</td>\n",
       "      <td>Bay Ridge</td>\n",
       "      <td>4013</td>\n",
       "      <td>...</td>\n",
       "      <td>1713.269708</td>\n",
       "      <td>4568.334204</td>\n",
       "      <td>3609.383943</td>\n",
       "      <td>24360.97565</td>\n",
       "      <td>1599.484797</td>\n",
       "      <td>4026</td>\n",
       "      <td>7439.992247</td>\n",
       "      <td>Bay Ridge</td>\n",
       "      <td>0.000021</td>\n",
       "      <td>3</td>\n",
       "    </tr>\n",
       "  </tbody>\n",
       "</table>\n",
       "<p>5 rows × 49 columns</p>\n",
       "</div>"
      ],
      "text/plain": [
       "  boro_code_x boro_ct201 boro_name cdeligibil  ct2010 ctlabel  \\\n",
       "0           3    3000501  Brooklyn          I  000501    5.01   \n",
       "1           3    3002000  Brooklyn          I  002000      20   \n",
       "2           3    3004100  Brooklyn          I  004100      41   \n",
       "3           3    3005202  Brooklyn          I  005202   52.02   \n",
       "4           3    3005800  Brooklyn          E  005800      58   \n",
       "\n",
       "                                            geometry ntacode  \\\n",
       "0  POLYGON ((-73.99301822153384 40.6974623645668,...    BK09   \n",
       "1  POLYGON ((-74.01266264860631 40.64925555478156...    BK32   \n",
       "2  POLYGON ((-73.98181677448231 40.68732980276495...    BK38   \n",
       "3  POLYGON ((-74.03809447949381 40.62058489897851...    BK31   \n",
       "4  POLYGON ((-74.02956408409689 40.61983253935202...    BK31   \n",
       "\n",
       "                                            ntaname  puma     ...       \\\n",
       "0                      Brooklyn Heights-Cobble Hill  4004     ...        \n",
       "1                                  Sunset Park West  4012     ...        \n",
       "2  DUMBO-Vinegar Hill-Downtown Brooklyn-Boerum Hill  4004     ...        \n",
       "3                                         Bay Ridge  4013     ...        \n",
       "4                                         Bay Ridge  4013     ...        \n",
       "\n",
       "       TAX_RET   Avg_TransC   REtaxperow     DISP_INC   energy_cos  REtax_ACS  \\\n",
       "0  1737.071267  7205.977121  2600.965286  36501.21653  1412.983117       4711   \n",
       "1   574.850160  3064.116727   580.101530  13647.01968  2061.361323       1700   \n",
       "2  1374.638495  8024.382252  2001.736607  39450.88208  1690.291069       4224   \n",
       "3  1582.632893  5761.039594  2039.785814  33727.02430  1585.245533       2937   \n",
       "4  1713.269708  4568.334204  3609.383943  24360.97565  1599.484797       4026   \n",
       "\n",
       "        AVG_TTL         LOCALNAME  Shape_Area  boro_code_y  \n",
       "0  17116.407730  Brooklyn Heights    0.000009            3  \n",
       "1   2968.716870     Bush Terminal    0.000016            3  \n",
       "2  15948.483090       Boerum Hill    0.000017            3  \n",
       "3   9382.433070         Bay Ridge    0.000015            3  \n",
       "4   7439.992247         Bay Ridge    0.000021            3  \n",
       "\n",
       "[5 rows x 49 columns]"
      ]
     },
     "execution_count": 1125,
     "metadata": {},
     "output_type": "execute_result"
    }
   ],
   "source": [
    "NYC_shape.head()"
   ]
  },
  {
   "cell_type": "code",
   "execution_count": 1126,
   "metadata": {
    "collapsed": false
   },
   "outputs": [],
   "source": [
    "#building_data.boro_ct2010.dtype"
   ]
  },
  {
   "cell_type": "code",
   "execution_count": 1127,
   "metadata": {
    "collapsed": true
   },
   "outputs": [],
   "source": [
    "#NYC_shape = NYC_shape.merge(building_data, on=\"boro_ct2010\", how=\"outer\")"
   ]
  },
  {
   "cell_type": "code",
   "execution_count": 1128,
   "metadata": {
    "collapsed": false
   },
   "outputs": [
    {
     "data": {
      "text/plain": [
       "(760, 49)"
      ]
     },
     "execution_count": 1128,
     "metadata": {},
     "output_type": "execute_result"
    }
   ],
   "source": [
    "NYC_shape.shape"
   ]
  },
  {
   "cell_type": "code",
   "execution_count": 1129,
   "metadata": {
    "collapsed": false
   },
   "outputs": [
    {
     "data": {
      "text/plain": [
       "Index(['FID', 'STATEFP10', 'COUNTYFP10', 'TRACTCE10', 'GEOID10', 'INTPTLAT10',\n",
       "       'INTPTLON10', 'State', 'COUNTY', 'HH_COUNT', 'OHU_OWN', 'OHU_RENT',\n",
       "       'PERC_OWN', 'PERC_RENT', 'MHI', 'MED_VAL', 'HOUSINGCOS', 'MCR_ANNUAL',\n",
       "       'MSMOC_TOT_', 'TAX_RET', 'Avg_TransC', 'REtaxperow', 'DISP_INC',\n",
       "       'energy_cos', 'REtax_ACS', 'AVG_TTL', 'LOCALNAME', 'Shape_Area',\n",
       "       'boro_ct2010', 'boro_code'],\n",
       "      dtype='object')"
      ]
     },
     "execution_count": 1129,
     "metadata": {},
     "output_type": "execute_result"
    }
   ],
   "source": [
    "house_data.columns"
   ]
  },
  {
   "cell_type": "code",
   "execution_count": 1130,
   "metadata": {
    "collapsed": false
   },
   "outputs": [],
   "source": [
    "#building_data.columns"
   ]
  },
  {
   "cell_type": "code",
   "execution_count": 1131,
   "metadata": {
    "collapsed": false
   },
   "outputs": [
    {
     "data": {
      "text/plain": [
       "Index(['boro_code_x', 'boro_ct201', 'boro_name', 'cdeligibil', 'ct2010',\n",
       "       'ctlabel', 'geometry', 'ntacode', 'ntaname', 'puma', 'shape_area',\n",
       "       'shape_leng', 'boro_ct2010', 'Borough', 'Year', 'FIPS County Code',\n",
       "       'DCP Borough Code', 'Census Tract', 'Population', 'pop_density', 'FID',\n",
       "       'STATEFP10', 'COUNTYFP10', 'TRACTCE10', 'GEOID10', 'INTPTLAT10',\n",
       "       'INTPTLON10', 'State', 'COUNTY', 'HH_COUNT', 'OHU_OWN', 'OHU_RENT',\n",
       "       'PERC_OWN', 'PERC_RENT', 'MHI', 'MED_VAL', 'HOUSINGCOS', 'MCR_ANNUAL',\n",
       "       'MSMOC_TOT_', 'TAX_RET', 'Avg_TransC', 'REtaxperow', 'DISP_INC',\n",
       "       'energy_cos', 'REtax_ACS', 'AVG_TTL', 'LOCALNAME', 'Shape_Area',\n",
       "       'boro_code_y'],\n",
       "      dtype='object')"
      ]
     },
     "execution_count": 1131,
     "metadata": {},
     "output_type": "execute_result"
    }
   ],
   "source": [
    "NYC_shape.columns"
   ]
  },
  {
   "cell_type": "code",
   "execution_count": 1132,
   "metadata": {
    "collapsed": false
   },
   "outputs": [],
   "source": [
    "# household_density per 1000 sq feet by census tract\n",
    "NYC_shape[\"household_density\"] = (NYC_shape.HH_COUNT/NYC_shape.shape_area) * 5280"
   ]
  },
  {
   "cell_type": "code",
   "execution_count": 1133,
   "metadata": {
    "collapsed": false
   },
   "outputs": [
    {
     "data": {
      "text/html": [
       "<div>\n",
       "<table border=\"1\" class=\"dataframe\">\n",
       "  <thead>\n",
       "    <tr style=\"text-align: right;\">\n",
       "      <th></th>\n",
       "      <th>boro_code_x</th>\n",
       "      <th>boro_ct201</th>\n",
       "      <th>boro_name</th>\n",
       "      <th>cdeligibil</th>\n",
       "      <th>ct2010</th>\n",
       "      <th>ctlabel</th>\n",
       "      <th>geometry</th>\n",
       "      <th>ntacode</th>\n",
       "      <th>ntaname</th>\n",
       "      <th>puma</th>\n",
       "      <th>...</th>\n",
       "      <th>Avg_TransC</th>\n",
       "      <th>REtaxperow</th>\n",
       "      <th>DISP_INC</th>\n",
       "      <th>energy_cos</th>\n",
       "      <th>REtax_ACS</th>\n",
       "      <th>AVG_TTL</th>\n",
       "      <th>LOCALNAME</th>\n",
       "      <th>Shape_Area</th>\n",
       "      <th>boro_code_y</th>\n",
       "      <th>household_density</th>\n",
       "    </tr>\n",
       "  </thead>\n",
       "  <tbody>\n",
       "    <tr>\n",
       "      <th>0</th>\n",
       "      <td>3</td>\n",
       "      <td>3000501</td>\n",
       "      <td>Brooklyn</td>\n",
       "      <td>I</td>\n",
       "      <td>000501</td>\n",
       "      <td>5.01</td>\n",
       "      <td>POLYGON ((-73.99301822153384 40.6974623645668,...</td>\n",
       "      <td>BK09</td>\n",
       "      <td>Brooklyn Heights-Cobble Hill</td>\n",
       "      <td>4004</td>\n",
       "      <td>...</td>\n",
       "      <td>7205.977121</td>\n",
       "      <td>2600.965286</td>\n",
       "      <td>36501.21653</td>\n",
       "      <td>1412.983117</td>\n",
       "      <td>4711</td>\n",
       "      <td>17116.407730</td>\n",
       "      <td>Brooklyn Heights</td>\n",
       "      <td>0.000009</td>\n",
       "      <td>3</td>\n",
       "      <td>11.005040</td>\n",
       "    </tr>\n",
       "    <tr>\n",
       "      <th>1</th>\n",
       "      <td>3</td>\n",
       "      <td>3002000</td>\n",
       "      <td>Brooklyn</td>\n",
       "      <td>I</td>\n",
       "      <td>002000</td>\n",
       "      <td>20</td>\n",
       "      <td>POLYGON ((-74.01266264860631 40.64925555478156...</td>\n",
       "      <td>BK32</td>\n",
       "      <td>Sunset Park West</td>\n",
       "      <td>4012</td>\n",
       "      <td>...</td>\n",
       "      <td>3064.116727</td>\n",
       "      <td>580.101530</td>\n",
       "      <td>13647.01968</td>\n",
       "      <td>2061.361323</td>\n",
       "      <td>1700</td>\n",
       "      <td>2968.716870</td>\n",
       "      <td>Bush Terminal</td>\n",
       "      <td>0.000016</td>\n",
       "      <td>3</td>\n",
       "      <td>1.423619</td>\n",
       "    </tr>\n",
       "    <tr>\n",
       "      <th>2</th>\n",
       "      <td>3</td>\n",
       "      <td>3004100</td>\n",
       "      <td>Brooklyn</td>\n",
       "      <td>I</td>\n",
       "      <td>004100</td>\n",
       "      <td>41</td>\n",
       "      <td>POLYGON ((-73.98181677448231 40.68732980276495...</td>\n",
       "      <td>BK38</td>\n",
       "      <td>DUMBO-Vinegar Hill-Downtown Brooklyn-Boerum Hill</td>\n",
       "      <td>4004</td>\n",
       "      <td>...</td>\n",
       "      <td>8024.382252</td>\n",
       "      <td>2001.736607</td>\n",
       "      <td>39450.88208</td>\n",
       "      <td>1690.291069</td>\n",
       "      <td>4224</td>\n",
       "      <td>15948.483090</td>\n",
       "      <td>Boerum Hill</td>\n",
       "      <td>0.000017</td>\n",
       "      <td>3</td>\n",
       "      <td>4.625805</td>\n",
       "    </tr>\n",
       "    <tr>\n",
       "      <th>3</th>\n",
       "      <td>3</td>\n",
       "      <td>3005202</td>\n",
       "      <td>Brooklyn</td>\n",
       "      <td>I</td>\n",
       "      <td>005202</td>\n",
       "      <td>52.02</td>\n",
       "      <td>POLYGON ((-74.03809447949381 40.62058489897851...</td>\n",
       "      <td>BK31</td>\n",
       "      <td>Bay Ridge</td>\n",
       "      <td>4013</td>\n",
       "      <td>...</td>\n",
       "      <td>5761.039594</td>\n",
       "      <td>2039.785814</td>\n",
       "      <td>33727.02430</td>\n",
       "      <td>1585.245533</td>\n",
       "      <td>2937</td>\n",
       "      <td>9382.433070</td>\n",
       "      <td>Bay Ridge</td>\n",
       "      <td>0.000015</td>\n",
       "      <td>3</td>\n",
       "      <td>5.328586</td>\n",
       "    </tr>\n",
       "    <tr>\n",
       "      <th>4</th>\n",
       "      <td>3</td>\n",
       "      <td>3005800</td>\n",
       "      <td>Brooklyn</td>\n",
       "      <td>E</td>\n",
       "      <td>005800</td>\n",
       "      <td>58</td>\n",
       "      <td>POLYGON ((-74.02956408409689 40.61983253935202...</td>\n",
       "      <td>BK31</td>\n",
       "      <td>Bay Ridge</td>\n",
       "      <td>4013</td>\n",
       "      <td>...</td>\n",
       "      <td>4568.334204</td>\n",
       "      <td>3609.383943</td>\n",
       "      <td>24360.97565</td>\n",
       "      <td>1599.484797</td>\n",
       "      <td>4026</td>\n",
       "      <td>7439.992247</td>\n",
       "      <td>Bay Ridge</td>\n",
       "      <td>0.000021</td>\n",
       "      <td>3</td>\n",
       "      <td>3.989880</td>\n",
       "    </tr>\n",
       "  </tbody>\n",
       "</table>\n",
       "<p>5 rows × 50 columns</p>\n",
       "</div>"
      ],
      "text/plain": [
       "  boro_code_x boro_ct201 boro_name cdeligibil  ct2010 ctlabel  \\\n",
       "0           3    3000501  Brooklyn          I  000501    5.01   \n",
       "1           3    3002000  Brooklyn          I  002000      20   \n",
       "2           3    3004100  Brooklyn          I  004100      41   \n",
       "3           3    3005202  Brooklyn          I  005202   52.02   \n",
       "4           3    3005800  Brooklyn          E  005800      58   \n",
       "\n",
       "                                            geometry ntacode  \\\n",
       "0  POLYGON ((-73.99301822153384 40.6974623645668,...    BK09   \n",
       "1  POLYGON ((-74.01266264860631 40.64925555478156...    BK32   \n",
       "2  POLYGON ((-73.98181677448231 40.68732980276495...    BK38   \n",
       "3  POLYGON ((-74.03809447949381 40.62058489897851...    BK31   \n",
       "4  POLYGON ((-74.02956408409689 40.61983253935202...    BK31   \n",
       "\n",
       "                                            ntaname  puma        ...          \\\n",
       "0                      Brooklyn Heights-Cobble Hill  4004        ...           \n",
       "1                                  Sunset Park West  4012        ...           \n",
       "2  DUMBO-Vinegar Hill-Downtown Brooklyn-Boerum Hill  4004        ...           \n",
       "3                                         Bay Ridge  4013        ...           \n",
       "4                                         Bay Ridge  4013        ...           \n",
       "\n",
       "    Avg_TransC   REtaxperow     DISP_INC   energy_cos  REtax_ACS  \\\n",
       "0  7205.977121  2600.965286  36501.21653  1412.983117       4711   \n",
       "1  3064.116727   580.101530  13647.01968  2061.361323       1700   \n",
       "2  8024.382252  2001.736607  39450.88208  1690.291069       4224   \n",
       "3  5761.039594  2039.785814  33727.02430  1585.245533       2937   \n",
       "4  4568.334204  3609.383943  24360.97565  1599.484797       4026   \n",
       "\n",
       "        AVG_TTL         LOCALNAME Shape_Area  boro_code_y  household_density  \n",
       "0  17116.407730  Brooklyn Heights   0.000009            3          11.005040  \n",
       "1   2968.716870     Bush Terminal   0.000016            3           1.423619  \n",
       "2  15948.483090       Boerum Hill   0.000017            3           4.625805  \n",
       "3   9382.433070         Bay Ridge   0.000015            3           5.328586  \n",
       "4   7439.992247         Bay Ridge   0.000021            3           3.989880  \n",
       "\n",
       "[5 rows x 50 columns]"
      ]
     },
     "execution_count": 1133,
     "metadata": {},
     "output_type": "execute_result"
    }
   ],
   "source": [
    "NYC_shape.head()"
   ]
  },
  {
   "cell_type": "code",
   "execution_count": 1134,
   "metadata": {
    "collapsed": false
   },
   "outputs": [],
   "source": [
    "NYC_shape[\"boro_code\"] = NYC_shape.boro_code_x\n",
    "#NYC_shape[\"Shape_Area\"] = NYC_shape.Shape_Area_x"
   ]
  },
  {
   "cell_type": "code",
   "execution_count": 1135,
   "metadata": {
    "collapsed": false
   },
   "outputs": [
    {
     "data": {
      "text/plain": [
       "Index(['boro_code_x', 'boro_ct201', 'boro_name', 'cdeligibil', 'ct2010',\n",
       "       'ctlabel', 'geometry', 'ntacode', 'ntaname', 'puma', 'shape_area',\n",
       "       'shape_leng', 'boro_ct2010', 'Borough', 'Year', 'FIPS County Code',\n",
       "       'DCP Borough Code', 'Census Tract', 'Population', 'pop_density', 'FID',\n",
       "       'STATEFP10', 'COUNTYFP10', 'TRACTCE10', 'GEOID10', 'INTPTLAT10',\n",
       "       'INTPTLON10', 'State', 'COUNTY', 'HH_COUNT', 'OHU_OWN', 'OHU_RENT',\n",
       "       'PERC_OWN', 'PERC_RENT', 'MHI', 'MED_VAL', 'HOUSINGCOS', 'MCR_ANNUAL',\n",
       "       'MSMOC_TOT_', 'TAX_RET', 'Avg_TransC', 'REtaxperow', 'DISP_INC',\n",
       "       'energy_cos', 'REtax_ACS', 'AVG_TTL', 'LOCALNAME', 'Shape_Area',\n",
       "       'boro_code_y', 'household_density', 'boro_code'],\n",
       "      dtype='object')"
      ]
     },
     "execution_count": 1135,
     "metadata": {},
     "output_type": "execute_result"
    }
   ],
   "source": [
    "NYC_shape.columns"
   ]
  },
  {
   "cell_type": "code",
   "execution_count": 1136,
   "metadata": {
    "collapsed": false
   },
   "outputs": [],
   "source": [
    "#del NYC_shape[\"cdeligibil\"]\n",
    "#del NYC_shape[\"Borough\"]\n",
    "#del NYC_shape[\"Census Tract\"]\n",
    "#del NYC_shape[\"DCP Borough Code\"]\n",
    "#del NYC_shape[\"FID\"]\n",
    "#del NYC_shape[\"STATEFP10\"]\n",
    "#del NYC_shape[\"COUNTYFP10\"]\n",
    "#del NYC_shape[\"TRACTCE10\"]\n",
    "#del NYC_shape[\"GEOID10\"]\n",
    "#del NYC_shape[\"Shape_Area\"]\n",
    "#del NYC_shape[\"boro_code_x\"]\n",
    "#del NYC_shape[\"boro_code_y\"]\n",
    "#del NYC_shape[\"Shape_Area_x\"]\n",
    "#del NYC_shape[\"Shape_Area_y\"]"
   ]
  },
  {
   "cell_type": "code",
   "execution_count": 1137,
   "metadata": {
    "collapsed": false
   },
   "outputs": [
    {
     "data": {
      "text/html": [
       "<div>\n",
       "<table border=\"1\" class=\"dataframe\">\n",
       "  <thead>\n",
       "    <tr style=\"text-align: right;\">\n",
       "      <th></th>\n",
       "      <th>boro_code_x</th>\n",
       "      <th>boro_ct201</th>\n",
       "      <th>boro_name</th>\n",
       "      <th>cdeligibil</th>\n",
       "      <th>ct2010</th>\n",
       "      <th>ctlabel</th>\n",
       "      <th>geometry</th>\n",
       "      <th>ntacode</th>\n",
       "      <th>ntaname</th>\n",
       "      <th>puma</th>\n",
       "      <th>...</th>\n",
       "      <th>REtaxperow</th>\n",
       "      <th>DISP_INC</th>\n",
       "      <th>energy_cos</th>\n",
       "      <th>REtax_ACS</th>\n",
       "      <th>AVG_TTL</th>\n",
       "      <th>LOCALNAME</th>\n",
       "      <th>Shape_Area</th>\n",
       "      <th>boro_code_y</th>\n",
       "      <th>household_density</th>\n",
       "      <th>boro_code</th>\n",
       "    </tr>\n",
       "  </thead>\n",
       "  <tbody>\n",
       "    <tr>\n",
       "      <th>0</th>\n",
       "      <td>3</td>\n",
       "      <td>3000501</td>\n",
       "      <td>Brooklyn</td>\n",
       "      <td>I</td>\n",
       "      <td>000501</td>\n",
       "      <td>5.01</td>\n",
       "      <td>POLYGON ((-73.99301822153384 40.6974623645668,...</td>\n",
       "      <td>BK09</td>\n",
       "      <td>Brooklyn Heights-Cobble Hill</td>\n",
       "      <td>4004</td>\n",
       "      <td>...</td>\n",
       "      <td>2600.965286</td>\n",
       "      <td>36501.21653</td>\n",
       "      <td>1412.983117</td>\n",
       "      <td>4711</td>\n",
       "      <td>17116.407730</td>\n",
       "      <td>Brooklyn Heights</td>\n",
       "      <td>0.000009</td>\n",
       "      <td>3</td>\n",
       "      <td>11.005040</td>\n",
       "      <td>3</td>\n",
       "    </tr>\n",
       "    <tr>\n",
       "      <th>1</th>\n",
       "      <td>3</td>\n",
       "      <td>3002000</td>\n",
       "      <td>Brooklyn</td>\n",
       "      <td>I</td>\n",
       "      <td>002000</td>\n",
       "      <td>20</td>\n",
       "      <td>POLYGON ((-74.01266264860631 40.64925555478156...</td>\n",
       "      <td>BK32</td>\n",
       "      <td>Sunset Park West</td>\n",
       "      <td>4012</td>\n",
       "      <td>...</td>\n",
       "      <td>580.101530</td>\n",
       "      <td>13647.01968</td>\n",
       "      <td>2061.361323</td>\n",
       "      <td>1700</td>\n",
       "      <td>2968.716870</td>\n",
       "      <td>Bush Terminal</td>\n",
       "      <td>0.000016</td>\n",
       "      <td>3</td>\n",
       "      <td>1.423619</td>\n",
       "      <td>3</td>\n",
       "    </tr>\n",
       "    <tr>\n",
       "      <th>2</th>\n",
       "      <td>3</td>\n",
       "      <td>3004100</td>\n",
       "      <td>Brooklyn</td>\n",
       "      <td>I</td>\n",
       "      <td>004100</td>\n",
       "      <td>41</td>\n",
       "      <td>POLYGON ((-73.98181677448231 40.68732980276495...</td>\n",
       "      <td>BK38</td>\n",
       "      <td>DUMBO-Vinegar Hill-Downtown Brooklyn-Boerum Hill</td>\n",
       "      <td>4004</td>\n",
       "      <td>...</td>\n",
       "      <td>2001.736607</td>\n",
       "      <td>39450.88208</td>\n",
       "      <td>1690.291069</td>\n",
       "      <td>4224</td>\n",
       "      <td>15948.483090</td>\n",
       "      <td>Boerum Hill</td>\n",
       "      <td>0.000017</td>\n",
       "      <td>3</td>\n",
       "      <td>4.625805</td>\n",
       "      <td>3</td>\n",
       "    </tr>\n",
       "    <tr>\n",
       "      <th>3</th>\n",
       "      <td>3</td>\n",
       "      <td>3005202</td>\n",
       "      <td>Brooklyn</td>\n",
       "      <td>I</td>\n",
       "      <td>005202</td>\n",
       "      <td>52.02</td>\n",
       "      <td>POLYGON ((-74.03809447949381 40.62058489897851...</td>\n",
       "      <td>BK31</td>\n",
       "      <td>Bay Ridge</td>\n",
       "      <td>4013</td>\n",
       "      <td>...</td>\n",
       "      <td>2039.785814</td>\n",
       "      <td>33727.02430</td>\n",
       "      <td>1585.245533</td>\n",
       "      <td>2937</td>\n",
       "      <td>9382.433070</td>\n",
       "      <td>Bay Ridge</td>\n",
       "      <td>0.000015</td>\n",
       "      <td>3</td>\n",
       "      <td>5.328586</td>\n",
       "      <td>3</td>\n",
       "    </tr>\n",
       "    <tr>\n",
       "      <th>4</th>\n",
       "      <td>3</td>\n",
       "      <td>3005800</td>\n",
       "      <td>Brooklyn</td>\n",
       "      <td>E</td>\n",
       "      <td>005800</td>\n",
       "      <td>58</td>\n",
       "      <td>POLYGON ((-74.02956408409689 40.61983253935202...</td>\n",
       "      <td>BK31</td>\n",
       "      <td>Bay Ridge</td>\n",
       "      <td>4013</td>\n",
       "      <td>...</td>\n",
       "      <td>3609.383943</td>\n",
       "      <td>24360.97565</td>\n",
       "      <td>1599.484797</td>\n",
       "      <td>4026</td>\n",
       "      <td>7439.992247</td>\n",
       "      <td>Bay Ridge</td>\n",
       "      <td>0.000021</td>\n",
       "      <td>3</td>\n",
       "      <td>3.989880</td>\n",
       "      <td>3</td>\n",
       "    </tr>\n",
       "  </tbody>\n",
       "</table>\n",
       "<p>5 rows × 51 columns</p>\n",
       "</div>"
      ],
      "text/plain": [
       "  boro_code_x boro_ct201 boro_name cdeligibil  ct2010 ctlabel  \\\n",
       "0           3    3000501  Brooklyn          I  000501    5.01   \n",
       "1           3    3002000  Brooklyn          I  002000      20   \n",
       "2           3    3004100  Brooklyn          I  004100      41   \n",
       "3           3    3005202  Brooklyn          I  005202   52.02   \n",
       "4           3    3005800  Brooklyn          E  005800      58   \n",
       "\n",
       "                                            geometry ntacode  \\\n",
       "0  POLYGON ((-73.99301822153384 40.6974623645668,...    BK09   \n",
       "1  POLYGON ((-74.01266264860631 40.64925555478156...    BK32   \n",
       "2  POLYGON ((-73.98181677448231 40.68732980276495...    BK38   \n",
       "3  POLYGON ((-74.03809447949381 40.62058489897851...    BK31   \n",
       "4  POLYGON ((-74.02956408409689 40.61983253935202...    BK31   \n",
       "\n",
       "                                            ntaname  puma    ...      \\\n",
       "0                      Brooklyn Heights-Cobble Hill  4004    ...       \n",
       "1                                  Sunset Park West  4012    ...       \n",
       "2  DUMBO-Vinegar Hill-Downtown Brooklyn-Boerum Hill  4004    ...       \n",
       "3                                         Bay Ridge  4013    ...       \n",
       "4                                         Bay Ridge  4013    ...       \n",
       "\n",
       "    REtaxperow     DISP_INC   energy_cos REtax_ACS       AVG_TTL  \\\n",
       "0  2600.965286  36501.21653  1412.983117      4711  17116.407730   \n",
       "1   580.101530  13647.01968  2061.361323      1700   2968.716870   \n",
       "2  2001.736607  39450.88208  1690.291069      4224  15948.483090   \n",
       "3  2039.785814  33727.02430  1585.245533      2937   9382.433070   \n",
       "4  3609.383943  24360.97565  1599.484797      4026   7439.992247   \n",
       "\n",
       "          LOCALNAME  Shape_Area boro_code_y  household_density  boro_code  \n",
       "0  Brooklyn Heights    0.000009           3          11.005040          3  \n",
       "1     Bush Terminal    0.000016           3           1.423619          3  \n",
       "2       Boerum Hill    0.000017           3           4.625805          3  \n",
       "3         Bay Ridge    0.000015           3           5.328586          3  \n",
       "4         Bay Ridge    0.000021           3           3.989880          3  \n",
       "\n",
       "[5 rows x 51 columns]"
      ]
     },
     "execution_count": 1137,
     "metadata": {},
     "output_type": "execute_result"
    }
   ],
   "source": [
    "NYC_shape.head()"
   ]
  },
  {
   "cell_type": "code",
   "execution_count": 1138,
   "metadata": {
    "collapsed": false
   },
   "outputs": [],
   "source": [
    "#writer = pd.ExcelWriter('MEGA_DATASET.xlsx')\n",
    "#NYC_shape.to_excel(writer)\n",
    "#writer.save()"
   ]
  },
  {
   "cell_type": "code",
   "execution_count": 1139,
   "metadata": {
    "collapsed": false
   },
   "outputs": [
    {
     "data": {
      "text/plain": [
       "count     760.000000\n",
       "mean     3295.657895\n",
       "std      1395.984746\n",
       "min         0.000000\n",
       "25%      2298.750000\n",
       "50%      3219.000000\n",
       "75%      4136.500000\n",
       "max      8938.000000\n",
       "Name: Population, dtype: float64"
      ]
     },
     "execution_count": 1139,
     "metadata": {},
     "output_type": "execute_result"
    }
   ],
   "source": [
    "NYC_shape.Population.describe()"
   ]
  },
  {
   "cell_type": "code",
   "execution_count": 1140,
   "metadata": {
    "collapsed": false
   },
   "outputs": [
    {
     "data": {
      "text/plain": [
       "count    760.000000\n",
       "mean       9.180295\n",
       "std        4.561643\n",
       "min        0.000000\n",
       "25%        6.242235\n",
       "50%        8.921299\n",
       "75%       11.604321\n",
       "max       29.704424\n",
       "Name: pop_density, dtype: float64"
      ]
     },
     "execution_count": 1140,
     "metadata": {},
     "output_type": "execute_result"
    }
   ],
   "source": [
    "NYC_shape.pop_density.describe()"
   ]
  },
  {
   "cell_type": "code",
   "execution_count": 1141,
   "metadata": {
    "collapsed": false
   },
   "outputs": [
    {
     "data": {
      "text/plain": [
       "count    760.000000\n",
       "mean       3.351077\n",
       "std        1.741486\n",
       "min        0.000000\n",
       "25%        2.179069\n",
       "50%        3.231030\n",
       "75%        4.288577\n",
       "max       12.442739\n",
       "Name: household_density, dtype: float64"
      ]
     },
     "execution_count": 1141,
     "metadata": {},
     "output_type": "execute_result"
    }
   ],
   "source": [
    "NYC_shape.household_density.describe()"
   ]
  },
  {
   "cell_type": "code",
   "execution_count": 1142,
   "metadata": {
    "collapsed": false
   },
   "outputs": [
    {
     "data": {
      "text/plain": [
       "count       760.000000\n",
       "mean      48122.368421\n",
       "std       21700.146358\n",
       "min           0.000000\n",
       "25%       34108.000000\n",
       "50%       43521.000000\n",
       "75%       59650.000000\n",
       "max      163147.000000\n",
       "Name: MHI, dtype: float64"
      ]
     },
     "execution_count": 1142,
     "metadata": {},
     "output_type": "execute_result"
    }
   ],
   "source": [
    "NYC_shape.MHI.describe()"
   ]
  },
  {
   "cell_type": "code",
   "execution_count": 1143,
   "metadata": {
    "collapsed": true
   },
   "outputs": [],
   "source": [
    "# geenrate points for wifi data (unique bssid by census track for 2016 data) and sjoin with shape maga dataset\n",
    "# generate regression model\n",
    "# plot results "
   ]
  },
  {
   "cell_type": "code",
   "execution_count": 1144,
   "metadata": {
    "collapsed": false
   },
   "outputs": [],
   "source": [
    "wifi_summer_2016 = pd.read_csv(\"wifi_summer_2016.csv\", index_col=0, converters={\"lat\":float,\"lng\":float})"
   ]
  },
  {
   "cell_type": "code",
   "execution_count": 1145,
   "metadata": {
    "collapsed": false
   },
   "outputs": [
    {
     "data": {
      "text/html": [
       "<div>\n",
       "<table border=\"1\" class=\"dataframe\">\n",
       "  <thead>\n",
       "    <tr style=\"text-align: right;\">\n",
       "      <th></th>\n",
       "      <th>acc</th>\n",
       "      <th>bssid</th>\n",
       "      <th>lat</th>\n",
       "      <th>level</th>\n",
       "      <th>lng</th>\n",
       "      <th>ssid</th>\n",
       "      <th>time</th>\n",
       "    </tr>\n",
       "  </thead>\n",
       "  <tbody>\n",
       "    <tr>\n",
       "      <th>0</th>\n",
       "      <td>41.0</td>\n",
       "      <td>38:2c:4a:a2:ee:d6</td>\n",
       "      <td>40.692534</td>\n",
       "      <td>-25.0</td>\n",
       "      <td>-73.986189</td>\n",
       "      <td>s0nycl1f3l1ne</td>\n",
       "      <td>04-14-2016 19:05:03</td>\n",
       "    </tr>\n",
       "    <tr>\n",
       "      <th>1</th>\n",
       "      <td>41.0</td>\n",
       "      <td>cc:d5:39:27:f0:b0</td>\n",
       "      <td>40.692534</td>\n",
       "      <td>-41.0</td>\n",
       "      <td>-73.986189</td>\n",
       "      <td>nyu</td>\n",
       "      <td>04-14-2016 19:05:03</td>\n",
       "    </tr>\n",
       "    <tr>\n",
       "      <th>2</th>\n",
       "      <td>41.0</td>\n",
       "      <td>cc:d5:39:27:f0:bf</td>\n",
       "      <td>40.692534</td>\n",
       "      <td>-57.0</td>\n",
       "      <td>-73.986189</td>\n",
       "      <td>nyu</td>\n",
       "      <td>04-14-2016 19:05:03</td>\n",
       "    </tr>\n",
       "    <tr>\n",
       "      <th>3</th>\n",
       "      <td>41.0</td>\n",
       "      <td>cc:d5:39:27:f2:40</td>\n",
       "      <td>40.692534</td>\n",
       "      <td>-62.0</td>\n",
       "      <td>-73.986189</td>\n",
       "      <td>nyu</td>\n",
       "      <td>04-14-2016 19:05:03</td>\n",
       "    </tr>\n",
       "    <tr>\n",
       "      <th>4</th>\n",
       "      <td>41.0</td>\n",
       "      <td>cc:d5:39:27:ec:90</td>\n",
       "      <td>40.692534</td>\n",
       "      <td>-57.0</td>\n",
       "      <td>-73.986189</td>\n",
       "      <td>nyu</td>\n",
       "      <td>04-14-2016 19:05:03</td>\n",
       "    </tr>\n",
       "  </tbody>\n",
       "</table>\n",
       "</div>"
      ],
      "text/plain": [
       "    acc              bssid        lat  level        lng           ssid  \\\n",
       "0  41.0  38:2c:4a:a2:ee:d6  40.692534  -25.0 -73.986189  s0nycl1f3l1ne   \n",
       "1  41.0  cc:d5:39:27:f0:b0  40.692534  -41.0 -73.986189            nyu   \n",
       "2  41.0  cc:d5:39:27:f0:bf  40.692534  -57.0 -73.986189            nyu   \n",
       "3  41.0  cc:d5:39:27:f2:40  40.692534  -62.0 -73.986189            nyu   \n",
       "4  41.0  cc:d5:39:27:ec:90  40.692534  -57.0 -73.986189            nyu   \n",
       "\n",
       "                  time  \n",
       "0  04-14-2016 19:05:03  \n",
       "1  04-14-2016 19:05:03  \n",
       "2  04-14-2016 19:05:03  \n",
       "3  04-14-2016 19:05:03  \n",
       "4  04-14-2016 19:05:03  "
      ]
     },
     "execution_count": 1145,
     "metadata": {},
     "output_type": "execute_result"
    }
   ],
   "source": [
    "wifi_summer_2016.head()"
   ]
  },
  {
   "cell_type": "code",
   "execution_count": 1146,
   "metadata": {
    "collapsed": false
   },
   "outputs": [
    {
     "data": {
      "text/plain": [
       "103101"
      ]
     },
     "execution_count": 1146,
     "metadata": {},
     "output_type": "execute_result"
    }
   ],
   "source": [
    "len(wifi_summer_2016.bssid.unique())"
   ]
  },
  {
   "cell_type": "code",
   "execution_count": 1147,
   "metadata": {
    "collapsed": true
   },
   "outputs": [],
   "source": [
    "wifi_summer_2016[\"points\"] = list(zip(wifi_summer_2016.lng, wifi_summer_2016.lat))"
   ]
  },
  {
   "cell_type": "code",
   "execution_count": 1148,
   "metadata": {
    "collapsed": false
   },
   "outputs": [],
   "source": [
    "wifi_summer_2016[\"geometry\"] = list(map(lambda x: shp.geometry.Point(x), wifi_summer_2016[\"points\"]))"
   ]
  },
  {
   "cell_type": "code",
   "execution_count": 1149,
   "metadata": {
    "collapsed": true
   },
   "outputs": [],
   "source": [
    "del wifi_summer_2016[\"points\"]"
   ]
  },
  {
   "cell_type": "code",
   "execution_count": 1150,
   "metadata": {
    "collapsed": false
   },
   "outputs": [
    {
     "data": {
      "text/html": [
       "<div>\n",
       "<table border=\"1\" class=\"dataframe\">\n",
       "  <thead>\n",
       "    <tr style=\"text-align: right;\">\n",
       "      <th></th>\n",
       "      <th>acc</th>\n",
       "      <th>bssid</th>\n",
       "      <th>lat</th>\n",
       "      <th>level</th>\n",
       "      <th>lng</th>\n",
       "      <th>ssid</th>\n",
       "      <th>time</th>\n",
       "      <th>geometry</th>\n",
       "    </tr>\n",
       "  </thead>\n",
       "  <tbody>\n",
       "    <tr>\n",
       "      <th>0</th>\n",
       "      <td>41.0</td>\n",
       "      <td>38:2c:4a:a2:ee:d6</td>\n",
       "      <td>40.692534</td>\n",
       "      <td>-25.0</td>\n",
       "      <td>-73.986189</td>\n",
       "      <td>s0nycl1f3l1ne</td>\n",
       "      <td>04-14-2016 19:05:03</td>\n",
       "      <td>POINT (-73.98618933 40.69253374)</td>\n",
       "    </tr>\n",
       "    <tr>\n",
       "      <th>1</th>\n",
       "      <td>41.0</td>\n",
       "      <td>cc:d5:39:27:f0:b0</td>\n",
       "      <td>40.692534</td>\n",
       "      <td>-41.0</td>\n",
       "      <td>-73.986189</td>\n",
       "      <td>nyu</td>\n",
       "      <td>04-14-2016 19:05:03</td>\n",
       "      <td>POINT (-73.98618933 40.69253374)</td>\n",
       "    </tr>\n",
       "    <tr>\n",
       "      <th>2</th>\n",
       "      <td>41.0</td>\n",
       "      <td>cc:d5:39:27:f0:bf</td>\n",
       "      <td>40.692534</td>\n",
       "      <td>-57.0</td>\n",
       "      <td>-73.986189</td>\n",
       "      <td>nyu</td>\n",
       "      <td>04-14-2016 19:05:03</td>\n",
       "      <td>POINT (-73.98618933 40.69253374)</td>\n",
       "    </tr>\n",
       "    <tr>\n",
       "      <th>3</th>\n",
       "      <td>41.0</td>\n",
       "      <td>cc:d5:39:27:f2:40</td>\n",
       "      <td>40.692534</td>\n",
       "      <td>-62.0</td>\n",
       "      <td>-73.986189</td>\n",
       "      <td>nyu</td>\n",
       "      <td>04-14-2016 19:05:03</td>\n",
       "      <td>POINT (-73.98618933 40.69253374)</td>\n",
       "    </tr>\n",
       "    <tr>\n",
       "      <th>4</th>\n",
       "      <td>41.0</td>\n",
       "      <td>cc:d5:39:27:ec:90</td>\n",
       "      <td>40.692534</td>\n",
       "      <td>-57.0</td>\n",
       "      <td>-73.986189</td>\n",
       "      <td>nyu</td>\n",
       "      <td>04-14-2016 19:05:03</td>\n",
       "      <td>POINT (-73.98618933 40.69253374)</td>\n",
       "    </tr>\n",
       "  </tbody>\n",
       "</table>\n",
       "</div>"
      ],
      "text/plain": [
       "    acc              bssid        lat  level        lng           ssid  \\\n",
       "0  41.0  38:2c:4a:a2:ee:d6  40.692534  -25.0 -73.986189  s0nycl1f3l1ne   \n",
       "1  41.0  cc:d5:39:27:f0:b0  40.692534  -41.0 -73.986189            nyu   \n",
       "2  41.0  cc:d5:39:27:f0:bf  40.692534  -57.0 -73.986189            nyu   \n",
       "3  41.0  cc:d5:39:27:f2:40  40.692534  -62.0 -73.986189            nyu   \n",
       "4  41.0  cc:d5:39:27:ec:90  40.692534  -57.0 -73.986189            nyu   \n",
       "\n",
       "                  time                          geometry  \n",
       "0  04-14-2016 19:05:03  POINT (-73.98618933 40.69253374)  \n",
       "1  04-14-2016 19:05:03  POINT (-73.98618933 40.69253374)  \n",
       "2  04-14-2016 19:05:03  POINT (-73.98618933 40.69253374)  \n",
       "3  04-14-2016 19:05:03  POINT (-73.98618933 40.69253374)  \n",
       "4  04-14-2016 19:05:03  POINT (-73.98618933 40.69253374)  "
      ]
     },
     "execution_count": 1150,
     "metadata": {},
     "output_type": "execute_result"
    }
   ],
   "source": [
    "wifi_summer_2016.head()"
   ]
  },
  {
   "cell_type": "code",
   "execution_count": 1151,
   "metadata": {
    "collapsed": true
   },
   "outputs": [],
   "source": [
    "wifi_data_2016 = GeoDataFrame(wifi_summer_2016)"
   ]
  },
  {
   "cell_type": "code",
   "execution_count": 1152,
   "metadata": {
    "collapsed": false
   },
   "outputs": [
    {
     "data": {
      "text/plain": [
       "{'init': 'epsg:4326', 'no_defs': True}"
      ]
     },
     "execution_count": 1152,
     "metadata": {},
     "output_type": "execute_result"
    }
   ],
   "source": [
    "NYC_shape.crs #= from_epsg(4326)"
   ]
  },
  {
   "cell_type": "code",
   "execution_count": 1155,
   "metadata": {
    "collapsed": true
   },
   "outputs": [],
   "source": [
    "wifi_data_2016.crs = from_epsg(4326)"
   ]
  },
  {
   "cell_type": "code",
   "execution_count": 1156,
   "metadata": {
    "collapsed": false
   },
   "outputs": [],
   "source": [
    "NYC_ct_shape_with_wifi = gpd.sjoin(NYC_shape, wifi_data_2016, how=\"inner\", op='intersects')"
   ]
  },
  {
   "cell_type": "code",
   "execution_count": 1157,
   "metadata": {
    "collapsed": false
   },
   "outputs": [
    {
     "data": {
      "text/html": [
       "<div>\n",
       "<table border=\"1\" class=\"dataframe\">\n",
       "  <thead>\n",
       "    <tr style=\"text-align: right;\">\n",
       "      <th></th>\n",
       "      <th>boro_code_x</th>\n",
       "      <th>boro_ct201</th>\n",
       "      <th>boro_name</th>\n",
       "      <th>cdeligibil</th>\n",
       "      <th>ct2010</th>\n",
       "      <th>ctlabel</th>\n",
       "      <th>geometry</th>\n",
       "      <th>ntacode</th>\n",
       "      <th>ntaname</th>\n",
       "      <th>puma</th>\n",
       "      <th>...</th>\n",
       "      <th>household_density</th>\n",
       "      <th>boro_code</th>\n",
       "      <th>index_right</th>\n",
       "      <th>acc</th>\n",
       "      <th>bssid</th>\n",
       "      <th>lat</th>\n",
       "      <th>level</th>\n",
       "      <th>lng</th>\n",
       "      <th>ssid</th>\n",
       "      <th>time</th>\n",
       "    </tr>\n",
       "  </thead>\n",
       "  <tbody>\n",
       "    <tr>\n",
       "      <th>0</th>\n",
       "      <td>3</td>\n",
       "      <td>3000501</td>\n",
       "      <td>Brooklyn</td>\n",
       "      <td>I</td>\n",
       "      <td>000501</td>\n",
       "      <td>5.01</td>\n",
       "      <td>POLYGON ((-73.99301822153384 40.6974623645668,...</td>\n",
       "      <td>BK09</td>\n",
       "      <td>Brooklyn Heights-Cobble Hill</td>\n",
       "      <td>4004</td>\n",
       "      <td>...</td>\n",
       "      <td>11.00504</td>\n",
       "      <td>3</td>\n",
       "      <td>3756660</td>\n",
       "      <td>9.0</td>\n",
       "      <td>28:80:23:f5:d7:71</td>\n",
       "      <td>40.693191</td>\n",
       "      <td>-83.0</td>\n",
       "      <td>-73.995121</td>\n",
       "      <td>hp-print-71-officejet 4630</td>\n",
       "      <td>07-13-2016 22:35:34</td>\n",
       "    </tr>\n",
       "    <tr>\n",
       "      <th>0</th>\n",
       "      <td>3</td>\n",
       "      <td>3000501</td>\n",
       "      <td>Brooklyn</td>\n",
       "      <td>I</td>\n",
       "      <td>000501</td>\n",
       "      <td>5.01</td>\n",
       "      <td>POLYGON ((-73.99301822153384 40.6974623645668,...</td>\n",
       "      <td>BK09</td>\n",
       "      <td>Brooklyn Heights-Cobble Hill</td>\n",
       "      <td>4004</td>\n",
       "      <td>...</td>\n",
       "      <td>11.00504</td>\n",
       "      <td>3</td>\n",
       "      <td>3756664</td>\n",
       "      <td>9.0</td>\n",
       "      <td>ac:7f:3e:eb:42:dc</td>\n",
       "      <td>40.693191</td>\n",
       "      <td>-86.0</td>\n",
       "      <td>-73.995121</td>\n",
       "      <td>monkey</td>\n",
       "      <td>07-13-2016 22:35:34</td>\n",
       "    </tr>\n",
       "    <tr>\n",
       "      <th>0</th>\n",
       "      <td>3</td>\n",
       "      <td>3000501</td>\n",
       "      <td>Brooklyn</td>\n",
       "      <td>I</td>\n",
       "      <td>000501</td>\n",
       "      <td>5.01</td>\n",
       "      <td>POLYGON ((-73.99301822153384 40.6974623645668,...</td>\n",
       "      <td>BK09</td>\n",
       "      <td>Brooklyn Heights-Cobble Hill</td>\n",
       "      <td>4004</td>\n",
       "      <td>...</td>\n",
       "      <td>11.00504</td>\n",
       "      <td>3</td>\n",
       "      <td>3756663</td>\n",
       "      <td>9.0</td>\n",
       "      <td>dc:ef:09:79:de:db</td>\n",
       "      <td>40.693191</td>\n",
       "      <td>-87.0</td>\n",
       "      <td>-73.995121</td>\n",
       "      <td>gracie3</td>\n",
       "      <td>07-13-2016 22:35:34</td>\n",
       "    </tr>\n",
       "    <tr>\n",
       "      <th>0</th>\n",
       "      <td>3</td>\n",
       "      <td>3000501</td>\n",
       "      <td>Brooklyn</td>\n",
       "      <td>I</td>\n",
       "      <td>000501</td>\n",
       "      <td>5.01</td>\n",
       "      <td>POLYGON ((-73.99301822153384 40.6974623645668,...</td>\n",
       "      <td>BK09</td>\n",
       "      <td>Brooklyn Heights-Cobble Hill</td>\n",
       "      <td>4004</td>\n",
       "      <td>...</td>\n",
       "      <td>11.00504</td>\n",
       "      <td>3</td>\n",
       "      <td>3756665</td>\n",
       "      <td>9.0</td>\n",
       "      <td>44:94:fc:5d:60:f4</td>\n",
       "      <td>40.693191</td>\n",
       "      <td>-75.0</td>\n",
       "      <td>-73.995121</td>\n",
       "      <td>weegee's teletype</td>\n",
       "      <td>07-13-2016 22:35:34</td>\n",
       "    </tr>\n",
       "    <tr>\n",
       "      <th>0</th>\n",
       "      <td>3</td>\n",
       "      <td>3000501</td>\n",
       "      <td>Brooklyn</td>\n",
       "      <td>I</td>\n",
       "      <td>000501</td>\n",
       "      <td>5.01</td>\n",
       "      <td>POLYGON ((-73.99301822153384 40.6974623645668,...</td>\n",
       "      <td>BK09</td>\n",
       "      <td>Brooklyn Heights-Cobble Hill</td>\n",
       "      <td>4004</td>\n",
       "      <td>...</td>\n",
       "      <td>11.00504</td>\n",
       "      <td>3</td>\n",
       "      <td>3756666</td>\n",
       "      <td>9.0</td>\n",
       "      <td>c4:8e:8f:e5:e3:a6</td>\n",
       "      <td>40.693191</td>\n",
       "      <td>-86.0</td>\n",
       "      <td>-73.995121</td>\n",
       "      <td>wifie5e3a2</td>\n",
       "      <td>07-13-2016 22:35:34</td>\n",
       "    </tr>\n",
       "  </tbody>\n",
       "</table>\n",
       "<p>5 rows × 59 columns</p>\n",
       "</div>"
      ],
      "text/plain": [
       "  boro_code_x boro_ct201 boro_name cdeligibil  ct2010 ctlabel  \\\n",
       "0           3    3000501  Brooklyn          I  000501    5.01   \n",
       "0           3    3000501  Brooklyn          I  000501    5.01   \n",
       "0           3    3000501  Brooklyn          I  000501    5.01   \n",
       "0           3    3000501  Brooklyn          I  000501    5.01   \n",
       "0           3    3000501  Brooklyn          I  000501    5.01   \n",
       "\n",
       "                                            geometry ntacode  \\\n",
       "0  POLYGON ((-73.99301822153384 40.6974623645668,...    BK09   \n",
       "0  POLYGON ((-73.99301822153384 40.6974623645668,...    BK09   \n",
       "0  POLYGON ((-73.99301822153384 40.6974623645668,...    BK09   \n",
       "0  POLYGON ((-73.99301822153384 40.6974623645668,...    BK09   \n",
       "0  POLYGON ((-73.99301822153384 40.6974623645668,...    BK09   \n",
       "\n",
       "                        ntaname  puma         ...           household_density  \\\n",
       "0  Brooklyn Heights-Cobble Hill  4004         ...                    11.00504   \n",
       "0  Brooklyn Heights-Cobble Hill  4004         ...                    11.00504   \n",
       "0  Brooklyn Heights-Cobble Hill  4004         ...                    11.00504   \n",
       "0  Brooklyn Heights-Cobble Hill  4004         ...                    11.00504   \n",
       "0  Brooklyn Heights-Cobble Hill  4004         ...                    11.00504   \n",
       "\n",
       "   boro_code index_right  acc              bssid        lat  level        lng  \\\n",
       "0          3     3756660  9.0  28:80:23:f5:d7:71  40.693191  -83.0 -73.995121   \n",
       "0          3     3756664  9.0  ac:7f:3e:eb:42:dc  40.693191  -86.0 -73.995121   \n",
       "0          3     3756663  9.0  dc:ef:09:79:de:db  40.693191  -87.0 -73.995121   \n",
       "0          3     3756665  9.0  44:94:fc:5d:60:f4  40.693191  -75.0 -73.995121   \n",
       "0          3     3756666  9.0  c4:8e:8f:e5:e3:a6  40.693191  -86.0 -73.995121   \n",
       "\n",
       "                         ssid                 time  \n",
       "0  hp-print-71-officejet 4630  07-13-2016 22:35:34  \n",
       "0                      monkey  07-13-2016 22:35:34  \n",
       "0                     gracie3  07-13-2016 22:35:34  \n",
       "0           weegee's teletype  07-13-2016 22:35:34  \n",
       "0                  wifie5e3a2  07-13-2016 22:35:34  \n",
       "\n",
       "[5 rows x 59 columns]"
      ]
     },
     "execution_count": 1157,
     "metadata": {},
     "output_type": "execute_result"
    }
   ],
   "source": [
    "NYC_ct_shape_with_wifi.head()"
   ]
  },
  {
   "cell_type": "code",
   "execution_count": 1158,
   "metadata": {
    "collapsed": false
   },
   "outputs": [
    {
     "data": {
      "text/plain": [
       "(3572811, 59)"
      ]
     },
     "execution_count": 1158,
     "metadata": {},
     "output_type": "execute_result"
    }
   ],
   "source": [
    "NYC_ct_shape_with_wifi.shape"
   ]
  },
  {
   "cell_type": "code",
   "execution_count": 1159,
   "metadata": {
    "collapsed": false
   },
   "outputs": [
    {
     "data": {
      "text/plain": [
       "Index(['boro_code_x', 'boro_ct201', 'boro_name', 'cdeligibil', 'ct2010',\n",
       "       'ctlabel', 'geometry', 'ntacode', 'ntaname', 'puma', 'shape_area',\n",
       "       'shape_leng', 'boro_ct2010', 'Borough', 'Year', 'FIPS County Code',\n",
       "       'DCP Borough Code', 'Census Tract', 'Population', 'pop_density', 'FID',\n",
       "       'STATEFP10', 'COUNTYFP10', 'TRACTCE10', 'GEOID10', 'INTPTLAT10',\n",
       "       'INTPTLON10', 'State', 'COUNTY', 'HH_COUNT', 'OHU_OWN', 'OHU_RENT',\n",
       "       'PERC_OWN', 'PERC_RENT', 'MHI', 'MED_VAL', 'HOUSINGCOS', 'MCR_ANNUAL',\n",
       "       'MSMOC_TOT_', 'TAX_RET', 'Avg_TransC', 'REtaxperow', 'DISP_INC',\n",
       "       'energy_cos', 'REtax_ACS', 'AVG_TTL', 'LOCALNAME', 'Shape_Area',\n",
       "       'boro_code_y', 'household_density', 'boro_code', 'index_right', 'acc',\n",
       "       'bssid', 'lat', 'level', 'lng', 'ssid', 'time'],\n",
       "      dtype='object')"
      ]
     },
     "execution_count": 1159,
     "metadata": {},
     "output_type": "execute_result"
    }
   ],
   "source": [
    "NYC_ct_shape_with_wifi.columns"
   ]
  },
  {
   "cell_type": "code",
   "execution_count": 1160,
   "metadata": {
    "collapsed": false
   },
   "outputs": [],
   "source": [
    "density = NYC_ct_shape_with_wifi.groupby([NYC_ct_shape_with_wifi.boro_ct201])['bssid'].nunique()"
   ]
  },
  {
   "cell_type": "code",
   "execution_count": 1161,
   "metadata": {
    "collapsed": false
   },
   "outputs": [],
   "source": [
    "df = pd.DataFrame(density)"
   ]
  },
  {
   "cell_type": "code",
   "execution_count": 1162,
   "metadata": {
    "collapsed": false
   },
   "outputs": [
    {
     "data": {
      "text/html": [
       "<div>\n",
       "<table border=\"1\" class=\"dataframe\">\n",
       "  <thead>\n",
       "    <tr style=\"text-align: right;\">\n",
       "      <th></th>\n",
       "      <th>bssid</th>\n",
       "    </tr>\n",
       "    <tr>\n",
       "      <th>boro_ct201</th>\n",
       "      <th></th>\n",
       "    </tr>\n",
       "  </thead>\n",
       "  <tbody>\n",
       "    <tr>\n",
       "      <th>3000100</th>\n",
       "      <td>1021</td>\n",
       "    </tr>\n",
       "    <tr>\n",
       "      <th>3000200</th>\n",
       "      <td>97</td>\n",
       "    </tr>\n",
       "    <tr>\n",
       "      <th>3000301</th>\n",
       "      <td>3059</td>\n",
       "    </tr>\n",
       "    <tr>\n",
       "      <th>3000501</th>\n",
       "      <td>2225</td>\n",
       "    </tr>\n",
       "    <tr>\n",
       "      <th>3000502</th>\n",
       "      <td>2353</td>\n",
       "    </tr>\n",
       "  </tbody>\n",
       "</table>\n",
       "</div>"
      ],
      "text/plain": [
       "            bssid\n",
       "boro_ct201       \n",
       "3000100      1021\n",
       "3000200        97\n",
       "3000301      3059\n",
       "3000501      2225\n",
       "3000502      2353"
      ]
     },
     "execution_count": 1162,
     "metadata": {},
     "output_type": "execute_result"
    }
   ],
   "source": [
    "df.head()"
   ]
  },
  {
   "cell_type": "code",
   "execution_count": 1163,
   "metadata": {
    "collapsed": true
   },
   "outputs": [],
   "source": [
    "df[\"bssid_counts\"] = df.bssid"
   ]
  },
  {
   "cell_type": "code",
   "execution_count": 1164,
   "metadata": {
    "collapsed": true
   },
   "outputs": [],
   "source": [
    "df[\"boro_ct201\"] = df.index"
   ]
  },
  {
   "cell_type": "code",
   "execution_count": 1165,
   "metadata": {
    "collapsed": true
   },
   "outputs": [],
   "source": [
    "del df[\"bssid\"]"
   ]
  },
  {
   "cell_type": "code",
   "execution_count": 1166,
   "metadata": {
    "collapsed": true
   },
   "outputs": [],
   "source": [
    "NYC_shape_with_wifi_counts = NYC_shape.merge(df, on=\"boro_ct201\")"
   ]
  },
  {
   "cell_type": "code",
   "execution_count": 1167,
   "metadata": {
    "collapsed": false
   },
   "outputs": [
    {
     "data": {
      "text/plain": [
       "(251, 52)"
      ]
     },
     "execution_count": 1167,
     "metadata": {},
     "output_type": "execute_result"
    }
   ],
   "source": [
    "NYC_shape_with_wifi_counts.shape"
   ]
  },
  {
   "cell_type": "code",
   "execution_count": 1168,
   "metadata": {
    "collapsed": false
   },
   "outputs": [
    {
     "data": {
      "text/html": [
       "<div>\n",
       "<table border=\"1\" class=\"dataframe\">\n",
       "  <thead>\n",
       "    <tr style=\"text-align: right;\">\n",
       "      <th></th>\n",
       "      <th>boro_code_x</th>\n",
       "      <th>boro_ct201</th>\n",
       "      <th>boro_name</th>\n",
       "      <th>cdeligibil</th>\n",
       "      <th>ct2010</th>\n",
       "      <th>ctlabel</th>\n",
       "      <th>geometry</th>\n",
       "      <th>ntacode</th>\n",
       "      <th>ntaname</th>\n",
       "      <th>puma</th>\n",
       "      <th>...</th>\n",
       "      <th>DISP_INC</th>\n",
       "      <th>energy_cos</th>\n",
       "      <th>REtax_ACS</th>\n",
       "      <th>AVG_TTL</th>\n",
       "      <th>LOCALNAME</th>\n",
       "      <th>Shape_Area</th>\n",
       "      <th>boro_code_y</th>\n",
       "      <th>household_density</th>\n",
       "      <th>boro_code</th>\n",
       "      <th>bssid_counts</th>\n",
       "    </tr>\n",
       "  </thead>\n",
       "  <tbody>\n",
       "    <tr>\n",
       "      <th>0</th>\n",
       "      <td>3</td>\n",
       "      <td>3000501</td>\n",
       "      <td>Brooklyn</td>\n",
       "      <td>I</td>\n",
       "      <td>000501</td>\n",
       "      <td>5.01</td>\n",
       "      <td>POLYGON ((-73.99301822153384 40.6974623645668,...</td>\n",
       "      <td>BK09</td>\n",
       "      <td>Brooklyn Heights-Cobble Hill</td>\n",
       "      <td>4004</td>\n",
       "      <td>...</td>\n",
       "      <td>36501.21653</td>\n",
       "      <td>1412.983117</td>\n",
       "      <td>4711</td>\n",
       "      <td>17116.407730</td>\n",
       "      <td>Brooklyn Heights</td>\n",
       "      <td>0.000009</td>\n",
       "      <td>3</td>\n",
       "      <td>11.005040</td>\n",
       "      <td>3</td>\n",
       "      <td>2225</td>\n",
       "    </tr>\n",
       "    <tr>\n",
       "      <th>1</th>\n",
       "      <td>3</td>\n",
       "      <td>3002000</td>\n",
       "      <td>Brooklyn</td>\n",
       "      <td>I</td>\n",
       "      <td>002000</td>\n",
       "      <td>20</td>\n",
       "      <td>POLYGON ((-74.01266264860631 40.64925555478156...</td>\n",
       "      <td>BK32</td>\n",
       "      <td>Sunset Park West</td>\n",
       "      <td>4012</td>\n",
       "      <td>...</td>\n",
       "      <td>13647.01968</td>\n",
       "      <td>2061.361323</td>\n",
       "      <td>1700</td>\n",
       "      <td>2968.716870</td>\n",
       "      <td>Bush Terminal</td>\n",
       "      <td>0.000016</td>\n",
       "      <td>3</td>\n",
       "      <td>1.423619</td>\n",
       "      <td>3</td>\n",
       "      <td>87</td>\n",
       "    </tr>\n",
       "    <tr>\n",
       "      <th>2</th>\n",
       "      <td>3</td>\n",
       "      <td>3004100</td>\n",
       "      <td>Brooklyn</td>\n",
       "      <td>I</td>\n",
       "      <td>004100</td>\n",
       "      <td>41</td>\n",
       "      <td>POLYGON ((-73.98181677448231 40.68732980276495...</td>\n",
       "      <td>BK38</td>\n",
       "      <td>DUMBO-Vinegar Hill-Downtown Brooklyn-Boerum Hill</td>\n",
       "      <td>4004</td>\n",
       "      <td>...</td>\n",
       "      <td>39450.88208</td>\n",
       "      <td>1690.291069</td>\n",
       "      <td>4224</td>\n",
       "      <td>15948.483090</td>\n",
       "      <td>Boerum Hill</td>\n",
       "      <td>0.000017</td>\n",
       "      <td>3</td>\n",
       "      <td>4.625805</td>\n",
       "      <td>3</td>\n",
       "      <td>2706</td>\n",
       "    </tr>\n",
       "    <tr>\n",
       "      <th>3</th>\n",
       "      <td>3</td>\n",
       "      <td>3005202</td>\n",
       "      <td>Brooklyn</td>\n",
       "      <td>I</td>\n",
       "      <td>005202</td>\n",
       "      <td>52.02</td>\n",
       "      <td>POLYGON ((-74.03809447949381 40.62058489897851...</td>\n",
       "      <td>BK31</td>\n",
       "      <td>Bay Ridge</td>\n",
       "      <td>4013</td>\n",
       "      <td>...</td>\n",
       "      <td>33727.02430</td>\n",
       "      <td>1585.245533</td>\n",
       "      <td>2937</td>\n",
       "      <td>9382.433070</td>\n",
       "      <td>Bay Ridge</td>\n",
       "      <td>0.000015</td>\n",
       "      <td>3</td>\n",
       "      <td>5.328586</td>\n",
       "      <td>3</td>\n",
       "      <td>72</td>\n",
       "    </tr>\n",
       "    <tr>\n",
       "      <th>4</th>\n",
       "      <td>3</td>\n",
       "      <td>3005800</td>\n",
       "      <td>Brooklyn</td>\n",
       "      <td>E</td>\n",
       "      <td>005800</td>\n",
       "      <td>58</td>\n",
       "      <td>POLYGON ((-74.02956408409689 40.61983253935202...</td>\n",
       "      <td>BK31</td>\n",
       "      <td>Bay Ridge</td>\n",
       "      <td>4013</td>\n",
       "      <td>...</td>\n",
       "      <td>24360.97565</td>\n",
       "      <td>1599.484797</td>\n",
       "      <td>4026</td>\n",
       "      <td>7439.992247</td>\n",
       "      <td>Bay Ridge</td>\n",
       "      <td>0.000021</td>\n",
       "      <td>3</td>\n",
       "      <td>3.989880</td>\n",
       "      <td>3</td>\n",
       "      <td>67</td>\n",
       "    </tr>\n",
       "  </tbody>\n",
       "</table>\n",
       "<p>5 rows × 52 columns</p>\n",
       "</div>"
      ],
      "text/plain": [
       "  boro_code_x boro_ct201 boro_name cdeligibil  ct2010 ctlabel  \\\n",
       "0           3    3000501  Brooklyn          I  000501    5.01   \n",
       "1           3    3002000  Brooklyn          I  002000      20   \n",
       "2           3    3004100  Brooklyn          I  004100      41   \n",
       "3           3    3005202  Brooklyn          I  005202   52.02   \n",
       "4           3    3005800  Brooklyn          E  005800      58   \n",
       "\n",
       "                                            geometry ntacode  \\\n",
       "0  POLYGON ((-73.99301822153384 40.6974623645668,...    BK09   \n",
       "1  POLYGON ((-74.01266264860631 40.64925555478156...    BK32   \n",
       "2  POLYGON ((-73.98181677448231 40.68732980276495...    BK38   \n",
       "3  POLYGON ((-74.03809447949381 40.62058489897851...    BK31   \n",
       "4  POLYGON ((-74.02956408409689 40.61983253935202...    BK31   \n",
       "\n",
       "                                            ntaname  puma      ...       \\\n",
       "0                      Brooklyn Heights-Cobble Hill  4004      ...        \n",
       "1                                  Sunset Park West  4012      ...        \n",
       "2  DUMBO-Vinegar Hill-Downtown Brooklyn-Boerum Hill  4004      ...        \n",
       "3                                         Bay Ridge  4013      ...        \n",
       "4                                         Bay Ridge  4013      ...        \n",
       "\n",
       "      DISP_INC   energy_cos REtax_ACS       AVG_TTL         LOCALNAME  \\\n",
       "0  36501.21653  1412.983117      4711  17116.407730  Brooklyn Heights   \n",
       "1  13647.01968  2061.361323      1700   2968.716870     Bush Terminal   \n",
       "2  39450.88208  1690.291069      4224  15948.483090       Boerum Hill   \n",
       "3  33727.02430  1585.245533      2937   9382.433070         Bay Ridge   \n",
       "4  24360.97565  1599.484797      4026   7439.992247         Bay Ridge   \n",
       "\n",
       "   Shape_Area  boro_code_y household_density  boro_code  bssid_counts  \n",
       "0    0.000009            3         11.005040          3          2225  \n",
       "1    0.000016            3          1.423619          3            87  \n",
       "2    0.000017            3          4.625805          3          2706  \n",
       "3    0.000015            3          5.328586          3            72  \n",
       "4    0.000021            3          3.989880          3            67  \n",
       "\n",
       "[5 rows x 52 columns]"
      ]
     },
     "execution_count": 1168,
     "metadata": {},
     "output_type": "execute_result"
    }
   ],
   "source": [
    "NYC_shape_with_wifi_counts.head()"
   ]
  },
  {
   "cell_type": "code",
   "execution_count": 1170,
   "metadata": {
    "collapsed": false
   },
   "outputs": [
    {
     "data": {
      "text/plain": [
       "Index(['boro_code_x', 'boro_ct201', 'boro_name', 'cdeligibil', 'ct2010',\n",
       "       'ctlabel', 'geometry', 'ntacode', 'ntaname', 'puma', 'shape_area',\n",
       "       'shape_leng', 'boro_ct2010', 'Borough', 'Year', 'FIPS County Code',\n",
       "       'DCP Borough Code', 'Census Tract', 'Population', 'pop_density', 'FID',\n",
       "       'STATEFP10', 'COUNTYFP10', 'TRACTCE10', 'GEOID10', 'INTPTLAT10',\n",
       "       'INTPTLON10', 'State', 'COUNTY', 'HH_COUNT', 'OHU_OWN', 'OHU_RENT',\n",
       "       'PERC_OWN', 'PERC_RENT', 'MHI', 'MED_VAL', 'HOUSINGCOS', 'MCR_ANNUAL',\n",
       "       'MSMOC_TOT_', 'TAX_RET', 'Avg_TransC', 'REtaxperow', 'DISP_INC',\n",
       "       'energy_cos', 'REtax_ACS', 'AVG_TTL', 'LOCALNAME', 'Shape_Area',\n",
       "       'boro_code_y', 'household_density', 'boro_code', 'bssid_counts'],\n",
       "      dtype='object')"
      ]
     },
     "execution_count": 1170,
     "metadata": {},
     "output_type": "execute_result"
    }
   ],
   "source": [
    "NYC_shape_with_wifi_counts.columns"
   ]
  },
  {
   "cell_type": "code",
   "execution_count": 1171,
   "metadata": {
    "collapsed": false
   },
   "outputs": [],
   "source": [
    "NYC_shape_with_wifi_counts_ = NYC_shape_with_wifi_counts.drop(NYC_shape_with_wifi_counts.bssid_counts == 0)"
   ]
  },
  {
   "cell_type": "code",
   "execution_count": 1172,
   "metadata": {
    "collapsed": false
   },
   "outputs": [
    {
     "data": {
      "text/html": [
       "<div>\n",
       "<table border=\"1\" class=\"dataframe\">\n",
       "  <thead>\n",
       "    <tr style=\"text-align: right;\">\n",
       "      <th></th>\n",
       "      <th>boro_code_x</th>\n",
       "      <th>boro_ct201</th>\n",
       "      <th>boro_name</th>\n",
       "      <th>cdeligibil</th>\n",
       "      <th>ct2010</th>\n",
       "      <th>ctlabel</th>\n",
       "      <th>geometry</th>\n",
       "      <th>ntacode</th>\n",
       "      <th>ntaname</th>\n",
       "      <th>puma</th>\n",
       "      <th>...</th>\n",
       "      <th>DISP_INC</th>\n",
       "      <th>energy_cos</th>\n",
       "      <th>REtax_ACS</th>\n",
       "      <th>AVG_TTL</th>\n",
       "      <th>LOCALNAME</th>\n",
       "      <th>Shape_Area</th>\n",
       "      <th>boro_code_y</th>\n",
       "      <th>household_density</th>\n",
       "      <th>boro_code</th>\n",
       "      <th>bssid_counts</th>\n",
       "    </tr>\n",
       "  </thead>\n",
       "  <tbody>\n",
       "    <tr>\n",
       "      <th>2</th>\n",
       "      <td>3</td>\n",
       "      <td>3004100</td>\n",
       "      <td>Brooklyn</td>\n",
       "      <td>I</td>\n",
       "      <td>004100</td>\n",
       "      <td>41</td>\n",
       "      <td>POLYGON ((-73.98181677448231 40.68732980276495...</td>\n",
       "      <td>BK38</td>\n",
       "      <td>DUMBO-Vinegar Hill-Downtown Brooklyn-Boerum Hill</td>\n",
       "      <td>4004</td>\n",
       "      <td>...</td>\n",
       "      <td>39450.88208</td>\n",
       "      <td>1690.291069</td>\n",
       "      <td>4224</td>\n",
       "      <td>15948.483090</td>\n",
       "      <td>Boerum Hill</td>\n",
       "      <td>0.000017</td>\n",
       "      <td>3</td>\n",
       "      <td>4.625805</td>\n",
       "      <td>3</td>\n",
       "      <td>2706</td>\n",
       "    </tr>\n",
       "    <tr>\n",
       "      <th>3</th>\n",
       "      <td>3</td>\n",
       "      <td>3005202</td>\n",
       "      <td>Brooklyn</td>\n",
       "      <td>I</td>\n",
       "      <td>005202</td>\n",
       "      <td>52.02</td>\n",
       "      <td>POLYGON ((-74.03809447949381 40.62058489897851...</td>\n",
       "      <td>BK31</td>\n",
       "      <td>Bay Ridge</td>\n",
       "      <td>4013</td>\n",
       "      <td>...</td>\n",
       "      <td>33727.02430</td>\n",
       "      <td>1585.245533</td>\n",
       "      <td>2937</td>\n",
       "      <td>9382.433070</td>\n",
       "      <td>Bay Ridge</td>\n",
       "      <td>0.000015</td>\n",
       "      <td>3</td>\n",
       "      <td>5.328586</td>\n",
       "      <td>3</td>\n",
       "      <td>72</td>\n",
       "    </tr>\n",
       "    <tr>\n",
       "      <th>4</th>\n",
       "      <td>3</td>\n",
       "      <td>3005800</td>\n",
       "      <td>Brooklyn</td>\n",
       "      <td>E</td>\n",
       "      <td>005800</td>\n",
       "      <td>58</td>\n",
       "      <td>POLYGON ((-74.02956408409689 40.61983253935202...</td>\n",
       "      <td>BK31</td>\n",
       "      <td>Bay Ridge</td>\n",
       "      <td>4013</td>\n",
       "      <td>...</td>\n",
       "      <td>24360.97565</td>\n",
       "      <td>1599.484797</td>\n",
       "      <td>4026</td>\n",
       "      <td>7439.992247</td>\n",
       "      <td>Bay Ridge</td>\n",
       "      <td>0.000021</td>\n",
       "      <td>3</td>\n",
       "      <td>3.989880</td>\n",
       "      <td>3</td>\n",
       "      <td>67</td>\n",
       "    </tr>\n",
       "    <tr>\n",
       "      <th>5</th>\n",
       "      <td>3</td>\n",
       "      <td>3006000</td>\n",
       "      <td>Brooklyn</td>\n",
       "      <td>I</td>\n",
       "      <td>006000</td>\n",
       "      <td>60</td>\n",
       "      <td>POLYGON ((-74.02835031608427 40.62279862692517...</td>\n",
       "      <td>BK31</td>\n",
       "      <td>Bay Ridge</td>\n",
       "      <td>4013</td>\n",
       "      <td>...</td>\n",
       "      <td>36170.76698</td>\n",
       "      <td>1800.823697</td>\n",
       "      <td>4345</td>\n",
       "      <td>9705.611625</td>\n",
       "      <td>Bay Ridge</td>\n",
       "      <td>0.000016</td>\n",
       "      <td>3</td>\n",
       "      <td>3.569235</td>\n",
       "      <td>3</td>\n",
       "      <td>231</td>\n",
       "    </tr>\n",
       "    <tr>\n",
       "      <th>6</th>\n",
       "      <td>3</td>\n",
       "      <td>3006700</td>\n",
       "      <td>Brooklyn</td>\n",
       "      <td>I</td>\n",
       "      <td>006700</td>\n",
       "      <td>67</td>\n",
       "      <td>POLYGON ((-73.99440802432692 40.68545249599622...</td>\n",
       "      <td>BK33</td>\n",
       "      <td>Carroll Gardens-Columbia Street-Red Hook</td>\n",
       "      <td>4005</td>\n",
       "      <td>...</td>\n",
       "      <td>51394.19178</td>\n",
       "      <td>2028.249729</td>\n",
       "      <td>4254</td>\n",
       "      <td>18677.511490</td>\n",
       "      <td>Cobble Hill</td>\n",
       "      <td>0.000017</td>\n",
       "      <td>3</td>\n",
       "      <td>4.664910</td>\n",
       "      <td>3</td>\n",
       "      <td>33</td>\n",
       "    </tr>\n",
       "  </tbody>\n",
       "</table>\n",
       "<p>5 rows × 52 columns</p>\n",
       "</div>"
      ],
      "text/plain": [
       "  boro_code_x boro_ct201 boro_name cdeligibil  ct2010 ctlabel  \\\n",
       "2           3    3004100  Brooklyn          I  004100      41   \n",
       "3           3    3005202  Brooklyn          I  005202   52.02   \n",
       "4           3    3005800  Brooklyn          E  005800      58   \n",
       "5           3    3006000  Brooklyn          I  006000      60   \n",
       "6           3    3006700  Brooklyn          I  006700      67   \n",
       "\n",
       "                                            geometry ntacode  \\\n",
       "2  POLYGON ((-73.98181677448231 40.68732980276495...    BK38   \n",
       "3  POLYGON ((-74.03809447949381 40.62058489897851...    BK31   \n",
       "4  POLYGON ((-74.02956408409689 40.61983253935202...    BK31   \n",
       "5  POLYGON ((-74.02835031608427 40.62279862692517...    BK31   \n",
       "6  POLYGON ((-73.99440802432692 40.68545249599622...    BK33   \n",
       "\n",
       "                                            ntaname  puma      ...       \\\n",
       "2  DUMBO-Vinegar Hill-Downtown Brooklyn-Boerum Hill  4004      ...        \n",
       "3                                         Bay Ridge  4013      ...        \n",
       "4                                         Bay Ridge  4013      ...        \n",
       "5                                         Bay Ridge  4013      ...        \n",
       "6          Carroll Gardens-Columbia Street-Red Hook  4005      ...        \n",
       "\n",
       "      DISP_INC   energy_cos REtax_ACS       AVG_TTL    LOCALNAME  Shape_Area  \\\n",
       "2  39450.88208  1690.291069      4224  15948.483090  Boerum Hill    0.000017   \n",
       "3  33727.02430  1585.245533      2937   9382.433070    Bay Ridge    0.000015   \n",
       "4  24360.97565  1599.484797      4026   7439.992247    Bay Ridge    0.000021   \n",
       "5  36170.76698  1800.823697      4345   9705.611625    Bay Ridge    0.000016   \n",
       "6  51394.19178  2028.249729      4254  18677.511490  Cobble Hill    0.000017   \n",
       "\n",
       "   boro_code_y household_density  boro_code  bssid_counts  \n",
       "2            3          4.625805          3          2706  \n",
       "3            3          5.328586          3            72  \n",
       "4            3          3.989880          3            67  \n",
       "5            3          3.569235          3           231  \n",
       "6            3          4.664910          3            33  \n",
       "\n",
       "[5 rows x 52 columns]"
      ]
     },
     "execution_count": 1172,
     "metadata": {},
     "output_type": "execute_result"
    }
   ],
   "source": [
    "NYC_shape_with_wifi_counts_.head()"
   ]
  },
  {
   "cell_type": "code",
   "execution_count": 1173,
   "metadata": {
    "collapsed": true
   },
   "outputs": [],
   "source": [
    "matrix = NYC_shape_with_wifi_counts_[[\"ntacode\",\"bssid_counts\",\"pop_density\",\"Population\",\"household_density\",\"MHI\"]]"
   ]
  },
  {
   "cell_type": "code",
   "execution_count": 1174,
   "metadata": {
    "collapsed": false
   },
   "outputs": [
    {
     "data": {
      "text/html": [
       "<div>\n",
       "<table border=\"1\" class=\"dataframe\">\n",
       "  <thead>\n",
       "    <tr style=\"text-align: right;\">\n",
       "      <th></th>\n",
       "      <th>ntacode</th>\n",
       "      <th>bssid_counts</th>\n",
       "      <th>pop_density</th>\n",
       "      <th>Population</th>\n",
       "      <th>household_density</th>\n",
       "      <th>MHI</th>\n",
       "    </tr>\n",
       "  </thead>\n",
       "  <tbody>\n",
       "    <tr>\n",
       "      <th>2</th>\n",
       "      <td>BK38</td>\n",
       "      <td>2706</td>\n",
       "      <td>10.892438</td>\n",
       "      <td>3598</td>\n",
       "      <td>4.625805</td>\n",
       "      <td>89205</td>\n",
       "    </tr>\n",
       "  </tbody>\n",
       "</table>\n",
       "</div>"
      ],
      "text/plain": [
       "  ntacode  bssid_counts  pop_density  Population  household_density    MHI\n",
       "2    BK38          2706    10.892438        3598           4.625805  89205"
      ]
     },
     "execution_count": 1174,
     "metadata": {},
     "output_type": "execute_result"
    }
   ],
   "source": [
    "matrix.head(1)"
   ]
  },
  {
   "cell_type": "code",
   "execution_count": 1175,
   "metadata": {
    "collapsed": false,
    "scrolled": false
   },
   "outputs": [
    {
     "data": {
      "text/plain": [
       "<seaborn.axisgrid.PairGrid at 0x129812278>"
      ]
     },
     "execution_count": 1175,
     "metadata": {},
     "output_type": "execute_result"
    },
    {
     "data": {
      "image/png": "[encoded data removed]",
      "text/plain": [
       "<matplotlib.figure.Figure at 0x129812240>"
      ]
     },
     "metadata": {},
     "output_type": "display_data"
    }
   ],
   "source": [
    "import seaborn as sns\n",
    "sns.set(style=\"ticks\")\n",
    "\n",
    "sns.pairplot(matrix, hue=\"ntacode\")"
   ]
  },
  {
   "cell_type": "code",
   "execution_count": 1176,
   "metadata": {
    "collapsed": true
   },
   "outputs": [],
   "source": [
    "import statsmodels.api as sm"
   ]
  },
  {
   "cell_type": "code",
   "execution_count": 1208,
   "metadata": {
    "collapsed": true
   },
   "outputs": [],
   "source": [
    "X = NYC_shape_with_wifi_counts_[[\"pop_density\",\"Population\",\"household_density\",\"MHI\"]]\n",
    "y = NYC_shape_with_wifi_counts_.bssid_counts"
   ]
  },
  {
   "cell_type": "code",
   "execution_count": 1209,
   "metadata": {
    "collapsed": false
   },
   "outputs": [
    {
     "data": {
      "text/plain": [
       "count     249.000000\n",
       "mean      403.943775\n",
       "std       709.743704\n",
       "min         0.000000\n",
       "25%        33.000000\n",
       "50%       123.000000\n",
       "75%       477.000000\n",
       "max      5819.000000\n",
       "Name: bssid_counts, dtype: float64"
      ]
     },
     "execution_count": 1209,
     "metadata": {},
     "output_type": "execute_result"
    }
   ],
   "source": [
    "y.describe()"
   ]
  },
  {
   "cell_type": "code",
   "execution_count": 1215,
   "metadata": {
    "collapsed": false
   },
   "outputs": [],
   "source": [
    "X = sm.add_constant(X)\n",
    "model = sm.OLS(y, X).fit()"
   ]
  },
  {
   "cell_type": "code",
   "execution_count": 1216,
   "metadata": {
    "collapsed": true
   },
   "outputs": [],
   "source": [
    "predictions = model.predict(X)"
   ]
  },
  {
   "cell_type": "code",
   "execution_count": 1217,
   "metadata": {
    "collapsed": false,
    "scrolled": false
   },
   "outputs": [
    {
     "data": {
      "text/html": [
       "<table class=\"simpletable\">\n",
       "<caption>OLS Regression Results</caption>\n",
       "<tr>\n",
       "  <th>Dep. Variable:</th>      <td>bssid_counts</td>   <th>  R-squared:         </th> <td>   0.089</td>\n",
       "</tr>\n",
       "<tr>\n",
       "  <th>Model:</th>                   <td>OLS</td>       <th>  Adj. R-squared:    </th> <td>   0.074</td>\n",
       "</tr>\n",
       "<tr>\n",
       "  <th>Method:</th>             <td>Least Squares</td>  <th>  F-statistic:       </th> <td>   5.934</td>\n",
       "</tr>\n",
       "<tr>\n",
       "  <th>Date:</th>             <td>Thu, 13 Jul 2017</td> <th>  Prob (F-statistic):</th> <td>0.000142</td>\n",
       "</tr>\n",
       "<tr>\n",
       "  <th>Time:</th>                 <td>22:14:10</td>     <th>  Log-Likelihood:    </th> <td> -1975.9</td>\n",
       "</tr>\n",
       "<tr>\n",
       "  <th>No. Observations:</th>      <td>   249</td>      <th>  AIC:               </th> <td>   3962.</td>\n",
       "</tr>\n",
       "<tr>\n",
       "  <th>Df Residuals:</th>          <td>   244</td>      <th>  BIC:               </th> <td>   3979.</td>\n",
       "</tr>\n",
       "<tr>\n",
       "  <th>Df Model:</th>              <td>     4</td>      <th>                     </th>     <td> </td>   \n",
       "</tr>\n",
       "<tr>\n",
       "  <th>Covariance Type:</th>      <td>nonrobust</td>    <th>                     </th>     <td> </td>   \n",
       "</tr>\n",
       "</table>\n",
       "<table class=\"simpletable\">\n",
       "<tr>\n",
       "          <td></td>             <th>coef</th>     <th>std err</th>      <th>t</th>      <th>P>|t|</th> <th>[95.0% Conf. Int.]</th> \n",
       "</tr>\n",
       "<tr>\n",
       "  <th>const</th>             <td>  -33.6995</td> <td>  160.101</td> <td>   -0.210</td> <td> 0.833</td> <td> -349.055   281.656</td>\n",
       "</tr>\n",
       "<tr>\n",
       "  <th>pop_density</th>       <td>   -3.5473</td> <td>   27.693</td> <td>   -0.128</td> <td> 0.898</td> <td>  -58.095    51.001</td>\n",
       "</tr>\n",
       "<tr>\n",
       "  <th>Population</th>        <td>   -0.0282</td> <td>    0.041</td> <td>   -0.693</td> <td> 0.489</td> <td>   -0.108     0.052</td>\n",
       "</tr>\n",
       "<tr>\n",
       "  <th>household_density</th> <td>   36.4556</td> <td>   67.053</td> <td>    0.544</td> <td> 0.587</td> <td>  -95.621   168.532</td>\n",
       "</tr>\n",
       "<tr>\n",
       "  <th>MHI</th>               <td>    0.0082</td> <td>    0.002</td> <td>    4.192</td> <td> 0.000</td> <td>    0.004     0.012</td>\n",
       "</tr>\n",
       "</table>\n",
       "<table class=\"simpletable\">\n",
       "<tr>\n",
       "  <th>Omnibus:</th>       <td>218.739</td> <th>  Durbin-Watson:     </th> <td>   1.507</td>\n",
       "</tr>\n",
       "<tr>\n",
       "  <th>Prob(Omnibus):</th> <td> 0.000</td>  <th>  Jarque-Bera (JB):  </th> <td>3840.837</td>\n",
       "</tr>\n",
       "<tr>\n",
       "  <th>Skew:</th>          <td> 3.510</td>  <th>  Prob(JB):          </th> <td>    0.00</td>\n",
       "</tr>\n",
       "<tr>\n",
       "  <th>Kurtosis:</th>      <td>20.915</td>  <th>  Cond. No.          </th> <td>2.18e+05</td>\n",
       "</tr>\n",
       "</table>"
      ],
      "text/plain": [
       "<class 'statsmodels.iolib.summary.Summary'>\n",
       "\"\"\"\n",
       "                            OLS Regression Results                            \n",
       "==============================================================================\n",
       "Dep. Variable:           bssid_counts   R-squared:                       0.089\n",
       "Model:                            OLS   Adj. R-squared:                  0.074\n",
       "Method:                 Least Squares   F-statistic:                     5.934\n",
       "Date:                Thu, 13 Jul 2017   Prob (F-statistic):           0.000142\n",
       "Time:                        22:14:10   Log-Likelihood:                -1975.9\n",
       "No. Observations:                 249   AIC:                             3962.\n",
       "Df Residuals:                     244   BIC:                             3979.\n",
       "Df Model:                           4                                         \n",
       "Covariance Type:            nonrobust                                         \n",
       "=====================================================================================\n",
       "                        coef    std err          t      P>|t|      [95.0% Conf. Int.]\n",
       "-------------------------------------------------------------------------------------\n",
       "const               -33.6995    160.101     -0.210      0.833      -349.055   281.656\n",
       "pop_density          -3.5473     27.693     -0.128      0.898       -58.095    51.001\n",
       "Population           -0.0282      0.041     -0.693      0.489        -0.108     0.052\n",
       "household_density    36.4556     67.053      0.544      0.587       -95.621   168.532\n",
       "MHI                   0.0082      0.002      4.192      0.000         0.004     0.012\n",
       "==============================================================================\n",
       "Omnibus:                      218.739   Durbin-Watson:                   1.507\n",
       "Prob(Omnibus):                  0.000   Jarque-Bera (JB):             3840.837\n",
       "Skew:                           3.510   Prob(JB):                         0.00\n",
       "Kurtosis:                      20.915   Cond. No.                     2.18e+05\n",
       "==============================================================================\n",
       "\n",
       "Warnings:\n",
       "[1] Standard Errors assume that the covariance matrix of the errors is correctly specified.\n",
       "[2] The condition number is large, 2.18e+05. This might indicate that there are\n",
       "strong multicollinearity or other numerical problems.\n",
       "\"\"\""
      ]
     },
     "execution_count": 1217,
     "metadata": {},
     "output_type": "execute_result"
    }
   ],
   "source": [
    "model.summary()"
   ]
  },
  {
   "cell_type": "code",
   "execution_count": null,
   "metadata": {
    "collapsed": true
   },
   "outputs": [],
   "source": [
    "# We can run a logistics regression model and identify the odds you will have open networks where you live\n",
    "# given the economy of the area (median household income)\n",
    "\n",
    "\n",
    "# you can calculate the probability P = (odds/(1+odds)) = 0.793/1.793 = 0.442\n",
    "\n",
    "\n",
    "# Negative binomial model:\n",
    "# In probability theory and statistics, the negative binomial distribution is a discrete probability distribution of the number of successes in a sequence of independent and identically distributed Bernoulli trials before a specified (non-random) number of failures (denoted r) occurs.\n",
    "\n",
    "# Or\n",
    " \n",
    "# poisson model:\n",
    "# Poisson regression assumes the response variable Y has a Poisson distribution, and assumes the logarithm of its expected value can be modeled by a linear combination of unknown parameters. A Poisson regression model is sometimes known as a log-linear model, especially when used to model contingency tables.\n",
    "\n",
    "\n",
    "# There's more to think about…. \n",
    "# (output, resolution, and unit of analysis)"
   ]
  },
  {
   "cell_type": "code",
   "execution_count": 1214,
   "metadata": {
    "collapsed": true
   },
   "outputs": [],
   "source": [
    "import matplotlib.pyplot as plt\n",
    "%matplotlib inline\n",
    "\n",
    "import numpy as np\n",
    "import pandas as pd\n",
    "from statsmodels.genmod.generalized_estimating_equations import GEE\n",
    "from statsmodels.genmod.cov_struct import (Exchangeable,\n",
    "    Independence,Autoregressive)\n",
    "from statsmodels.genmod.families import Poisson"
   ]
  },
  {
   "cell_type": "code",
   "execution_count": 1218,
   "metadata": {
    "collapsed": true
   },
   "outputs": [],
   "source": [
    "X = NYC_shape_with_wifi_counts_[[\"MHI\"]]\n",
    "y = NYC_shape_with_wifi_counts_.bssid_counts"
   ]
  },
  {
   "cell_type": "code",
   "execution_count": 1219,
   "metadata": {
    "collapsed": true
   },
   "outputs": [],
   "source": [
    "X = sm.add_constant(X)\n",
    "model = sm.OLS(y, X).fit()"
   ]
  },
  {
   "cell_type": "code",
   "execution_count": 1220,
   "metadata": {
    "collapsed": true
   },
   "outputs": [],
   "source": [
    "predictions = model.predict(X)"
   ]
  },
  {
   "cell_type": "code",
   "execution_count": 1221,
   "metadata": {
    "collapsed": false
   },
   "outputs": [
    {
     "data": {
      "text/html": [
       "<table class=\"simpletable\">\n",
       "<caption>OLS Regression Results</caption>\n",
       "<tr>\n",
       "  <th>Dep. Variable:</th>      <td>bssid_counts</td>   <th>  R-squared:         </th> <td>   0.085</td>\n",
       "</tr>\n",
       "<tr>\n",
       "  <th>Model:</th>                   <td>OLS</td>       <th>  Adj. R-squared:    </th> <td>   0.081</td>\n",
       "</tr>\n",
       "<tr>\n",
       "  <th>Method:</th>             <td>Least Squares</td>  <th>  F-statistic:       </th> <td>   22.83</td>\n",
       "</tr>\n",
       "<tr>\n",
       "  <th>Date:</th>             <td>Thu, 13 Jul 2017</td> <th>  Prob (F-statistic):</th> <td>3.04e-06</td>\n",
       "</tr>\n",
       "<tr>\n",
       "  <th>Time:</th>                 <td>22:27:59</td>     <th>  Log-Likelihood:    </th> <td> -1976.5</td>\n",
       "</tr>\n",
       "<tr>\n",
       "  <th>No. Observations:</th>      <td>   249</td>      <th>  AIC:               </th> <td>   3957.</td>\n",
       "</tr>\n",
       "<tr>\n",
       "  <th>Df Residuals:</th>          <td>   247</td>      <th>  BIC:               </th> <td>   3964.</td>\n",
       "</tr>\n",
       "<tr>\n",
       "  <th>Df Model:</th>              <td>     1</td>      <th>                     </th>     <td> </td>   \n",
       "</tr>\n",
       "<tr>\n",
       "  <th>Covariance Type:</th>      <td>nonrobust</td>    <th>                     </th>     <td> </td>   \n",
       "</tr>\n",
       "</table>\n",
       "<table class=\"simpletable\">\n",
       "<tr>\n",
       "    <td></td>       <th>coef</th>     <th>std err</th>      <th>t</th>      <th>P>|t|</th> <th>[95.0% Conf. Int.]</th> \n",
       "</tr>\n",
       "<tr>\n",
       "  <th>const</th> <td>  -44.1288</td> <td>  103.222</td> <td>   -0.428</td> <td> 0.669</td> <td> -247.436   159.178</td>\n",
       "</tr>\n",
       "<tr>\n",
       "  <th>MHI</th>   <td>    0.0084</td> <td>    0.002</td> <td>    4.778</td> <td> 0.000</td> <td>    0.005     0.012</td>\n",
       "</tr>\n",
       "</table>\n",
       "<table class=\"simpletable\">\n",
       "<tr>\n",
       "  <th>Omnibus:</th>       <td>216.894</td> <th>  Durbin-Watson:     </th> <td>   1.492</td>\n",
       "</tr>\n",
       "<tr>\n",
       "  <th>Prob(Omnibus):</th> <td> 0.000</td>  <th>  Jarque-Bera (JB):  </th> <td>3709.897</td>\n",
       "</tr>\n",
       "<tr>\n",
       "  <th>Skew:</th>          <td> 3.477</td>  <th>  Prob(JB):          </th> <td>    0.00</td>\n",
       "</tr>\n",
       "<tr>\n",
       "  <th>Kurtosis:</th>      <td>20.585</td>  <th>  Cond. No.          </th> <td>1.40e+05</td>\n",
       "</tr>\n",
       "</table>"
      ],
      "text/plain": [
       "<class 'statsmodels.iolib.summary.Summary'>\n",
       "\"\"\"\n",
       "                            OLS Regression Results                            \n",
       "==============================================================================\n",
       "Dep. Variable:           bssid_counts   R-squared:                       0.085\n",
       "Model:                            OLS   Adj. R-squared:                  0.081\n",
       "Method:                 Least Squares   F-statistic:                     22.83\n",
       "Date:                Thu, 13 Jul 2017   Prob (F-statistic):           3.04e-06\n",
       "Time:                        22:27:59   Log-Likelihood:                -1976.5\n",
       "No. Observations:                 249   AIC:                             3957.\n",
       "Df Residuals:                     247   BIC:                             3964.\n",
       "Df Model:                           1                                         \n",
       "Covariance Type:            nonrobust                                         \n",
       "==============================================================================\n",
       "                 coef    std err          t      P>|t|      [95.0% Conf. Int.]\n",
       "------------------------------------------------------------------------------\n",
       "const        -44.1288    103.222     -0.428      0.669      -247.436   159.178\n",
       "MHI            0.0084      0.002      4.778      0.000         0.005     0.012\n",
       "==============================================================================\n",
       "Omnibus:                      216.894   Durbin-Watson:                   1.492\n",
       "Prob(Omnibus):                  0.000   Jarque-Bera (JB):             3709.897\n",
       "Skew:                           3.477   Prob(JB):                         0.00\n",
       "Kurtosis:                      20.585   Cond. No.                     1.40e+05\n",
       "==============================================================================\n",
       "\n",
       "Warnings:\n",
       "[1] Standard Errors assume that the covariance matrix of the errors is correctly specified.\n",
       "[2] The condition number is large, 1.4e+05. This might indicate that there are\n",
       "strong multicollinearity or other numerical problems.\n",
       "\"\"\""
      ]
     },
     "execution_count": 1221,
     "metadata": {},
     "output_type": "execute_result"
    }
   ],
   "source": [
    "model.summary()"
   ]
  },
  {
   "cell_type": "code",
   "execution_count": null,
   "metadata": {
    "collapsed": true
   },
   "outputs": [],
   "source": []
  }
 ],
 "metadata": {
  "kernelspec": {
   "display_name": "Python 3",
   "language": "python",
   "name": "python3"
  },
  "language_info": {
   "codemirror_mode": {
    "name": "ipython",
    "version": 3
   },
   "file_extension": ".py",
   "mimetype": "text/x-python",
   "name": "python",
   "nbconvert_exporter": "python",
   "pygments_lexer": "ipython3",
   "version": "3.6.0"
  }
 },
 "nbformat": 4,
 "nbformat_minor": 2
}

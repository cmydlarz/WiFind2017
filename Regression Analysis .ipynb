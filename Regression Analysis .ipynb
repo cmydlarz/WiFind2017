{
 "cells": [
  {
   "cell_type": "markdown",
   "metadata": {},
   "source": [
    "# Regression Analysis \n",
    "\n",
    "### Author_: Christian Rosado"
   ]
  },
  {
   "cell_type": "code",
   "execution_count": 419,
   "metadata": {
    "collapsed": false
   },
   "outputs": [
    {
     "name": "stdout",
     "output_type": "stream",
     "text": [
      "Populating the interactive namespace from numpy and matplotlib\n"
     ]
    }
   ],
   "source": [
    "# imports\n",
    "from __future__  import print_function, division\n",
    "import pylab as pl\n",
    "import pandas as pd\n",
    "import numpy as np\n",
    "#from geopandas import GeoDataFrame\n",
    "import geopandas as gpd\n",
    "import matplotlib.pyplot as plt\n",
    "from fiona.crs import from_epsg\n",
    "#import shapely as shp\n",
    "import seaborn \n",
    "import os\n",
    "import urllib\n",
    "import requests\n",
    "%pylab inline"
   ]
  },
  {
   "cell_type": "code",
   "execution_count": 2,
   "metadata": {
    "collapsed": true
   },
   "outputs": [],
   "source": [
    "#Pulling Data via API\n",
    "wifi_data = pd.read_json(\"http://wifindproject.com/wifipulling/?device_model=VS425\")"
   ]
  },
  {
   "cell_type": "code",
   "execution_count": 3,
   "metadata": {
    "collapsed": false
   },
   "outputs": [
    {
     "data": {
      "text/html": [
       "<div>\n",
       "<table border=\"1\" class=\"dataframe\">\n",
       "  <thead>\n",
       "    <tr style=\"text-align: right;\">\n",
       "      <th></th>\n",
       "      <th>acc</th>\n",
       "      <th>altitude</th>\n",
       "      <th>app_version</th>\n",
       "      <th>bssid</th>\n",
       "      <th>caps</th>\n",
       "      <th>device_mac</th>\n",
       "      <th>device_model</th>\n",
       "      <th>droid_version</th>\n",
       "      <th>freq</th>\n",
       "      <th>idx</th>\n",
       "      <th>lat</th>\n",
       "      <th>level</th>\n",
       "      <th>lng</th>\n",
       "      <th>ssid</th>\n",
       "      <th>time</th>\n",
       "    </tr>\n",
       "  </thead>\n",
       "  <tbody>\n",
       "    <tr>\n",
       "      <th>0</th>\n",
       "      <td>19.957</td>\n",
       "      <td>0.0</td>\n",
       "      <td>0.3.3</td>\n",
       "      <td>1c:e8:5d:ca:8f:33</td>\n",
       "      <td>[wpa-eap-tkip][wpa2-eap-ccmp][ess]</td>\n",
       "      <td>d3a2898a5e731607</td>\n",
       "      <td>VS425</td>\n",
       "      <td>5.1.1</td>\n",
       "      <td>2437</td>\n",
       "      <td>56629534</td>\n",
       "      <td>40.690966</td>\n",
       "      <td>-60</td>\n",
       "      <td>-73.987686</td>\n",
       "      <td>nyu-legacy</td>\n",
       "      <td>1497296993826</td>\n",
       "    </tr>\n",
       "    <tr>\n",
       "      <th>1</th>\n",
       "      <td>19.957</td>\n",
       "      <td>0.0</td>\n",
       "      <td>0.3.3</td>\n",
       "      <td>1c:e8:5d:ca:8f:32</td>\n",
       "      <td>[wpa2-eap-ccmp][ess]</td>\n",
       "      <td>d3a2898a5e731607</td>\n",
       "      <td>VS425</td>\n",
       "      <td>5.1.1</td>\n",
       "      <td>2437</td>\n",
       "      <td>56629535</td>\n",
       "      <td>40.690966</td>\n",
       "      <td>-59</td>\n",
       "      <td>-73.987686</td>\n",
       "      <td>eduroam</td>\n",
       "      <td>1497296993826</td>\n",
       "    </tr>\n",
       "    <tr>\n",
       "      <th>2</th>\n",
       "      <td>19.957</td>\n",
       "      <td>0.0</td>\n",
       "      <td>0.3.3</td>\n",
       "      <td>cc:d5:39:27:f2:43</td>\n",
       "      <td>[wpa-eap-tkip][wpa2-eap-ccmp][ess]</td>\n",
       "      <td>d3a2898a5e731607</td>\n",
       "      <td>VS425</td>\n",
       "      <td>5.1.1</td>\n",
       "      <td>2412</td>\n",
       "      <td>56629536</td>\n",
       "      <td>40.690966</td>\n",
       "      <td>-66</td>\n",
       "      <td>-73.987686</td>\n",
       "      <td>nyu-legacy</td>\n",
       "      <td>1497296993826</td>\n",
       "    </tr>\n",
       "    <tr>\n",
       "      <th>3</th>\n",
       "      <td>19.957</td>\n",
       "      <td>0.0</td>\n",
       "      <td>0.3.3</td>\n",
       "      <td>cc:d5:39:27:f2:42</td>\n",
       "      <td>[wpa2-eap-ccmp][ess]</td>\n",
       "      <td>d3a2898a5e731607</td>\n",
       "      <td>VS425</td>\n",
       "      <td>5.1.1</td>\n",
       "      <td>2412</td>\n",
       "      <td>56629537</td>\n",
       "      <td>40.690966</td>\n",
       "      <td>-67</td>\n",
       "      <td>-73.987686</td>\n",
       "      <td>eduroam</td>\n",
       "      <td>1497296993826</td>\n",
       "    </tr>\n",
       "    <tr>\n",
       "      <th>4</th>\n",
       "      <td>19.957</td>\n",
       "      <td>0.0</td>\n",
       "      <td>0.3.3</td>\n",
       "      <td>00:a2:ee:03:e3:20</td>\n",
       "      <td>[wpa2-eap-ccmp][ess]</td>\n",
       "      <td>d3a2898a5e731607</td>\n",
       "      <td>VS425</td>\n",
       "      <td>5.1.1</td>\n",
       "      <td>2412</td>\n",
       "      <td>56629538</td>\n",
       "      <td>40.690966</td>\n",
       "      <td>-73</td>\n",
       "      <td>-73.987686</td>\n",
       "      <td>constitution</td>\n",
       "      <td>1497296993826</td>\n",
       "    </tr>\n",
       "  </tbody>\n",
       "</table>\n",
       "</div>"
      ],
      "text/plain": [
       "      acc  altitude app_version              bssid  \\\n",
       "0  19.957       0.0       0.3.3  1c:e8:5d:ca:8f:33   \n",
       "1  19.957       0.0       0.3.3  1c:e8:5d:ca:8f:32   \n",
       "2  19.957       0.0       0.3.3  cc:d5:39:27:f2:43   \n",
       "3  19.957       0.0       0.3.3  cc:d5:39:27:f2:42   \n",
       "4  19.957       0.0       0.3.3  00:a2:ee:03:e3:20   \n",
       "\n",
       "                                 caps        device_mac device_model  \\\n",
       "0  [wpa-eap-tkip][wpa2-eap-ccmp][ess]  d3a2898a5e731607        VS425   \n",
       "1                [wpa2-eap-ccmp][ess]  d3a2898a5e731607        VS425   \n",
       "2  [wpa-eap-tkip][wpa2-eap-ccmp][ess]  d3a2898a5e731607        VS425   \n",
       "3                [wpa2-eap-ccmp][ess]  d3a2898a5e731607        VS425   \n",
       "4                [wpa2-eap-ccmp][ess]  d3a2898a5e731607        VS425   \n",
       "\n",
       "  droid_version  freq       idx        lat  level        lng          ssid  \\\n",
       "0         5.1.1  2437  56629534  40.690966    -60 -73.987686    nyu-legacy   \n",
       "1         5.1.1  2437  56629535  40.690966    -59 -73.987686       eduroam   \n",
       "2         5.1.1  2412  56629536  40.690966    -66 -73.987686    nyu-legacy   \n",
       "3         5.1.1  2412  56629537  40.690966    -67 -73.987686       eduroam   \n",
       "4         5.1.1  2412  56629538  40.690966    -73 -73.987686  constitution   \n",
       "\n",
       "            time  \n",
       "0  1497296993826  \n",
       "1  1497296993826  \n",
       "2  1497296993826  \n",
       "3  1497296993826  \n",
       "4  1497296993826  "
      ]
     },
     "execution_count": 3,
     "metadata": {},
     "output_type": "execute_result"
    }
   ],
   "source": [
    "wifi_data.head()"
   ]
  },
  {
   "cell_type": "code",
   "execution_count": 4,
   "metadata": {
    "collapsed": false
   },
   "outputs": [],
   "source": [
    "# filter records with accuaracy scores of 50 and above\n",
    "wifi_data = wifi_data.drop(wifi_data[wifi_data.acc > 50].index)"
   ]
  },
  {
   "cell_type": "code",
   "execution_count": 5,
   "metadata": {
    "collapsed": false
   },
   "outputs": [
    {
     "data": {
      "text/html": [
       "<div>\n",
       "<table border=\"1\" class=\"dataframe\">\n",
       "  <thead>\n",
       "    <tr style=\"text-align: right;\">\n",
       "      <th></th>\n",
       "      <th>acc</th>\n",
       "      <th>altitude</th>\n",
       "      <th>app_version</th>\n",
       "      <th>bssid</th>\n",
       "      <th>caps</th>\n",
       "      <th>device_mac</th>\n",
       "      <th>device_model</th>\n",
       "      <th>droid_version</th>\n",
       "      <th>freq</th>\n",
       "      <th>idx</th>\n",
       "      <th>lat</th>\n",
       "      <th>level</th>\n",
       "      <th>lng</th>\n",
       "      <th>ssid</th>\n",
       "      <th>time</th>\n",
       "    </tr>\n",
       "  </thead>\n",
       "  <tbody>\n",
       "    <tr>\n",
       "      <th>0</th>\n",
       "      <td>19.957</td>\n",
       "      <td>0.0</td>\n",
       "      <td>0.3.3</td>\n",
       "      <td>1c:e8:5d:ca:8f:33</td>\n",
       "      <td>[wpa-eap-tkip][wpa2-eap-ccmp][ess]</td>\n",
       "      <td>d3a2898a5e731607</td>\n",
       "      <td>VS425</td>\n",
       "      <td>5.1.1</td>\n",
       "      <td>2437</td>\n",
       "      <td>56629534</td>\n",
       "      <td>40.690966</td>\n",
       "      <td>-60</td>\n",
       "      <td>-73.987686</td>\n",
       "      <td>nyu-legacy</td>\n",
       "      <td>1497296993826</td>\n",
       "    </tr>\n",
       "    <tr>\n",
       "      <th>1</th>\n",
       "      <td>19.957</td>\n",
       "      <td>0.0</td>\n",
       "      <td>0.3.3</td>\n",
       "      <td>1c:e8:5d:ca:8f:32</td>\n",
       "      <td>[wpa2-eap-ccmp][ess]</td>\n",
       "      <td>d3a2898a5e731607</td>\n",
       "      <td>VS425</td>\n",
       "      <td>5.1.1</td>\n",
       "      <td>2437</td>\n",
       "      <td>56629535</td>\n",
       "      <td>40.690966</td>\n",
       "      <td>-59</td>\n",
       "      <td>-73.987686</td>\n",
       "      <td>eduroam</td>\n",
       "      <td>1497296993826</td>\n",
       "    </tr>\n",
       "    <tr>\n",
       "      <th>2</th>\n",
       "      <td>19.957</td>\n",
       "      <td>0.0</td>\n",
       "      <td>0.3.3</td>\n",
       "      <td>cc:d5:39:27:f2:43</td>\n",
       "      <td>[wpa-eap-tkip][wpa2-eap-ccmp][ess]</td>\n",
       "      <td>d3a2898a5e731607</td>\n",
       "      <td>VS425</td>\n",
       "      <td>5.1.1</td>\n",
       "      <td>2412</td>\n",
       "      <td>56629536</td>\n",
       "      <td>40.690966</td>\n",
       "      <td>-66</td>\n",
       "      <td>-73.987686</td>\n",
       "      <td>nyu-legacy</td>\n",
       "      <td>1497296993826</td>\n",
       "    </tr>\n",
       "    <tr>\n",
       "      <th>3</th>\n",
       "      <td>19.957</td>\n",
       "      <td>0.0</td>\n",
       "      <td>0.3.3</td>\n",
       "      <td>cc:d5:39:27:f2:42</td>\n",
       "      <td>[wpa2-eap-ccmp][ess]</td>\n",
       "      <td>d3a2898a5e731607</td>\n",
       "      <td>VS425</td>\n",
       "      <td>5.1.1</td>\n",
       "      <td>2412</td>\n",
       "      <td>56629537</td>\n",
       "      <td>40.690966</td>\n",
       "      <td>-67</td>\n",
       "      <td>-73.987686</td>\n",
       "      <td>eduroam</td>\n",
       "      <td>1497296993826</td>\n",
       "    </tr>\n",
       "    <tr>\n",
       "      <th>4</th>\n",
       "      <td>19.957</td>\n",
       "      <td>0.0</td>\n",
       "      <td>0.3.3</td>\n",
       "      <td>00:a2:ee:03:e3:20</td>\n",
       "      <td>[wpa2-eap-ccmp][ess]</td>\n",
       "      <td>d3a2898a5e731607</td>\n",
       "      <td>VS425</td>\n",
       "      <td>5.1.1</td>\n",
       "      <td>2412</td>\n",
       "      <td>56629538</td>\n",
       "      <td>40.690966</td>\n",
       "      <td>-73</td>\n",
       "      <td>-73.987686</td>\n",
       "      <td>constitution</td>\n",
       "      <td>1497296993826</td>\n",
       "    </tr>\n",
       "  </tbody>\n",
       "</table>\n",
       "</div>"
      ],
      "text/plain": [
       "      acc  altitude app_version              bssid  \\\n",
       "0  19.957       0.0       0.3.3  1c:e8:5d:ca:8f:33   \n",
       "1  19.957       0.0       0.3.3  1c:e8:5d:ca:8f:32   \n",
       "2  19.957       0.0       0.3.3  cc:d5:39:27:f2:43   \n",
       "3  19.957       0.0       0.3.3  cc:d5:39:27:f2:42   \n",
       "4  19.957       0.0       0.3.3  00:a2:ee:03:e3:20   \n",
       "\n",
       "                                 caps        device_mac device_model  \\\n",
       "0  [wpa-eap-tkip][wpa2-eap-ccmp][ess]  d3a2898a5e731607        VS425   \n",
       "1                [wpa2-eap-ccmp][ess]  d3a2898a5e731607        VS425   \n",
       "2  [wpa-eap-tkip][wpa2-eap-ccmp][ess]  d3a2898a5e731607        VS425   \n",
       "3                [wpa2-eap-ccmp][ess]  d3a2898a5e731607        VS425   \n",
       "4                [wpa2-eap-ccmp][ess]  d3a2898a5e731607        VS425   \n",
       "\n",
       "  droid_version  freq       idx        lat  level        lng          ssid  \\\n",
       "0         5.1.1  2437  56629534  40.690966    -60 -73.987686    nyu-legacy   \n",
       "1         5.1.1  2437  56629535  40.690966    -59 -73.987686       eduroam   \n",
       "2         5.1.1  2412  56629536  40.690966    -66 -73.987686    nyu-legacy   \n",
       "3         5.1.1  2412  56629537  40.690966    -67 -73.987686       eduroam   \n",
       "4         5.1.1  2412  56629538  40.690966    -73 -73.987686  constitution   \n",
       "\n",
       "            time  \n",
       "0  1497296993826  \n",
       "1  1497296993826  \n",
       "2  1497296993826  \n",
       "3  1497296993826  \n",
       "4  1497296993826  "
      ]
     },
     "execution_count": 5,
     "metadata": {},
     "output_type": "execute_result"
    }
   ],
   "source": [
    "wifi_data.head()"
   ]
  },
  {
   "cell_type": "markdown",
   "metadata": {},
   "source": [
    "# Needed variables:\n",
    "* Total Population\n",
    "* Population Density\n",
    "* House Hold Density\n",
    "* Median Household Income\n",
    "* Wifi Counts (open and other)\n",
    "* Location (lat, long)\n",
    "    "
   ]
  },
  {
   "cell_type": "code",
   "execution_count": 450,
   "metadata": {
    "collapsed": true
   },
   "outputs": [],
   "source": [
    "# 2010 & 2000 pop by census tract - BK\n",
    "#NYC_pop_data = pd.read_json(\"https://data.cityofnewyork.us/resource/rx2e-87id.json\", dtype={'census_tract': str})\n",
    "NYC_pop_data = pd.read_csv(\"https://data.cityofnewyork.us/api/views/rx2e-87id/rows.csv?accessType=DOWNLOAD\", dtype={'Census Tract': str})"
   ]
  },
  {
   "cell_type": "code",
   "execution_count": 451,
   "metadata": {
    "collapsed": false
   },
   "outputs": [
    {
     "data": {
      "text/plain": [
       "(1522, 6)"
      ]
     },
     "execution_count": 451,
     "metadata": {},
     "output_type": "execute_result"
    }
   ],
   "source": [
    "NYC_pop_data.shape"
   ]
  },
  {
   "cell_type": "code",
   "execution_count": 452,
   "metadata": {
    "collapsed": false
   },
   "outputs": [
    {
     "data": {
      "text/html": [
       "<div>\n",
       "<table border=\"1\" class=\"dataframe\">\n",
       "  <thead>\n",
       "    <tr style=\"text-align: right;\">\n",
       "      <th></th>\n",
       "      <th>Borough</th>\n",
       "      <th>Year</th>\n",
       "      <th>FIPS County Code</th>\n",
       "      <th>DCP Borough Code</th>\n",
       "      <th>Census Tract</th>\n",
       "      <th>Population</th>\n",
       "    </tr>\n",
       "  </thead>\n",
       "  <tbody>\n",
       "    <tr>\n",
       "      <th>0</th>\n",
       "      <td>Brooklyn</td>\n",
       "      <td>2000</td>\n",
       "      <td>47</td>\n",
       "      <td>3</td>\n",
       "      <td>000100</td>\n",
       "      <td>5498</td>\n",
       "    </tr>\n",
       "    <tr>\n",
       "      <th>1</th>\n",
       "      <td>Brooklyn</td>\n",
       "      <td>2000</td>\n",
       "      <td>47</td>\n",
       "      <td>3</td>\n",
       "      <td>000200</td>\n",
       "      <td>1303</td>\n",
       "    </tr>\n",
       "    <tr>\n",
       "      <th>2</th>\n",
       "      <td>Brooklyn</td>\n",
       "      <td>2000</td>\n",
       "      <td>47</td>\n",
       "      <td>3</td>\n",
       "      <td>000301</td>\n",
       "      <td>5036</td>\n",
       "    </tr>\n",
       "    <tr>\n",
       "      <th>3</th>\n",
       "      <td>Brooklyn</td>\n",
       "      <td>2000</td>\n",
       "      <td>47</td>\n",
       "      <td>3</td>\n",
       "      <td>000501</td>\n",
       "      <td>3415</td>\n",
       "    </tr>\n",
       "    <tr>\n",
       "      <th>4</th>\n",
       "      <td>Brooklyn</td>\n",
       "      <td>2000</td>\n",
       "      <td>47</td>\n",
       "      <td>3</td>\n",
       "      <td>000502</td>\n",
       "      <td>2739</td>\n",
       "    </tr>\n",
       "  </tbody>\n",
       "</table>\n",
       "</div>"
      ],
      "text/plain": [
       "    Borough  Year  FIPS County Code  DCP Borough Code Census Tract  Population\n",
       "0  Brooklyn  2000                47                 3       000100        5498\n",
       "1  Brooklyn  2000                47                 3       000200        1303\n",
       "2  Brooklyn  2000                47                 3       000301        5036\n",
       "3  Brooklyn  2000                47                 3       000501        3415\n",
       "4  Brooklyn  2000                47                 3       000502        2739"
      ]
     },
     "execution_count": 452,
     "metadata": {},
     "output_type": "execute_result"
    }
   ],
   "source": [
    "NYC_pop_data.head()"
   ]
  },
  {
   "cell_type": "code",
   "execution_count": 453,
   "metadata": {
    "collapsed": false
   },
   "outputs": [],
   "source": [
    "NYC_pop_data.drop(NYC_pop_data[NYC_pop_data.Year == 2000].index, inplace=True)"
   ]
  },
  {
   "cell_type": "code",
   "execution_count": 454,
   "metadata": {
    "collapsed": false
   },
   "outputs": [
    {
     "data": {
      "text/html": [
       "<div>\n",
       "<table border=\"1\" class=\"dataframe\">\n",
       "  <thead>\n",
       "    <tr style=\"text-align: right;\">\n",
       "      <th></th>\n",
       "      <th>Borough</th>\n",
       "      <th>Year</th>\n",
       "      <th>FIPS County Code</th>\n",
       "      <th>DCP Borough Code</th>\n",
       "      <th>Census Tract</th>\n",
       "      <th>Population</th>\n",
       "    </tr>\n",
       "  </thead>\n",
       "  <tbody>\n",
       "    <tr>\n",
       "      <th>761</th>\n",
       "      <td>Brooklyn</td>\n",
       "      <td>2010</td>\n",
       "      <td>47</td>\n",
       "      <td>3</td>\n",
       "      <td>000100</td>\n",
       "      <td>4338</td>\n",
       "    </tr>\n",
       "    <tr>\n",
       "      <th>762</th>\n",
       "      <td>Brooklyn</td>\n",
       "      <td>2010</td>\n",
       "      <td>47</td>\n",
       "      <td>3</td>\n",
       "      <td>000200</td>\n",
       "      <td>1470</td>\n",
       "    </tr>\n",
       "    <tr>\n",
       "      <th>763</th>\n",
       "      <td>Brooklyn</td>\n",
       "      <td>2010</td>\n",
       "      <td>47</td>\n",
       "      <td>3</td>\n",
       "      <td>000301</td>\n",
       "      <td>4259</td>\n",
       "    </tr>\n",
       "    <tr>\n",
       "      <th>764</th>\n",
       "      <td>Brooklyn</td>\n",
       "      <td>2010</td>\n",
       "      <td>47</td>\n",
       "      <td>3</td>\n",
       "      <td>000501</td>\n",
       "      <td>4247</td>\n",
       "    </tr>\n",
       "    <tr>\n",
       "      <th>765</th>\n",
       "      <td>Brooklyn</td>\n",
       "      <td>2010</td>\n",
       "      <td>47</td>\n",
       "      <td>3</td>\n",
       "      <td>000502</td>\n",
       "      <td>2512</td>\n",
       "    </tr>\n",
       "  </tbody>\n",
       "</table>\n",
       "</div>"
      ],
      "text/plain": [
       "      Borough  Year  FIPS County Code  DCP Borough Code Census Tract  \\\n",
       "761  Brooklyn  2010                47                 3       000100   \n",
       "762  Brooklyn  2010                47                 3       000200   \n",
       "763  Brooklyn  2010                47                 3       000301   \n",
       "764  Brooklyn  2010                47                 3       000501   \n",
       "765  Brooklyn  2010                47                 3       000502   \n",
       "\n",
       "     Population  \n",
       "761        4338  \n",
       "762        1470  \n",
       "763        4259  \n",
       "764        4247  \n",
       "765        2512  "
      ]
     },
     "execution_count": 454,
     "metadata": {},
     "output_type": "execute_result"
    }
   ],
   "source": [
    "NYC_pop_data.head()"
   ]
  },
  {
   "cell_type": "code",
   "execution_count": 455,
   "metadata": {
    "collapsed": false
   },
   "outputs": [
    {
     "data": {
      "text/plain": [
       "(761, 6)"
      ]
     },
     "execution_count": 455,
     "metadata": {},
     "output_type": "execute_result"
    }
   ],
   "source": [
    "NYC_pop_data.shape"
   ]
  },
  {
   "cell_type": "code",
   "execution_count": 456,
   "metadata": {
    "collapsed": false
   },
   "outputs": [],
   "source": [
    "NYC_pop_data[\"boro_ct2010\"] = NYC_pop_data[\"DCP Borough Code\"].astype(str) + NYC_pop_data[\"Census Tract\"].astype(str)"
   ]
  },
  {
   "cell_type": "code",
   "execution_count": 457,
   "metadata": {
    "collapsed": true
   },
   "outputs": [],
   "source": [
    "NYC_pop_data[\"boro_ct2010\"] = NYC_pop_data[\"boro_ct2010\"].astype(int)"
   ]
  },
  {
   "cell_type": "code",
   "execution_count": 458,
   "metadata": {
    "collapsed": false
   },
   "outputs": [
    {
     "data": {
      "text/plain": [
       "dtype('int64')"
      ]
     },
     "execution_count": 458,
     "metadata": {},
     "output_type": "execute_result"
    }
   ],
   "source": [
    "NYC_pop_data[\"boro_ct2010\"].dtype"
   ]
  },
  {
   "cell_type": "code",
   "execution_count": 459,
   "metadata": {
    "collapsed": false
   },
   "outputs": [
    {
     "data": {
      "text/plain": [
       "array(['Brooklyn'], dtype=object)"
      ]
     },
     "execution_count": 459,
     "metadata": {},
     "output_type": "execute_result"
    }
   ],
   "source": [
    "NYC_pop_data.Borough.unique()"
   ]
  },
  {
   "cell_type": "code",
   "execution_count": 460,
   "metadata": {
    "collapsed": false
   },
   "outputs": [
    {
     "data": {
      "text/html": [
       "<div>\n",
       "<table border=\"1\" class=\"dataframe\">\n",
       "  <thead>\n",
       "    <tr style=\"text-align: right;\">\n",
       "      <th></th>\n",
       "      <th>Borough</th>\n",
       "      <th>Year</th>\n",
       "      <th>FIPS County Code</th>\n",
       "      <th>DCP Borough Code</th>\n",
       "      <th>Census Tract</th>\n",
       "      <th>Population</th>\n",
       "      <th>boro_ct2010</th>\n",
       "    </tr>\n",
       "  </thead>\n",
       "  <tbody>\n",
       "    <tr>\n",
       "      <th>761</th>\n",
       "      <td>Brooklyn</td>\n",
       "      <td>2010</td>\n",
       "      <td>47</td>\n",
       "      <td>3</td>\n",
       "      <td>000100</td>\n",
       "      <td>4338</td>\n",
       "      <td>3000100</td>\n",
       "    </tr>\n",
       "    <tr>\n",
       "      <th>762</th>\n",
       "      <td>Brooklyn</td>\n",
       "      <td>2010</td>\n",
       "      <td>47</td>\n",
       "      <td>3</td>\n",
       "      <td>000200</td>\n",
       "      <td>1470</td>\n",
       "      <td>3000200</td>\n",
       "    </tr>\n",
       "    <tr>\n",
       "      <th>763</th>\n",
       "      <td>Brooklyn</td>\n",
       "      <td>2010</td>\n",
       "      <td>47</td>\n",
       "      <td>3</td>\n",
       "      <td>000301</td>\n",
       "      <td>4259</td>\n",
       "      <td>3000301</td>\n",
       "    </tr>\n",
       "    <tr>\n",
       "      <th>764</th>\n",
       "      <td>Brooklyn</td>\n",
       "      <td>2010</td>\n",
       "      <td>47</td>\n",
       "      <td>3</td>\n",
       "      <td>000501</td>\n",
       "      <td>4247</td>\n",
       "      <td>3000501</td>\n",
       "    </tr>\n",
       "    <tr>\n",
       "      <th>765</th>\n",
       "      <td>Brooklyn</td>\n",
       "      <td>2010</td>\n",
       "      <td>47</td>\n",
       "      <td>3</td>\n",
       "      <td>000502</td>\n",
       "      <td>2512</td>\n",
       "      <td>3000502</td>\n",
       "    </tr>\n",
       "  </tbody>\n",
       "</table>\n",
       "</div>"
      ],
      "text/plain": [
       "      Borough  Year  FIPS County Code  DCP Borough Code Census Tract  \\\n",
       "761  Brooklyn  2010                47                 3       000100   \n",
       "762  Brooklyn  2010                47                 3       000200   \n",
       "763  Brooklyn  2010                47                 3       000301   \n",
       "764  Brooklyn  2010                47                 3       000501   \n",
       "765  Brooklyn  2010                47                 3       000502   \n",
       "\n",
       "     Population  boro_ct2010  \n",
       "761        4338      3000100  \n",
       "762        1470      3000200  \n",
       "763        4259      3000301  \n",
       "764        4247      3000501  \n",
       "765        2512      3000502  "
      ]
     },
     "execution_count": 460,
     "metadata": {},
     "output_type": "execute_result"
    }
   ],
   "source": [
    "# 6 digits\n",
    "# leading with 2 zeros for 2 digit numbers\n",
    "# leading with 1 zeros for 3 digit numbers\n",
    "# ending with 2 zeros for decimal places\n",
    "\n",
    "NYC_pop_data[NYC_pop_data[\"Census Tract\"].str.contains(\"0\")].head()"
   ]
  },
  {
   "cell_type": "code",
   "execution_count": 461,
   "metadata": {
    "collapsed": false
   },
   "outputs": [
    {
     "data": {
      "text/plain": [
       "(761, 7)"
      ]
     },
     "execution_count": 461,
     "metadata": {},
     "output_type": "execute_result"
    }
   ],
   "source": [
    "NYC_pop_data.shape"
   ]
  },
  {
   "cell_type": "code",
   "execution_count": 546,
   "metadata": {
    "collapsed": false
   },
   "outputs": [
    {
     "data": {
      "text/html": [
       "<div>\n",
       "<table border=\"1\" class=\"dataframe\">\n",
       "  <thead>\n",
       "    <tr style=\"text-align: right;\">\n",
       "      <th></th>\n",
       "      <th>BoroName</th>\n",
       "      <th>BoroCode</th>\n",
       "      <th>the_geom</th>\n",
       "      <th>CTLabel</th>\n",
       "      <th>CT2010</th>\n",
       "      <th>BoroCT2010</th>\n",
       "      <th>CDEligibil</th>\n",
       "      <th>NTACode</th>\n",
       "      <th>NTAName</th>\n",
       "      <th>PUMA</th>\n",
       "      <th>Shape_Leng</th>\n",
       "      <th>Shape_Area</th>\n",
       "    </tr>\n",
       "  </thead>\n",
       "  <tbody>\n",
       "    <tr>\n",
       "      <th>0</th>\n",
       "      <td>Staten Island</td>\n",
       "      <td>5</td>\n",
       "      <td>MULTIPOLYGON (((-74.07920577013245 40.64343078...</td>\n",
       "      <td>9.0</td>\n",
       "      <td>900</td>\n",
       "      <td>5000900</td>\n",
       "      <td>I</td>\n",
       "      <td>SI22</td>\n",
       "      <td>West New Brighton-New Brighton-St. George</td>\n",
       "      <td>3903</td>\n",
       "      <td>7729.016794</td>\n",
       "      <td>2.497010e+06</td>\n",
       "    </tr>\n",
       "    <tr>\n",
       "      <th>1</th>\n",
       "      <td>Manhattan</td>\n",
       "      <td>1</td>\n",
       "      <td>MULTIPOLYGON (((-73.96432543478758 40.75638153...</td>\n",
       "      <td>98.0</td>\n",
       "      <td>9800</td>\n",
       "      <td>1009800</td>\n",
       "      <td>I</td>\n",
       "      <td>MN19</td>\n",
       "      <td>Turtle Bay-East Midtown</td>\n",
       "      <td>3808</td>\n",
       "      <td>5534.199811</td>\n",
       "      <td>1.906016e+06</td>\n",
       "    </tr>\n",
       "    <tr>\n",
       "      <th>2</th>\n",
       "      <td>Manhattan</td>\n",
       "      <td>1</td>\n",
       "      <td>MULTIPOLYGON (((-73.96802436915851 40.75957814...</td>\n",
       "      <td>100.0</td>\n",
       "      <td>10000</td>\n",
       "      <td>1010000</td>\n",
       "      <td>I</td>\n",
       "      <td>MN19</td>\n",
       "      <td>Turtle Bay-East Midtown</td>\n",
       "      <td>3808</td>\n",
       "      <td>5692.168737</td>\n",
       "      <td>1.860938e+06</td>\n",
       "    </tr>\n",
       "    <tr>\n",
       "      <th>3</th>\n",
       "      <td>Manhattan</td>\n",
       "      <td>1</td>\n",
       "      <td>MULTIPOLYGON (((-73.97124277307127 40.76093641...</td>\n",
       "      <td>102.0</td>\n",
       "      <td>10200</td>\n",
       "      <td>1010200</td>\n",
       "      <td>I</td>\n",
       "      <td>MN17</td>\n",
       "      <td>Midtown-Midtown South</td>\n",
       "      <td>3807</td>\n",
       "      <td>5687.802439</td>\n",
       "      <td>1.860993e+06</td>\n",
       "    </tr>\n",
       "    <tr>\n",
       "      <th>4</th>\n",
       "      <td>Manhattan</td>\n",
       "      <td>1</td>\n",
       "      <td>MULTIPOLYGON (((-73.97445730550224 40.76229308...</td>\n",
       "      <td>104.0</td>\n",
       "      <td>10400</td>\n",
       "      <td>1010400</td>\n",
       "      <td>I</td>\n",
       "      <td>MN17</td>\n",
       "      <td>Midtown-Midtown South</td>\n",
       "      <td>3807</td>\n",
       "      <td>5693.036367</td>\n",
       "      <td>1.864600e+06</td>\n",
       "    </tr>\n",
       "  </tbody>\n",
       "</table>\n",
       "</div>"
      ],
      "text/plain": [
       "        BoroName  BoroCode                                           the_geom  \\\n",
       "0  Staten Island         5  MULTIPOLYGON (((-74.07920577013245 40.64343078...   \n",
       "1      Manhattan         1  MULTIPOLYGON (((-73.96432543478758 40.75638153...   \n",
       "2      Manhattan         1  MULTIPOLYGON (((-73.96802436915851 40.75957814...   \n",
       "3      Manhattan         1  MULTIPOLYGON (((-73.97124277307127 40.76093641...   \n",
       "4      Manhattan         1  MULTIPOLYGON (((-73.97445730550224 40.76229308...   \n",
       "\n",
       "   CTLabel  CT2010  BoroCT2010 CDEligibil NTACode  \\\n",
       "0      9.0     900     5000900          I    SI22   \n",
       "1     98.0    9800     1009800          I    MN19   \n",
       "2    100.0   10000     1010000          I    MN19   \n",
       "3    102.0   10200     1010200          I    MN17   \n",
       "4    104.0   10400     1010400          I    MN17   \n",
       "\n",
       "                                     NTAName  PUMA   Shape_Leng    Shape_Area  \n",
       "0  West New Brighton-New Brighton-St. George  3903  7729.016794  2.497010e+06  \n",
       "1                    Turtle Bay-East Midtown  3808  5534.199811  1.906016e+06  \n",
       "2                    Turtle Bay-East Midtown  3808  5692.168737  1.860938e+06  \n",
       "3                      Midtown-Midtown South  3807  5687.802439  1.860993e+06  \n",
       "4                      Midtown-Midtown South  3807  5693.036367  1.864600e+06  "
      ]
     },
     "execution_count": 546,
     "metadata": {},
     "output_type": "execute_result"
    }
   ],
   "source": [
    "# 2010 Census Tracts - NYC Open Data\n",
    "# https://data.cityofnewyork.us/City-Government/2010-Census-Tracts/fxpq-c8ku\n",
    "\n",
    "\"\"\"REFERENCE SYSTEM IDENTIFIER\n",
    "* VALUE 2263\n",
    "* CODESPACE EPSG\n",
    "* VERSION 8.6.2\"\"\"\n",
    "\n",
    "#data = requests.get(\"https://data.cityofnewyork.us/resource/i69b-3rdj.json\")\n",
    "data = \"https://data.cityofnewyork.us/api/views/i69b-3rdj/rows.csv?accessType=DOWNLOAD\"\n",
    "df = pd.read_csv(data)\n",
    "gdf = gpd.GeoDataFrame(df) #(data.json())\n",
    "gdf.head()"
   ]
  },
  {
   "cell_type": "code",
   "execution_count": 552,
   "metadata": {
    "collapsed": false
   },
   "outputs": [],
   "source": [
    "gdf[\"boro_ct2010\"] = gdf[\"BoroCT2010\"].astype(int)"
   ]
  },
  {
   "cell_type": "code",
   "execution_count": 555,
   "metadata": {
    "collapsed": false
   },
   "outputs": [
    {
     "data": {
      "text/plain": [
       "(760, 13)"
      ]
     },
     "execution_count": 555,
     "metadata": {},
     "output_type": "execute_result"
    }
   ],
   "source": [
    "gdf[gdf.BoroCode == 3].shape"
   ]
  },
  {
   "cell_type": "code",
   "execution_count": 556,
   "metadata": {
    "collapsed": true
   },
   "outputs": [],
   "source": [
    "#country_shapes = country_shapes.merge(country_names, on='iso_a3')\n",
    "NYC_shape = gdf.merge(NYC_pop_data, on=\"boro_ct2010\")"
   ]
  },
  {
   "cell_type": "code",
   "execution_count": 557,
   "metadata": {
    "collapsed": false
   },
   "outputs": [
    {
     "data": {
      "text/plain": [
       "(760, 19)"
      ]
     },
     "execution_count": 557,
     "metadata": {},
     "output_type": "execute_result"
    }
   ],
   "source": [
    "NYC_shape.shape"
   ]
  },
  {
   "cell_type": "code",
   "execution_count": 558,
   "metadata": {
    "collapsed": false
   },
   "outputs": [
    {
     "data": {
      "text/html": [
       "<div>\n",
       "<table border=\"1\" class=\"dataframe\">\n",
       "  <thead>\n",
       "    <tr style=\"text-align: right;\">\n",
       "      <th></th>\n",
       "      <th>BoroName</th>\n",
       "      <th>BoroCode</th>\n",
       "      <th>the_geom</th>\n",
       "      <th>CTLabel</th>\n",
       "      <th>CT2010</th>\n",
       "      <th>BoroCT2010</th>\n",
       "      <th>CDEligibil</th>\n",
       "      <th>NTACode</th>\n",
       "      <th>NTAName</th>\n",
       "      <th>PUMA</th>\n",
       "      <th>Shape_Leng</th>\n",
       "      <th>Shape_Area</th>\n",
       "      <th>boro_ct2010</th>\n",
       "      <th>Borough</th>\n",
       "      <th>Year</th>\n",
       "      <th>FIPS County Code</th>\n",
       "      <th>DCP Borough Code</th>\n",
       "      <th>Census Tract</th>\n",
       "      <th>Population</th>\n",
       "    </tr>\n",
       "  </thead>\n",
       "  <tbody>\n",
       "    <tr>\n",
       "      <th>0</th>\n",
       "      <td>Brooklyn</td>\n",
       "      <td>3</td>\n",
       "      <td>MULTIPOLYGON (((-73.99301822153384 40.69746236...</td>\n",
       "      <td>5.01</td>\n",
       "      <td>501</td>\n",
       "      <td>3000501</td>\n",
       "      <td>I</td>\n",
       "      <td>BK09</td>\n",
       "      <td>Brooklyn Heights-Cobble Hill</td>\n",
       "      <td>4004</td>\n",
       "      <td>4828.169912</td>\n",
       "      <td>9.015070e+05</td>\n",
       "      <td>3000501</td>\n",
       "      <td>Brooklyn</td>\n",
       "      <td>2010</td>\n",
       "      <td>47</td>\n",
       "      <td>3</td>\n",
       "      <td>000501</td>\n",
       "      <td>4247</td>\n",
       "    </tr>\n",
       "    <tr>\n",
       "      <th>1</th>\n",
       "      <td>Brooklyn</td>\n",
       "      <td>3</td>\n",
       "      <td>MULTIPOLYGON (((-74.01266264860631 40.64925555...</td>\n",
       "      <td>20.00</td>\n",
       "      <td>2000</td>\n",
       "      <td>3002000</td>\n",
       "      <td>I</td>\n",
       "      <td>BK32</td>\n",
       "      <td>Sunset Park West</td>\n",
       "      <td>4012</td>\n",
       "      <td>5426.067279</td>\n",
       "      <td>1.620770e+06</td>\n",
       "      <td>3002000</td>\n",
       "      <td>Brooklyn</td>\n",
       "      <td>2010</td>\n",
       "      <td>47</td>\n",
       "      <td>3</td>\n",
       "      <td>002000</td>\n",
       "      <td>1672</td>\n",
       "    </tr>\n",
       "    <tr>\n",
       "      <th>2</th>\n",
       "      <td>Brooklyn</td>\n",
       "      <td>3</td>\n",
       "      <td>MULTIPOLYGON (((-73.98181677448231 40.68732980...</td>\n",
       "      <td>41.00</td>\n",
       "      <td>4100</td>\n",
       "      <td>3004100</td>\n",
       "      <td>I</td>\n",
       "      <td>BK38</td>\n",
       "      <td>DUMBO-Vinegar Hill-Downtown Brooklyn-Boerum Hill</td>\n",
       "      <td>4004</td>\n",
       "      <td>5283.856660</td>\n",
       "      <td>1.744094e+06</td>\n",
       "      <td>3004100</td>\n",
       "      <td>Brooklyn</td>\n",
       "      <td>2010</td>\n",
       "      <td>47</td>\n",
       "      <td>3</td>\n",
       "      <td>004100</td>\n",
       "      <td>3598</td>\n",
       "    </tr>\n",
       "    <tr>\n",
       "      <th>3</th>\n",
       "      <td>Brooklyn</td>\n",
       "      <td>3</td>\n",
       "      <td>MULTIPOLYGON (((-74.03809447949381 40.62058489...</td>\n",
       "      <td>52.02</td>\n",
       "      <td>5202</td>\n",
       "      <td>3005202</td>\n",
       "      <td>I</td>\n",
       "      <td>BK31</td>\n",
       "      <td>Bay Ridge</td>\n",
       "      <td>4013</td>\n",
       "      <td>5190.713818</td>\n",
       "      <td>1.398134e+06</td>\n",
       "      <td>3005202</td>\n",
       "      <td>Brooklyn</td>\n",
       "      <td>2010</td>\n",
       "      <td>47</td>\n",
       "      <td>3</td>\n",
       "      <td>005202</td>\n",
       "      <td>2481</td>\n",
       "    </tr>\n",
       "    <tr>\n",
       "      <th>4</th>\n",
       "      <td>Brooklyn</td>\n",
       "      <td>3</td>\n",
       "      <td>MULTIPOLYGON (((-74.02956408409689 40.61983253...</td>\n",
       "      <td>58.00</td>\n",
       "      <td>5800</td>\n",
       "      <td>3005800</td>\n",
       "      <td>E</td>\n",
       "      <td>BK31</td>\n",
       "      <td>Bay Ridge</td>\n",
       "      <td>4013</td>\n",
       "      <td>6098.167799</td>\n",
       "      <td>2.080303e+06</td>\n",
       "      <td>3005800</td>\n",
       "      <td>Brooklyn</td>\n",
       "      <td>2010</td>\n",
       "      <td>47</td>\n",
       "      <td>3</td>\n",
       "      <td>005800</td>\n",
       "      <td>3152</td>\n",
       "    </tr>\n",
       "  </tbody>\n",
       "</table>\n",
       "</div>"
      ],
      "text/plain": [
       "   BoroName  BoroCode                                           the_geom  \\\n",
       "0  Brooklyn         3  MULTIPOLYGON (((-73.99301822153384 40.69746236...   \n",
       "1  Brooklyn         3  MULTIPOLYGON (((-74.01266264860631 40.64925555...   \n",
       "2  Brooklyn         3  MULTIPOLYGON (((-73.98181677448231 40.68732980...   \n",
       "3  Brooklyn         3  MULTIPOLYGON (((-74.03809447949381 40.62058489...   \n",
       "4  Brooklyn         3  MULTIPOLYGON (((-74.02956408409689 40.61983253...   \n",
       "\n",
       "   CTLabel  CT2010  BoroCT2010 CDEligibil NTACode  \\\n",
       "0     5.01     501     3000501          I    BK09   \n",
       "1    20.00    2000     3002000          I    BK32   \n",
       "2    41.00    4100     3004100          I    BK38   \n",
       "3    52.02    5202     3005202          I    BK31   \n",
       "4    58.00    5800     3005800          E    BK31   \n",
       "\n",
       "                                            NTAName  PUMA   Shape_Leng  \\\n",
       "0                      Brooklyn Heights-Cobble Hill  4004  4828.169912   \n",
       "1                                  Sunset Park West  4012  5426.067279   \n",
       "2  DUMBO-Vinegar Hill-Downtown Brooklyn-Boerum Hill  4004  5283.856660   \n",
       "3                                         Bay Ridge  4013  5190.713818   \n",
       "4                                         Bay Ridge  4013  6098.167799   \n",
       "\n",
       "     Shape_Area  boro_ct2010   Borough  Year  FIPS County Code  \\\n",
       "0  9.015070e+05      3000501  Brooklyn  2010                47   \n",
       "1  1.620770e+06      3002000  Brooklyn  2010                47   \n",
       "2  1.744094e+06      3004100  Brooklyn  2010                47   \n",
       "3  1.398134e+06      3005202  Brooklyn  2010                47   \n",
       "4  2.080303e+06      3005800  Brooklyn  2010                47   \n",
       "\n",
       "   DCP Borough Code Census Tract  Population  \n",
       "0                 3       000501        4247  \n",
       "1                 3       002000        1672  \n",
       "2                 3       004100        3598  \n",
       "3                 3       005202        2481  \n",
       "4                 3       005800        3152  "
      ]
     },
     "execution_count": 558,
     "metadata": {},
     "output_type": "execute_result"
    }
   ],
   "source": [
    "NYC_shape.head()"
   ]
  },
  {
   "cell_type": "code",
   "execution_count": 559,
   "metadata": {
    "collapsed": false
   },
   "outputs": [
    {
     "data": {
      "text/plain": [
       "dtype('int64')"
      ]
     },
     "execution_count": 559,
     "metadata": {},
     "output_type": "execute_result"
    }
   ],
   "source": [
    "NYC_shape.Population.dtype"
   ]
  },
  {
   "cell_type": "code",
   "execution_count": 561,
   "metadata": {
    "collapsed": false
   },
   "outputs": [
    {
     "data": {
      "text/plain": [
       "dtype('float64')"
      ]
     },
     "execution_count": 561,
     "metadata": {},
     "output_type": "execute_result"
    }
   ],
   "source": [
    "NYC_shape.Shape_Area.dtype"
   ]
  },
  {
   "cell_type": "code",
   "execution_count": 566,
   "metadata": {
    "collapsed": false
   },
   "outputs": [
    {
     "data": {
      "text/html": [
       "<div>\n",
       "<table border=\"1\" class=\"dataframe\">\n",
       "  <thead>\n",
       "    <tr style=\"text-align: right;\">\n",
       "      <th></th>\n",
       "      <th>BoroName</th>\n",
       "      <th>BoroCode</th>\n",
       "      <th>the_geom</th>\n",
       "      <th>CTLabel</th>\n",
       "      <th>CT2010</th>\n",
       "      <th>BoroCT2010</th>\n",
       "      <th>CDEligibil</th>\n",
       "      <th>NTACode</th>\n",
       "      <th>NTAName</th>\n",
       "      <th>PUMA</th>\n",
       "      <th>Shape_Leng</th>\n",
       "      <th>Shape_Area</th>\n",
       "      <th>boro_ct2010</th>\n",
       "      <th>Borough</th>\n",
       "      <th>Year</th>\n",
       "      <th>FIPS County Code</th>\n",
       "      <th>DCP Borough Code</th>\n",
       "      <th>Census Tract</th>\n",
       "      <th>Population</th>\n",
       "    </tr>\n",
       "  </thead>\n",
       "  <tbody>\n",
       "    <tr>\n",
       "      <th>0</th>\n",
       "      <td>Brooklyn</td>\n",
       "      <td>3</td>\n",
       "      <td>MULTIPOLYGON (((-73.99301822153384 40.69746236...</td>\n",
       "      <td>5.01</td>\n",
       "      <td>501</td>\n",
       "      <td>3000501</td>\n",
       "      <td>I</td>\n",
       "      <td>BK09</td>\n",
       "      <td>Brooklyn Heights-Cobble Hill</td>\n",
       "      <td>4004</td>\n",
       "      <td>4828.169912</td>\n",
       "      <td>9.015070e+05</td>\n",
       "      <td>3000501</td>\n",
       "      <td>Brooklyn</td>\n",
       "      <td>2010</td>\n",
       "      <td>47</td>\n",
       "      <td>3</td>\n",
       "      <td>000501</td>\n",
       "      <td>4247</td>\n",
       "    </tr>\n",
       "    <tr>\n",
       "      <th>1</th>\n",
       "      <td>Brooklyn</td>\n",
       "      <td>3</td>\n",
       "      <td>MULTIPOLYGON (((-74.01266264860631 40.64925555...</td>\n",
       "      <td>20.00</td>\n",
       "      <td>2000</td>\n",
       "      <td>3002000</td>\n",
       "      <td>I</td>\n",
       "      <td>BK32</td>\n",
       "      <td>Sunset Park West</td>\n",
       "      <td>4012</td>\n",
       "      <td>5426.067279</td>\n",
       "      <td>1.620770e+06</td>\n",
       "      <td>3002000</td>\n",
       "      <td>Brooklyn</td>\n",
       "      <td>2010</td>\n",
       "      <td>47</td>\n",
       "      <td>3</td>\n",
       "      <td>002000</td>\n",
       "      <td>1672</td>\n",
       "    </tr>\n",
       "    <tr>\n",
       "      <th>2</th>\n",
       "      <td>Brooklyn</td>\n",
       "      <td>3</td>\n",
       "      <td>MULTIPOLYGON (((-73.98181677448231 40.68732980...</td>\n",
       "      <td>41.00</td>\n",
       "      <td>4100</td>\n",
       "      <td>3004100</td>\n",
       "      <td>I</td>\n",
       "      <td>BK38</td>\n",
       "      <td>DUMBO-Vinegar Hill-Downtown Brooklyn-Boerum Hill</td>\n",
       "      <td>4004</td>\n",
       "      <td>5283.856660</td>\n",
       "      <td>1.744094e+06</td>\n",
       "      <td>3004100</td>\n",
       "      <td>Brooklyn</td>\n",
       "      <td>2010</td>\n",
       "      <td>47</td>\n",
       "      <td>3</td>\n",
       "      <td>004100</td>\n",
       "      <td>3598</td>\n",
       "    </tr>\n",
       "    <tr>\n",
       "      <th>3</th>\n",
       "      <td>Brooklyn</td>\n",
       "      <td>3</td>\n",
       "      <td>MULTIPOLYGON (((-74.03809447949381 40.62058489...</td>\n",
       "      <td>52.02</td>\n",
       "      <td>5202</td>\n",
       "      <td>3005202</td>\n",
       "      <td>I</td>\n",
       "      <td>BK31</td>\n",
       "      <td>Bay Ridge</td>\n",
       "      <td>4013</td>\n",
       "      <td>5190.713818</td>\n",
       "      <td>1.398134e+06</td>\n",
       "      <td>3005202</td>\n",
       "      <td>Brooklyn</td>\n",
       "      <td>2010</td>\n",
       "      <td>47</td>\n",
       "      <td>3</td>\n",
       "      <td>005202</td>\n",
       "      <td>2481</td>\n",
       "    </tr>\n",
       "    <tr>\n",
       "      <th>4</th>\n",
       "      <td>Brooklyn</td>\n",
       "      <td>3</td>\n",
       "      <td>MULTIPOLYGON (((-74.02956408409689 40.61983253...</td>\n",
       "      <td>58.00</td>\n",
       "      <td>5800</td>\n",
       "      <td>3005800</td>\n",
       "      <td>E</td>\n",
       "      <td>BK31</td>\n",
       "      <td>Bay Ridge</td>\n",
       "      <td>4013</td>\n",
       "      <td>6098.167799</td>\n",
       "      <td>2.080303e+06</td>\n",
       "      <td>3005800</td>\n",
       "      <td>Brooklyn</td>\n",
       "      <td>2010</td>\n",
       "      <td>47</td>\n",
       "      <td>3</td>\n",
       "      <td>005800</td>\n",
       "      <td>3152</td>\n",
       "    </tr>\n",
       "  </tbody>\n",
       "</table>\n",
       "</div>"
      ],
      "text/plain": [
       "   BoroName  BoroCode                                           the_geom  \\\n",
       "0  Brooklyn         3  MULTIPOLYGON (((-73.99301822153384 40.69746236...   \n",
       "1  Brooklyn         3  MULTIPOLYGON (((-74.01266264860631 40.64925555...   \n",
       "2  Brooklyn         3  MULTIPOLYGON (((-73.98181677448231 40.68732980...   \n",
       "3  Brooklyn         3  MULTIPOLYGON (((-74.03809447949381 40.62058489...   \n",
       "4  Brooklyn         3  MULTIPOLYGON (((-74.02956408409689 40.61983253...   \n",
       "\n",
       "   CTLabel  CT2010  BoroCT2010 CDEligibil NTACode  \\\n",
       "0     5.01     501     3000501          I    BK09   \n",
       "1    20.00    2000     3002000          I    BK32   \n",
       "2    41.00    4100     3004100          I    BK38   \n",
       "3    52.02    5202     3005202          I    BK31   \n",
       "4    58.00    5800     3005800          E    BK31   \n",
       "\n",
       "                                            NTAName  PUMA   Shape_Leng  \\\n",
       "0                      Brooklyn Heights-Cobble Hill  4004  4828.169912   \n",
       "1                                  Sunset Park West  4012  5426.067279   \n",
       "2  DUMBO-Vinegar Hill-Downtown Brooklyn-Boerum Hill  4004  5283.856660   \n",
       "3                                         Bay Ridge  4013  5190.713818   \n",
       "4                                         Bay Ridge  4013  6098.167799   \n",
       "\n",
       "     Shape_Area  boro_ct2010   Borough  Year  FIPS County Code  \\\n",
       "0  9.015070e+05      3000501  Brooklyn  2010                47   \n",
       "1  1.620770e+06      3002000  Brooklyn  2010                47   \n",
       "2  1.744094e+06      3004100  Brooklyn  2010                47   \n",
       "3  1.398134e+06      3005202  Brooklyn  2010                47   \n",
       "4  2.080303e+06      3005800  Brooklyn  2010                47   \n",
       "\n",
       "   DCP Borough Code Census Tract  Population  \n",
       "0                 3       000501        4247  \n",
       "1                 3       002000        1672  \n",
       "2                 3       004100        3598  \n",
       "3                 3       005202        2481  \n",
       "4                 3       005800        3152  "
      ]
     },
     "execution_count": 566,
     "metadata": {},
     "output_type": "execute_result"
    }
   ],
   "source": [
    "NYC_shape.head()"
   ]
  },
  {
   "cell_type": "code",
   "execution_count": 567,
   "metadata": {
    "collapsed": true
   },
   "outputs": [],
   "source": [
    "#from fiona.crs import from_epsg\n",
    "#ct_shape.crs = from_epsg(4326) # epsg=4326: lat/on | 26918: NAD83/UTM zone 18N | epsg=2263 is US feet\n",
    "#NYC_Area=ct_shape.to_crs(epsg=2263).geometry.area.sum()/(2.788*10**7) # from ft2 to mi2 \n",
    "#print 'total NYC land area: %s (mi^2)'%str(NYC_Area)[:5] # from ft2 to mi2 #epsg=2263 is US feet"
   ]
  },
  {
   "cell_type": "code",
   "execution_count": 568,
   "metadata": {
    "collapsed": true
   },
   "outputs": [],
   "source": [
    "NYC_shape.crs = from_epsg(4326)"
   ]
  },
  {
   "cell_type": "code",
   "execution_count": 569,
   "metadata": {
    "collapsed": false
   },
   "outputs": [
    {
     "data": {
      "text/plain": [
       "{'init': 'epsg:4326', 'no_defs': True}"
      ]
     },
     "execution_count": 569,
     "metadata": {},
     "output_type": "execute_result"
    }
   ],
   "source": [
    "NYC_shape.crs"
   ]
  },
  {
   "cell_type": "code",
   "execution_count": 571,
   "metadata": {
    "collapsed": false
   },
   "outputs": [],
   "source": [
    "# Population density by 1,000 sq feet\n",
    "NYC_shape[\"pop_density\"] = (NYC_shape.Population/NYC_shape.Shape_Area)*1000"
   ]
  },
  {
   "cell_type": "code",
   "execution_count": 572,
   "metadata": {
    "collapsed": false
   },
   "outputs": [
    {
     "data": {
      "text/html": [
       "<div>\n",
       "<table border=\"1\" class=\"dataframe\">\n",
       "  <thead>\n",
       "    <tr style=\"text-align: right;\">\n",
       "      <th></th>\n",
       "      <th>BoroName</th>\n",
       "      <th>BoroCode</th>\n",
       "      <th>the_geom</th>\n",
       "      <th>CTLabel</th>\n",
       "      <th>CT2010</th>\n",
       "      <th>BoroCT2010</th>\n",
       "      <th>CDEligibil</th>\n",
       "      <th>NTACode</th>\n",
       "      <th>NTAName</th>\n",
       "      <th>PUMA</th>\n",
       "      <th>Shape_Leng</th>\n",
       "      <th>Shape_Area</th>\n",
       "      <th>boro_ct2010</th>\n",
       "      <th>Borough</th>\n",
       "      <th>Year</th>\n",
       "      <th>FIPS County Code</th>\n",
       "      <th>DCP Borough Code</th>\n",
       "      <th>Census Tract</th>\n",
       "      <th>Population</th>\n",
       "      <th>pop_density</th>\n",
       "    </tr>\n",
       "  </thead>\n",
       "  <tbody>\n",
       "    <tr>\n",
       "      <th>0</th>\n",
       "      <td>Brooklyn</td>\n",
       "      <td>3</td>\n",
       "      <td>MULTIPOLYGON (((-73.99301822153384 40.69746236...</td>\n",
       "      <td>5.01</td>\n",
       "      <td>501</td>\n",
       "      <td>3000501</td>\n",
       "      <td>I</td>\n",
       "      <td>BK09</td>\n",
       "      <td>Brooklyn Heights-Cobble Hill</td>\n",
       "      <td>4004</td>\n",
       "      <td>4828.169912</td>\n",
       "      <td>9.015070e+05</td>\n",
       "      <td>3000501</td>\n",
       "      <td>Brooklyn</td>\n",
       "      <td>2010</td>\n",
       "      <td>47</td>\n",
       "      <td>3</td>\n",
       "      <td>000501</td>\n",
       "      <td>4247</td>\n",
       "      <td>4.711001</td>\n",
       "    </tr>\n",
       "    <tr>\n",
       "      <th>1</th>\n",
       "      <td>Brooklyn</td>\n",
       "      <td>3</td>\n",
       "      <td>MULTIPOLYGON (((-74.01266264860631 40.64925555...</td>\n",
       "      <td>20.00</td>\n",
       "      <td>2000</td>\n",
       "      <td>3002000</td>\n",
       "      <td>I</td>\n",
       "      <td>BK32</td>\n",
       "      <td>Sunset Park West</td>\n",
       "      <td>4012</td>\n",
       "      <td>5426.067279</td>\n",
       "      <td>1.620770e+06</td>\n",
       "      <td>3002000</td>\n",
       "      <td>Brooklyn</td>\n",
       "      <td>2010</td>\n",
       "      <td>47</td>\n",
       "      <td>3</td>\n",
       "      <td>002000</td>\n",
       "      <td>1672</td>\n",
       "      <td>1.031608</td>\n",
       "    </tr>\n",
       "    <tr>\n",
       "      <th>2</th>\n",
       "      <td>Brooklyn</td>\n",
       "      <td>3</td>\n",
       "      <td>MULTIPOLYGON (((-73.98181677448231 40.68732980...</td>\n",
       "      <td>41.00</td>\n",
       "      <td>4100</td>\n",
       "      <td>3004100</td>\n",
       "      <td>I</td>\n",
       "      <td>BK38</td>\n",
       "      <td>DUMBO-Vinegar Hill-Downtown Brooklyn-Boerum Hill</td>\n",
       "      <td>4004</td>\n",
       "      <td>5283.856660</td>\n",
       "      <td>1.744094e+06</td>\n",
       "      <td>3004100</td>\n",
       "      <td>Brooklyn</td>\n",
       "      <td>2010</td>\n",
       "      <td>47</td>\n",
       "      <td>3</td>\n",
       "      <td>004100</td>\n",
       "      <td>3598</td>\n",
       "      <td>2.062962</td>\n",
       "    </tr>\n",
       "    <tr>\n",
       "      <th>3</th>\n",
       "      <td>Brooklyn</td>\n",
       "      <td>3</td>\n",
       "      <td>MULTIPOLYGON (((-74.03809447949381 40.62058489...</td>\n",
       "      <td>52.02</td>\n",
       "      <td>5202</td>\n",
       "      <td>3005202</td>\n",
       "      <td>I</td>\n",
       "      <td>BK31</td>\n",
       "      <td>Bay Ridge</td>\n",
       "      <td>4013</td>\n",
       "      <td>5190.713818</td>\n",
       "      <td>1.398134e+06</td>\n",
       "      <td>3005202</td>\n",
       "      <td>Brooklyn</td>\n",
       "      <td>2010</td>\n",
       "      <td>47</td>\n",
       "      <td>3</td>\n",
       "      <td>005202</td>\n",
       "      <td>2481</td>\n",
       "      <td>1.774507</td>\n",
       "    </tr>\n",
       "    <tr>\n",
       "      <th>4</th>\n",
       "      <td>Brooklyn</td>\n",
       "      <td>3</td>\n",
       "      <td>MULTIPOLYGON (((-74.02956408409689 40.61983253...</td>\n",
       "      <td>58.00</td>\n",
       "      <td>5800</td>\n",
       "      <td>3005800</td>\n",
       "      <td>E</td>\n",
       "      <td>BK31</td>\n",
       "      <td>Bay Ridge</td>\n",
       "      <td>4013</td>\n",
       "      <td>6098.167799</td>\n",
       "      <td>2.080303e+06</td>\n",
       "      <td>3005800</td>\n",
       "      <td>Brooklyn</td>\n",
       "      <td>2010</td>\n",
       "      <td>47</td>\n",
       "      <td>3</td>\n",
       "      <td>005800</td>\n",
       "      <td>3152</td>\n",
       "      <td>1.515164</td>\n",
       "    </tr>\n",
       "  </tbody>\n",
       "</table>\n",
       "</div>"
      ],
      "text/plain": [
       "   BoroName  BoroCode                                           the_geom  \\\n",
       "0  Brooklyn         3  MULTIPOLYGON (((-73.99301822153384 40.69746236...   \n",
       "1  Brooklyn         3  MULTIPOLYGON (((-74.01266264860631 40.64925555...   \n",
       "2  Brooklyn         3  MULTIPOLYGON (((-73.98181677448231 40.68732980...   \n",
       "3  Brooklyn         3  MULTIPOLYGON (((-74.03809447949381 40.62058489...   \n",
       "4  Brooklyn         3  MULTIPOLYGON (((-74.02956408409689 40.61983253...   \n",
       "\n",
       "   CTLabel  CT2010  BoroCT2010 CDEligibil NTACode  \\\n",
       "0     5.01     501     3000501          I    BK09   \n",
       "1    20.00    2000     3002000          I    BK32   \n",
       "2    41.00    4100     3004100          I    BK38   \n",
       "3    52.02    5202     3005202          I    BK31   \n",
       "4    58.00    5800     3005800          E    BK31   \n",
       "\n",
       "                                            NTAName  PUMA   Shape_Leng  \\\n",
       "0                      Brooklyn Heights-Cobble Hill  4004  4828.169912   \n",
       "1                                  Sunset Park West  4012  5426.067279   \n",
       "2  DUMBO-Vinegar Hill-Downtown Brooklyn-Boerum Hill  4004  5283.856660   \n",
       "3                                         Bay Ridge  4013  5190.713818   \n",
       "4                                         Bay Ridge  4013  6098.167799   \n",
       "\n",
       "     Shape_Area  boro_ct2010   Borough  Year  FIPS County Code  \\\n",
       "0  9.015070e+05      3000501  Brooklyn  2010                47   \n",
       "1  1.620770e+06      3002000  Brooklyn  2010                47   \n",
       "2  1.744094e+06      3004100  Brooklyn  2010                47   \n",
       "3  1.398134e+06      3005202  Brooklyn  2010                47   \n",
       "4  2.080303e+06      3005800  Brooklyn  2010                47   \n",
       "\n",
       "   DCP Borough Code Census Tract  Population  pop_density  \n",
       "0                 3       000501        4247     4.711001  \n",
       "1                 3       002000        1672     1.031608  \n",
       "2                 3       004100        3598     2.062962  \n",
       "3                 3       005202        2481     1.774507  \n",
       "4                 3       005800        3152     1.515164  "
      ]
     },
     "execution_count": 572,
     "metadata": {},
     "output_type": "execute_result"
    }
   ],
   "source": [
    "NYC_shape.head()"
   ]
  },
  {
   "cell_type": "code",
   "execution_count": 573,
   "metadata": {
    "collapsed": true
   },
   "outputs": [],
   "source": [
    "#building_data = pd.read_json(\"https://data.cityofnewyork.us/resource/q3m4-ttp3.json\", dtype={'census_tract': str}) "
   ]
  },
  {
   "cell_type": "code",
   "execution_count": 574,
   "metadata": {
    "collapsed": false
   },
   "outputs": [
    {
     "data": {
      "text/html": [
       "<div>\n",
       "<table border=\"1\" class=\"dataframe\">\n",
       "  <thead>\n",
       "    <tr style=\"text-align: right;\">\n",
       "      <th></th>\n",
       "      <th>FID</th>\n",
       "      <th>STATEFP10</th>\n",
       "      <th>COUNTYFP10</th>\n",
       "      <th>TRACTCE10</th>\n",
       "      <th>GEOID10</th>\n",
       "      <th>INTPTLAT10</th>\n",
       "      <th>INTPTLON10</th>\n",
       "      <th>State</th>\n",
       "      <th>COUNTY</th>\n",
       "      <th>HH_COUNT</th>\n",
       "      <th>...</th>\n",
       "      <th>MSMOC_TOT_</th>\n",
       "      <th>TAX_RET</th>\n",
       "      <th>Avg_TransC</th>\n",
       "      <th>REtaxperow</th>\n",
       "      <th>DISP_INC</th>\n",
       "      <th>energy_cos</th>\n",
       "      <th>REtax_ACS</th>\n",
       "      <th>AVG_TTL</th>\n",
       "      <th>LOCALNAME</th>\n",
       "      <th>Shape_Area</th>\n",
       "    </tr>\n",
       "  </thead>\n",
       "  <tbody>\n",
       "    <tr>\n",
       "      <th>0</th>\n",
       "      <td>0</td>\n",
       "      <td>34</td>\n",
       "      <td>17</td>\n",
       "      <td>32400</td>\n",
       "      <td>34017032400</td>\n",
       "      <td>40.792844</td>\n",
       "      <td>-74.013482</td>\n",
       "      <td>New Jersey</td>\n",
       "      <td>Hudson County</td>\n",
       "      <td>2187</td>\n",
       "      <td>...</td>\n",
       "      <td>22740</td>\n",
       "      <td>2264.889916</td>\n",
       "      <td>4145.566539</td>\n",
       "      <td>4966.370331</td>\n",
       "      <td>12232.00950</td>\n",
       "      <td>1773.280152</td>\n",
       "      <td>7735</td>\n",
       "      <td>5007.444405</td>\n",
       "      <td>West New York Town</td>\n",
       "      <td>0.000036</td>\n",
       "    </tr>\n",
       "    <tr>\n",
       "      <th>1</th>\n",
       "      <td>1</td>\n",
       "      <td>34</td>\n",
       "      <td>17</td>\n",
       "      <td>10100</td>\n",
       "      <td>34017010100</td>\n",
       "      <td>40.691559</td>\n",
       "      <td>-74.110913</td>\n",
       "      <td>New Jersey</td>\n",
       "      <td>Hudson County</td>\n",
       "      <td>2255</td>\n",
       "      <td>...</td>\n",
       "      <td>27804</td>\n",
       "      <td>2363.430717</td>\n",
       "      <td>5969.286255</td>\n",
       "      <td>4490.984109</td>\n",
       "      <td>22077.84024</td>\n",
       "      <td>1876.844806</td>\n",
       "      <td>7917</td>\n",
       "      <td>6146.888195</td>\n",
       "      <td>Bayonne City</td>\n",
       "      <td>0.000106</td>\n",
       "    </tr>\n",
       "    <tr>\n",
       "      <th>2</th>\n",
       "      <td>2</td>\n",
       "      <td>34</td>\n",
       "      <td>17</td>\n",
       "      <td>10200</td>\n",
       "      <td>34017010200</td>\n",
       "      <td>40.682103</td>\n",
       "      <td>-74.104573</td>\n",
       "      <td>New Jersey</td>\n",
       "      <td>Hudson County</td>\n",
       "      <td>1218</td>\n",
       "      <td>...</td>\n",
       "      <td>28068</td>\n",
       "      <td>1260.718928</td>\n",
       "      <td>6014.489564</td>\n",
       "      <td>3339.224580</td>\n",
       "      <td>20488.60531</td>\n",
       "      <td>2167.175106</td>\n",
       "      <td>7692</td>\n",
       "      <td>6193.436421</td>\n",
       "      <td>Bayonne City</td>\n",
       "      <td>0.000031</td>\n",
       "    </tr>\n",
       "    <tr>\n",
       "      <th>3</th>\n",
       "      <td>3</td>\n",
       "      <td>34</td>\n",
       "      <td>17</td>\n",
       "      <td>10300</td>\n",
       "      <td>34017010300</td>\n",
       "      <td>40.672439</td>\n",
       "      <td>-74.081016</td>\n",
       "      <td>New Jersey</td>\n",
       "      <td>Hudson County</td>\n",
       "      <td>1093</td>\n",
       "      <td>...</td>\n",
       "      <td>22620</td>\n",
       "      <td>1229.562591</td>\n",
       "      <td>4798.787758</td>\n",
       "      <td>3793.386763</td>\n",
       "      <td>15514.61337</td>\n",
       "      <td>2163.964082</td>\n",
       "      <td>7831</td>\n",
       "      <td>4941.564294</td>\n",
       "      <td>Bayonne City</td>\n",
       "      <td>0.000108</td>\n",
       "    </tr>\n",
       "    <tr>\n",
       "      <th>4</th>\n",
       "      <td>4</td>\n",
       "      <td>34</td>\n",
       "      <td>17</td>\n",
       "      <td>10400</td>\n",
       "      <td>34017010400</td>\n",
       "      <td>40.670599</td>\n",
       "      <td>-74.089940</td>\n",
       "      <td>New Jersey</td>\n",
       "      <td>Hudson County</td>\n",
       "      <td>1571</td>\n",
       "      <td>...</td>\n",
       "      <td>20724</td>\n",
       "      <td>2209.874484</td>\n",
       "      <td>7611.970058</td>\n",
       "      <td>4478.110461</td>\n",
       "      <td>35131.00534</td>\n",
       "      <td>2114.480847</td>\n",
       "      <td>7918</td>\n",
       "      <td>7838.446154</td>\n",
       "      <td>Bayonne City</td>\n",
       "      <td>0.000234</td>\n",
       "    </tr>\n",
       "  </tbody>\n",
       "</table>\n",
       "<p>5 rows × 28 columns</p>\n",
       "</div>"
      ],
      "text/plain": [
       "   FID  STATEFP10  COUNTYFP10 TRACTCE10      GEOID10  INTPTLAT10  INTPTLON10  \\\n",
       "0    0         34          17     32400  34017032400   40.792844  -74.013482   \n",
       "1    1         34          17     10100  34017010100   40.691559  -74.110913   \n",
       "2    2         34          17     10200  34017010200   40.682103  -74.104573   \n",
       "3    3         34          17     10300  34017010300   40.672439  -74.081016   \n",
       "4    4         34          17     10400  34017010400   40.670599  -74.089940   \n",
       "\n",
       "        State         COUNTY  HH_COUNT     ...      MSMOC_TOT_      TAX_RET  \\\n",
       "0  New Jersey  Hudson County      2187     ...           22740  2264.889916   \n",
       "1  New Jersey  Hudson County      2255     ...           27804  2363.430717   \n",
       "2  New Jersey  Hudson County      1218     ...           28068  1260.718928   \n",
       "3  New Jersey  Hudson County      1093     ...           22620  1229.562591   \n",
       "4  New Jersey  Hudson County      1571     ...           20724  2209.874484   \n",
       "\n",
       "    Avg_TransC   REtaxperow     DISP_INC   energy_cos  REtax_ACS      AVG_TTL  \\\n",
       "0  4145.566539  4966.370331  12232.00950  1773.280152       7735  5007.444405   \n",
       "1  5969.286255  4490.984109  22077.84024  1876.844806       7917  6146.888195   \n",
       "2  6014.489564  3339.224580  20488.60531  2167.175106       7692  6193.436421   \n",
       "3  4798.787758  3793.386763  15514.61337  2163.964082       7831  4941.564294   \n",
       "4  7611.970058  4478.110461  35131.00534  2114.480847       7918  7838.446154   \n",
       "\n",
       "            LOCALNAME  Shape_Area  \n",
       "0  West New York Town    0.000036  \n",
       "1        Bayonne City    0.000106  \n",
       "2        Bayonne City    0.000031  \n",
       "3        Bayonne City    0.000108  \n",
       "4        Bayonne City    0.000234  \n",
       "\n",
       "[5 rows x 28 columns]"
      ]
     },
     "execution_count": 574,
     "metadata": {},
     "output_type": "execute_result"
    }
   ],
   "source": [
    "# Shapefile: Median Household Income, Census Tract\n",
    "#http://data.beta.nyc/dataset/median-household-income-2010-census-tracts/resource/92bbc70e-2b4e-40aa-8a1f-d39b11124b49\n",
    "\n",
    "path = \"../Downloads/medianhouseholdincomecensustract.csv\"\n",
    "house_data = pd.read_csv(path, dtype={'TRACTCE10': str})\n",
    "house_data.head()"
   ]
  },
  {
   "cell_type": "code",
   "execution_count": 575,
   "metadata": {
    "collapsed": false
   },
   "outputs": [
    {
     "data": {
      "text/plain": [
       "Index(['FID', 'STATEFP10', 'COUNTYFP10', 'TRACTCE10', 'GEOID10', 'INTPTLAT10',\n",
       "       'INTPTLON10', 'State', 'COUNTY', 'HH_COUNT', 'OHU_OWN', 'OHU_RENT',\n",
       "       'PERC_OWN', 'PERC_RENT', 'MHI', 'MED_VAL', 'HOUSINGCOS', 'MCR_ANNUAL',\n",
       "       'MSMOC_TOT_', 'TAX_RET', 'Avg_TransC', 'REtaxperow', 'DISP_INC',\n",
       "       'energy_cos', 'REtax_ACS', 'AVG_TTL', 'LOCALNAME', 'Shape_Area'],\n",
       "      dtype='object')"
      ]
     },
     "execution_count": 575,
     "metadata": {},
     "output_type": "execute_result"
    }
   ],
   "source": [
    "house_data.columns"
   ]
  },
  {
   "cell_type": "code",
   "execution_count": 576,
   "metadata": {
    "collapsed": false
   },
   "outputs": [],
   "source": [
    "#house_data[house_data.TRACTCE10.str.contains(\"11\")]"
   ]
  },
  {
   "cell_type": "code",
   "execution_count": 577,
   "metadata": {
    "collapsed": false
   },
   "outputs": [],
   "source": [
    "#house_data[\"boro_ct2010\"] = house_data.TRACTCE10.str.ljust(5,'0')"
   ]
  },
  {
   "cell_type": "code",
   "execution_count": 578,
   "metadata": {
    "collapsed": false
   },
   "outputs": [],
   "source": [
    "house_data[\"boro_ct2010\"] = house_data.TRACTCE10.str.zfill(6)"
   ]
  },
  {
   "cell_type": "code",
   "execution_count": 579,
   "metadata": {
    "collapsed": false,
    "scrolled": true
   },
   "outputs": [
    {
     "data": {
      "text/html": [
       "<div>\n",
       "<table border=\"1\" class=\"dataframe\">\n",
       "  <thead>\n",
       "    <tr style=\"text-align: right;\">\n",
       "      <th></th>\n",
       "      <th>FID</th>\n",
       "      <th>STATEFP10</th>\n",
       "      <th>COUNTYFP10</th>\n",
       "      <th>TRACTCE10</th>\n",
       "      <th>GEOID10</th>\n",
       "      <th>INTPTLAT10</th>\n",
       "      <th>INTPTLON10</th>\n",
       "      <th>State</th>\n",
       "      <th>COUNTY</th>\n",
       "      <th>HH_COUNT</th>\n",
       "      <th>...</th>\n",
       "      <th>TAX_RET</th>\n",
       "      <th>Avg_TransC</th>\n",
       "      <th>REtaxperow</th>\n",
       "      <th>DISP_INC</th>\n",
       "      <th>energy_cos</th>\n",
       "      <th>REtax_ACS</th>\n",
       "      <th>AVG_TTL</th>\n",
       "      <th>LOCALNAME</th>\n",
       "      <th>Shape_Area</th>\n",
       "      <th>boro_ct2010</th>\n",
       "    </tr>\n",
       "  </thead>\n",
       "  <tbody>\n",
       "    <tr>\n",
       "      <th>0</th>\n",
       "      <td>0</td>\n",
       "      <td>34</td>\n",
       "      <td>17</td>\n",
       "      <td>32400</td>\n",
       "      <td>34017032400</td>\n",
       "      <td>40.792844</td>\n",
       "      <td>-74.013482</td>\n",
       "      <td>New Jersey</td>\n",
       "      <td>Hudson County</td>\n",
       "      <td>2187</td>\n",
       "      <td>...</td>\n",
       "      <td>2264.889916</td>\n",
       "      <td>4145.566539</td>\n",
       "      <td>4966.370331</td>\n",
       "      <td>12232.00950</td>\n",
       "      <td>1773.280152</td>\n",
       "      <td>7735</td>\n",
       "      <td>5007.444405</td>\n",
       "      <td>West New York Town</td>\n",
       "      <td>0.000036</td>\n",
       "      <td>032400</td>\n",
       "    </tr>\n",
       "    <tr>\n",
       "      <th>1</th>\n",
       "      <td>1</td>\n",
       "      <td>34</td>\n",
       "      <td>17</td>\n",
       "      <td>10100</td>\n",
       "      <td>34017010100</td>\n",
       "      <td>40.691559</td>\n",
       "      <td>-74.110913</td>\n",
       "      <td>New Jersey</td>\n",
       "      <td>Hudson County</td>\n",
       "      <td>2255</td>\n",
       "      <td>...</td>\n",
       "      <td>2363.430717</td>\n",
       "      <td>5969.286255</td>\n",
       "      <td>4490.984109</td>\n",
       "      <td>22077.84024</td>\n",
       "      <td>1876.844806</td>\n",
       "      <td>7917</td>\n",
       "      <td>6146.888195</td>\n",
       "      <td>Bayonne City</td>\n",
       "      <td>0.000106</td>\n",
       "      <td>010100</td>\n",
       "    </tr>\n",
       "    <tr>\n",
       "      <th>2</th>\n",
       "      <td>2</td>\n",
       "      <td>34</td>\n",
       "      <td>17</td>\n",
       "      <td>10200</td>\n",
       "      <td>34017010200</td>\n",
       "      <td>40.682103</td>\n",
       "      <td>-74.104573</td>\n",
       "      <td>New Jersey</td>\n",
       "      <td>Hudson County</td>\n",
       "      <td>1218</td>\n",
       "      <td>...</td>\n",
       "      <td>1260.718928</td>\n",
       "      <td>6014.489564</td>\n",
       "      <td>3339.224580</td>\n",
       "      <td>20488.60531</td>\n",
       "      <td>2167.175106</td>\n",
       "      <td>7692</td>\n",
       "      <td>6193.436421</td>\n",
       "      <td>Bayonne City</td>\n",
       "      <td>0.000031</td>\n",
       "      <td>010200</td>\n",
       "    </tr>\n",
       "    <tr>\n",
       "      <th>3</th>\n",
       "      <td>3</td>\n",
       "      <td>34</td>\n",
       "      <td>17</td>\n",
       "      <td>10300</td>\n",
       "      <td>34017010300</td>\n",
       "      <td>40.672439</td>\n",
       "      <td>-74.081016</td>\n",
       "      <td>New Jersey</td>\n",
       "      <td>Hudson County</td>\n",
       "      <td>1093</td>\n",
       "      <td>...</td>\n",
       "      <td>1229.562591</td>\n",
       "      <td>4798.787758</td>\n",
       "      <td>3793.386763</td>\n",
       "      <td>15514.61337</td>\n",
       "      <td>2163.964082</td>\n",
       "      <td>7831</td>\n",
       "      <td>4941.564294</td>\n",
       "      <td>Bayonne City</td>\n",
       "      <td>0.000108</td>\n",
       "      <td>010300</td>\n",
       "    </tr>\n",
       "    <tr>\n",
       "      <th>4</th>\n",
       "      <td>4</td>\n",
       "      <td>34</td>\n",
       "      <td>17</td>\n",
       "      <td>10400</td>\n",
       "      <td>34017010400</td>\n",
       "      <td>40.670599</td>\n",
       "      <td>-74.089940</td>\n",
       "      <td>New Jersey</td>\n",
       "      <td>Hudson County</td>\n",
       "      <td>1571</td>\n",
       "      <td>...</td>\n",
       "      <td>2209.874484</td>\n",
       "      <td>7611.970058</td>\n",
       "      <td>4478.110461</td>\n",
       "      <td>35131.00534</td>\n",
       "      <td>2114.480847</td>\n",
       "      <td>7918</td>\n",
       "      <td>7838.446154</td>\n",
       "      <td>Bayonne City</td>\n",
       "      <td>0.000234</td>\n",
       "      <td>010400</td>\n",
       "    </tr>\n",
       "  </tbody>\n",
       "</table>\n",
       "<p>5 rows × 29 columns</p>\n",
       "</div>"
      ],
      "text/plain": [
       "   FID  STATEFP10  COUNTYFP10 TRACTCE10      GEOID10  INTPTLAT10  INTPTLON10  \\\n",
       "0    0         34          17     32400  34017032400   40.792844  -74.013482   \n",
       "1    1         34          17     10100  34017010100   40.691559  -74.110913   \n",
       "2    2         34          17     10200  34017010200   40.682103  -74.104573   \n",
       "3    3         34          17     10300  34017010300   40.672439  -74.081016   \n",
       "4    4         34          17     10400  34017010400   40.670599  -74.089940   \n",
       "\n",
       "        State         COUNTY  HH_COUNT     ...           TAX_RET   Avg_TransC  \\\n",
       "0  New Jersey  Hudson County      2187     ...       2264.889916  4145.566539   \n",
       "1  New Jersey  Hudson County      2255     ...       2363.430717  5969.286255   \n",
       "2  New Jersey  Hudson County      1218     ...       1260.718928  6014.489564   \n",
       "3  New Jersey  Hudson County      1093     ...       1229.562591  4798.787758   \n",
       "4  New Jersey  Hudson County      1571     ...       2209.874484  7611.970058   \n",
       "\n",
       "    REtaxperow     DISP_INC   energy_cos  REtax_ACS      AVG_TTL  \\\n",
       "0  4966.370331  12232.00950  1773.280152       7735  5007.444405   \n",
       "1  4490.984109  22077.84024  1876.844806       7917  6146.888195   \n",
       "2  3339.224580  20488.60531  2167.175106       7692  6193.436421   \n",
       "3  3793.386763  15514.61337  2163.964082       7831  4941.564294   \n",
       "4  4478.110461  35131.00534  2114.480847       7918  7838.446154   \n",
       "\n",
       "            LOCALNAME  Shape_Area  boro_ct2010  \n",
       "0  West New York Town    0.000036       032400  \n",
       "1        Bayonne City    0.000106       010100  \n",
       "2        Bayonne City    0.000031       010200  \n",
       "3        Bayonne City    0.000108       010300  \n",
       "4        Bayonne City    0.000234       010400  \n",
       "\n",
       "[5 rows x 29 columns]"
      ]
     },
     "execution_count": 579,
     "metadata": {},
     "output_type": "execute_result"
    }
   ],
   "source": [
    "house_data.head()"
   ]
  },
  {
   "cell_type": "markdown",
   "metadata": {},
   "source": [
    "Manhattan - New York County. 1\n",
    "Bronx - Bronx County. 2\n",
    "Brooklyn - Kings County. 3\n",
    "Queens - Queens County. 4\n",
    "Staten Island - Richmond County. 5"
   ]
  },
  {
   "cell_type": "code",
   "execution_count": 580,
   "metadata": {
    "collapsed": true
   },
   "outputs": [],
   "source": [
    "def boro(x):\n",
    "    if x == \"New York County\":\n",
    "        return 1\n",
    "    if x == \"Bronx County\":\n",
    "        return 2\n",
    "    if x == \"Kings County\":\n",
    "        return 3\n",
    "    if x == \"Queens County\":\n",
    "        return 4\n",
    "    if x == \"Richmond County\":\n",
    "        return 5"
   ]
  },
  {
   "cell_type": "code",
   "execution_count": 581,
   "metadata": {
    "collapsed": false
   },
   "outputs": [
    {
     "data": {
      "text/plain": [
       "1"
      ]
     },
     "execution_count": 581,
     "metadata": {},
     "output_type": "execute_result"
    }
   ],
   "source": [
    "boro('New York County')"
   ]
  },
  {
   "cell_type": "code",
   "execution_count": 582,
   "metadata": {
    "collapsed": false
   },
   "outputs": [
    {
     "data": {
      "text/html": [
       "<div>\n",
       "<table border=\"1\" class=\"dataframe\">\n",
       "  <thead>\n",
       "    <tr style=\"text-align: right;\">\n",
       "      <th></th>\n",
       "      <th>FID</th>\n",
       "      <th>STATEFP10</th>\n",
       "      <th>COUNTYFP10</th>\n",
       "      <th>TRACTCE10</th>\n",
       "      <th>GEOID10</th>\n",
       "      <th>INTPTLAT10</th>\n",
       "      <th>INTPTLON10</th>\n",
       "      <th>State</th>\n",
       "      <th>COUNTY</th>\n",
       "      <th>HH_COUNT</th>\n",
       "      <th>...</th>\n",
       "      <th>TAX_RET</th>\n",
       "      <th>Avg_TransC</th>\n",
       "      <th>REtaxperow</th>\n",
       "      <th>DISP_INC</th>\n",
       "      <th>energy_cos</th>\n",
       "      <th>REtax_ACS</th>\n",
       "      <th>AVG_TTL</th>\n",
       "      <th>LOCALNAME</th>\n",
       "      <th>Shape_Area</th>\n",
       "      <th>boro_ct2010</th>\n",
       "    </tr>\n",
       "  </thead>\n",
       "  <tbody>\n",
       "    <tr>\n",
       "      <th>0</th>\n",
       "      <td>0</td>\n",
       "      <td>34</td>\n",
       "      <td>17</td>\n",
       "      <td>32400</td>\n",
       "      <td>34017032400</td>\n",
       "      <td>40.792844</td>\n",
       "      <td>-74.013482</td>\n",
       "      <td>New Jersey</td>\n",
       "      <td>Hudson County</td>\n",
       "      <td>2187</td>\n",
       "      <td>...</td>\n",
       "      <td>2264.889916</td>\n",
       "      <td>4145.566539</td>\n",
       "      <td>4966.370331</td>\n",
       "      <td>12232.00950</td>\n",
       "      <td>1773.280152</td>\n",
       "      <td>7735</td>\n",
       "      <td>5007.444405</td>\n",
       "      <td>West New York Town</td>\n",
       "      <td>0.000036</td>\n",
       "      <td>032400</td>\n",
       "    </tr>\n",
       "    <tr>\n",
       "      <th>1</th>\n",
       "      <td>1</td>\n",
       "      <td>34</td>\n",
       "      <td>17</td>\n",
       "      <td>10100</td>\n",
       "      <td>34017010100</td>\n",
       "      <td>40.691559</td>\n",
       "      <td>-74.110913</td>\n",
       "      <td>New Jersey</td>\n",
       "      <td>Hudson County</td>\n",
       "      <td>2255</td>\n",
       "      <td>...</td>\n",
       "      <td>2363.430717</td>\n",
       "      <td>5969.286255</td>\n",
       "      <td>4490.984109</td>\n",
       "      <td>22077.84024</td>\n",
       "      <td>1876.844806</td>\n",
       "      <td>7917</td>\n",
       "      <td>6146.888195</td>\n",
       "      <td>Bayonne City</td>\n",
       "      <td>0.000106</td>\n",
       "      <td>010100</td>\n",
       "    </tr>\n",
       "    <tr>\n",
       "      <th>2</th>\n",
       "      <td>2</td>\n",
       "      <td>34</td>\n",
       "      <td>17</td>\n",
       "      <td>10200</td>\n",
       "      <td>34017010200</td>\n",
       "      <td>40.682103</td>\n",
       "      <td>-74.104573</td>\n",
       "      <td>New Jersey</td>\n",
       "      <td>Hudson County</td>\n",
       "      <td>1218</td>\n",
       "      <td>...</td>\n",
       "      <td>1260.718928</td>\n",
       "      <td>6014.489564</td>\n",
       "      <td>3339.224580</td>\n",
       "      <td>20488.60531</td>\n",
       "      <td>2167.175106</td>\n",
       "      <td>7692</td>\n",
       "      <td>6193.436421</td>\n",
       "      <td>Bayonne City</td>\n",
       "      <td>0.000031</td>\n",
       "      <td>010200</td>\n",
       "    </tr>\n",
       "    <tr>\n",
       "      <th>3</th>\n",
       "      <td>3</td>\n",
       "      <td>34</td>\n",
       "      <td>17</td>\n",
       "      <td>10300</td>\n",
       "      <td>34017010300</td>\n",
       "      <td>40.672439</td>\n",
       "      <td>-74.081016</td>\n",
       "      <td>New Jersey</td>\n",
       "      <td>Hudson County</td>\n",
       "      <td>1093</td>\n",
       "      <td>...</td>\n",
       "      <td>1229.562591</td>\n",
       "      <td>4798.787758</td>\n",
       "      <td>3793.386763</td>\n",
       "      <td>15514.61337</td>\n",
       "      <td>2163.964082</td>\n",
       "      <td>7831</td>\n",
       "      <td>4941.564294</td>\n",
       "      <td>Bayonne City</td>\n",
       "      <td>0.000108</td>\n",
       "      <td>010300</td>\n",
       "    </tr>\n",
       "    <tr>\n",
       "      <th>4</th>\n",
       "      <td>4</td>\n",
       "      <td>34</td>\n",
       "      <td>17</td>\n",
       "      <td>10400</td>\n",
       "      <td>34017010400</td>\n",
       "      <td>40.670599</td>\n",
       "      <td>-74.089940</td>\n",
       "      <td>New Jersey</td>\n",
       "      <td>Hudson County</td>\n",
       "      <td>1571</td>\n",
       "      <td>...</td>\n",
       "      <td>2209.874484</td>\n",
       "      <td>7611.970058</td>\n",
       "      <td>4478.110461</td>\n",
       "      <td>35131.00534</td>\n",
       "      <td>2114.480847</td>\n",
       "      <td>7918</td>\n",
       "      <td>7838.446154</td>\n",
       "      <td>Bayonne City</td>\n",
       "      <td>0.000234</td>\n",
       "      <td>010400</td>\n",
       "    </tr>\n",
       "  </tbody>\n",
       "</table>\n",
       "<p>5 rows × 29 columns</p>\n",
       "</div>"
      ],
      "text/plain": [
       "   FID  STATEFP10  COUNTYFP10 TRACTCE10      GEOID10  INTPTLAT10  INTPTLON10  \\\n",
       "0    0         34          17     32400  34017032400   40.792844  -74.013482   \n",
       "1    1         34          17     10100  34017010100   40.691559  -74.110913   \n",
       "2    2         34          17     10200  34017010200   40.682103  -74.104573   \n",
       "3    3         34          17     10300  34017010300   40.672439  -74.081016   \n",
       "4    4         34          17     10400  34017010400   40.670599  -74.089940   \n",
       "\n",
       "        State         COUNTY  HH_COUNT     ...           TAX_RET   Avg_TransC  \\\n",
       "0  New Jersey  Hudson County      2187     ...       2264.889916  4145.566539   \n",
       "1  New Jersey  Hudson County      2255     ...       2363.430717  5969.286255   \n",
       "2  New Jersey  Hudson County      1218     ...       1260.718928  6014.489564   \n",
       "3  New Jersey  Hudson County      1093     ...       1229.562591  4798.787758   \n",
       "4  New Jersey  Hudson County      1571     ...       2209.874484  7611.970058   \n",
       "\n",
       "    REtaxperow     DISP_INC   energy_cos  REtax_ACS      AVG_TTL  \\\n",
       "0  4966.370331  12232.00950  1773.280152       7735  5007.444405   \n",
       "1  4490.984109  22077.84024  1876.844806       7917  6146.888195   \n",
       "2  3339.224580  20488.60531  2167.175106       7692  6193.436421   \n",
       "3  3793.386763  15514.61337  2163.964082       7831  4941.564294   \n",
       "4  4478.110461  35131.00534  2114.480847       7918  7838.446154   \n",
       "\n",
       "            LOCALNAME  Shape_Area  boro_ct2010  \n",
       "0  West New York Town    0.000036       032400  \n",
       "1        Bayonne City    0.000106       010100  \n",
       "2        Bayonne City    0.000031       010200  \n",
       "3        Bayonne City    0.000108       010300  \n",
       "4        Bayonne City    0.000234       010400  \n",
       "\n",
       "[5 rows x 29 columns]"
      ]
     },
     "execution_count": 582,
     "metadata": {},
     "output_type": "execute_result"
    }
   ],
   "source": [
    "house_data.head()"
   ]
  },
  {
   "cell_type": "code",
   "execution_count": 583,
   "metadata": {
    "collapsed": false
   },
   "outputs": [],
   "source": [
    "house_data[\"boro_code\"] = house_data.COUNTY.map({\"New York County\": \"1\", \"Bronx County\": \"2\", \"Kings County\": \"3\", \\\n",
    "                                           \"Queens County\": \"4\", \"Richmond County\": \"5\"})"
   ]
  },
  {
   "cell_type": "code",
   "execution_count": 584,
   "metadata": {
    "collapsed": false
   },
   "outputs": [],
   "source": [
    "house_data.boro_ct2010 = house_data.boro_code.astype(str) + house_data.boro_ct2010.astype(str)"
   ]
  },
  {
   "cell_type": "code",
   "execution_count": 585,
   "metadata": {
    "collapsed": false
   },
   "outputs": [],
   "source": [
    "#house_data[house_data.boro_code == \"3\"]"
   ]
  },
  {
   "cell_type": "code",
   "execution_count": 586,
   "metadata": {
    "collapsed": false
   },
   "outputs": [
    {
     "data": {
      "text/html": [
       "<div>\n",
       "<table border=\"1\" class=\"dataframe\">\n",
       "  <thead>\n",
       "    <tr style=\"text-align: right;\">\n",
       "      <th></th>\n",
       "      <th>BoroName</th>\n",
       "      <th>BoroCode</th>\n",
       "      <th>the_geom</th>\n",
       "      <th>CTLabel</th>\n",
       "      <th>CT2010</th>\n",
       "      <th>BoroCT2010</th>\n",
       "      <th>CDEligibil</th>\n",
       "      <th>NTACode</th>\n",
       "      <th>NTAName</th>\n",
       "      <th>PUMA</th>\n",
       "      <th>Shape_Leng</th>\n",
       "      <th>Shape_Area</th>\n",
       "      <th>boro_ct2010</th>\n",
       "      <th>Borough</th>\n",
       "      <th>Year</th>\n",
       "      <th>FIPS County Code</th>\n",
       "      <th>DCP Borough Code</th>\n",
       "      <th>Census Tract</th>\n",
       "      <th>Population</th>\n",
       "      <th>pop_density</th>\n",
       "    </tr>\n",
       "  </thead>\n",
       "  <tbody>\n",
       "    <tr>\n",
       "      <th>196</th>\n",
       "      <td>Brooklyn</td>\n",
       "      <td>3</td>\n",
       "      <td>MULTIPOLYGON (((-73.93915724418619 40.62559953...</td>\n",
       "      <td>740.0</td>\n",
       "      <td>74000</td>\n",
       "      <td>3074000</td>\n",
       "      <td>I</td>\n",
       "      <td>BK58</td>\n",
       "      <td>Flatlands</td>\n",
       "      <td>4009</td>\n",
       "      <td>5614.8792</td>\n",
       "      <td>1.747895e+06</td>\n",
       "      <td>3074000</td>\n",
       "      <td>Brooklyn</td>\n",
       "      <td>2010</td>\n",
       "      <td>47</td>\n",
       "      <td>3</td>\n",
       "      <td>074000</td>\n",
       "      <td>3531</td>\n",
       "      <td>2.020145</td>\n",
       "    </tr>\n",
       "  </tbody>\n",
       "</table>\n",
       "</div>"
      ],
      "text/plain": [
       "     BoroName  BoroCode                                           the_geom  \\\n",
       "196  Brooklyn         3  MULTIPOLYGON (((-73.93915724418619 40.62559953...   \n",
       "\n",
       "     CTLabel  CT2010  BoroCT2010 CDEligibil NTACode    NTAName  PUMA  \\\n",
       "196    740.0   74000     3074000          I    BK58  Flatlands  4009   \n",
       "\n",
       "     Shape_Leng    Shape_Area  boro_ct2010   Borough  Year  FIPS County Code  \\\n",
       "196   5614.8792  1.747895e+06      3074000  Brooklyn  2010                47   \n",
       "\n",
       "     DCP Borough Code Census Tract  Population  pop_density  \n",
       "196                 3       074000        3531     2.020145  "
      ]
     },
     "execution_count": 586,
     "metadata": {},
     "output_type": "execute_result"
    }
   ],
   "source": [
    "NYC_shape[NYC_shape.boro_ct2010 == 3074000]"
   ]
  },
  {
   "cell_type": "code",
   "execution_count": 587,
   "metadata": {
    "collapsed": true
   },
   "outputs": [],
   "source": [
    "#building_data[\"boro_ct2010\"] = building_data.census_tract.str.ljust(5, '0')"
   ]
  },
  {
   "cell_type": "code",
   "execution_count": 588,
   "metadata": {
    "collapsed": true
   },
   "outputs": [],
   "source": [
    "#building_data[\"boro_ct2010\"] = building_data.boro_ct2010.str.zfill(6)"
   ]
  },
  {
   "cell_type": "code",
   "execution_count": 589,
   "metadata": {
    "collapsed": false
   },
   "outputs": [],
   "source": [
    "#del building_data[\"great\"]"
   ]
  },
  {
   "cell_type": "code",
   "execution_count": 590,
   "metadata": {
    "collapsed": false
   },
   "outputs": [],
   "source": [
    "#building_data.tail()"
   ]
  },
  {
   "cell_type": "code",
   "execution_count": 591,
   "metadata": {
    "collapsed": false
   },
   "outputs": [],
   "source": [
    "#building_data.boro_ct2010.dtype"
   ]
  },
  {
   "cell_type": "code",
   "execution_count": 592,
   "metadata": {
    "collapsed": false
   },
   "outputs": [],
   "source": [
    "#building_data[\"great\"] = building_data.boro_ct2010.str.len() > 6"
   ]
  },
  {
   "cell_type": "code",
   "execution_count": 593,
   "metadata": {
    "collapsed": false
   },
   "outputs": [],
   "source": [
    "#building_data.shape"
   ]
  },
  {
   "cell_type": "code",
   "execution_count": 594,
   "metadata": {
    "collapsed": false
   },
   "outputs": [],
   "source": [
    "#building_data.borough.unique()"
   ]
  },
  {
   "cell_type": "code",
   "execution_count": 595,
   "metadata": {
    "collapsed": true
   },
   "outputs": [],
   "source": [
    "#building_data[\"boro_code\"] = building_data.borough.map({\"Manhattan\": \"1\", \"Bronx\": \"2\", \"Brooklyn\": \"3\", \\\n",
    "                                          # \"Queens\": \"4\", \"Staten Island\": \"5\"})"
   ]
  },
  {
   "cell_type": "code",
   "execution_count": 596,
   "metadata": {
    "collapsed": false
   },
   "outputs": [],
   "source": [
    "#building_data[\"boro_ct2010\"] = building_data[\"boro_code\"].astype(str) + building_data[\"boro_ct2010\"].astype(str)"
   ]
  },
  {
   "cell_type": "code",
   "execution_count": 597,
   "metadata": {
    "collapsed": false
   },
   "outputs": [],
   "source": [
    "#building_data.tail()"
   ]
  },
  {
   "cell_type": "code",
   "execution_count": 598,
   "metadata": {
    "collapsed": true
   },
   "outputs": [],
   "source": [
    "#NYC_shape merge with house data merge with building_data"
   ]
  },
  {
   "cell_type": "code",
   "execution_count": 599,
   "metadata": {
    "collapsed": false
   },
   "outputs": [
    {
     "data": {
      "text/plain": [
       "(760, 20)"
      ]
     },
     "execution_count": 599,
     "metadata": {},
     "output_type": "execute_result"
    }
   ],
   "source": [
    "NYC_shape.shape"
   ]
  },
  {
   "cell_type": "code",
   "execution_count": 600,
   "metadata": {
    "collapsed": false
   },
   "outputs": [
    {
     "data": {
      "text/plain": [
       "dtype('int64')"
      ]
     },
     "execution_count": 600,
     "metadata": {},
     "output_type": "execute_result"
    }
   ],
   "source": [
    "NYC_shape.boro_ct2010.dtype"
   ]
  },
  {
   "cell_type": "code",
   "execution_count": 601,
   "metadata": {
    "collapsed": false
   },
   "outputs": [],
   "source": [
    "NYC_shape.boro_ct2010 = NYC_shape.boro_ct2010.astype(str)"
   ]
  },
  {
   "cell_type": "code",
   "execution_count": 602,
   "metadata": {
    "collapsed": false
   },
   "outputs": [
    {
     "data": {
      "text/plain": [
       "dtype('O')"
      ]
     },
     "execution_count": 602,
     "metadata": {},
     "output_type": "execute_result"
    }
   ],
   "source": [
    "NYC_shape.boro_ct2010.dtype"
   ]
  },
  {
   "cell_type": "code",
   "execution_count": 603,
   "metadata": {
    "collapsed": false
   },
   "outputs": [],
   "source": [
    "NYC_shape = NYC_shape.merge(house_data, on=\"boro_ct2010\")"
   ]
  },
  {
   "cell_type": "code",
   "execution_count": 604,
   "metadata": {
    "collapsed": false
   },
   "outputs": [
    {
     "data": {
      "text/plain": [
       "(760, 49)"
      ]
     },
     "execution_count": 604,
     "metadata": {},
     "output_type": "execute_result"
    }
   ],
   "source": [
    "NYC_shape.shape"
   ]
  },
  {
   "cell_type": "code",
   "execution_count": 605,
   "metadata": {
    "collapsed": false
   },
   "outputs": [
    {
     "data": {
      "text/html": [
       "<div>\n",
       "<table border=\"1\" class=\"dataframe\">\n",
       "  <thead>\n",
       "    <tr style=\"text-align: right;\">\n",
       "      <th></th>\n",
       "      <th>BoroName</th>\n",
       "      <th>BoroCode</th>\n",
       "      <th>the_geom</th>\n",
       "      <th>CTLabel</th>\n",
       "      <th>CT2010</th>\n",
       "      <th>BoroCT2010</th>\n",
       "      <th>CDEligibil</th>\n",
       "      <th>NTACode</th>\n",
       "      <th>NTAName</th>\n",
       "      <th>PUMA</th>\n",
       "      <th>...</th>\n",
       "      <th>TAX_RET</th>\n",
       "      <th>Avg_TransC</th>\n",
       "      <th>REtaxperow</th>\n",
       "      <th>DISP_INC</th>\n",
       "      <th>energy_cos</th>\n",
       "      <th>REtax_ACS</th>\n",
       "      <th>AVG_TTL</th>\n",
       "      <th>LOCALNAME</th>\n",
       "      <th>Shape_Area_y</th>\n",
       "      <th>boro_code</th>\n",
       "    </tr>\n",
       "  </thead>\n",
       "  <tbody>\n",
       "    <tr>\n",
       "      <th>0</th>\n",
       "      <td>Brooklyn</td>\n",
       "      <td>3</td>\n",
       "      <td>MULTIPOLYGON (((-73.99301822153384 40.69746236...</td>\n",
       "      <td>5.01</td>\n",
       "      <td>501</td>\n",
       "      <td>3000501</td>\n",
       "      <td>I</td>\n",
       "      <td>BK09</td>\n",
       "      <td>Brooklyn Heights-Cobble Hill</td>\n",
       "      <td>4004</td>\n",
       "      <td>...</td>\n",
       "      <td>1737.071267</td>\n",
       "      <td>7205.977121</td>\n",
       "      <td>2600.965286</td>\n",
       "      <td>36501.21653</td>\n",
       "      <td>1412.983117</td>\n",
       "      <td>4711</td>\n",
       "      <td>17116.407730</td>\n",
       "      <td>Brooklyn Heights</td>\n",
       "      <td>0.000009</td>\n",
       "      <td>3</td>\n",
       "    </tr>\n",
       "    <tr>\n",
       "      <th>1</th>\n",
       "      <td>Brooklyn</td>\n",
       "      <td>3</td>\n",
       "      <td>MULTIPOLYGON (((-74.01266264860631 40.64925555...</td>\n",
       "      <td>20.00</td>\n",
       "      <td>2000</td>\n",
       "      <td>3002000</td>\n",
       "      <td>I</td>\n",
       "      <td>BK32</td>\n",
       "      <td>Sunset Park West</td>\n",
       "      <td>4012</td>\n",
       "      <td>...</td>\n",
       "      <td>574.850160</td>\n",
       "      <td>3064.116727</td>\n",
       "      <td>580.101530</td>\n",
       "      <td>13647.01968</td>\n",
       "      <td>2061.361323</td>\n",
       "      <td>1700</td>\n",
       "      <td>2968.716870</td>\n",
       "      <td>Bush Terminal</td>\n",
       "      <td>0.000016</td>\n",
       "      <td>3</td>\n",
       "    </tr>\n",
       "    <tr>\n",
       "      <th>2</th>\n",
       "      <td>Brooklyn</td>\n",
       "      <td>3</td>\n",
       "      <td>MULTIPOLYGON (((-73.98181677448231 40.68732980...</td>\n",
       "      <td>41.00</td>\n",
       "      <td>4100</td>\n",
       "      <td>3004100</td>\n",
       "      <td>I</td>\n",
       "      <td>BK38</td>\n",
       "      <td>DUMBO-Vinegar Hill-Downtown Brooklyn-Boerum Hill</td>\n",
       "      <td>4004</td>\n",
       "      <td>...</td>\n",
       "      <td>1374.638495</td>\n",
       "      <td>8024.382252</td>\n",
       "      <td>2001.736607</td>\n",
       "      <td>39450.88208</td>\n",
       "      <td>1690.291069</td>\n",
       "      <td>4224</td>\n",
       "      <td>15948.483090</td>\n",
       "      <td>Boerum Hill</td>\n",
       "      <td>0.000017</td>\n",
       "      <td>3</td>\n",
       "    </tr>\n",
       "    <tr>\n",
       "      <th>3</th>\n",
       "      <td>Brooklyn</td>\n",
       "      <td>3</td>\n",
       "      <td>MULTIPOLYGON (((-74.03809447949381 40.62058489...</td>\n",
       "      <td>52.02</td>\n",
       "      <td>5202</td>\n",
       "      <td>3005202</td>\n",
       "      <td>I</td>\n",
       "      <td>BK31</td>\n",
       "      <td>Bay Ridge</td>\n",
       "      <td>4013</td>\n",
       "      <td>...</td>\n",
       "      <td>1582.632893</td>\n",
       "      <td>5761.039594</td>\n",
       "      <td>2039.785814</td>\n",
       "      <td>33727.02430</td>\n",
       "      <td>1585.245533</td>\n",
       "      <td>2937</td>\n",
       "      <td>9382.433070</td>\n",
       "      <td>Bay Ridge</td>\n",
       "      <td>0.000015</td>\n",
       "      <td>3</td>\n",
       "    </tr>\n",
       "    <tr>\n",
       "      <th>4</th>\n",
       "      <td>Brooklyn</td>\n",
       "      <td>3</td>\n",
       "      <td>MULTIPOLYGON (((-74.02956408409689 40.61983253...</td>\n",
       "      <td>58.00</td>\n",
       "      <td>5800</td>\n",
       "      <td>3005800</td>\n",
       "      <td>E</td>\n",
       "      <td>BK31</td>\n",
       "      <td>Bay Ridge</td>\n",
       "      <td>4013</td>\n",
       "      <td>...</td>\n",
       "      <td>1713.269708</td>\n",
       "      <td>4568.334204</td>\n",
       "      <td>3609.383943</td>\n",
       "      <td>24360.97565</td>\n",
       "      <td>1599.484797</td>\n",
       "      <td>4026</td>\n",
       "      <td>7439.992247</td>\n",
       "      <td>Bay Ridge</td>\n",
       "      <td>0.000021</td>\n",
       "      <td>3</td>\n",
       "    </tr>\n",
       "  </tbody>\n",
       "</table>\n",
       "<p>5 rows × 49 columns</p>\n",
       "</div>"
      ],
      "text/plain": [
       "   BoroName  BoroCode                                           the_geom  \\\n",
       "0  Brooklyn         3  MULTIPOLYGON (((-73.99301822153384 40.69746236...   \n",
       "1  Brooklyn         3  MULTIPOLYGON (((-74.01266264860631 40.64925555...   \n",
       "2  Brooklyn         3  MULTIPOLYGON (((-73.98181677448231 40.68732980...   \n",
       "3  Brooklyn         3  MULTIPOLYGON (((-74.03809447949381 40.62058489...   \n",
       "4  Brooklyn         3  MULTIPOLYGON (((-74.02956408409689 40.61983253...   \n",
       "\n",
       "   CTLabel  CT2010  BoroCT2010 CDEligibil NTACode  \\\n",
       "0     5.01     501     3000501          I    BK09   \n",
       "1    20.00    2000     3002000          I    BK32   \n",
       "2    41.00    4100     3004100          I    BK38   \n",
       "3    52.02    5202     3005202          I    BK31   \n",
       "4    58.00    5800     3005800          E    BK31   \n",
       "\n",
       "                                            NTAName  PUMA    ...      \\\n",
       "0                      Brooklyn Heights-Cobble Hill  4004    ...       \n",
       "1                                  Sunset Park West  4012    ...       \n",
       "2  DUMBO-Vinegar Hill-Downtown Brooklyn-Boerum Hill  4004    ...       \n",
       "3                                         Bay Ridge  4013    ...       \n",
       "4                                         Bay Ridge  4013    ...       \n",
       "\n",
       "       TAX_RET   Avg_TransC   REtaxperow     DISP_INC   energy_cos  REtax_ACS  \\\n",
       "0  1737.071267  7205.977121  2600.965286  36501.21653  1412.983117       4711   \n",
       "1   574.850160  3064.116727   580.101530  13647.01968  2061.361323       1700   \n",
       "2  1374.638495  8024.382252  2001.736607  39450.88208  1690.291069       4224   \n",
       "3  1582.632893  5761.039594  2039.785814  33727.02430  1585.245533       2937   \n",
       "4  1713.269708  4568.334204  3609.383943  24360.97565  1599.484797       4026   \n",
       "\n",
       "        AVG_TTL         LOCALNAME  Shape_Area_y  boro_code  \n",
       "0  17116.407730  Brooklyn Heights      0.000009          3  \n",
       "1   2968.716870     Bush Terminal      0.000016          3  \n",
       "2  15948.483090       Boerum Hill      0.000017          3  \n",
       "3   9382.433070         Bay Ridge      0.000015          3  \n",
       "4   7439.992247         Bay Ridge      0.000021          3  \n",
       "\n",
       "[5 rows x 49 columns]"
      ]
     },
     "execution_count": 605,
     "metadata": {},
     "output_type": "execute_result"
    }
   ],
   "source": [
    "NYC_shape.head()"
   ]
  },
  {
   "cell_type": "code",
   "execution_count": 606,
   "metadata": {
    "collapsed": false
   },
   "outputs": [],
   "source": [
    "house_data.boro_ct2010 = house_data.boro_ct2010.astype(str)"
   ]
  },
  {
   "cell_type": "code",
   "execution_count": 607,
   "metadata": {
    "collapsed": false
   },
   "outputs": [
    {
     "data": {
      "text/plain": [
       "dtype('O')"
      ]
     },
     "execution_count": 607,
     "metadata": {},
     "output_type": "execute_result"
    }
   ],
   "source": [
    "house_data.boro_ct2010.dtype"
   ]
  },
  {
   "cell_type": "code",
   "execution_count": 608,
   "metadata": {
    "collapsed": false
   },
   "outputs": [
    {
     "data": {
      "text/html": [
       "<div>\n",
       "<table border=\"1\" class=\"dataframe\">\n",
       "  <thead>\n",
       "    <tr style=\"text-align: right;\">\n",
       "      <th></th>\n",
       "      <th>FID</th>\n",
       "      <th>STATEFP10</th>\n",
       "      <th>COUNTYFP10</th>\n",
       "      <th>TRACTCE10</th>\n",
       "      <th>GEOID10</th>\n",
       "      <th>INTPTLAT10</th>\n",
       "      <th>INTPTLON10</th>\n",
       "      <th>State</th>\n",
       "      <th>COUNTY</th>\n",
       "      <th>HH_COUNT</th>\n",
       "      <th>...</th>\n",
       "      <th>Avg_TransC</th>\n",
       "      <th>REtaxperow</th>\n",
       "      <th>DISP_INC</th>\n",
       "      <th>energy_cos</th>\n",
       "      <th>REtax_ACS</th>\n",
       "      <th>AVG_TTL</th>\n",
       "      <th>LOCALNAME</th>\n",
       "      <th>Shape_Area</th>\n",
       "      <th>boro_ct2010</th>\n",
       "      <th>boro_code</th>\n",
       "    </tr>\n",
       "  </thead>\n",
       "  <tbody>\n",
       "    <tr>\n",
       "      <th>0</th>\n",
       "      <td>0</td>\n",
       "      <td>34</td>\n",
       "      <td>17</td>\n",
       "      <td>32400</td>\n",
       "      <td>34017032400</td>\n",
       "      <td>40.792844</td>\n",
       "      <td>-74.013482</td>\n",
       "      <td>New Jersey</td>\n",
       "      <td>Hudson County</td>\n",
       "      <td>2187</td>\n",
       "      <td>...</td>\n",
       "      <td>4145.566539</td>\n",
       "      <td>4966.370331</td>\n",
       "      <td>12232.00950</td>\n",
       "      <td>1773.280152</td>\n",
       "      <td>7735</td>\n",
       "      <td>5007.444405</td>\n",
       "      <td>West New York Town</td>\n",
       "      <td>0.000036</td>\n",
       "      <td>nan032400</td>\n",
       "      <td>NaN</td>\n",
       "    </tr>\n",
       "    <tr>\n",
       "      <th>1</th>\n",
       "      <td>1</td>\n",
       "      <td>34</td>\n",
       "      <td>17</td>\n",
       "      <td>10100</td>\n",
       "      <td>34017010100</td>\n",
       "      <td>40.691559</td>\n",
       "      <td>-74.110913</td>\n",
       "      <td>New Jersey</td>\n",
       "      <td>Hudson County</td>\n",
       "      <td>2255</td>\n",
       "      <td>...</td>\n",
       "      <td>5969.286255</td>\n",
       "      <td>4490.984109</td>\n",
       "      <td>22077.84024</td>\n",
       "      <td>1876.844806</td>\n",
       "      <td>7917</td>\n",
       "      <td>6146.888195</td>\n",
       "      <td>Bayonne City</td>\n",
       "      <td>0.000106</td>\n",
       "      <td>nan010100</td>\n",
       "      <td>NaN</td>\n",
       "    </tr>\n",
       "    <tr>\n",
       "      <th>2</th>\n",
       "      <td>2</td>\n",
       "      <td>34</td>\n",
       "      <td>17</td>\n",
       "      <td>10200</td>\n",
       "      <td>34017010200</td>\n",
       "      <td>40.682103</td>\n",
       "      <td>-74.104573</td>\n",
       "      <td>New Jersey</td>\n",
       "      <td>Hudson County</td>\n",
       "      <td>1218</td>\n",
       "      <td>...</td>\n",
       "      <td>6014.489564</td>\n",
       "      <td>3339.224580</td>\n",
       "      <td>20488.60531</td>\n",
       "      <td>2167.175106</td>\n",
       "      <td>7692</td>\n",
       "      <td>6193.436421</td>\n",
       "      <td>Bayonne City</td>\n",
       "      <td>0.000031</td>\n",
       "      <td>nan010200</td>\n",
       "      <td>NaN</td>\n",
       "    </tr>\n",
       "    <tr>\n",
       "      <th>3</th>\n",
       "      <td>3</td>\n",
       "      <td>34</td>\n",
       "      <td>17</td>\n",
       "      <td>10300</td>\n",
       "      <td>34017010300</td>\n",
       "      <td>40.672439</td>\n",
       "      <td>-74.081016</td>\n",
       "      <td>New Jersey</td>\n",
       "      <td>Hudson County</td>\n",
       "      <td>1093</td>\n",
       "      <td>...</td>\n",
       "      <td>4798.787758</td>\n",
       "      <td>3793.386763</td>\n",
       "      <td>15514.61337</td>\n",
       "      <td>2163.964082</td>\n",
       "      <td>7831</td>\n",
       "      <td>4941.564294</td>\n",
       "      <td>Bayonne City</td>\n",
       "      <td>0.000108</td>\n",
       "      <td>nan010300</td>\n",
       "      <td>NaN</td>\n",
       "    </tr>\n",
       "    <tr>\n",
       "      <th>4</th>\n",
       "      <td>4</td>\n",
       "      <td>34</td>\n",
       "      <td>17</td>\n",
       "      <td>10400</td>\n",
       "      <td>34017010400</td>\n",
       "      <td>40.670599</td>\n",
       "      <td>-74.089940</td>\n",
       "      <td>New Jersey</td>\n",
       "      <td>Hudson County</td>\n",
       "      <td>1571</td>\n",
       "      <td>...</td>\n",
       "      <td>7611.970058</td>\n",
       "      <td>4478.110461</td>\n",
       "      <td>35131.00534</td>\n",
       "      <td>2114.480847</td>\n",
       "      <td>7918</td>\n",
       "      <td>7838.446154</td>\n",
       "      <td>Bayonne City</td>\n",
       "      <td>0.000234</td>\n",
       "      <td>nan010400</td>\n",
       "      <td>NaN</td>\n",
       "    </tr>\n",
       "  </tbody>\n",
       "</table>\n",
       "<p>5 rows × 30 columns</p>\n",
       "</div>"
      ],
      "text/plain": [
       "   FID  STATEFP10  COUNTYFP10 TRACTCE10      GEOID10  INTPTLAT10  INTPTLON10  \\\n",
       "0    0         34          17     32400  34017032400   40.792844  -74.013482   \n",
       "1    1         34          17     10100  34017010100   40.691559  -74.110913   \n",
       "2    2         34          17     10200  34017010200   40.682103  -74.104573   \n",
       "3    3         34          17     10300  34017010300   40.672439  -74.081016   \n",
       "4    4         34          17     10400  34017010400   40.670599  -74.089940   \n",
       "\n",
       "        State         COUNTY  HH_COUNT    ...       Avg_TransC   REtaxperow  \\\n",
       "0  New Jersey  Hudson County      2187    ...      4145.566539  4966.370331   \n",
       "1  New Jersey  Hudson County      2255    ...      5969.286255  4490.984109   \n",
       "2  New Jersey  Hudson County      1218    ...      6014.489564  3339.224580   \n",
       "3  New Jersey  Hudson County      1093    ...      4798.787758  3793.386763   \n",
       "4  New Jersey  Hudson County      1571    ...      7611.970058  4478.110461   \n",
       "\n",
       "      DISP_INC   energy_cos  REtax_ACS      AVG_TTL           LOCALNAME  \\\n",
       "0  12232.00950  1773.280152       7735  5007.444405  West New York Town   \n",
       "1  22077.84024  1876.844806       7917  6146.888195        Bayonne City   \n",
       "2  20488.60531  2167.175106       7692  6193.436421        Bayonne City   \n",
       "3  15514.61337  2163.964082       7831  4941.564294        Bayonne City   \n",
       "4  35131.00534  2114.480847       7918  7838.446154        Bayonne City   \n",
       "\n",
       "   Shape_Area  boro_ct2010  boro_code  \n",
       "0    0.000036    nan032400        NaN  \n",
       "1    0.000106    nan010100        NaN  \n",
       "2    0.000031    nan010200        NaN  \n",
       "3    0.000108    nan010300        NaN  \n",
       "4    0.000234    nan010400        NaN  \n",
       "\n",
       "[5 rows x 30 columns]"
      ]
     },
     "execution_count": 608,
     "metadata": {},
     "output_type": "execute_result"
    }
   ],
   "source": [
    "house_data.head()"
   ]
  },
  {
   "cell_type": "code",
   "execution_count": 609,
   "metadata": {
    "collapsed": false
   },
   "outputs": [
    {
     "data": {
      "text/html": [
       "<div>\n",
       "<table border=\"1\" class=\"dataframe\">\n",
       "  <thead>\n",
       "    <tr style=\"text-align: right;\">\n",
       "      <th></th>\n",
       "      <th>BoroName</th>\n",
       "      <th>BoroCode</th>\n",
       "      <th>the_geom</th>\n",
       "      <th>CTLabel</th>\n",
       "      <th>CT2010</th>\n",
       "      <th>BoroCT2010</th>\n",
       "      <th>CDEligibil</th>\n",
       "      <th>NTACode</th>\n",
       "      <th>NTAName</th>\n",
       "      <th>PUMA</th>\n",
       "      <th>...</th>\n",
       "      <th>TAX_RET</th>\n",
       "      <th>Avg_TransC</th>\n",
       "      <th>REtaxperow</th>\n",
       "      <th>DISP_INC</th>\n",
       "      <th>energy_cos</th>\n",
       "      <th>REtax_ACS</th>\n",
       "      <th>AVG_TTL</th>\n",
       "      <th>LOCALNAME</th>\n",
       "      <th>Shape_Area_y</th>\n",
       "      <th>boro_code</th>\n",
       "    </tr>\n",
       "  </thead>\n",
       "  <tbody>\n",
       "    <tr>\n",
       "      <th>0</th>\n",
       "      <td>Brooklyn</td>\n",
       "      <td>3</td>\n",
       "      <td>MULTIPOLYGON (((-73.99301822153384 40.69746236...</td>\n",
       "      <td>5.01</td>\n",
       "      <td>501</td>\n",
       "      <td>3000501</td>\n",
       "      <td>I</td>\n",
       "      <td>BK09</td>\n",
       "      <td>Brooklyn Heights-Cobble Hill</td>\n",
       "      <td>4004</td>\n",
       "      <td>...</td>\n",
       "      <td>1737.071267</td>\n",
       "      <td>7205.977121</td>\n",
       "      <td>2600.965286</td>\n",
       "      <td>36501.21653</td>\n",
       "      <td>1412.983117</td>\n",
       "      <td>4711</td>\n",
       "      <td>17116.407730</td>\n",
       "      <td>Brooklyn Heights</td>\n",
       "      <td>0.000009</td>\n",
       "      <td>3</td>\n",
       "    </tr>\n",
       "    <tr>\n",
       "      <th>1</th>\n",
       "      <td>Brooklyn</td>\n",
       "      <td>3</td>\n",
       "      <td>MULTIPOLYGON (((-74.01266264860631 40.64925555...</td>\n",
       "      <td>20.00</td>\n",
       "      <td>2000</td>\n",
       "      <td>3002000</td>\n",
       "      <td>I</td>\n",
       "      <td>BK32</td>\n",
       "      <td>Sunset Park West</td>\n",
       "      <td>4012</td>\n",
       "      <td>...</td>\n",
       "      <td>574.850160</td>\n",
       "      <td>3064.116727</td>\n",
       "      <td>580.101530</td>\n",
       "      <td>13647.01968</td>\n",
       "      <td>2061.361323</td>\n",
       "      <td>1700</td>\n",
       "      <td>2968.716870</td>\n",
       "      <td>Bush Terminal</td>\n",
       "      <td>0.000016</td>\n",
       "      <td>3</td>\n",
       "    </tr>\n",
       "    <tr>\n",
       "      <th>2</th>\n",
       "      <td>Brooklyn</td>\n",
       "      <td>3</td>\n",
       "      <td>MULTIPOLYGON (((-73.98181677448231 40.68732980...</td>\n",
       "      <td>41.00</td>\n",
       "      <td>4100</td>\n",
       "      <td>3004100</td>\n",
       "      <td>I</td>\n",
       "      <td>BK38</td>\n",
       "      <td>DUMBO-Vinegar Hill-Downtown Brooklyn-Boerum Hill</td>\n",
       "      <td>4004</td>\n",
       "      <td>...</td>\n",
       "      <td>1374.638495</td>\n",
       "      <td>8024.382252</td>\n",
       "      <td>2001.736607</td>\n",
       "      <td>39450.88208</td>\n",
       "      <td>1690.291069</td>\n",
       "      <td>4224</td>\n",
       "      <td>15948.483090</td>\n",
       "      <td>Boerum Hill</td>\n",
       "      <td>0.000017</td>\n",
       "      <td>3</td>\n",
       "    </tr>\n",
       "    <tr>\n",
       "      <th>3</th>\n",
       "      <td>Brooklyn</td>\n",
       "      <td>3</td>\n",
       "      <td>MULTIPOLYGON (((-74.03809447949381 40.62058489...</td>\n",
       "      <td>52.02</td>\n",
       "      <td>5202</td>\n",
       "      <td>3005202</td>\n",
       "      <td>I</td>\n",
       "      <td>BK31</td>\n",
       "      <td>Bay Ridge</td>\n",
       "      <td>4013</td>\n",
       "      <td>...</td>\n",
       "      <td>1582.632893</td>\n",
       "      <td>5761.039594</td>\n",
       "      <td>2039.785814</td>\n",
       "      <td>33727.02430</td>\n",
       "      <td>1585.245533</td>\n",
       "      <td>2937</td>\n",
       "      <td>9382.433070</td>\n",
       "      <td>Bay Ridge</td>\n",
       "      <td>0.000015</td>\n",
       "      <td>3</td>\n",
       "    </tr>\n",
       "    <tr>\n",
       "      <th>4</th>\n",
       "      <td>Brooklyn</td>\n",
       "      <td>3</td>\n",
       "      <td>MULTIPOLYGON (((-74.02956408409689 40.61983253...</td>\n",
       "      <td>58.00</td>\n",
       "      <td>5800</td>\n",
       "      <td>3005800</td>\n",
       "      <td>E</td>\n",
       "      <td>BK31</td>\n",
       "      <td>Bay Ridge</td>\n",
       "      <td>4013</td>\n",
       "      <td>...</td>\n",
       "      <td>1713.269708</td>\n",
       "      <td>4568.334204</td>\n",
       "      <td>3609.383943</td>\n",
       "      <td>24360.97565</td>\n",
       "      <td>1599.484797</td>\n",
       "      <td>4026</td>\n",
       "      <td>7439.992247</td>\n",
       "      <td>Bay Ridge</td>\n",
       "      <td>0.000021</td>\n",
       "      <td>3</td>\n",
       "    </tr>\n",
       "  </tbody>\n",
       "</table>\n",
       "<p>5 rows × 49 columns</p>\n",
       "</div>"
      ],
      "text/plain": [
       "   BoroName  BoroCode                                           the_geom  \\\n",
       "0  Brooklyn         3  MULTIPOLYGON (((-73.99301822153384 40.69746236...   \n",
       "1  Brooklyn         3  MULTIPOLYGON (((-74.01266264860631 40.64925555...   \n",
       "2  Brooklyn         3  MULTIPOLYGON (((-73.98181677448231 40.68732980...   \n",
       "3  Brooklyn         3  MULTIPOLYGON (((-74.03809447949381 40.62058489...   \n",
       "4  Brooklyn         3  MULTIPOLYGON (((-74.02956408409689 40.61983253...   \n",
       "\n",
       "   CTLabel  CT2010  BoroCT2010 CDEligibil NTACode  \\\n",
       "0     5.01     501     3000501          I    BK09   \n",
       "1    20.00    2000     3002000          I    BK32   \n",
       "2    41.00    4100     3004100          I    BK38   \n",
       "3    52.02    5202     3005202          I    BK31   \n",
       "4    58.00    5800     3005800          E    BK31   \n",
       "\n",
       "                                            NTAName  PUMA    ...      \\\n",
       "0                      Brooklyn Heights-Cobble Hill  4004    ...       \n",
       "1                                  Sunset Park West  4012    ...       \n",
       "2  DUMBO-Vinegar Hill-Downtown Brooklyn-Boerum Hill  4004    ...       \n",
       "3                                         Bay Ridge  4013    ...       \n",
       "4                                         Bay Ridge  4013    ...       \n",
       "\n",
       "       TAX_RET   Avg_TransC   REtaxperow     DISP_INC   energy_cos  REtax_ACS  \\\n",
       "0  1737.071267  7205.977121  2600.965286  36501.21653  1412.983117       4711   \n",
       "1   574.850160  3064.116727   580.101530  13647.01968  2061.361323       1700   \n",
       "2  1374.638495  8024.382252  2001.736607  39450.88208  1690.291069       4224   \n",
       "3  1582.632893  5761.039594  2039.785814  33727.02430  1585.245533       2937   \n",
       "4  1713.269708  4568.334204  3609.383943  24360.97565  1599.484797       4026   \n",
       "\n",
       "        AVG_TTL         LOCALNAME  Shape_Area_y  boro_code  \n",
       "0  17116.407730  Brooklyn Heights      0.000009          3  \n",
       "1   2968.716870     Bush Terminal      0.000016          3  \n",
       "2  15948.483090       Boerum Hill      0.000017          3  \n",
       "3   9382.433070         Bay Ridge      0.000015          3  \n",
       "4   7439.992247         Bay Ridge      0.000021          3  \n",
       "\n",
       "[5 rows x 49 columns]"
      ]
     },
     "execution_count": 609,
     "metadata": {},
     "output_type": "execute_result"
    }
   ],
   "source": [
    "NYC_shape.head()"
   ]
  },
  {
   "cell_type": "code",
   "execution_count": 610,
   "metadata": {
    "collapsed": false
   },
   "outputs": [],
   "source": [
    "#building_data.boro_ct2010.dtype"
   ]
  },
  {
   "cell_type": "code",
   "execution_count": 611,
   "metadata": {
    "collapsed": true
   },
   "outputs": [],
   "source": [
    "#NYC_shape = NYC_shape.merge(building_data, on=\"boro_ct2010\", how=\"outer\")"
   ]
  },
  {
   "cell_type": "code",
   "execution_count": 612,
   "metadata": {
    "collapsed": false
   },
   "outputs": [
    {
     "data": {
      "text/plain": [
       "(760, 49)"
      ]
     },
     "execution_count": 612,
     "metadata": {},
     "output_type": "execute_result"
    }
   ],
   "source": [
    "NYC_shape.shape"
   ]
  },
  {
   "cell_type": "code",
   "execution_count": 613,
   "metadata": {
    "collapsed": false
   },
   "outputs": [
    {
     "data": {
      "text/plain": [
       "Index(['FID', 'STATEFP10', 'COUNTYFP10', 'TRACTCE10', 'GEOID10', 'INTPTLAT10',\n",
       "       'INTPTLON10', 'State', 'COUNTY', 'HH_COUNT', 'OHU_OWN', 'OHU_RENT',\n",
       "       'PERC_OWN', 'PERC_RENT', 'MHI', 'MED_VAL', 'HOUSINGCOS', 'MCR_ANNUAL',\n",
       "       'MSMOC_TOT_', 'TAX_RET', 'Avg_TransC', 'REtaxperow', 'DISP_INC',\n",
       "       'energy_cos', 'REtax_ACS', 'AVG_TTL', 'LOCALNAME', 'Shape_Area',\n",
       "       'boro_ct2010', 'boro_code'],\n",
       "      dtype='object')"
      ]
     },
     "execution_count": 613,
     "metadata": {},
     "output_type": "execute_result"
    }
   ],
   "source": [
    "house_data.columns"
   ]
  },
  {
   "cell_type": "code",
   "execution_count": 614,
   "metadata": {
    "collapsed": false
   },
   "outputs": [],
   "source": [
    "#building_data.columns"
   ]
  },
  {
   "cell_type": "code",
   "execution_count": 623,
   "metadata": {
    "collapsed": false
   },
   "outputs": [],
   "source": [
    "# household_density per 1000 sq feet by census tract\n",
    "NYC_shape[\"household_density\"] = (NYC_shape.HH_COUNT/NYC_shape.Shape_Area_x) *1000"
   ]
  },
  {
   "cell_type": "code",
   "execution_count": 625,
   "metadata": {
    "collapsed": false
   },
   "outputs": [
    {
     "data": {
      "text/html": [
       "<div>\n",
       "<table border=\"1\" class=\"dataframe\">\n",
       "  <thead>\n",
       "    <tr style=\"text-align: right;\">\n",
       "      <th></th>\n",
       "      <th>BoroName</th>\n",
       "      <th>BoroCode</th>\n",
       "      <th>the_geom</th>\n",
       "      <th>CTLabel</th>\n",
       "      <th>CT2010</th>\n",
       "      <th>BoroCT2010</th>\n",
       "      <th>CDEligibil</th>\n",
       "      <th>NTACode</th>\n",
       "      <th>NTAName</th>\n",
       "      <th>PUMA</th>\n",
       "      <th>...</th>\n",
       "      <th>Avg_TransC</th>\n",
       "      <th>REtaxperow</th>\n",
       "      <th>DISP_INC</th>\n",
       "      <th>energy_cos</th>\n",
       "      <th>REtax_ACS</th>\n",
       "      <th>AVG_TTL</th>\n",
       "      <th>LOCALNAME</th>\n",
       "      <th>Shape_Area_y</th>\n",
       "      <th>boro_code</th>\n",
       "      <th>household_density</th>\n",
       "    </tr>\n",
       "  </thead>\n",
       "  <tbody>\n",
       "    <tr>\n",
       "      <th>0</th>\n",
       "      <td>Brooklyn</td>\n",
       "      <td>3</td>\n",
       "      <td>MULTIPOLYGON (((-73.99301822153384 40.69746236...</td>\n",
       "      <td>5.01</td>\n",
       "      <td>501</td>\n",
       "      <td>3000501</td>\n",
       "      <td>I</td>\n",
       "      <td>BK09</td>\n",
       "      <td>Brooklyn Heights-Cobble Hill</td>\n",
       "      <td>4004</td>\n",
       "      <td>...</td>\n",
       "      <td>7205.977121</td>\n",
       "      <td>2600.965286</td>\n",
       "      <td>36501.21653</td>\n",
       "      <td>1412.983117</td>\n",
       "      <td>4711</td>\n",
       "      <td>17116.407730</td>\n",
       "      <td>Brooklyn Heights</td>\n",
       "      <td>0.000009</td>\n",
       "      <td>3</td>\n",
       "      <td>2.084288</td>\n",
       "    </tr>\n",
       "    <tr>\n",
       "      <th>1</th>\n",
       "      <td>Brooklyn</td>\n",
       "      <td>3</td>\n",
       "      <td>MULTIPOLYGON (((-74.01266264860631 40.64925555...</td>\n",
       "      <td>20.00</td>\n",
       "      <td>2000</td>\n",
       "      <td>3002000</td>\n",
       "      <td>I</td>\n",
       "      <td>BK32</td>\n",
       "      <td>Sunset Park West</td>\n",
       "      <td>4012</td>\n",
       "      <td>...</td>\n",
       "      <td>3064.116727</td>\n",
       "      <td>580.101530</td>\n",
       "      <td>13647.01968</td>\n",
       "      <td>2061.361323</td>\n",
       "      <td>1700</td>\n",
       "      <td>2968.716870</td>\n",
       "      <td>Bush Terminal</td>\n",
       "      <td>0.000016</td>\n",
       "      <td>3</td>\n",
       "      <td>0.269625</td>\n",
       "    </tr>\n",
       "    <tr>\n",
       "      <th>2</th>\n",
       "      <td>Brooklyn</td>\n",
       "      <td>3</td>\n",
       "      <td>MULTIPOLYGON (((-73.98181677448231 40.68732980...</td>\n",
       "      <td>41.00</td>\n",
       "      <td>4100</td>\n",
       "      <td>3004100</td>\n",
       "      <td>I</td>\n",
       "      <td>BK38</td>\n",
       "      <td>DUMBO-Vinegar Hill-Downtown Brooklyn-Boerum Hill</td>\n",
       "      <td>4004</td>\n",
       "      <td>...</td>\n",
       "      <td>8024.382252</td>\n",
       "      <td>2001.736607</td>\n",
       "      <td>39450.88208</td>\n",
       "      <td>1690.291069</td>\n",
       "      <td>4224</td>\n",
       "      <td>15948.483090</td>\n",
       "      <td>Boerum Hill</td>\n",
       "      <td>0.000017</td>\n",
       "      <td>3</td>\n",
       "      <td>0.876099</td>\n",
       "    </tr>\n",
       "    <tr>\n",
       "      <th>3</th>\n",
       "      <td>Brooklyn</td>\n",
       "      <td>3</td>\n",
       "      <td>MULTIPOLYGON (((-74.03809447949381 40.62058489...</td>\n",
       "      <td>52.02</td>\n",
       "      <td>5202</td>\n",
       "      <td>3005202</td>\n",
       "      <td>I</td>\n",
       "      <td>BK31</td>\n",
       "      <td>Bay Ridge</td>\n",
       "      <td>4013</td>\n",
       "      <td>...</td>\n",
       "      <td>5761.039594</td>\n",
       "      <td>2039.785814</td>\n",
       "      <td>33727.02430</td>\n",
       "      <td>1585.245533</td>\n",
       "      <td>2937</td>\n",
       "      <td>9382.433070</td>\n",
       "      <td>Bay Ridge</td>\n",
       "      <td>0.000015</td>\n",
       "      <td>3</td>\n",
       "      <td>1.009202</td>\n",
       "    </tr>\n",
       "    <tr>\n",
       "      <th>4</th>\n",
       "      <td>Brooklyn</td>\n",
       "      <td>3</td>\n",
       "      <td>MULTIPOLYGON (((-74.02956408409689 40.61983253...</td>\n",
       "      <td>58.00</td>\n",
       "      <td>5800</td>\n",
       "      <td>3005800</td>\n",
       "      <td>E</td>\n",
       "      <td>BK31</td>\n",
       "      <td>Bay Ridge</td>\n",
       "      <td>4013</td>\n",
       "      <td>...</td>\n",
       "      <td>4568.334204</td>\n",
       "      <td>3609.383943</td>\n",
       "      <td>24360.97565</td>\n",
       "      <td>1599.484797</td>\n",
       "      <td>4026</td>\n",
       "      <td>7439.992247</td>\n",
       "      <td>Bay Ridge</td>\n",
       "      <td>0.000021</td>\n",
       "      <td>3</td>\n",
       "      <td>0.755659</td>\n",
       "    </tr>\n",
       "  </tbody>\n",
       "</table>\n",
       "<p>5 rows × 50 columns</p>\n",
       "</div>"
      ],
      "text/plain": [
       "   BoroName  BoroCode                                           the_geom  \\\n",
       "0  Brooklyn         3  MULTIPOLYGON (((-73.99301822153384 40.69746236...   \n",
       "1  Brooklyn         3  MULTIPOLYGON (((-74.01266264860631 40.64925555...   \n",
       "2  Brooklyn         3  MULTIPOLYGON (((-73.98181677448231 40.68732980...   \n",
       "3  Brooklyn         3  MULTIPOLYGON (((-74.03809447949381 40.62058489...   \n",
       "4  Brooklyn         3  MULTIPOLYGON (((-74.02956408409689 40.61983253...   \n",
       "\n",
       "   CTLabel  CT2010  BoroCT2010 CDEligibil NTACode  \\\n",
       "0     5.01     501     3000501          I    BK09   \n",
       "1    20.00    2000     3002000          I    BK32   \n",
       "2    41.00    4100     3004100          I    BK38   \n",
       "3    52.02    5202     3005202          I    BK31   \n",
       "4    58.00    5800     3005800          E    BK31   \n",
       "\n",
       "                                            NTAName  PUMA        ...          \\\n",
       "0                      Brooklyn Heights-Cobble Hill  4004        ...           \n",
       "1                                  Sunset Park West  4012        ...           \n",
       "2  DUMBO-Vinegar Hill-Downtown Brooklyn-Boerum Hill  4004        ...           \n",
       "3                                         Bay Ridge  4013        ...           \n",
       "4                                         Bay Ridge  4013        ...           \n",
       "\n",
       "    Avg_TransC   REtaxperow     DISP_INC   energy_cos  REtax_ACS  \\\n",
       "0  7205.977121  2600.965286  36501.21653  1412.983117       4711   \n",
       "1  3064.116727   580.101530  13647.01968  2061.361323       1700   \n",
       "2  8024.382252  2001.736607  39450.88208  1690.291069       4224   \n",
       "3  5761.039594  2039.785814  33727.02430  1585.245533       2937   \n",
       "4  4568.334204  3609.383943  24360.97565  1599.484797       4026   \n",
       "\n",
       "        AVG_TTL         LOCALNAME Shape_Area_y  boro_code  household_density  \n",
       "0  17116.407730  Brooklyn Heights     0.000009          3           2.084288  \n",
       "1   2968.716870     Bush Terminal     0.000016          3           0.269625  \n",
       "2  15948.483090       Boerum Hill     0.000017          3           0.876099  \n",
       "3   9382.433070         Bay Ridge     0.000015          3           1.009202  \n",
       "4   7439.992247         Bay Ridge     0.000021          3           0.755659  \n",
       "\n",
       "[5 rows x 50 columns]"
      ]
     },
     "execution_count": 625,
     "metadata": {},
     "output_type": "execute_result"
    }
   ],
   "source": [
    "NYC_shape.head()"
   ]
  },
  {
   "cell_type": "code",
   "execution_count": 627,
   "metadata": {
    "collapsed": false
   },
   "outputs": [],
   "source": [
    "#NYC_shape[\"boro_code\"] = NYC_shape.boro_code_x\n",
    "NYC_shape[\"Shape_Area\"] = NYC_shape.Shape_Area_x"
   ]
  },
  {
   "cell_type": "code",
   "execution_count": 628,
   "metadata": {
    "collapsed": false
   },
   "outputs": [
    {
     "data": {
      "text/plain": [
       "Index(['BoroName', 'BoroCode', 'the_geom', 'CTLabel', 'CT2010', 'BoroCT2010',\n",
       "       'CDEligibil', 'NTACode', 'NTAName', 'PUMA', 'Shape_Leng',\n",
       "       'Shape_Area_x', 'boro_ct2010', 'Borough', 'Year', 'FIPS County Code',\n",
       "       'DCP Borough Code', 'Census Tract', 'Population', 'pop_density', 'FID',\n",
       "       'STATEFP10', 'COUNTYFP10', 'TRACTCE10', 'GEOID10', 'INTPTLAT10',\n",
       "       'INTPTLON10', 'State', 'COUNTY', 'HH_COUNT', 'OHU_OWN', 'OHU_RENT',\n",
       "       'PERC_OWN', 'PERC_RENT', 'MHI', 'MED_VAL', 'HOUSINGCOS', 'MCR_ANNUAL',\n",
       "       'MSMOC_TOT_', 'TAX_RET', 'Avg_TransC', 'REtaxperow', 'DISP_INC',\n",
       "       'energy_cos', 'REtax_ACS', 'AVG_TTL', 'LOCALNAME', 'Shape_Area_y',\n",
       "       'boro_code', 'household_density', 'Shape_Area'],\n",
       "      dtype='object')"
      ]
     },
     "execution_count": 628,
     "metadata": {},
     "output_type": "execute_result"
    }
   ],
   "source": [
    "NYC_shape.columns"
   ]
  },
  {
   "cell_type": "code",
   "execution_count": 630,
   "metadata": {
    "collapsed": false
   },
   "outputs": [],
   "source": [
    "del NYC_shape[\"CDEligibil\"]\n",
    "del NYC_shape[\"Borough\"]\n",
    "del NYC_shape[\"Census Tract\"]\n",
    "del NYC_shape[\"DCP Borough Code\"]\n",
    "del NYC_shape[\"FID\"]\n",
    "del NYC_shape[\"STATEFP10\"]\n",
    "del NYC_shape[\"COUNTYFP10\"]\n",
    "del NYC_shape[\"TRACTCE10\"]\n",
    "del NYC_shape[\"GEOID10\"]\n",
    "del NYC_shape[\"Shape_Area\"]\n",
    "del NYC_shape[\"boro_code\"]\n",
    "del NYC_shape[\"Shape_Area_x\"]\n",
    "del NYC_shape[\"Shape_Area_y\"]"
   ]
  },
  {
   "cell_type": "code",
   "execution_count": 631,
   "metadata": {
    "collapsed": false
   },
   "outputs": [
    {
     "data": {
      "text/html": [
       "<div>\n",
       "<table border=\"1\" class=\"dataframe\">\n",
       "  <thead>\n",
       "    <tr style=\"text-align: right;\">\n",
       "      <th></th>\n",
       "      <th>BoroName</th>\n",
       "      <th>BoroCode</th>\n",
       "      <th>the_geom</th>\n",
       "      <th>CTLabel</th>\n",
       "      <th>CT2010</th>\n",
       "      <th>BoroCT2010</th>\n",
       "      <th>NTACode</th>\n",
       "      <th>NTAName</th>\n",
       "      <th>PUMA</th>\n",
       "      <th>Shape_Leng</th>\n",
       "      <th>...</th>\n",
       "      <th>MSMOC_TOT_</th>\n",
       "      <th>TAX_RET</th>\n",
       "      <th>Avg_TransC</th>\n",
       "      <th>REtaxperow</th>\n",
       "      <th>DISP_INC</th>\n",
       "      <th>energy_cos</th>\n",
       "      <th>REtax_ACS</th>\n",
       "      <th>AVG_TTL</th>\n",
       "      <th>LOCALNAME</th>\n",
       "      <th>household_density</th>\n",
       "    </tr>\n",
       "  </thead>\n",
       "  <tbody>\n",
       "    <tr>\n",
       "      <th>0</th>\n",
       "      <td>Brooklyn</td>\n",
       "      <td>3</td>\n",
       "      <td>MULTIPOLYGON (((-73.99301822153384 40.69746236...</td>\n",
       "      <td>5.01</td>\n",
       "      <td>501</td>\n",
       "      <td>3000501</td>\n",
       "      <td>BK09</td>\n",
       "      <td>Brooklyn Heights-Cobble Hill</td>\n",
       "      <td>4004</td>\n",
       "      <td>4828.169912</td>\n",
       "      <td>...</td>\n",
       "      <td>18360</td>\n",
       "      <td>1737.071267</td>\n",
       "      <td>7205.977121</td>\n",
       "      <td>2600.965286</td>\n",
       "      <td>36501.21653</td>\n",
       "      <td>1412.983117</td>\n",
       "      <td>4711</td>\n",
       "      <td>17116.407730</td>\n",
       "      <td>Brooklyn Heights</td>\n",
       "      <td>2.084288</td>\n",
       "    </tr>\n",
       "    <tr>\n",
       "      <th>1</th>\n",
       "      <td>Brooklyn</td>\n",
       "      <td>3</td>\n",
       "      <td>MULTIPOLYGON (((-74.01266264860631 40.64925555...</td>\n",
       "      <td>20.00</td>\n",
       "      <td>2000</td>\n",
       "      <td>3002000</td>\n",
       "      <td>BK32</td>\n",
       "      <td>Sunset Park West</td>\n",
       "      <td>4012</td>\n",
       "      <td>5426.067279</td>\n",
       "      <td>...</td>\n",
       "      <td>12852</td>\n",
       "      <td>574.850160</td>\n",
       "      <td>3064.116727</td>\n",
       "      <td>580.101530</td>\n",
       "      <td>13647.01968</td>\n",
       "      <td>2061.361323</td>\n",
       "      <td>1700</td>\n",
       "      <td>2968.716870</td>\n",
       "      <td>Bush Terminal</td>\n",
       "      <td>0.269625</td>\n",
       "    </tr>\n",
       "    <tr>\n",
       "      <th>2</th>\n",
       "      <td>Brooklyn</td>\n",
       "      <td>3</td>\n",
       "      <td>MULTIPOLYGON (((-73.98181677448231 40.68732980...</td>\n",
       "      <td>41.00</td>\n",
       "      <td>4100</td>\n",
       "      <td>3004100</td>\n",
       "      <td>BK38</td>\n",
       "      <td>DUMBO-Vinegar Hill-Downtown Brooklyn-Boerum Hill</td>\n",
       "      <td>4004</td>\n",
       "      <td>5283.856660</td>\n",
       "      <td>...</td>\n",
       "      <td>39360</td>\n",
       "      <td>1374.638495</td>\n",
       "      <td>8024.382252</td>\n",
       "      <td>2001.736607</td>\n",
       "      <td>39450.88208</td>\n",
       "      <td>1690.291069</td>\n",
       "      <td>4224</td>\n",
       "      <td>15948.483090</td>\n",
       "      <td>Boerum Hill</td>\n",
       "      <td>0.876099</td>\n",
       "    </tr>\n",
       "    <tr>\n",
       "      <th>3</th>\n",
       "      <td>Brooklyn</td>\n",
       "      <td>3</td>\n",
       "      <td>MULTIPOLYGON (((-74.03809447949381 40.62058489...</td>\n",
       "      <td>52.02</td>\n",
       "      <td>5202</td>\n",
       "      <td>3005202</td>\n",
       "      <td>BK31</td>\n",
       "      <td>Bay Ridge</td>\n",
       "      <td>4013</td>\n",
       "      <td>5190.713818</td>\n",
       "      <td>...</td>\n",
       "      <td>15132</td>\n",
       "      <td>1582.632893</td>\n",
       "      <td>5761.039594</td>\n",
       "      <td>2039.785814</td>\n",
       "      <td>33727.02430</td>\n",
       "      <td>1585.245533</td>\n",
       "      <td>2937</td>\n",
       "      <td>9382.433070</td>\n",
       "      <td>Bay Ridge</td>\n",
       "      <td>1.009202</td>\n",
       "    </tr>\n",
       "    <tr>\n",
       "      <th>4</th>\n",
       "      <td>Brooklyn</td>\n",
       "      <td>3</td>\n",
       "      <td>MULTIPOLYGON (((-74.02956408409689 40.61983253...</td>\n",
       "      <td>58.00</td>\n",
       "      <td>5800</td>\n",
       "      <td>3005800</td>\n",
       "      <td>BK31</td>\n",
       "      <td>Bay Ridge</td>\n",
       "      <td>4013</td>\n",
       "      <td>6098.167799</td>\n",
       "      <td>...</td>\n",
       "      <td>15480</td>\n",
       "      <td>1713.269708</td>\n",
       "      <td>4568.334204</td>\n",
       "      <td>3609.383943</td>\n",
       "      <td>24360.97565</td>\n",
       "      <td>1599.484797</td>\n",
       "      <td>4026</td>\n",
       "      <td>7439.992247</td>\n",
       "      <td>Bay Ridge</td>\n",
       "      <td>0.755659</td>\n",
       "    </tr>\n",
       "  </tbody>\n",
       "</table>\n",
       "<p>5 rows × 38 columns</p>\n",
       "</div>"
      ],
      "text/plain": [
       "   BoroName  BoroCode                                           the_geom  \\\n",
       "0  Brooklyn         3  MULTIPOLYGON (((-73.99301822153384 40.69746236...   \n",
       "1  Brooklyn         3  MULTIPOLYGON (((-74.01266264860631 40.64925555...   \n",
       "2  Brooklyn         3  MULTIPOLYGON (((-73.98181677448231 40.68732980...   \n",
       "3  Brooklyn         3  MULTIPOLYGON (((-74.03809447949381 40.62058489...   \n",
       "4  Brooklyn         3  MULTIPOLYGON (((-74.02956408409689 40.61983253...   \n",
       "\n",
       "   CTLabel  CT2010  BoroCT2010 NTACode  \\\n",
       "0     5.01     501     3000501    BK09   \n",
       "1    20.00    2000     3002000    BK32   \n",
       "2    41.00    4100     3004100    BK38   \n",
       "3    52.02    5202     3005202    BK31   \n",
       "4    58.00    5800     3005800    BK31   \n",
       "\n",
       "                                            NTAName  PUMA   Shape_Leng  \\\n",
       "0                      Brooklyn Heights-Cobble Hill  4004  4828.169912   \n",
       "1                                  Sunset Park West  4012  5426.067279   \n",
       "2  DUMBO-Vinegar Hill-Downtown Brooklyn-Boerum Hill  4004  5283.856660   \n",
       "3                                         Bay Ridge  4013  5190.713818   \n",
       "4                                         Bay Ridge  4013  6098.167799   \n",
       "\n",
       "         ...         MSMOC_TOT_      TAX_RET   Avg_TransC   REtaxperow  \\\n",
       "0        ...              18360  1737.071267  7205.977121  2600.965286   \n",
       "1        ...              12852   574.850160  3064.116727   580.101530   \n",
       "2        ...              39360  1374.638495  8024.382252  2001.736607   \n",
       "3        ...              15132  1582.632893  5761.039594  2039.785814   \n",
       "4        ...              15480  1713.269708  4568.334204  3609.383943   \n",
       "\n",
       "      DISP_INC   energy_cos  REtax_ACS       AVG_TTL         LOCALNAME  \\\n",
       "0  36501.21653  1412.983117       4711  17116.407730  Brooklyn Heights   \n",
       "1  13647.01968  2061.361323       1700   2968.716870     Bush Terminal   \n",
       "2  39450.88208  1690.291069       4224  15948.483090       Boerum Hill   \n",
       "3  33727.02430  1585.245533       2937   9382.433070         Bay Ridge   \n",
       "4  24360.97565  1599.484797       4026   7439.992247         Bay Ridge   \n",
       "\n",
       "   household_density  \n",
       "0           2.084288  \n",
       "1           0.269625  \n",
       "2           0.876099  \n",
       "3           1.009202  \n",
       "4           0.755659  \n",
       "\n",
       "[5 rows x 38 columns]"
      ]
     },
     "execution_count": 631,
     "metadata": {},
     "output_type": "execute_result"
    }
   ],
   "source": [
    "NYC_shape.head()"
   ]
  },
  {
   "cell_type": "code",
   "execution_count": 632,
   "metadata": {
    "collapsed": false
   },
   "outputs": [],
   "source": [
    "writer = pd.ExcelWriter('MEGA_DATASET.xlsx')\n",
    "NYC_shape.to_excel(writer)\n",
    "writer.save()"
   ]
  },
  {
   "cell_type": "code",
   "execution_count": 633,
   "metadata": {
    "collapsed": false
   },
   "outputs": [
    {
     "data": {
      "text/plain": [
       "count     760.000000\n",
       "mean     3295.657895\n",
       "std      1395.984746\n",
       "min         0.000000\n",
       "25%      2298.750000\n",
       "50%      3219.000000\n",
       "75%      4136.500000\n",
       "max      8938.000000\n",
       "Name: Population, dtype: float64"
      ]
     },
     "execution_count": 633,
     "metadata": {},
     "output_type": "execute_result"
    }
   ],
   "source": [
    "NYC_shape.Population.describe()"
   ]
  },
  {
   "cell_type": "code",
   "execution_count": 634,
   "metadata": {
    "collapsed": false
   },
   "outputs": [
    {
     "data": {
      "text/plain": [
       "count    760.000000\n",
       "mean       1.738692\n",
       "std        0.863948\n",
       "min        0.000000\n",
       "25%        1.182242\n",
       "50%        1.689640\n",
       "75%        2.197788\n",
       "max        5.625838\n",
       "Name: pop_density, dtype: float64"
      ]
     },
     "execution_count": 634,
     "metadata": {},
     "output_type": "execute_result"
    }
   ],
   "source": [
    "NYC_shape.pop_density.describe()"
   ]
  },
  {
   "cell_type": "code",
   "execution_count": 635,
   "metadata": {
    "collapsed": false
   },
   "outputs": [
    {
     "data": {
      "text/plain": [
       "count    760.000000\n",
       "mean       0.634674\n",
       "std        0.329827\n",
       "min        0.000000\n",
       "25%        0.412703\n",
       "50%        0.611937\n",
       "75%        0.812231\n",
       "max        2.356579\n",
       "Name: household_density, dtype: float64"
      ]
     },
     "execution_count": 635,
     "metadata": {},
     "output_type": "execute_result"
    }
   ],
   "source": [
    "NYC_shape.household_density.describe()"
   ]
  },
  {
   "cell_type": "code",
   "execution_count": 636,
   "metadata": {
    "collapsed": false
   },
   "outputs": [
    {
     "data": {
      "text/plain": [
       "count       760.000000\n",
       "mean      48122.368421\n",
       "std       21700.146358\n",
       "min           0.000000\n",
       "25%       34108.000000\n",
       "50%       43521.000000\n",
       "75%       59650.000000\n",
       "max      163147.000000\n",
       "Name: MHI, dtype: float64"
      ]
     },
     "execution_count": 636,
     "metadata": {},
     "output_type": "execute_result"
    }
   ],
   "source": [
    "NYC_shape.MHI.describe()"
   ]
  },
  {
   "cell_type": "code",
   "execution_count": 418,
   "metadata": {
    "collapsed": true
   },
   "outputs": [],
   "source": [
    "# geenrate points for wifi data (unique bssid by census track for 2016 data) and sjoin with shape maga dataset\n",
    "# generate regression model\n",
    "# plot results "
   ]
  },
  {
   "cell_type": "code",
   "execution_count": null,
   "metadata": {
    "collapsed": true
   },
   "outputs": [],
   "source": []
  },
  {
   "cell_type": "code",
   "execution_count": null,
   "metadata": {
    "collapsed": true
   },
   "outputs": [],
   "source": []
  }
 ],
 "metadata": {
  "kernelspec": {
   "display_name": "Python 3",
   "language": "python",
   "name": "python3"
  },
  "language_info": {
   "codemirror_mode": {
    "name": "ipython",
    "version": 3
   },
   "file_extension": ".py",
   "mimetype": "text/x-python",
   "name": "python",
   "nbconvert_exporter": "python",
   "pygments_lexer": "ipython3",
   "version": "3.6.0"
  }
 },
 "nbformat": 4,
 "nbformat_minor": 2
}

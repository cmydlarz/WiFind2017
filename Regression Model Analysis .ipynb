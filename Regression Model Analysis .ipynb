{
 "cells": [
  {
   "cell_type": "code",
   "execution_count": 1,
   "metadata": {
    "collapsed": false
   },
   "outputs": [
    {
     "name": "stdout",
     "output_type": "stream",
     "text": [
      "Populating the interactive namespace from numpy and matplotlib\n"
     ]
    }
   ],
   "source": [
    "# imports\n",
    "from __future__  import print_function, division\n",
    "import pylab as pl\n",
    "import pandas as pd\n",
    "import numpy as np\n",
    "from geopandas import GeoDataFrame\n",
    "import matplotlib.pyplot as plt\n",
    "from fiona.crs import from_epsg\n",
    "import shapely as shp\n",
    "import seaborn \n",
    "import os\n",
    "import geopandas as gpd\n",
    "from fiona.crs import from_epsg\n",
    "import urllib\n",
    "import requests\n",
    "%pylab inline"
   ]
  },
  {
   "cell_type": "code",
   "execution_count": 2,
   "metadata": {
    "collapsed": true
   },
   "outputs": [],
   "source": [
    "#Pulling Data via API\n",
    "wifi_data = pd.read_json(\"http://wifindproject.com/wifipulling/?device_model=VS425\")"
   ]
  },
  {
   "cell_type": "code",
   "execution_count": 3,
   "metadata": {
    "collapsed": false
   },
   "outputs": [
    {
     "data": {
      "text/html": [
       "<div>\n",
       "<table border=\"1\" class=\"dataframe\">\n",
       "  <thead>\n",
       "    <tr style=\"text-align: right;\">\n",
       "      <th></th>\n",
       "      <th>acc</th>\n",
       "      <th>altitude</th>\n",
       "      <th>app_version</th>\n",
       "      <th>bssid</th>\n",
       "      <th>caps</th>\n",
       "      <th>device_mac</th>\n",
       "      <th>device_model</th>\n",
       "      <th>droid_version</th>\n",
       "      <th>freq</th>\n",
       "      <th>idx</th>\n",
       "      <th>lat</th>\n",
       "      <th>level</th>\n",
       "      <th>lng</th>\n",
       "      <th>ssid</th>\n",
       "      <th>time</th>\n",
       "    </tr>\n",
       "  </thead>\n",
       "  <tbody>\n",
       "    <tr>\n",
       "      <th>0</th>\n",
       "      <td>19.957</td>\n",
       "      <td>0.0</td>\n",
       "      <td>0.3.3</td>\n",
       "      <td>1c:e8:5d:ca:8f:33</td>\n",
       "      <td>[wpa-eap-tkip][wpa2-eap-ccmp][ess]</td>\n",
       "      <td>d3a2898a5e731607</td>\n",
       "      <td>VS425</td>\n",
       "      <td>5.1.1</td>\n",
       "      <td>2437</td>\n",
       "      <td>56629534</td>\n",
       "      <td>40.690966</td>\n",
       "      <td>-60</td>\n",
       "      <td>-73.987686</td>\n",
       "      <td>nyu-legacy</td>\n",
       "      <td>1497296993826</td>\n",
       "    </tr>\n",
       "    <tr>\n",
       "      <th>1</th>\n",
       "      <td>19.957</td>\n",
       "      <td>0.0</td>\n",
       "      <td>0.3.3</td>\n",
       "      <td>1c:e8:5d:ca:8f:32</td>\n",
       "      <td>[wpa2-eap-ccmp][ess]</td>\n",
       "      <td>d3a2898a5e731607</td>\n",
       "      <td>VS425</td>\n",
       "      <td>5.1.1</td>\n",
       "      <td>2437</td>\n",
       "      <td>56629535</td>\n",
       "      <td>40.690966</td>\n",
       "      <td>-59</td>\n",
       "      <td>-73.987686</td>\n",
       "      <td>eduroam</td>\n",
       "      <td>1497296993826</td>\n",
       "    </tr>\n",
       "    <tr>\n",
       "      <th>2</th>\n",
       "      <td>19.957</td>\n",
       "      <td>0.0</td>\n",
       "      <td>0.3.3</td>\n",
       "      <td>cc:d5:39:27:f2:43</td>\n",
       "      <td>[wpa-eap-tkip][wpa2-eap-ccmp][ess]</td>\n",
       "      <td>d3a2898a5e731607</td>\n",
       "      <td>VS425</td>\n",
       "      <td>5.1.1</td>\n",
       "      <td>2412</td>\n",
       "      <td>56629536</td>\n",
       "      <td>40.690966</td>\n",
       "      <td>-66</td>\n",
       "      <td>-73.987686</td>\n",
       "      <td>nyu-legacy</td>\n",
       "      <td>1497296993826</td>\n",
       "    </tr>\n",
       "    <tr>\n",
       "      <th>3</th>\n",
       "      <td>19.957</td>\n",
       "      <td>0.0</td>\n",
       "      <td>0.3.3</td>\n",
       "      <td>cc:d5:39:27:f2:42</td>\n",
       "      <td>[wpa2-eap-ccmp][ess]</td>\n",
       "      <td>d3a2898a5e731607</td>\n",
       "      <td>VS425</td>\n",
       "      <td>5.1.1</td>\n",
       "      <td>2412</td>\n",
       "      <td>56629537</td>\n",
       "      <td>40.690966</td>\n",
       "      <td>-67</td>\n",
       "      <td>-73.987686</td>\n",
       "      <td>eduroam</td>\n",
       "      <td>1497296993826</td>\n",
       "    </tr>\n",
       "    <tr>\n",
       "      <th>4</th>\n",
       "      <td>19.957</td>\n",
       "      <td>0.0</td>\n",
       "      <td>0.3.3</td>\n",
       "      <td>00:a2:ee:03:e3:20</td>\n",
       "      <td>[wpa2-eap-ccmp][ess]</td>\n",
       "      <td>d3a2898a5e731607</td>\n",
       "      <td>VS425</td>\n",
       "      <td>5.1.1</td>\n",
       "      <td>2412</td>\n",
       "      <td>56629538</td>\n",
       "      <td>40.690966</td>\n",
       "      <td>-73</td>\n",
       "      <td>-73.987686</td>\n",
       "      <td>constitution</td>\n",
       "      <td>1497296993826</td>\n",
       "    </tr>\n",
       "  </tbody>\n",
       "</table>\n",
       "</div>"
      ],
      "text/plain": [
       "      acc  altitude app_version              bssid  \\\n",
       "0  19.957       0.0       0.3.3  1c:e8:5d:ca:8f:33   \n",
       "1  19.957       0.0       0.3.3  1c:e8:5d:ca:8f:32   \n",
       "2  19.957       0.0       0.3.3  cc:d5:39:27:f2:43   \n",
       "3  19.957       0.0       0.3.3  cc:d5:39:27:f2:42   \n",
       "4  19.957       0.0       0.3.3  00:a2:ee:03:e3:20   \n",
       "\n",
       "                                 caps        device_mac device_model  \\\n",
       "0  [wpa-eap-tkip][wpa2-eap-ccmp][ess]  d3a2898a5e731607        VS425   \n",
       "1                [wpa2-eap-ccmp][ess]  d3a2898a5e731607        VS425   \n",
       "2  [wpa-eap-tkip][wpa2-eap-ccmp][ess]  d3a2898a5e731607        VS425   \n",
       "3                [wpa2-eap-ccmp][ess]  d3a2898a5e731607        VS425   \n",
       "4                [wpa2-eap-ccmp][ess]  d3a2898a5e731607        VS425   \n",
       "\n",
       "  droid_version  freq       idx        lat  level        lng          ssid  \\\n",
       "0         5.1.1  2437  56629534  40.690966    -60 -73.987686    nyu-legacy   \n",
       "1         5.1.1  2437  56629535  40.690966    -59 -73.987686       eduroam   \n",
       "2         5.1.1  2412  56629536  40.690966    -66 -73.987686    nyu-legacy   \n",
       "3         5.1.1  2412  56629537  40.690966    -67 -73.987686       eduroam   \n",
       "4         5.1.1  2412  56629538  40.690966    -73 -73.987686  constitution   \n",
       "\n",
       "            time  \n",
       "0  1497296993826  \n",
       "1  1497296993826  \n",
       "2  1497296993826  \n",
       "3  1497296993826  \n",
       "4  1497296993826  "
      ]
     },
     "execution_count": 3,
     "metadata": {},
     "output_type": "execute_result"
    }
   ],
   "source": [
    "wifi_data.head()"
   ]
  },
  {
   "cell_type": "code",
   "execution_count": 4,
   "metadata": {
    "collapsed": false
   },
   "outputs": [],
   "source": [
    "# filter records with accuaracy scores of 50 and above\n",
    "wifi_data = wifi_data.drop(wifi_data[wifi_data.acc > 50].index)"
   ]
  },
  {
   "cell_type": "code",
   "execution_count": 5,
   "metadata": {
    "collapsed": false
   },
   "outputs": [
    {
     "data": {
      "text/html": [
       "<div>\n",
       "<table border=\"1\" class=\"dataframe\">\n",
       "  <thead>\n",
       "    <tr style=\"text-align: right;\">\n",
       "      <th></th>\n",
       "      <th>acc</th>\n",
       "      <th>altitude</th>\n",
       "      <th>app_version</th>\n",
       "      <th>bssid</th>\n",
       "      <th>caps</th>\n",
       "      <th>device_mac</th>\n",
       "      <th>device_model</th>\n",
       "      <th>droid_version</th>\n",
       "      <th>freq</th>\n",
       "      <th>idx</th>\n",
       "      <th>lat</th>\n",
       "      <th>level</th>\n",
       "      <th>lng</th>\n",
       "      <th>ssid</th>\n",
       "      <th>time</th>\n",
       "    </tr>\n",
       "  </thead>\n",
       "  <tbody>\n",
       "    <tr>\n",
       "      <th>0</th>\n",
       "      <td>19.957</td>\n",
       "      <td>0.0</td>\n",
       "      <td>0.3.3</td>\n",
       "      <td>1c:e8:5d:ca:8f:33</td>\n",
       "      <td>[wpa-eap-tkip][wpa2-eap-ccmp][ess]</td>\n",
       "      <td>d3a2898a5e731607</td>\n",
       "      <td>VS425</td>\n",
       "      <td>5.1.1</td>\n",
       "      <td>2437</td>\n",
       "      <td>56629534</td>\n",
       "      <td>40.690966</td>\n",
       "      <td>-60</td>\n",
       "      <td>-73.987686</td>\n",
       "      <td>nyu-legacy</td>\n",
       "      <td>1497296993826</td>\n",
       "    </tr>\n",
       "    <tr>\n",
       "      <th>1</th>\n",
       "      <td>19.957</td>\n",
       "      <td>0.0</td>\n",
       "      <td>0.3.3</td>\n",
       "      <td>1c:e8:5d:ca:8f:32</td>\n",
       "      <td>[wpa2-eap-ccmp][ess]</td>\n",
       "      <td>d3a2898a5e731607</td>\n",
       "      <td>VS425</td>\n",
       "      <td>5.1.1</td>\n",
       "      <td>2437</td>\n",
       "      <td>56629535</td>\n",
       "      <td>40.690966</td>\n",
       "      <td>-59</td>\n",
       "      <td>-73.987686</td>\n",
       "      <td>eduroam</td>\n",
       "      <td>1497296993826</td>\n",
       "    </tr>\n",
       "    <tr>\n",
       "      <th>2</th>\n",
       "      <td>19.957</td>\n",
       "      <td>0.0</td>\n",
       "      <td>0.3.3</td>\n",
       "      <td>cc:d5:39:27:f2:43</td>\n",
       "      <td>[wpa-eap-tkip][wpa2-eap-ccmp][ess]</td>\n",
       "      <td>d3a2898a5e731607</td>\n",
       "      <td>VS425</td>\n",
       "      <td>5.1.1</td>\n",
       "      <td>2412</td>\n",
       "      <td>56629536</td>\n",
       "      <td>40.690966</td>\n",
       "      <td>-66</td>\n",
       "      <td>-73.987686</td>\n",
       "      <td>nyu-legacy</td>\n",
       "      <td>1497296993826</td>\n",
       "    </tr>\n",
       "    <tr>\n",
       "      <th>3</th>\n",
       "      <td>19.957</td>\n",
       "      <td>0.0</td>\n",
       "      <td>0.3.3</td>\n",
       "      <td>cc:d5:39:27:f2:42</td>\n",
       "      <td>[wpa2-eap-ccmp][ess]</td>\n",
       "      <td>d3a2898a5e731607</td>\n",
       "      <td>VS425</td>\n",
       "      <td>5.1.1</td>\n",
       "      <td>2412</td>\n",
       "      <td>56629537</td>\n",
       "      <td>40.690966</td>\n",
       "      <td>-67</td>\n",
       "      <td>-73.987686</td>\n",
       "      <td>eduroam</td>\n",
       "      <td>1497296993826</td>\n",
       "    </tr>\n",
       "    <tr>\n",
       "      <th>4</th>\n",
       "      <td>19.957</td>\n",
       "      <td>0.0</td>\n",
       "      <td>0.3.3</td>\n",
       "      <td>00:a2:ee:03:e3:20</td>\n",
       "      <td>[wpa2-eap-ccmp][ess]</td>\n",
       "      <td>d3a2898a5e731607</td>\n",
       "      <td>VS425</td>\n",
       "      <td>5.1.1</td>\n",
       "      <td>2412</td>\n",
       "      <td>56629538</td>\n",
       "      <td>40.690966</td>\n",
       "      <td>-73</td>\n",
       "      <td>-73.987686</td>\n",
       "      <td>constitution</td>\n",
       "      <td>1497296993826</td>\n",
       "    </tr>\n",
       "  </tbody>\n",
       "</table>\n",
       "</div>"
      ],
      "text/plain": [
       "      acc  altitude app_version              bssid  \\\n",
       "0  19.957       0.0       0.3.3  1c:e8:5d:ca:8f:33   \n",
       "1  19.957       0.0       0.3.3  1c:e8:5d:ca:8f:32   \n",
       "2  19.957       0.0       0.3.3  cc:d5:39:27:f2:43   \n",
       "3  19.957       0.0       0.3.3  cc:d5:39:27:f2:42   \n",
       "4  19.957       0.0       0.3.3  00:a2:ee:03:e3:20   \n",
       "\n",
       "                                 caps        device_mac device_model  \\\n",
       "0  [wpa-eap-tkip][wpa2-eap-ccmp][ess]  d3a2898a5e731607        VS425   \n",
       "1                [wpa2-eap-ccmp][ess]  d3a2898a5e731607        VS425   \n",
       "2  [wpa-eap-tkip][wpa2-eap-ccmp][ess]  d3a2898a5e731607        VS425   \n",
       "3                [wpa2-eap-ccmp][ess]  d3a2898a5e731607        VS425   \n",
       "4                [wpa2-eap-ccmp][ess]  d3a2898a5e731607        VS425   \n",
       "\n",
       "  droid_version  freq       idx        lat  level        lng          ssid  \\\n",
       "0         5.1.1  2437  56629534  40.690966    -60 -73.987686    nyu-legacy   \n",
       "1         5.1.1  2437  56629535  40.690966    -59 -73.987686       eduroam   \n",
       "2         5.1.1  2412  56629536  40.690966    -66 -73.987686    nyu-legacy   \n",
       "3         5.1.1  2412  56629537  40.690966    -67 -73.987686       eduroam   \n",
       "4         5.1.1  2412  56629538  40.690966    -73 -73.987686  constitution   \n",
       "\n",
       "            time  \n",
       "0  1497296993826  \n",
       "1  1497296993826  \n",
       "2  1497296993826  \n",
       "3  1497296993826  \n",
       "4  1497296993826  "
      ]
     },
     "execution_count": 5,
     "metadata": {},
     "output_type": "execute_result"
    }
   ],
   "source": [
    "wifi_data.head()"
   ]
  },
  {
   "cell_type": "markdown",
   "metadata": {},
   "source": [
    "# Needed variables:\n",
    "* Total Population\n",
    "* Population Density\n",
    "* House Hold Density\n",
    "* Median Household Income\n",
    "* Wifi Counts (open and other)\n",
    "* Poverty Level\n",
    "* Section 8 (T/F)\n",
    "* Location (lat, long)\n",
    "    "
   ]
  },
  {
   "cell_type": "code",
   "execution_count": 338,
   "metadata": {
    "collapsed": true
   },
   "outputs": [],
   "source": [
    "# 2010 & 2000 pop by census tract - BK\n",
    "NYC_pop_data = pd.read_json(\"https://data.cityofnewyork.us/resource/rx2e-87id.json\", dtype={'census_tract': str})"
   ]
  },
  {
   "cell_type": "code",
   "execution_count": 339,
   "metadata": {
    "collapsed": false
   },
   "outputs": [
    {
     "data": {
      "text/plain": [
       "(1000, 6)"
      ]
     },
     "execution_count": 339,
     "metadata": {},
     "output_type": "execute_result"
    }
   ],
   "source": [
    "NYC_pop_data_2010.shape"
   ]
  },
  {
   "cell_type": "code",
   "execution_count": 340,
   "metadata": {
    "collapsed": false
   },
   "outputs": [],
   "source": [
    "NYC_pop_data.drop(NYC_pop_data[NYC_pop_data.year == 2000].index, inplace=True)"
   ]
  },
  {
   "cell_type": "code",
   "execution_count": 341,
   "metadata": {
    "collapsed": false
   },
   "outputs": [
    {
     "data": {
      "text/html": [
       "<div>\n",
       "<table border=\"1\" class=\"dataframe\">\n",
       "  <thead>\n",
       "    <tr style=\"text-align: right;\">\n",
       "      <th></th>\n",
       "      <th>borough</th>\n",
       "      <th>census_tract</th>\n",
       "      <th>dcp_borough_code</th>\n",
       "      <th>fips_county_code</th>\n",
       "      <th>population</th>\n",
       "      <th>year</th>\n",
       "    </tr>\n",
       "  </thead>\n",
       "  <tbody>\n",
       "    <tr>\n",
       "      <th>761</th>\n",
       "      <td>Brooklyn</td>\n",
       "      <td>000100</td>\n",
       "      <td>3</td>\n",
       "      <td>47</td>\n",
       "      <td>4338</td>\n",
       "      <td>2010</td>\n",
       "    </tr>\n",
       "    <tr>\n",
       "      <th>762</th>\n",
       "      <td>Brooklyn</td>\n",
       "      <td>000200</td>\n",
       "      <td>3</td>\n",
       "      <td>47</td>\n",
       "      <td>1470</td>\n",
       "      <td>2010</td>\n",
       "    </tr>\n",
       "    <tr>\n",
       "      <th>763</th>\n",
       "      <td>Brooklyn</td>\n",
       "      <td>000301</td>\n",
       "      <td>3</td>\n",
       "      <td>47</td>\n",
       "      <td>4259</td>\n",
       "      <td>2010</td>\n",
       "    </tr>\n",
       "    <tr>\n",
       "      <th>764</th>\n",
       "      <td>Brooklyn</td>\n",
       "      <td>000501</td>\n",
       "      <td>3</td>\n",
       "      <td>47</td>\n",
       "      <td>4247</td>\n",
       "      <td>2010</td>\n",
       "    </tr>\n",
       "    <tr>\n",
       "      <th>765</th>\n",
       "      <td>Brooklyn</td>\n",
       "      <td>000502</td>\n",
       "      <td>3</td>\n",
       "      <td>47</td>\n",
       "      <td>2512</td>\n",
       "      <td>2010</td>\n",
       "    </tr>\n",
       "  </tbody>\n",
       "</table>\n",
       "</div>"
      ],
      "text/plain": [
       "      borough census_tract  dcp_borough_code  fips_county_code  population  \\\n",
       "761  Brooklyn       000100                 3                47        4338   \n",
       "762  Brooklyn       000200                 3                47        1470   \n",
       "763  Brooklyn       000301                 3                47        4259   \n",
       "764  Brooklyn       000501                 3                47        4247   \n",
       "765  Brooklyn       000502                 3                47        2512   \n",
       "\n",
       "     year  \n",
       "761  2010  \n",
       "762  2010  \n",
       "763  2010  \n",
       "764  2010  \n",
       "765  2010  "
      ]
     },
     "execution_count": 341,
     "metadata": {},
     "output_type": "execute_result"
    }
   ],
   "source": [
    "NYC_pop_data.head()"
   ]
  },
  {
   "cell_type": "code",
   "execution_count": 342,
   "metadata": {
    "collapsed": false
   },
   "outputs": [
    {
     "data": {
      "text/plain": [
       "(239, 6)"
      ]
     },
     "execution_count": 342,
     "metadata": {},
     "output_type": "execute_result"
    }
   ],
   "source": [
    "NYC_pop_data.shape"
   ]
  },
  {
   "cell_type": "code",
   "execution_count": 343,
   "metadata": {
    "collapsed": false
   },
   "outputs": [],
   "source": [
    "NYC_pop_data[\"boro_ct2010\"] = NYC_pop_data.dcp_borough_code.astype(str) + NYC_pop_data.census_tract.astype(str)"
   ]
  },
  {
   "cell_type": "code",
   "execution_count": 344,
   "metadata": {
    "collapsed": true
   },
   "outputs": [],
   "source": [
    "NYC_pop_data[\"boro_ct2010\"] = NYC_pop_data[\"boro_ct2010\"].astype(int)"
   ]
  },
  {
   "cell_type": "code",
   "execution_count": 345,
   "metadata": {
    "collapsed": false
   },
   "outputs": [
    {
     "data": {
      "text/plain": [
       "dtype('int64')"
      ]
     },
     "execution_count": 345,
     "metadata": {},
     "output_type": "execute_result"
    }
   ],
   "source": [
    "NYC_pop_data[\"boro_ct2010\"].dtype"
   ]
  },
  {
   "cell_type": "code",
   "execution_count": 346,
   "metadata": {
    "collapsed": false
   },
   "outputs": [
    {
     "data": {
      "text/plain": [
       "array(['Brooklyn'], dtype=object)"
      ]
     },
     "execution_count": 346,
     "metadata": {},
     "output_type": "execute_result"
    }
   ],
   "source": [
    "NYC_pop_data.borough.unique()"
   ]
  },
  {
   "cell_type": "code",
   "execution_count": 347,
   "metadata": {
    "collapsed": false
   },
   "outputs": [
    {
     "data": {
      "text/html": [
       "<div>\n",
       "<table border=\"1\" class=\"dataframe\">\n",
       "  <thead>\n",
       "    <tr style=\"text-align: right;\">\n",
       "      <th></th>\n",
       "      <th>borough</th>\n",
       "      <th>census_tract</th>\n",
       "      <th>dcp_borough_code</th>\n",
       "      <th>fips_county_code</th>\n",
       "      <th>population</th>\n",
       "      <th>year</th>\n",
       "      <th>boro_ct2010</th>\n",
       "    </tr>\n",
       "  </thead>\n",
       "  <tbody>\n",
       "    <tr>\n",
       "      <th>761</th>\n",
       "      <td>Brooklyn</td>\n",
       "      <td>000100</td>\n",
       "      <td>3</td>\n",
       "      <td>47</td>\n",
       "      <td>4338</td>\n",
       "      <td>2010</td>\n",
       "      <td>3000100</td>\n",
       "    </tr>\n",
       "    <tr>\n",
       "      <th>762</th>\n",
       "      <td>Brooklyn</td>\n",
       "      <td>000200</td>\n",
       "      <td>3</td>\n",
       "      <td>47</td>\n",
       "      <td>1470</td>\n",
       "      <td>2010</td>\n",
       "      <td>3000200</td>\n",
       "    </tr>\n",
       "    <tr>\n",
       "      <th>763</th>\n",
       "      <td>Brooklyn</td>\n",
       "      <td>000301</td>\n",
       "      <td>3</td>\n",
       "      <td>47</td>\n",
       "      <td>4259</td>\n",
       "      <td>2010</td>\n",
       "      <td>3000301</td>\n",
       "    </tr>\n",
       "    <tr>\n",
       "      <th>764</th>\n",
       "      <td>Brooklyn</td>\n",
       "      <td>000501</td>\n",
       "      <td>3</td>\n",
       "      <td>47</td>\n",
       "      <td>4247</td>\n",
       "      <td>2010</td>\n",
       "      <td>3000501</td>\n",
       "    </tr>\n",
       "    <tr>\n",
       "      <th>765</th>\n",
       "      <td>Brooklyn</td>\n",
       "      <td>000502</td>\n",
       "      <td>3</td>\n",
       "      <td>47</td>\n",
       "      <td>2512</td>\n",
       "      <td>2010</td>\n",
       "      <td>3000502</td>\n",
       "    </tr>\n",
       "  </tbody>\n",
       "</table>\n",
       "</div>"
      ],
      "text/plain": [
       "      borough census_tract  dcp_borough_code  fips_county_code  population  \\\n",
       "761  Brooklyn       000100                 3                47        4338   \n",
       "762  Brooklyn       000200                 3                47        1470   \n",
       "763  Brooklyn       000301                 3                47        4259   \n",
       "764  Brooklyn       000501                 3                47        4247   \n",
       "765  Brooklyn       000502                 3                47        2512   \n",
       "\n",
       "     year  boro_ct2010  \n",
       "761  2010      3000100  \n",
       "762  2010      3000200  \n",
       "763  2010      3000301  \n",
       "764  2010      3000501  \n",
       "765  2010      3000502  "
      ]
     },
     "execution_count": 347,
     "metadata": {},
     "output_type": "execute_result"
    }
   ],
   "source": [
    "# 6 digits\n",
    "# leading with 2 zeros for 2 digit numbers\n",
    "# leading with 1 zeros for 3 digit numbers\n",
    "# ending with 2 zeros for decimal places\n",
    "\n",
    "NYC_pop_data[NYC_pop_data.census_tract.str.contains(\"0\")].head()"
   ]
  },
  {
   "cell_type": "code",
   "execution_count": 348,
   "metadata": {
    "collapsed": false
   },
   "outputs": [
    {
     "data": {
      "text/plain": [
       "(239, 7)"
      ]
     },
     "execution_count": 348,
     "metadata": {},
     "output_type": "execute_result"
    }
   ],
   "source": [
    "NYC_pop_data.shape"
   ]
  },
  {
   "cell_type": "code",
   "execution_count": 349,
   "metadata": {
    "collapsed": false
   },
   "outputs": [
    {
     "data": {
      "text/html": [
       "<div>\n",
       "<table border=\"1\" class=\"dataframe\">\n",
       "  <thead>\n",
       "    <tr style=\"text-align: right;\">\n",
       "      <th></th>\n",
       "      <th>boro_code</th>\n",
       "      <th>boro_ct2010</th>\n",
       "      <th>boro_name</th>\n",
       "      <th>cdeligibil</th>\n",
       "      <th>ct2010</th>\n",
       "      <th>ctlabel</th>\n",
       "      <th>ntacode</th>\n",
       "      <th>ntaname</th>\n",
       "      <th>puma</th>\n",
       "      <th>shape_area</th>\n",
       "      <th>shape_leng</th>\n",
       "      <th>the_geom</th>\n",
       "    </tr>\n",
       "  </thead>\n",
       "  <tbody>\n",
       "    <tr>\n",
       "      <th>0</th>\n",
       "      <td>5</td>\n",
       "      <td>5000900</td>\n",
       "      <td>Staten Island</td>\n",
       "      <td>I</td>\n",
       "      <td>000900</td>\n",
       "      <td>9</td>\n",
       "      <td>SI22</td>\n",
       "      <td>West New Brighton-New Brighton-St. George</td>\n",
       "      <td>3903</td>\n",
       "      <td>2497009.69813</td>\n",
       "      <td>7729.01679376</td>\n",
       "      <td>{'type': 'MultiPolygon', 'coordinates': [[[[-7...</td>\n",
       "    </tr>\n",
       "    <tr>\n",
       "      <th>1</th>\n",
       "      <td>1</td>\n",
       "      <td>1009800</td>\n",
       "      <td>Manhattan</td>\n",
       "      <td>I</td>\n",
       "      <td>009800</td>\n",
       "      <td>98</td>\n",
       "      <td>MN19</td>\n",
       "      <td>Turtle Bay-East Midtown</td>\n",
       "      <td>3808</td>\n",
       "      <td>1906016.35002</td>\n",
       "      <td>5534.19981063</td>\n",
       "      <td>{'type': 'MultiPolygon', 'coordinates': [[[[-7...</td>\n",
       "    </tr>\n",
       "    <tr>\n",
       "      <th>2</th>\n",
       "      <td>1</td>\n",
       "      <td>1010000</td>\n",
       "      <td>Manhattan</td>\n",
       "      <td>I</td>\n",
       "      <td>010000</td>\n",
       "      <td>100</td>\n",
       "      <td>MN19</td>\n",
       "      <td>Turtle Bay-East Midtown</td>\n",
       "      <td>3808</td>\n",
       "      <td>1860938.37721</td>\n",
       "      <td>5692.16873705</td>\n",
       "      <td>{'type': 'MultiPolygon', 'coordinates': [[[[-7...</td>\n",
       "    </tr>\n",
       "    <tr>\n",
       "      <th>3</th>\n",
       "      <td>1</td>\n",
       "      <td>1010200</td>\n",
       "      <td>Manhattan</td>\n",
       "      <td>I</td>\n",
       "      <td>010200</td>\n",
       "      <td>102</td>\n",
       "      <td>MN17</td>\n",
       "      <td>Midtown-Midtown South</td>\n",
       "      <td>3807</td>\n",
       "      <td>1860992.70485</td>\n",
       "      <td>5687.80243866</td>\n",
       "      <td>{'type': 'MultiPolygon', 'coordinates': [[[[-7...</td>\n",
       "    </tr>\n",
       "    <tr>\n",
       "      <th>4</th>\n",
       "      <td>1</td>\n",
       "      <td>1010400</td>\n",
       "      <td>Manhattan</td>\n",
       "      <td>I</td>\n",
       "      <td>010400</td>\n",
       "      <td>104</td>\n",
       "      <td>MN17</td>\n",
       "      <td>Midtown-Midtown South</td>\n",
       "      <td>3807</td>\n",
       "      <td>1864600.41684</td>\n",
       "      <td>5693.03636727</td>\n",
       "      <td>{'type': 'MultiPolygon', 'coordinates': [[[[-7...</td>\n",
       "    </tr>\n",
       "  </tbody>\n",
       "</table>\n",
       "</div>"
      ],
      "text/plain": [
       "  boro_code boro_ct2010      boro_name cdeligibil  ct2010 ctlabel ntacode  \\\n",
       "0         5     5000900  Staten Island          I  000900       9    SI22   \n",
       "1         1     1009800      Manhattan          I  009800      98    MN19   \n",
       "2         1     1010000      Manhattan          I  010000     100    MN19   \n",
       "3         1     1010200      Manhattan          I  010200     102    MN17   \n",
       "4         1     1010400      Manhattan          I  010400     104    MN17   \n",
       "\n",
       "                                     ntaname  puma     shape_area  \\\n",
       "0  West New Brighton-New Brighton-St. George  3903  2497009.69813   \n",
       "1                    Turtle Bay-East Midtown  3808  1906016.35002   \n",
       "2                    Turtle Bay-East Midtown  3808  1860938.37721   \n",
       "3                      Midtown-Midtown South  3807  1860992.70485   \n",
       "4                      Midtown-Midtown South  3807  1864600.41684   \n",
       "\n",
       "      shape_leng                                           the_geom  \n",
       "0  7729.01679376  {'type': 'MultiPolygon', 'coordinates': [[[[-7...  \n",
       "1  5534.19981063  {'type': 'MultiPolygon', 'coordinates': [[[[-7...  \n",
       "2  5692.16873705  {'type': 'MultiPolygon', 'coordinates': [[[[-7...  \n",
       "3  5687.80243866  {'type': 'MultiPolygon', 'coordinates': [[[[-7...  \n",
       "4  5693.03636727  {'type': 'MultiPolygon', 'coordinates': [[[[-7...  "
      ]
     },
     "execution_count": 349,
     "metadata": {},
     "output_type": "execute_result"
    }
   ],
   "source": [
    "# 2010 Census Tracts - NYC Open Data\n",
    "# https://data.cityofnewyork.us/City-Government/2010-Census-Tracts/fxpq-c8ku\n",
    "\n",
    "\"\"\"REFERENCE SYSTEM IDENTIFIER\n",
    "* VALUE 2263\n",
    "* CODESPACE EPSG\n",
    "* VERSION 8.6.2\"\"\"\n",
    "\n",
    "data = requests.get(\"https://data.cityofnewyork.us/resource/i69b-3rdj.json\")\n",
    "gdf = gpd.GeoDataFrame(data.json())\n",
    "gdf.head()"
   ]
  },
  {
   "cell_type": "code",
   "execution_count": 350,
   "metadata": {
    "collapsed": true
   },
   "outputs": [],
   "source": [
    "gdf[\"boro_ct2010\"] = gdf[\"boro_ct2010\"].astype(int)"
   ]
  },
  {
   "cell_type": "code",
   "execution_count": 351,
   "metadata": {
    "collapsed": true
   },
   "outputs": [],
   "source": [
    "#country_shapes = country_shapes.merge(country_names, on='iso_a3')\n",
    "NYC_shape = gdf.merge(NYC_pop_data, on=\"boro_ct2010\")"
   ]
  },
  {
   "cell_type": "code",
   "execution_count": 352,
   "metadata": {
    "collapsed": false
   },
   "outputs": [
    {
     "data": {
      "text/plain": [
       "(132, 18)"
      ]
     },
     "execution_count": 352,
     "metadata": {},
     "output_type": "execute_result"
    }
   ],
   "source": [
    "NYC_shape.shape"
   ]
  },
  {
   "cell_type": "code",
   "execution_count": 353,
   "metadata": {
    "collapsed": false
   },
   "outputs": [
    {
     "data": {
      "text/html": [
       "<div>\n",
       "<table border=\"1\" class=\"dataframe\">\n",
       "  <thead>\n",
       "    <tr style=\"text-align: right;\">\n",
       "      <th></th>\n",
       "      <th>boro_code</th>\n",
       "      <th>boro_ct2010</th>\n",
       "      <th>boro_name</th>\n",
       "      <th>cdeligibil</th>\n",
       "      <th>ct2010</th>\n",
       "      <th>ctlabel</th>\n",
       "      <th>ntacode</th>\n",
       "      <th>ntaname</th>\n",
       "      <th>puma</th>\n",
       "      <th>shape_area</th>\n",
       "      <th>shape_leng</th>\n",
       "      <th>the_geom</th>\n",
       "      <th>borough</th>\n",
       "      <th>census_tract</th>\n",
       "      <th>dcp_borough_code</th>\n",
       "      <th>fips_county_code</th>\n",
       "      <th>population</th>\n",
       "      <th>year</th>\n",
       "    </tr>\n",
       "  </thead>\n",
       "  <tbody>\n",
       "    <tr>\n",
       "      <th>0</th>\n",
       "      <td>3</td>\n",
       "      <td>3000501</td>\n",
       "      <td>Brooklyn</td>\n",
       "      <td>I</td>\n",
       "      <td>000501</td>\n",
       "      <td>5.01</td>\n",
       "      <td>BK09</td>\n",
       "      <td>Brooklyn Heights-Cobble Hill</td>\n",
       "      <td>4004</td>\n",
       "      <td>901506.97904</td>\n",
       "      <td>4828.16991186</td>\n",
       "      <td>{'type': 'MultiPolygon', 'coordinates': [[[[-7...</td>\n",
       "      <td>Brooklyn</td>\n",
       "      <td>000501</td>\n",
       "      <td>3</td>\n",
       "      <td>47</td>\n",
       "      <td>4247</td>\n",
       "      <td>2010</td>\n",
       "    </tr>\n",
       "    <tr>\n",
       "      <th>1</th>\n",
       "      <td>3</td>\n",
       "      <td>3002000</td>\n",
       "      <td>Brooklyn</td>\n",
       "      <td>I</td>\n",
       "      <td>002000</td>\n",
       "      <td>20</td>\n",
       "      <td>BK32</td>\n",
       "      <td>Sunset Park West</td>\n",
       "      <td>4012</td>\n",
       "      <td>1620770.16274</td>\n",
       "      <td>5426.06727936</td>\n",
       "      <td>{'type': 'MultiPolygon', 'coordinates': [[[[-7...</td>\n",
       "      <td>Brooklyn</td>\n",
       "      <td>002000</td>\n",
       "      <td>3</td>\n",
       "      <td>47</td>\n",
       "      <td>1672</td>\n",
       "      <td>2010</td>\n",
       "    </tr>\n",
       "    <tr>\n",
       "      <th>2</th>\n",
       "      <td>3</td>\n",
       "      <td>3004100</td>\n",
       "      <td>Brooklyn</td>\n",
       "      <td>I</td>\n",
       "      <td>004100</td>\n",
       "      <td>41</td>\n",
       "      <td>BK38</td>\n",
       "      <td>DUMBO-Vinegar Hill-Downtown Brooklyn-Boerum Hill</td>\n",
       "      <td>4004</td>\n",
       "      <td>1744094.3952</td>\n",
       "      <td>5283.85665969</td>\n",
       "      <td>{'type': 'MultiPolygon', 'coordinates': [[[[-7...</td>\n",
       "      <td>Brooklyn</td>\n",
       "      <td>004100</td>\n",
       "      <td>3</td>\n",
       "      <td>47</td>\n",
       "      <td>3598</td>\n",
       "      <td>2010</td>\n",
       "    </tr>\n",
       "    <tr>\n",
       "      <th>3</th>\n",
       "      <td>3</td>\n",
       "      <td>3005202</td>\n",
       "      <td>Brooklyn</td>\n",
       "      <td>I</td>\n",
       "      <td>005202</td>\n",
       "      <td>52.02</td>\n",
       "      <td>BK31</td>\n",
       "      <td>Bay Ridge</td>\n",
       "      <td>4013</td>\n",
       "      <td>1398134.42883</td>\n",
       "      <td>5190.71381772</td>\n",
       "      <td>{'type': 'MultiPolygon', 'coordinates': [[[[-7...</td>\n",
       "      <td>Brooklyn</td>\n",
       "      <td>005202</td>\n",
       "      <td>3</td>\n",
       "      <td>47</td>\n",
       "      <td>2481</td>\n",
       "      <td>2010</td>\n",
       "    </tr>\n",
       "    <tr>\n",
       "      <th>4</th>\n",
       "      <td>3</td>\n",
       "      <td>3005800</td>\n",
       "      <td>Brooklyn</td>\n",
       "      <td>E</td>\n",
       "      <td>005800</td>\n",
       "      <td>58</td>\n",
       "      <td>BK31</td>\n",
       "      <td>Bay Ridge</td>\n",
       "      <td>4013</td>\n",
       "      <td>2080303.3141</td>\n",
       "      <td>6098.16779894</td>\n",
       "      <td>{'type': 'MultiPolygon', 'coordinates': [[[[-7...</td>\n",
       "      <td>Brooklyn</td>\n",
       "      <td>005800</td>\n",
       "      <td>3</td>\n",
       "      <td>47</td>\n",
       "      <td>3152</td>\n",
       "      <td>2010</td>\n",
       "    </tr>\n",
       "  </tbody>\n",
       "</table>\n",
       "</div>"
      ],
      "text/plain": [
       "  boro_code  boro_ct2010 boro_name cdeligibil  ct2010 ctlabel ntacode  \\\n",
       "0         3      3000501  Brooklyn          I  000501    5.01    BK09   \n",
       "1         3      3002000  Brooklyn          I  002000      20    BK32   \n",
       "2         3      3004100  Brooklyn          I  004100      41    BK38   \n",
       "3         3      3005202  Brooklyn          I  005202   52.02    BK31   \n",
       "4         3      3005800  Brooklyn          E  005800      58    BK31   \n",
       "\n",
       "                                            ntaname  puma     shape_area  \\\n",
       "0                      Brooklyn Heights-Cobble Hill  4004   901506.97904   \n",
       "1                                  Sunset Park West  4012  1620770.16274   \n",
       "2  DUMBO-Vinegar Hill-Downtown Brooklyn-Boerum Hill  4004   1744094.3952   \n",
       "3                                         Bay Ridge  4013  1398134.42883   \n",
       "4                                         Bay Ridge  4013   2080303.3141   \n",
       "\n",
       "      shape_leng                                           the_geom   borough  \\\n",
       "0  4828.16991186  {'type': 'MultiPolygon', 'coordinates': [[[[-7...  Brooklyn   \n",
       "1  5426.06727936  {'type': 'MultiPolygon', 'coordinates': [[[[-7...  Brooklyn   \n",
       "2  5283.85665969  {'type': 'MultiPolygon', 'coordinates': [[[[-7...  Brooklyn   \n",
       "3  5190.71381772  {'type': 'MultiPolygon', 'coordinates': [[[[-7...  Brooklyn   \n",
       "4  6098.16779894  {'type': 'MultiPolygon', 'coordinates': [[[[-7...  Brooklyn   \n",
       "\n",
       "  census_tract  dcp_borough_code  fips_county_code  population  year  \n",
       "0       000501                 3                47        4247  2010  \n",
       "1       002000                 3                47        1672  2010  \n",
       "2       004100                 3                47        3598  2010  \n",
       "3       005202                 3                47        2481  2010  \n",
       "4       005800                 3                47        3152  2010  "
      ]
     },
     "execution_count": 353,
     "metadata": {},
     "output_type": "execute_result"
    }
   ],
   "source": [
    "NYC_shape.head()"
   ]
  },
  {
   "cell_type": "code",
   "execution_count": 354,
   "metadata": {
    "collapsed": false
   },
   "outputs": [
    {
     "data": {
      "text/plain": [
       "dtype('int64')"
      ]
     },
     "execution_count": 354,
     "metadata": {},
     "output_type": "execute_result"
    }
   ],
   "source": [
    "NYC_shape.population.dtype"
   ]
  },
  {
   "cell_type": "code",
   "execution_count": 355,
   "metadata": {
    "collapsed": false
   },
   "outputs": [
    {
     "data": {
      "text/plain": [
       "dtype('O')"
      ]
     },
     "execution_count": 355,
     "metadata": {},
     "output_type": "execute_result"
    }
   ],
   "source": [
    "NYC_shape.shape_area.dtype"
   ]
  },
  {
   "cell_type": "code",
   "execution_count": 356,
   "metadata": {
    "collapsed": false
   },
   "outputs": [
    {
     "name": "stderr",
     "output_type": "stream",
     "text": [
      "/Applications/anaconda/lib/python3.6/site-packages/ipykernel/__main__.py:1: FutureWarning: convert_objects is deprecated.  Use the data-type specific converters pd.to_datetime, pd.to_timedelta and pd.to_numeric.\n",
      "  if __name__ == '__main__':\n"
     ]
    }
   ],
   "source": [
    "NYC_shape['shape_area'] = NYC_shape['shape_area'].convert_objects(convert_numeric=True)"
   ]
  },
  {
   "cell_type": "code",
   "execution_count": 357,
   "metadata": {
    "collapsed": false
   },
   "outputs": [],
   "source": [
    "#NYC_shape.shape_area = NYC_shape.shape_area.astype(float)"
   ]
  },
  {
   "cell_type": "code",
   "execution_count": 358,
   "metadata": {
    "collapsed": false
   },
   "outputs": [
    {
     "data": {
      "text/plain": [
       "dtype('float64')"
      ]
     },
     "execution_count": 358,
     "metadata": {},
     "output_type": "execute_result"
    }
   ],
   "source": [
    "NYC_shape.shape_area.dtype"
   ]
  },
  {
   "cell_type": "code",
   "execution_count": 359,
   "metadata": {
    "collapsed": false
   },
   "outputs": [
    {
     "data": {
      "text/html": [
       "<div>\n",
       "<table border=\"1\" class=\"dataframe\">\n",
       "  <thead>\n",
       "    <tr style=\"text-align: right;\">\n",
       "      <th></th>\n",
       "      <th>boro_code</th>\n",
       "      <th>boro_ct2010</th>\n",
       "      <th>boro_name</th>\n",
       "      <th>cdeligibil</th>\n",
       "      <th>ct2010</th>\n",
       "      <th>ctlabel</th>\n",
       "      <th>ntacode</th>\n",
       "      <th>ntaname</th>\n",
       "      <th>puma</th>\n",
       "      <th>shape_area</th>\n",
       "      <th>shape_leng</th>\n",
       "      <th>the_geom</th>\n",
       "      <th>borough</th>\n",
       "      <th>census_tract</th>\n",
       "      <th>dcp_borough_code</th>\n",
       "      <th>fips_county_code</th>\n",
       "      <th>population</th>\n",
       "      <th>year</th>\n",
       "    </tr>\n",
       "  </thead>\n",
       "  <tbody>\n",
       "    <tr>\n",
       "      <th>0</th>\n",
       "      <td>3</td>\n",
       "      <td>3000501</td>\n",
       "      <td>Brooklyn</td>\n",
       "      <td>I</td>\n",
       "      <td>000501</td>\n",
       "      <td>5.01</td>\n",
       "      <td>BK09</td>\n",
       "      <td>Brooklyn Heights-Cobble Hill</td>\n",
       "      <td>4004</td>\n",
       "      <td>9.015070e+05</td>\n",
       "      <td>4828.16991186</td>\n",
       "      <td>{'type': 'MultiPolygon', 'coordinates': [[[[-7...</td>\n",
       "      <td>Brooklyn</td>\n",
       "      <td>000501</td>\n",
       "      <td>3</td>\n",
       "      <td>47</td>\n",
       "      <td>4247</td>\n",
       "      <td>2010</td>\n",
       "    </tr>\n",
       "    <tr>\n",
       "      <th>1</th>\n",
       "      <td>3</td>\n",
       "      <td>3002000</td>\n",
       "      <td>Brooklyn</td>\n",
       "      <td>I</td>\n",
       "      <td>002000</td>\n",
       "      <td>20</td>\n",
       "      <td>BK32</td>\n",
       "      <td>Sunset Park West</td>\n",
       "      <td>4012</td>\n",
       "      <td>1.620770e+06</td>\n",
       "      <td>5426.06727936</td>\n",
       "      <td>{'type': 'MultiPolygon', 'coordinates': [[[[-7...</td>\n",
       "      <td>Brooklyn</td>\n",
       "      <td>002000</td>\n",
       "      <td>3</td>\n",
       "      <td>47</td>\n",
       "      <td>1672</td>\n",
       "      <td>2010</td>\n",
       "    </tr>\n",
       "    <tr>\n",
       "      <th>2</th>\n",
       "      <td>3</td>\n",
       "      <td>3004100</td>\n",
       "      <td>Brooklyn</td>\n",
       "      <td>I</td>\n",
       "      <td>004100</td>\n",
       "      <td>41</td>\n",
       "      <td>BK38</td>\n",
       "      <td>DUMBO-Vinegar Hill-Downtown Brooklyn-Boerum Hill</td>\n",
       "      <td>4004</td>\n",
       "      <td>1.744094e+06</td>\n",
       "      <td>5283.85665969</td>\n",
       "      <td>{'type': 'MultiPolygon', 'coordinates': [[[[-7...</td>\n",
       "      <td>Brooklyn</td>\n",
       "      <td>004100</td>\n",
       "      <td>3</td>\n",
       "      <td>47</td>\n",
       "      <td>3598</td>\n",
       "      <td>2010</td>\n",
       "    </tr>\n",
       "    <tr>\n",
       "      <th>3</th>\n",
       "      <td>3</td>\n",
       "      <td>3005202</td>\n",
       "      <td>Brooklyn</td>\n",
       "      <td>I</td>\n",
       "      <td>005202</td>\n",
       "      <td>52.02</td>\n",
       "      <td>BK31</td>\n",
       "      <td>Bay Ridge</td>\n",
       "      <td>4013</td>\n",
       "      <td>1.398134e+06</td>\n",
       "      <td>5190.71381772</td>\n",
       "      <td>{'type': 'MultiPolygon', 'coordinates': [[[[-7...</td>\n",
       "      <td>Brooklyn</td>\n",
       "      <td>005202</td>\n",
       "      <td>3</td>\n",
       "      <td>47</td>\n",
       "      <td>2481</td>\n",
       "      <td>2010</td>\n",
       "    </tr>\n",
       "    <tr>\n",
       "      <th>4</th>\n",
       "      <td>3</td>\n",
       "      <td>3005800</td>\n",
       "      <td>Brooklyn</td>\n",
       "      <td>E</td>\n",
       "      <td>005800</td>\n",
       "      <td>58</td>\n",
       "      <td>BK31</td>\n",
       "      <td>Bay Ridge</td>\n",
       "      <td>4013</td>\n",
       "      <td>2.080303e+06</td>\n",
       "      <td>6098.16779894</td>\n",
       "      <td>{'type': 'MultiPolygon', 'coordinates': [[[[-7...</td>\n",
       "      <td>Brooklyn</td>\n",
       "      <td>005800</td>\n",
       "      <td>3</td>\n",
       "      <td>47</td>\n",
       "      <td>3152</td>\n",
       "      <td>2010</td>\n",
       "    </tr>\n",
       "  </tbody>\n",
       "</table>\n",
       "</div>"
      ],
      "text/plain": [
       "  boro_code  boro_ct2010 boro_name cdeligibil  ct2010 ctlabel ntacode  \\\n",
       "0         3      3000501  Brooklyn          I  000501    5.01    BK09   \n",
       "1         3      3002000  Brooklyn          I  002000      20    BK32   \n",
       "2         3      3004100  Brooklyn          I  004100      41    BK38   \n",
       "3         3      3005202  Brooklyn          I  005202   52.02    BK31   \n",
       "4         3      3005800  Brooklyn          E  005800      58    BK31   \n",
       "\n",
       "                                            ntaname  puma    shape_area  \\\n",
       "0                      Brooklyn Heights-Cobble Hill  4004  9.015070e+05   \n",
       "1                                  Sunset Park West  4012  1.620770e+06   \n",
       "2  DUMBO-Vinegar Hill-Downtown Brooklyn-Boerum Hill  4004  1.744094e+06   \n",
       "3                                         Bay Ridge  4013  1.398134e+06   \n",
       "4                                         Bay Ridge  4013  2.080303e+06   \n",
       "\n",
       "      shape_leng                                           the_geom   borough  \\\n",
       "0  4828.16991186  {'type': 'MultiPolygon', 'coordinates': [[[[-7...  Brooklyn   \n",
       "1  5426.06727936  {'type': 'MultiPolygon', 'coordinates': [[[[-7...  Brooklyn   \n",
       "2  5283.85665969  {'type': 'MultiPolygon', 'coordinates': [[[[-7...  Brooklyn   \n",
       "3  5190.71381772  {'type': 'MultiPolygon', 'coordinates': [[[[-7...  Brooklyn   \n",
       "4  6098.16779894  {'type': 'MultiPolygon', 'coordinates': [[[[-7...  Brooklyn   \n",
       "\n",
       "  census_tract  dcp_borough_code  fips_county_code  population  year  \n",
       "0       000501                 3                47        4247  2010  \n",
       "1       002000                 3                47        1672  2010  \n",
       "2       004100                 3                47        3598  2010  \n",
       "3       005202                 3                47        2481  2010  \n",
       "4       005800                 3                47        3152  2010  "
      ]
     },
     "execution_count": 359,
     "metadata": {},
     "output_type": "execute_result"
    }
   ],
   "source": [
    "NYC_shape.head()"
   ]
  },
  {
   "cell_type": "code",
   "execution_count": 360,
   "metadata": {
    "collapsed": true
   },
   "outputs": [],
   "source": [
    "#from fiona.crs import from_epsg\n",
    "#ct_shape.crs = from_epsg(4326) # epsg=4326: lat/on | 26918: NAD83/UTM zone 18N | epsg=2263 is US feet\n",
    "#NYC_Area=ct_shape.to_crs(epsg=2263).geometry.area.sum()/(2.788*10**7) # from ft2 to mi2 \n",
    "#print 'total NYC land area: %s (mi^2)'%str(NYC_Area)[:5] # from ft2 to mi2 #epsg=2263 is US feet"
   ]
  },
  {
   "cell_type": "code",
   "execution_count": 361,
   "metadata": {
    "collapsed": true
   },
   "outputs": [],
   "source": [
    "NYC_shape.crs = from_epsg(4326)"
   ]
  },
  {
   "cell_type": "code",
   "execution_count": 362,
   "metadata": {
    "collapsed": false
   },
   "outputs": [
    {
     "data": {
      "text/plain": [
       "{'init': 'epsg:4326', 'no_defs': True}"
      ]
     },
     "execution_count": 362,
     "metadata": {},
     "output_type": "execute_result"
    }
   ],
   "source": [
    "NYC_shape.crs"
   ]
  },
  {
   "cell_type": "code",
   "execution_count": 363,
   "metadata": {
    "collapsed": false
   },
   "outputs": [],
   "source": [
    "# Population density by 1,000 sq feet\n",
    "NYC_shape[\"pop_density\"] = (NYC_shape.population/NYC_shape.shape_area)*1000"
   ]
  },
  {
   "cell_type": "code",
   "execution_count": 364,
   "metadata": {
    "collapsed": false
   },
   "outputs": [
    {
     "data": {
      "text/html": [
       "<div>\n",
       "<table border=\"1\" class=\"dataframe\">\n",
       "  <thead>\n",
       "    <tr style=\"text-align: right;\">\n",
       "      <th></th>\n",
       "      <th>boro_code</th>\n",
       "      <th>boro_ct2010</th>\n",
       "      <th>boro_name</th>\n",
       "      <th>cdeligibil</th>\n",
       "      <th>ct2010</th>\n",
       "      <th>ctlabel</th>\n",
       "      <th>ntacode</th>\n",
       "      <th>ntaname</th>\n",
       "      <th>puma</th>\n",
       "      <th>shape_area</th>\n",
       "      <th>shape_leng</th>\n",
       "      <th>the_geom</th>\n",
       "      <th>borough</th>\n",
       "      <th>census_tract</th>\n",
       "      <th>dcp_borough_code</th>\n",
       "      <th>fips_county_code</th>\n",
       "      <th>population</th>\n",
       "      <th>year</th>\n",
       "      <th>pop_density</th>\n",
       "    </tr>\n",
       "  </thead>\n",
       "  <tbody>\n",
       "    <tr>\n",
       "      <th>0</th>\n",
       "      <td>3</td>\n",
       "      <td>3000501</td>\n",
       "      <td>Brooklyn</td>\n",
       "      <td>I</td>\n",
       "      <td>000501</td>\n",
       "      <td>5.01</td>\n",
       "      <td>BK09</td>\n",
       "      <td>Brooklyn Heights-Cobble Hill</td>\n",
       "      <td>4004</td>\n",
       "      <td>9.015070e+05</td>\n",
       "      <td>4828.16991186</td>\n",
       "      <td>{'type': 'MultiPolygon', 'coordinates': [[[[-7...</td>\n",
       "      <td>Brooklyn</td>\n",
       "      <td>000501</td>\n",
       "      <td>3</td>\n",
       "      <td>47</td>\n",
       "      <td>4247</td>\n",
       "      <td>2010</td>\n",
       "      <td>4.711001</td>\n",
       "    </tr>\n",
       "    <tr>\n",
       "      <th>1</th>\n",
       "      <td>3</td>\n",
       "      <td>3002000</td>\n",
       "      <td>Brooklyn</td>\n",
       "      <td>I</td>\n",
       "      <td>002000</td>\n",
       "      <td>20</td>\n",
       "      <td>BK32</td>\n",
       "      <td>Sunset Park West</td>\n",
       "      <td>4012</td>\n",
       "      <td>1.620770e+06</td>\n",
       "      <td>5426.06727936</td>\n",
       "      <td>{'type': 'MultiPolygon', 'coordinates': [[[[-7...</td>\n",
       "      <td>Brooklyn</td>\n",
       "      <td>002000</td>\n",
       "      <td>3</td>\n",
       "      <td>47</td>\n",
       "      <td>1672</td>\n",
       "      <td>2010</td>\n",
       "      <td>1.031608</td>\n",
       "    </tr>\n",
       "    <tr>\n",
       "      <th>2</th>\n",
       "      <td>3</td>\n",
       "      <td>3004100</td>\n",
       "      <td>Brooklyn</td>\n",
       "      <td>I</td>\n",
       "      <td>004100</td>\n",
       "      <td>41</td>\n",
       "      <td>BK38</td>\n",
       "      <td>DUMBO-Vinegar Hill-Downtown Brooklyn-Boerum Hill</td>\n",
       "      <td>4004</td>\n",
       "      <td>1.744094e+06</td>\n",
       "      <td>5283.85665969</td>\n",
       "      <td>{'type': 'MultiPolygon', 'coordinates': [[[[-7...</td>\n",
       "      <td>Brooklyn</td>\n",
       "      <td>004100</td>\n",
       "      <td>3</td>\n",
       "      <td>47</td>\n",
       "      <td>3598</td>\n",
       "      <td>2010</td>\n",
       "      <td>2.062962</td>\n",
       "    </tr>\n",
       "    <tr>\n",
       "      <th>3</th>\n",
       "      <td>3</td>\n",
       "      <td>3005202</td>\n",
       "      <td>Brooklyn</td>\n",
       "      <td>I</td>\n",
       "      <td>005202</td>\n",
       "      <td>52.02</td>\n",
       "      <td>BK31</td>\n",
       "      <td>Bay Ridge</td>\n",
       "      <td>4013</td>\n",
       "      <td>1.398134e+06</td>\n",
       "      <td>5190.71381772</td>\n",
       "      <td>{'type': 'MultiPolygon', 'coordinates': [[[[-7...</td>\n",
       "      <td>Brooklyn</td>\n",
       "      <td>005202</td>\n",
       "      <td>3</td>\n",
       "      <td>47</td>\n",
       "      <td>2481</td>\n",
       "      <td>2010</td>\n",
       "      <td>1.774507</td>\n",
       "    </tr>\n",
       "    <tr>\n",
       "      <th>4</th>\n",
       "      <td>3</td>\n",
       "      <td>3005800</td>\n",
       "      <td>Brooklyn</td>\n",
       "      <td>E</td>\n",
       "      <td>005800</td>\n",
       "      <td>58</td>\n",
       "      <td>BK31</td>\n",
       "      <td>Bay Ridge</td>\n",
       "      <td>4013</td>\n",
       "      <td>2.080303e+06</td>\n",
       "      <td>6098.16779894</td>\n",
       "      <td>{'type': 'MultiPolygon', 'coordinates': [[[[-7...</td>\n",
       "      <td>Brooklyn</td>\n",
       "      <td>005800</td>\n",
       "      <td>3</td>\n",
       "      <td>47</td>\n",
       "      <td>3152</td>\n",
       "      <td>2010</td>\n",
       "      <td>1.515164</td>\n",
       "    </tr>\n",
       "  </tbody>\n",
       "</table>\n",
       "</div>"
      ],
      "text/plain": [
       "  boro_code  boro_ct2010 boro_name cdeligibil  ct2010 ctlabel ntacode  \\\n",
       "0         3      3000501  Brooklyn          I  000501    5.01    BK09   \n",
       "1         3      3002000  Brooklyn          I  002000      20    BK32   \n",
       "2         3      3004100  Brooklyn          I  004100      41    BK38   \n",
       "3         3      3005202  Brooklyn          I  005202   52.02    BK31   \n",
       "4         3      3005800  Brooklyn          E  005800      58    BK31   \n",
       "\n",
       "                                            ntaname  puma    shape_area  \\\n",
       "0                      Brooklyn Heights-Cobble Hill  4004  9.015070e+05   \n",
       "1                                  Sunset Park West  4012  1.620770e+06   \n",
       "2  DUMBO-Vinegar Hill-Downtown Brooklyn-Boerum Hill  4004  1.744094e+06   \n",
       "3                                         Bay Ridge  4013  1.398134e+06   \n",
       "4                                         Bay Ridge  4013  2.080303e+06   \n",
       "\n",
       "      shape_leng                                           the_geom   borough  \\\n",
       "0  4828.16991186  {'type': 'MultiPolygon', 'coordinates': [[[[-7...  Brooklyn   \n",
       "1  5426.06727936  {'type': 'MultiPolygon', 'coordinates': [[[[-7...  Brooklyn   \n",
       "2  5283.85665969  {'type': 'MultiPolygon', 'coordinates': [[[[-7...  Brooklyn   \n",
       "3  5190.71381772  {'type': 'MultiPolygon', 'coordinates': [[[[-7...  Brooklyn   \n",
       "4  6098.16779894  {'type': 'MultiPolygon', 'coordinates': [[[[-7...  Brooklyn   \n",
       "\n",
       "  census_tract  dcp_borough_code  fips_county_code  population  year  \\\n",
       "0       000501                 3                47        4247  2010   \n",
       "1       002000                 3                47        1672  2010   \n",
       "2       004100                 3                47        3598  2010   \n",
       "3       005202                 3                47        2481  2010   \n",
       "4       005800                 3                47        3152  2010   \n",
       "\n",
       "   pop_density  \n",
       "0     4.711001  \n",
       "1     1.031608  \n",
       "2     2.062962  \n",
       "3     1.774507  \n",
       "4     1.515164  "
      ]
     },
     "execution_count": 364,
     "metadata": {},
     "output_type": "execute_result"
    }
   ],
   "source": [
    "NYC_shape.head()"
   ]
  },
  {
   "cell_type": "code",
   "execution_count": 365,
   "metadata": {
    "collapsed": true
   },
   "outputs": [],
   "source": [
    "#building_data = pd.read_json(\"https://data.cityofnewyork.us/resource/q3m4-ttp3.json\", dtype={'census_tract': str}) "
   ]
  },
  {
   "cell_type": "code",
   "execution_count": 366,
   "metadata": {
    "collapsed": false
   },
   "outputs": [
    {
     "data": {
      "text/html": [
       "<div>\n",
       "<table border=\"1\" class=\"dataframe\">\n",
       "  <thead>\n",
       "    <tr style=\"text-align: right;\">\n",
       "      <th></th>\n",
       "      <th>FID</th>\n",
       "      <th>STATEFP10</th>\n",
       "      <th>COUNTYFP10</th>\n",
       "      <th>TRACTCE10</th>\n",
       "      <th>GEOID10</th>\n",
       "      <th>INTPTLAT10</th>\n",
       "      <th>INTPTLON10</th>\n",
       "      <th>State</th>\n",
       "      <th>COUNTY</th>\n",
       "      <th>HH_COUNT</th>\n",
       "      <th>...</th>\n",
       "      <th>MSMOC_TOT_</th>\n",
       "      <th>TAX_RET</th>\n",
       "      <th>Avg_TransC</th>\n",
       "      <th>REtaxperow</th>\n",
       "      <th>DISP_INC</th>\n",
       "      <th>energy_cos</th>\n",
       "      <th>REtax_ACS</th>\n",
       "      <th>AVG_TTL</th>\n",
       "      <th>LOCALNAME</th>\n",
       "      <th>Shape_Area</th>\n",
       "    </tr>\n",
       "  </thead>\n",
       "  <tbody>\n",
       "    <tr>\n",
       "      <th>0</th>\n",
       "      <td>0</td>\n",
       "      <td>34</td>\n",
       "      <td>17</td>\n",
       "      <td>32400</td>\n",
       "      <td>34017032400</td>\n",
       "      <td>40.792844</td>\n",
       "      <td>-74.013482</td>\n",
       "      <td>New Jersey</td>\n",
       "      <td>Hudson County</td>\n",
       "      <td>2187</td>\n",
       "      <td>...</td>\n",
       "      <td>22740</td>\n",
       "      <td>2264.889916</td>\n",
       "      <td>4145.566539</td>\n",
       "      <td>4966.370331</td>\n",
       "      <td>12232.00950</td>\n",
       "      <td>1773.280152</td>\n",
       "      <td>7735</td>\n",
       "      <td>5007.444405</td>\n",
       "      <td>West New York Town</td>\n",
       "      <td>0.000036</td>\n",
       "    </tr>\n",
       "    <tr>\n",
       "      <th>1</th>\n",
       "      <td>1</td>\n",
       "      <td>34</td>\n",
       "      <td>17</td>\n",
       "      <td>10100</td>\n",
       "      <td>34017010100</td>\n",
       "      <td>40.691559</td>\n",
       "      <td>-74.110913</td>\n",
       "      <td>New Jersey</td>\n",
       "      <td>Hudson County</td>\n",
       "      <td>2255</td>\n",
       "      <td>...</td>\n",
       "      <td>27804</td>\n",
       "      <td>2363.430717</td>\n",
       "      <td>5969.286255</td>\n",
       "      <td>4490.984109</td>\n",
       "      <td>22077.84024</td>\n",
       "      <td>1876.844806</td>\n",
       "      <td>7917</td>\n",
       "      <td>6146.888195</td>\n",
       "      <td>Bayonne City</td>\n",
       "      <td>0.000106</td>\n",
       "    </tr>\n",
       "    <tr>\n",
       "      <th>2</th>\n",
       "      <td>2</td>\n",
       "      <td>34</td>\n",
       "      <td>17</td>\n",
       "      <td>10200</td>\n",
       "      <td>34017010200</td>\n",
       "      <td>40.682103</td>\n",
       "      <td>-74.104573</td>\n",
       "      <td>New Jersey</td>\n",
       "      <td>Hudson County</td>\n",
       "      <td>1218</td>\n",
       "      <td>...</td>\n",
       "      <td>28068</td>\n",
       "      <td>1260.718928</td>\n",
       "      <td>6014.489564</td>\n",
       "      <td>3339.224580</td>\n",
       "      <td>20488.60531</td>\n",
       "      <td>2167.175106</td>\n",
       "      <td>7692</td>\n",
       "      <td>6193.436421</td>\n",
       "      <td>Bayonne City</td>\n",
       "      <td>0.000031</td>\n",
       "    </tr>\n",
       "    <tr>\n",
       "      <th>3</th>\n",
       "      <td>3</td>\n",
       "      <td>34</td>\n",
       "      <td>17</td>\n",
       "      <td>10300</td>\n",
       "      <td>34017010300</td>\n",
       "      <td>40.672439</td>\n",
       "      <td>-74.081016</td>\n",
       "      <td>New Jersey</td>\n",
       "      <td>Hudson County</td>\n",
       "      <td>1093</td>\n",
       "      <td>...</td>\n",
       "      <td>22620</td>\n",
       "      <td>1229.562591</td>\n",
       "      <td>4798.787758</td>\n",
       "      <td>3793.386763</td>\n",
       "      <td>15514.61337</td>\n",
       "      <td>2163.964082</td>\n",
       "      <td>7831</td>\n",
       "      <td>4941.564294</td>\n",
       "      <td>Bayonne City</td>\n",
       "      <td>0.000108</td>\n",
       "    </tr>\n",
       "    <tr>\n",
       "      <th>4</th>\n",
       "      <td>4</td>\n",
       "      <td>34</td>\n",
       "      <td>17</td>\n",
       "      <td>10400</td>\n",
       "      <td>34017010400</td>\n",
       "      <td>40.670599</td>\n",
       "      <td>-74.089940</td>\n",
       "      <td>New Jersey</td>\n",
       "      <td>Hudson County</td>\n",
       "      <td>1571</td>\n",
       "      <td>...</td>\n",
       "      <td>20724</td>\n",
       "      <td>2209.874484</td>\n",
       "      <td>7611.970058</td>\n",
       "      <td>4478.110461</td>\n",
       "      <td>35131.00534</td>\n",
       "      <td>2114.480847</td>\n",
       "      <td>7918</td>\n",
       "      <td>7838.446154</td>\n",
       "      <td>Bayonne City</td>\n",
       "      <td>0.000234</td>\n",
       "    </tr>\n",
       "  </tbody>\n",
       "</table>\n",
       "<p>5 rows × 28 columns</p>\n",
       "</div>"
      ],
      "text/plain": [
       "   FID  STATEFP10  COUNTYFP10 TRACTCE10      GEOID10  INTPTLAT10  INTPTLON10  \\\n",
       "0    0         34          17     32400  34017032400   40.792844  -74.013482   \n",
       "1    1         34          17     10100  34017010100   40.691559  -74.110913   \n",
       "2    2         34          17     10200  34017010200   40.682103  -74.104573   \n",
       "3    3         34          17     10300  34017010300   40.672439  -74.081016   \n",
       "4    4         34          17     10400  34017010400   40.670599  -74.089940   \n",
       "\n",
       "        State         COUNTY  HH_COUNT     ...      MSMOC_TOT_      TAX_RET  \\\n",
       "0  New Jersey  Hudson County      2187     ...           22740  2264.889916   \n",
       "1  New Jersey  Hudson County      2255     ...           27804  2363.430717   \n",
       "2  New Jersey  Hudson County      1218     ...           28068  1260.718928   \n",
       "3  New Jersey  Hudson County      1093     ...           22620  1229.562591   \n",
       "4  New Jersey  Hudson County      1571     ...           20724  2209.874484   \n",
       "\n",
       "    Avg_TransC   REtaxperow     DISP_INC   energy_cos  REtax_ACS      AVG_TTL  \\\n",
       "0  4145.566539  4966.370331  12232.00950  1773.280152       7735  5007.444405   \n",
       "1  5969.286255  4490.984109  22077.84024  1876.844806       7917  6146.888195   \n",
       "2  6014.489564  3339.224580  20488.60531  2167.175106       7692  6193.436421   \n",
       "3  4798.787758  3793.386763  15514.61337  2163.964082       7831  4941.564294   \n",
       "4  7611.970058  4478.110461  35131.00534  2114.480847       7918  7838.446154   \n",
       "\n",
       "            LOCALNAME  Shape_Area  \n",
       "0  West New York Town    0.000036  \n",
       "1        Bayonne City    0.000106  \n",
       "2        Bayonne City    0.000031  \n",
       "3        Bayonne City    0.000108  \n",
       "4        Bayonne City    0.000234  \n",
       "\n",
       "[5 rows x 28 columns]"
      ]
     },
     "execution_count": 366,
     "metadata": {},
     "output_type": "execute_result"
    }
   ],
   "source": [
    "path = \"../Downloads/medianhouseholdincomecensustract.csv\"\n",
    "house_data = pd.read_csv(path, dtype={'TRACTCE10': str})\n",
    "house_data.head()"
   ]
  },
  {
   "cell_type": "code",
   "execution_count": 367,
   "metadata": {
    "collapsed": false
   },
   "outputs": [
    {
     "data": {
      "text/plain": [
       "Index(['FID', 'STATEFP10', 'COUNTYFP10', 'TRACTCE10', 'GEOID10', 'INTPTLAT10',\n",
       "       'INTPTLON10', 'State', 'COUNTY', 'HH_COUNT', 'OHU_OWN', 'OHU_RENT',\n",
       "       'PERC_OWN', 'PERC_RENT', 'MHI', 'MED_VAL', 'HOUSINGCOS', 'MCR_ANNUAL',\n",
       "       'MSMOC_TOT_', 'TAX_RET', 'Avg_TransC', 'REtaxperow', 'DISP_INC',\n",
       "       'energy_cos', 'REtax_ACS', 'AVG_TTL', 'LOCALNAME', 'Shape_Area'],\n",
       "      dtype='object')"
      ]
     },
     "execution_count": 367,
     "metadata": {},
     "output_type": "execute_result"
    }
   ],
   "source": [
    "house_data.columns"
   ]
  },
  {
   "cell_type": "code",
   "execution_count": 372,
   "metadata": {
    "collapsed": false
   },
   "outputs": [],
   "source": [
    "#house_data[house_data.TRACTCE10.str.contains(\"11\")]"
   ]
  },
  {
   "cell_type": "code",
   "execution_count": 373,
   "metadata": {
    "collapsed": false
   },
   "outputs": [],
   "source": [
    "#house_data[\"boro_ct2010\"] = house_data.TRACTCE10.str.ljust(5,'0')"
   ]
  },
  {
   "cell_type": "code",
   "execution_count": 374,
   "metadata": {
    "collapsed": false
   },
   "outputs": [],
   "source": [
    "house_data[\"boro_ct2010\"] = house_data.TRACTCE10.str.zfill(6)"
   ]
  },
  {
   "cell_type": "code",
   "execution_count": 375,
   "metadata": {
    "collapsed": false,
    "scrolled": true
   },
   "outputs": [
    {
     "data": {
      "text/html": [
       "<div>\n",
       "<table border=\"1\" class=\"dataframe\">\n",
       "  <thead>\n",
       "    <tr style=\"text-align: right;\">\n",
       "      <th></th>\n",
       "      <th>FID</th>\n",
       "      <th>STATEFP10</th>\n",
       "      <th>COUNTYFP10</th>\n",
       "      <th>TRACTCE10</th>\n",
       "      <th>GEOID10</th>\n",
       "      <th>INTPTLAT10</th>\n",
       "      <th>INTPTLON10</th>\n",
       "      <th>State</th>\n",
       "      <th>COUNTY</th>\n",
       "      <th>HH_COUNT</th>\n",
       "      <th>...</th>\n",
       "      <th>TAX_RET</th>\n",
       "      <th>Avg_TransC</th>\n",
       "      <th>REtaxperow</th>\n",
       "      <th>DISP_INC</th>\n",
       "      <th>energy_cos</th>\n",
       "      <th>REtax_ACS</th>\n",
       "      <th>AVG_TTL</th>\n",
       "      <th>LOCALNAME</th>\n",
       "      <th>Shape_Area</th>\n",
       "      <th>boro_ct2010</th>\n",
       "    </tr>\n",
       "  </thead>\n",
       "  <tbody>\n",
       "    <tr>\n",
       "      <th>0</th>\n",
       "      <td>0</td>\n",
       "      <td>34</td>\n",
       "      <td>17</td>\n",
       "      <td>32400</td>\n",
       "      <td>34017032400</td>\n",
       "      <td>40.792844</td>\n",
       "      <td>-74.013482</td>\n",
       "      <td>New Jersey</td>\n",
       "      <td>Hudson County</td>\n",
       "      <td>2187</td>\n",
       "      <td>...</td>\n",
       "      <td>2264.889916</td>\n",
       "      <td>4145.566539</td>\n",
       "      <td>4966.370331</td>\n",
       "      <td>12232.00950</td>\n",
       "      <td>1773.280152</td>\n",
       "      <td>7735</td>\n",
       "      <td>5007.444405</td>\n",
       "      <td>West New York Town</td>\n",
       "      <td>0.000036</td>\n",
       "      <td>032400</td>\n",
       "    </tr>\n",
       "    <tr>\n",
       "      <th>1</th>\n",
       "      <td>1</td>\n",
       "      <td>34</td>\n",
       "      <td>17</td>\n",
       "      <td>10100</td>\n",
       "      <td>34017010100</td>\n",
       "      <td>40.691559</td>\n",
       "      <td>-74.110913</td>\n",
       "      <td>New Jersey</td>\n",
       "      <td>Hudson County</td>\n",
       "      <td>2255</td>\n",
       "      <td>...</td>\n",
       "      <td>2363.430717</td>\n",
       "      <td>5969.286255</td>\n",
       "      <td>4490.984109</td>\n",
       "      <td>22077.84024</td>\n",
       "      <td>1876.844806</td>\n",
       "      <td>7917</td>\n",
       "      <td>6146.888195</td>\n",
       "      <td>Bayonne City</td>\n",
       "      <td>0.000106</td>\n",
       "      <td>010100</td>\n",
       "    </tr>\n",
       "    <tr>\n",
       "      <th>2</th>\n",
       "      <td>2</td>\n",
       "      <td>34</td>\n",
       "      <td>17</td>\n",
       "      <td>10200</td>\n",
       "      <td>34017010200</td>\n",
       "      <td>40.682103</td>\n",
       "      <td>-74.104573</td>\n",
       "      <td>New Jersey</td>\n",
       "      <td>Hudson County</td>\n",
       "      <td>1218</td>\n",
       "      <td>...</td>\n",
       "      <td>1260.718928</td>\n",
       "      <td>6014.489564</td>\n",
       "      <td>3339.224580</td>\n",
       "      <td>20488.60531</td>\n",
       "      <td>2167.175106</td>\n",
       "      <td>7692</td>\n",
       "      <td>6193.436421</td>\n",
       "      <td>Bayonne City</td>\n",
       "      <td>0.000031</td>\n",
       "      <td>010200</td>\n",
       "    </tr>\n",
       "    <tr>\n",
       "      <th>3</th>\n",
       "      <td>3</td>\n",
       "      <td>34</td>\n",
       "      <td>17</td>\n",
       "      <td>10300</td>\n",
       "      <td>34017010300</td>\n",
       "      <td>40.672439</td>\n",
       "      <td>-74.081016</td>\n",
       "      <td>New Jersey</td>\n",
       "      <td>Hudson County</td>\n",
       "      <td>1093</td>\n",
       "      <td>...</td>\n",
       "      <td>1229.562591</td>\n",
       "      <td>4798.787758</td>\n",
       "      <td>3793.386763</td>\n",
       "      <td>15514.61337</td>\n",
       "      <td>2163.964082</td>\n",
       "      <td>7831</td>\n",
       "      <td>4941.564294</td>\n",
       "      <td>Bayonne City</td>\n",
       "      <td>0.000108</td>\n",
       "      <td>010300</td>\n",
       "    </tr>\n",
       "    <tr>\n",
       "      <th>4</th>\n",
       "      <td>4</td>\n",
       "      <td>34</td>\n",
       "      <td>17</td>\n",
       "      <td>10400</td>\n",
       "      <td>34017010400</td>\n",
       "      <td>40.670599</td>\n",
       "      <td>-74.089940</td>\n",
       "      <td>New Jersey</td>\n",
       "      <td>Hudson County</td>\n",
       "      <td>1571</td>\n",
       "      <td>...</td>\n",
       "      <td>2209.874484</td>\n",
       "      <td>7611.970058</td>\n",
       "      <td>4478.110461</td>\n",
       "      <td>35131.00534</td>\n",
       "      <td>2114.480847</td>\n",
       "      <td>7918</td>\n",
       "      <td>7838.446154</td>\n",
       "      <td>Bayonne City</td>\n",
       "      <td>0.000234</td>\n",
       "      <td>010400</td>\n",
       "    </tr>\n",
       "  </tbody>\n",
       "</table>\n",
       "<p>5 rows × 29 columns</p>\n",
       "</div>"
      ],
      "text/plain": [
       "   FID  STATEFP10  COUNTYFP10 TRACTCE10      GEOID10  INTPTLAT10  INTPTLON10  \\\n",
       "0    0         34          17     32400  34017032400   40.792844  -74.013482   \n",
       "1    1         34          17     10100  34017010100   40.691559  -74.110913   \n",
       "2    2         34          17     10200  34017010200   40.682103  -74.104573   \n",
       "3    3         34          17     10300  34017010300   40.672439  -74.081016   \n",
       "4    4         34          17     10400  34017010400   40.670599  -74.089940   \n",
       "\n",
       "        State         COUNTY  HH_COUNT     ...           TAX_RET   Avg_TransC  \\\n",
       "0  New Jersey  Hudson County      2187     ...       2264.889916  4145.566539   \n",
       "1  New Jersey  Hudson County      2255     ...       2363.430717  5969.286255   \n",
       "2  New Jersey  Hudson County      1218     ...       1260.718928  6014.489564   \n",
       "3  New Jersey  Hudson County      1093     ...       1229.562591  4798.787758   \n",
       "4  New Jersey  Hudson County      1571     ...       2209.874484  7611.970058   \n",
       "\n",
       "    REtaxperow     DISP_INC   energy_cos  REtax_ACS      AVG_TTL  \\\n",
       "0  4966.370331  12232.00950  1773.280152       7735  5007.444405   \n",
       "1  4490.984109  22077.84024  1876.844806       7917  6146.888195   \n",
       "2  3339.224580  20488.60531  2167.175106       7692  6193.436421   \n",
       "3  3793.386763  15514.61337  2163.964082       7831  4941.564294   \n",
       "4  4478.110461  35131.00534  2114.480847       7918  7838.446154   \n",
       "\n",
       "            LOCALNAME  Shape_Area  boro_ct2010  \n",
       "0  West New York Town    0.000036       032400  \n",
       "1        Bayonne City    0.000106       010100  \n",
       "2        Bayonne City    0.000031       010200  \n",
       "3        Bayonne City    0.000108       010300  \n",
       "4        Bayonne City    0.000234       010400  \n",
       "\n",
       "[5 rows x 29 columns]"
      ]
     },
     "execution_count": 375,
     "metadata": {},
     "output_type": "execute_result"
    }
   ],
   "source": [
    "house_data.head()"
   ]
  },
  {
   "cell_type": "markdown",
   "metadata": {},
   "source": [
    "Manhattan - New York County. 1\n",
    "Bronx - Bronx County. 2\n",
    "Brooklyn - Kings County. 3\n",
    "Queens - Queens County. 4\n",
    "Staten Island - Richmond County. 5"
   ]
  },
  {
   "cell_type": "code",
   "execution_count": 376,
   "metadata": {
    "collapsed": true
   },
   "outputs": [],
   "source": [
    "def boro(x):\n",
    "    if x == \"New York County\":\n",
    "        return 1\n",
    "    if x == \"Bronx County\":\n",
    "        return 2\n",
    "    if x == \"Kings County\":\n",
    "        return 3\n",
    "    if x == \"Queens County\":\n",
    "        return 4\n",
    "    if x == \"Richmond County\":\n",
    "        return 5"
   ]
  },
  {
   "cell_type": "code",
   "execution_count": 377,
   "metadata": {
    "collapsed": false
   },
   "outputs": [
    {
     "data": {
      "text/plain": [
       "1"
      ]
     },
     "execution_count": 377,
     "metadata": {},
     "output_type": "execute_result"
    }
   ],
   "source": [
    "boro('New York County')"
   ]
  },
  {
   "cell_type": "code",
   "execution_count": 378,
   "metadata": {
    "collapsed": false
   },
   "outputs": [
    {
     "data": {
      "text/html": [
       "<div>\n",
       "<table border=\"1\" class=\"dataframe\">\n",
       "  <thead>\n",
       "    <tr style=\"text-align: right;\">\n",
       "      <th></th>\n",
       "      <th>FID</th>\n",
       "      <th>STATEFP10</th>\n",
       "      <th>COUNTYFP10</th>\n",
       "      <th>TRACTCE10</th>\n",
       "      <th>GEOID10</th>\n",
       "      <th>INTPTLAT10</th>\n",
       "      <th>INTPTLON10</th>\n",
       "      <th>State</th>\n",
       "      <th>COUNTY</th>\n",
       "      <th>HH_COUNT</th>\n",
       "      <th>...</th>\n",
       "      <th>TAX_RET</th>\n",
       "      <th>Avg_TransC</th>\n",
       "      <th>REtaxperow</th>\n",
       "      <th>DISP_INC</th>\n",
       "      <th>energy_cos</th>\n",
       "      <th>REtax_ACS</th>\n",
       "      <th>AVG_TTL</th>\n",
       "      <th>LOCALNAME</th>\n",
       "      <th>Shape_Area</th>\n",
       "      <th>boro_ct2010</th>\n",
       "    </tr>\n",
       "  </thead>\n",
       "  <tbody>\n",
       "    <tr>\n",
       "      <th>0</th>\n",
       "      <td>0</td>\n",
       "      <td>34</td>\n",
       "      <td>17</td>\n",
       "      <td>32400</td>\n",
       "      <td>34017032400</td>\n",
       "      <td>40.792844</td>\n",
       "      <td>-74.013482</td>\n",
       "      <td>New Jersey</td>\n",
       "      <td>Hudson County</td>\n",
       "      <td>2187</td>\n",
       "      <td>...</td>\n",
       "      <td>2264.889916</td>\n",
       "      <td>4145.566539</td>\n",
       "      <td>4966.370331</td>\n",
       "      <td>12232.00950</td>\n",
       "      <td>1773.280152</td>\n",
       "      <td>7735</td>\n",
       "      <td>5007.444405</td>\n",
       "      <td>West New York Town</td>\n",
       "      <td>0.000036</td>\n",
       "      <td>032400</td>\n",
       "    </tr>\n",
       "    <tr>\n",
       "      <th>1</th>\n",
       "      <td>1</td>\n",
       "      <td>34</td>\n",
       "      <td>17</td>\n",
       "      <td>10100</td>\n",
       "      <td>34017010100</td>\n",
       "      <td>40.691559</td>\n",
       "      <td>-74.110913</td>\n",
       "      <td>New Jersey</td>\n",
       "      <td>Hudson County</td>\n",
       "      <td>2255</td>\n",
       "      <td>...</td>\n",
       "      <td>2363.430717</td>\n",
       "      <td>5969.286255</td>\n",
       "      <td>4490.984109</td>\n",
       "      <td>22077.84024</td>\n",
       "      <td>1876.844806</td>\n",
       "      <td>7917</td>\n",
       "      <td>6146.888195</td>\n",
       "      <td>Bayonne City</td>\n",
       "      <td>0.000106</td>\n",
       "      <td>010100</td>\n",
       "    </tr>\n",
       "    <tr>\n",
       "      <th>2</th>\n",
       "      <td>2</td>\n",
       "      <td>34</td>\n",
       "      <td>17</td>\n",
       "      <td>10200</td>\n",
       "      <td>34017010200</td>\n",
       "      <td>40.682103</td>\n",
       "      <td>-74.104573</td>\n",
       "      <td>New Jersey</td>\n",
       "      <td>Hudson County</td>\n",
       "      <td>1218</td>\n",
       "      <td>...</td>\n",
       "      <td>1260.718928</td>\n",
       "      <td>6014.489564</td>\n",
       "      <td>3339.224580</td>\n",
       "      <td>20488.60531</td>\n",
       "      <td>2167.175106</td>\n",
       "      <td>7692</td>\n",
       "      <td>6193.436421</td>\n",
       "      <td>Bayonne City</td>\n",
       "      <td>0.000031</td>\n",
       "      <td>010200</td>\n",
       "    </tr>\n",
       "    <tr>\n",
       "      <th>3</th>\n",
       "      <td>3</td>\n",
       "      <td>34</td>\n",
       "      <td>17</td>\n",
       "      <td>10300</td>\n",
       "      <td>34017010300</td>\n",
       "      <td>40.672439</td>\n",
       "      <td>-74.081016</td>\n",
       "      <td>New Jersey</td>\n",
       "      <td>Hudson County</td>\n",
       "      <td>1093</td>\n",
       "      <td>...</td>\n",
       "      <td>1229.562591</td>\n",
       "      <td>4798.787758</td>\n",
       "      <td>3793.386763</td>\n",
       "      <td>15514.61337</td>\n",
       "      <td>2163.964082</td>\n",
       "      <td>7831</td>\n",
       "      <td>4941.564294</td>\n",
       "      <td>Bayonne City</td>\n",
       "      <td>0.000108</td>\n",
       "      <td>010300</td>\n",
       "    </tr>\n",
       "    <tr>\n",
       "      <th>4</th>\n",
       "      <td>4</td>\n",
       "      <td>34</td>\n",
       "      <td>17</td>\n",
       "      <td>10400</td>\n",
       "      <td>34017010400</td>\n",
       "      <td>40.670599</td>\n",
       "      <td>-74.089940</td>\n",
       "      <td>New Jersey</td>\n",
       "      <td>Hudson County</td>\n",
       "      <td>1571</td>\n",
       "      <td>...</td>\n",
       "      <td>2209.874484</td>\n",
       "      <td>7611.970058</td>\n",
       "      <td>4478.110461</td>\n",
       "      <td>35131.00534</td>\n",
       "      <td>2114.480847</td>\n",
       "      <td>7918</td>\n",
       "      <td>7838.446154</td>\n",
       "      <td>Bayonne City</td>\n",
       "      <td>0.000234</td>\n",
       "      <td>010400</td>\n",
       "    </tr>\n",
       "  </tbody>\n",
       "</table>\n",
       "<p>5 rows × 29 columns</p>\n",
       "</div>"
      ],
      "text/plain": [
       "   FID  STATEFP10  COUNTYFP10 TRACTCE10      GEOID10  INTPTLAT10  INTPTLON10  \\\n",
       "0    0         34          17     32400  34017032400   40.792844  -74.013482   \n",
       "1    1         34          17     10100  34017010100   40.691559  -74.110913   \n",
       "2    2         34          17     10200  34017010200   40.682103  -74.104573   \n",
       "3    3         34          17     10300  34017010300   40.672439  -74.081016   \n",
       "4    4         34          17     10400  34017010400   40.670599  -74.089940   \n",
       "\n",
       "        State         COUNTY  HH_COUNT     ...           TAX_RET   Avg_TransC  \\\n",
       "0  New Jersey  Hudson County      2187     ...       2264.889916  4145.566539   \n",
       "1  New Jersey  Hudson County      2255     ...       2363.430717  5969.286255   \n",
       "2  New Jersey  Hudson County      1218     ...       1260.718928  6014.489564   \n",
       "3  New Jersey  Hudson County      1093     ...       1229.562591  4798.787758   \n",
       "4  New Jersey  Hudson County      1571     ...       2209.874484  7611.970058   \n",
       "\n",
       "    REtaxperow     DISP_INC   energy_cos  REtax_ACS      AVG_TTL  \\\n",
       "0  4966.370331  12232.00950  1773.280152       7735  5007.444405   \n",
       "1  4490.984109  22077.84024  1876.844806       7917  6146.888195   \n",
       "2  3339.224580  20488.60531  2167.175106       7692  6193.436421   \n",
       "3  3793.386763  15514.61337  2163.964082       7831  4941.564294   \n",
       "4  4478.110461  35131.00534  2114.480847       7918  7838.446154   \n",
       "\n",
       "            LOCALNAME  Shape_Area  boro_ct2010  \n",
       "0  West New York Town    0.000036       032400  \n",
       "1        Bayonne City    0.000106       010100  \n",
       "2        Bayonne City    0.000031       010200  \n",
       "3        Bayonne City    0.000108       010300  \n",
       "4        Bayonne City    0.000234       010400  \n",
       "\n",
       "[5 rows x 29 columns]"
      ]
     },
     "execution_count": 378,
     "metadata": {},
     "output_type": "execute_result"
    }
   ],
   "source": [
    "house_data.head()"
   ]
  },
  {
   "cell_type": "code",
   "execution_count": 379,
   "metadata": {
    "collapsed": false
   },
   "outputs": [],
   "source": [
    "house_data[\"boro_code\"] = house_data.COUNTY.map({\"New York County\": \"1\", \"Bronx County\": \"2\", \"Kings County\": \"3\", \\\n",
    "                                           \"Queens County\": \"4\", \"Richmond County\": \"5\"})"
   ]
  },
  {
   "cell_type": "code",
   "execution_count": 380,
   "metadata": {
    "collapsed": false
   },
   "outputs": [],
   "source": [
    "house_data.boro_ct2010 = house_data.boro_code.astype(str) + house_data.boro_ct2010.astype(str)"
   ]
  },
  {
   "cell_type": "code",
   "execution_count": 382,
   "metadata": {
    "collapsed": false
   },
   "outputs": [],
   "source": [
    "#house_data[house_data.boro_code == \"3\"]"
   ]
  },
  {
   "cell_type": "code",
   "execution_count": 383,
   "metadata": {
    "collapsed": false
   },
   "outputs": [
    {
     "data": {
      "text/html": [
       "<div>\n",
       "<table border=\"1\" class=\"dataframe\">\n",
       "  <thead>\n",
       "    <tr style=\"text-align: right;\">\n",
       "      <th></th>\n",
       "      <th>boro_code</th>\n",
       "      <th>boro_ct2010</th>\n",
       "      <th>boro_name</th>\n",
       "      <th>cdeligibil</th>\n",
       "      <th>ct2010</th>\n",
       "      <th>ctlabel</th>\n",
       "      <th>ntacode</th>\n",
       "      <th>ntaname</th>\n",
       "      <th>puma</th>\n",
       "      <th>shape_area</th>\n",
       "      <th>shape_leng</th>\n",
       "      <th>the_geom</th>\n",
       "      <th>borough</th>\n",
       "      <th>census_tract</th>\n",
       "      <th>dcp_borough_code</th>\n",
       "      <th>fips_county_code</th>\n",
       "      <th>population</th>\n",
       "      <th>year</th>\n",
       "      <th>pop_density</th>\n",
       "    </tr>\n",
       "  </thead>\n",
       "  <tbody>\n",
       "  </tbody>\n",
       "</table>\n",
       "</div>"
      ],
      "text/plain": [
       "Empty DataFrame\n",
       "Columns: [boro_code, boro_ct2010, boro_name, cdeligibil, ct2010, ctlabel, ntacode, ntaname, puma, shape_area, shape_leng, the_geom, borough, census_tract, dcp_borough_code, fips_county_code, population, year, pop_density]\n",
       "Index: []"
      ]
     },
     "execution_count": 383,
     "metadata": {},
     "output_type": "execute_result"
    }
   ],
   "source": [
    "NYC_shape[NYC_shape.boro_ct2010 == 3074000]"
   ]
  },
  {
   "cell_type": "code",
   "execution_count": 384,
   "metadata": {
    "collapsed": true
   },
   "outputs": [],
   "source": [
    "#building_data[\"boro_ct2010\"] = building_data.census_tract.str.ljust(5, '0')"
   ]
  },
  {
   "cell_type": "code",
   "execution_count": 385,
   "metadata": {
    "collapsed": true
   },
   "outputs": [],
   "source": [
    "#building_data[\"boro_ct2010\"] = building_data.boro_ct2010.str.zfill(6)"
   ]
  },
  {
   "cell_type": "code",
   "execution_count": 386,
   "metadata": {
    "collapsed": false
   },
   "outputs": [],
   "source": [
    "#del building_data[\"great\"]"
   ]
  },
  {
   "cell_type": "code",
   "execution_count": 387,
   "metadata": {
    "collapsed": false
   },
   "outputs": [],
   "source": [
    "#building_data.tail()"
   ]
  },
  {
   "cell_type": "code",
   "execution_count": 388,
   "metadata": {
    "collapsed": false
   },
   "outputs": [],
   "source": [
    "#building_data.boro_ct2010.dtype"
   ]
  },
  {
   "cell_type": "code",
   "execution_count": 389,
   "metadata": {
    "collapsed": false
   },
   "outputs": [],
   "source": [
    "#building_data[\"great\"] = building_data.boro_ct2010.str.len() > 6"
   ]
  },
  {
   "cell_type": "code",
   "execution_count": 390,
   "metadata": {
    "collapsed": false
   },
   "outputs": [],
   "source": [
    "#building_data.shape"
   ]
  },
  {
   "cell_type": "code",
   "execution_count": 391,
   "metadata": {
    "collapsed": false
   },
   "outputs": [],
   "source": [
    "#building_data.borough.unique()"
   ]
  },
  {
   "cell_type": "code",
   "execution_count": 392,
   "metadata": {
    "collapsed": true
   },
   "outputs": [],
   "source": [
    "#building_data[\"boro_code\"] = building_data.borough.map({\"Manhattan\": \"1\", \"Bronx\": \"2\", \"Brooklyn\": \"3\", \\\n",
    "                                          # \"Queens\": \"4\", \"Staten Island\": \"5\"})"
   ]
  },
  {
   "cell_type": "code",
   "execution_count": 393,
   "metadata": {
    "collapsed": false
   },
   "outputs": [],
   "source": [
    "#building_data[\"boro_ct2010\"] = building_data[\"boro_code\"].astype(str) + building_data[\"boro_ct2010\"].astype(str)"
   ]
  },
  {
   "cell_type": "code",
   "execution_count": 394,
   "metadata": {
    "collapsed": false
   },
   "outputs": [],
   "source": [
    "#building_data.tail()"
   ]
  },
  {
   "cell_type": "code",
   "execution_count": 395,
   "metadata": {
    "collapsed": true
   },
   "outputs": [],
   "source": [
    "#NYC_shape merge with house data merge with building_data"
   ]
  },
  {
   "cell_type": "code",
   "execution_count": 396,
   "metadata": {
    "collapsed": false
   },
   "outputs": [
    {
     "data": {
      "text/plain": [
       "(132, 19)"
      ]
     },
     "execution_count": 396,
     "metadata": {},
     "output_type": "execute_result"
    }
   ],
   "source": [
    "NYC_shape.shape"
   ]
  },
  {
   "cell_type": "code",
   "execution_count": 397,
   "metadata": {
    "collapsed": false
   },
   "outputs": [
    {
     "data": {
      "text/plain": [
       "dtype('int64')"
      ]
     },
     "execution_count": 397,
     "metadata": {},
     "output_type": "execute_result"
    }
   ],
   "source": [
    "NYC_shape.boro_ct2010.dtype"
   ]
  },
  {
   "cell_type": "code",
   "execution_count": 398,
   "metadata": {
    "collapsed": false
   },
   "outputs": [],
   "source": [
    "NYC_shape.boro_ct2010 = NYC_shape.boro_ct2010.astype(str)"
   ]
  },
  {
   "cell_type": "code",
   "execution_count": 399,
   "metadata": {
    "collapsed": false
   },
   "outputs": [
    {
     "data": {
      "text/plain": [
       "dtype('O')"
      ]
     },
     "execution_count": 399,
     "metadata": {},
     "output_type": "execute_result"
    }
   ],
   "source": [
    "NYC_shape.boro_ct2010.dtype"
   ]
  },
  {
   "cell_type": "code",
   "execution_count": 400,
   "metadata": {
    "collapsed": false
   },
   "outputs": [],
   "source": [
    "NYC_shape = NYC_shape.merge(house_data, on=\"boro_ct2010\")"
   ]
  },
  {
   "cell_type": "code",
   "execution_count": 401,
   "metadata": {
    "collapsed": false
   },
   "outputs": [
    {
     "data": {
      "text/plain": [
       "(132, 48)"
      ]
     },
     "execution_count": 401,
     "metadata": {},
     "output_type": "execute_result"
    }
   ],
   "source": [
    "NYC_shape.shape"
   ]
  },
  {
   "cell_type": "code",
   "execution_count": 402,
   "metadata": {
    "collapsed": false
   },
   "outputs": [
    {
     "data": {
      "text/html": [
       "<div>\n",
       "<table border=\"1\" class=\"dataframe\">\n",
       "  <thead>\n",
       "    <tr style=\"text-align: right;\">\n",
       "      <th></th>\n",
       "      <th>boro_code_x</th>\n",
       "      <th>boro_ct2010</th>\n",
       "      <th>boro_name</th>\n",
       "      <th>cdeligibil</th>\n",
       "      <th>ct2010</th>\n",
       "      <th>ctlabel</th>\n",
       "      <th>ntacode</th>\n",
       "      <th>ntaname</th>\n",
       "      <th>puma</th>\n",
       "      <th>shape_area</th>\n",
       "      <th>...</th>\n",
       "      <th>TAX_RET</th>\n",
       "      <th>Avg_TransC</th>\n",
       "      <th>REtaxperow</th>\n",
       "      <th>DISP_INC</th>\n",
       "      <th>energy_cos</th>\n",
       "      <th>REtax_ACS</th>\n",
       "      <th>AVG_TTL</th>\n",
       "      <th>LOCALNAME</th>\n",
       "      <th>Shape_Area</th>\n",
       "      <th>boro_code_y</th>\n",
       "    </tr>\n",
       "  </thead>\n",
       "  <tbody>\n",
       "    <tr>\n",
       "      <th>0</th>\n",
       "      <td>3</td>\n",
       "      <td>3000501</td>\n",
       "      <td>Brooklyn</td>\n",
       "      <td>I</td>\n",
       "      <td>000501</td>\n",
       "      <td>5.01</td>\n",
       "      <td>BK09</td>\n",
       "      <td>Brooklyn Heights-Cobble Hill</td>\n",
       "      <td>4004</td>\n",
       "      <td>9.015070e+05</td>\n",
       "      <td>...</td>\n",
       "      <td>1737.071267</td>\n",
       "      <td>7205.977121</td>\n",
       "      <td>2600.965286</td>\n",
       "      <td>36501.21653</td>\n",
       "      <td>1412.983117</td>\n",
       "      <td>4711</td>\n",
       "      <td>17116.407730</td>\n",
       "      <td>Brooklyn Heights</td>\n",
       "      <td>0.000009</td>\n",
       "      <td>3</td>\n",
       "    </tr>\n",
       "    <tr>\n",
       "      <th>1</th>\n",
       "      <td>3</td>\n",
       "      <td>3002000</td>\n",
       "      <td>Brooklyn</td>\n",
       "      <td>I</td>\n",
       "      <td>002000</td>\n",
       "      <td>20</td>\n",
       "      <td>BK32</td>\n",
       "      <td>Sunset Park West</td>\n",
       "      <td>4012</td>\n",
       "      <td>1.620770e+06</td>\n",
       "      <td>...</td>\n",
       "      <td>574.850160</td>\n",
       "      <td>3064.116727</td>\n",
       "      <td>580.101530</td>\n",
       "      <td>13647.01968</td>\n",
       "      <td>2061.361323</td>\n",
       "      <td>1700</td>\n",
       "      <td>2968.716870</td>\n",
       "      <td>Bush Terminal</td>\n",
       "      <td>0.000016</td>\n",
       "      <td>3</td>\n",
       "    </tr>\n",
       "    <tr>\n",
       "      <th>2</th>\n",
       "      <td>3</td>\n",
       "      <td>3004100</td>\n",
       "      <td>Brooklyn</td>\n",
       "      <td>I</td>\n",
       "      <td>004100</td>\n",
       "      <td>41</td>\n",
       "      <td>BK38</td>\n",
       "      <td>DUMBO-Vinegar Hill-Downtown Brooklyn-Boerum Hill</td>\n",
       "      <td>4004</td>\n",
       "      <td>1.744094e+06</td>\n",
       "      <td>...</td>\n",
       "      <td>1374.638495</td>\n",
       "      <td>8024.382252</td>\n",
       "      <td>2001.736607</td>\n",
       "      <td>39450.88208</td>\n",
       "      <td>1690.291069</td>\n",
       "      <td>4224</td>\n",
       "      <td>15948.483090</td>\n",
       "      <td>Boerum Hill</td>\n",
       "      <td>0.000017</td>\n",
       "      <td>3</td>\n",
       "    </tr>\n",
       "    <tr>\n",
       "      <th>3</th>\n",
       "      <td>3</td>\n",
       "      <td>3005202</td>\n",
       "      <td>Brooklyn</td>\n",
       "      <td>I</td>\n",
       "      <td>005202</td>\n",
       "      <td>52.02</td>\n",
       "      <td>BK31</td>\n",
       "      <td>Bay Ridge</td>\n",
       "      <td>4013</td>\n",
       "      <td>1.398134e+06</td>\n",
       "      <td>...</td>\n",
       "      <td>1582.632893</td>\n",
       "      <td>5761.039594</td>\n",
       "      <td>2039.785814</td>\n",
       "      <td>33727.02430</td>\n",
       "      <td>1585.245533</td>\n",
       "      <td>2937</td>\n",
       "      <td>9382.433070</td>\n",
       "      <td>Bay Ridge</td>\n",
       "      <td>0.000015</td>\n",
       "      <td>3</td>\n",
       "    </tr>\n",
       "    <tr>\n",
       "      <th>4</th>\n",
       "      <td>3</td>\n",
       "      <td>3005800</td>\n",
       "      <td>Brooklyn</td>\n",
       "      <td>E</td>\n",
       "      <td>005800</td>\n",
       "      <td>58</td>\n",
       "      <td>BK31</td>\n",
       "      <td>Bay Ridge</td>\n",
       "      <td>4013</td>\n",
       "      <td>2.080303e+06</td>\n",
       "      <td>...</td>\n",
       "      <td>1713.269708</td>\n",
       "      <td>4568.334204</td>\n",
       "      <td>3609.383943</td>\n",
       "      <td>24360.97565</td>\n",
       "      <td>1599.484797</td>\n",
       "      <td>4026</td>\n",
       "      <td>7439.992247</td>\n",
       "      <td>Bay Ridge</td>\n",
       "      <td>0.000021</td>\n",
       "      <td>3</td>\n",
       "    </tr>\n",
       "  </tbody>\n",
       "</table>\n",
       "<p>5 rows × 48 columns</p>\n",
       "</div>"
      ],
      "text/plain": [
       "  boro_code_x boro_ct2010 boro_name cdeligibil  ct2010 ctlabel ntacode  \\\n",
       "0           3     3000501  Brooklyn          I  000501    5.01    BK09   \n",
       "1           3     3002000  Brooklyn          I  002000      20    BK32   \n",
       "2           3     3004100  Brooklyn          I  004100      41    BK38   \n",
       "3           3     3005202  Brooklyn          I  005202   52.02    BK31   \n",
       "4           3     3005800  Brooklyn          E  005800      58    BK31   \n",
       "\n",
       "                                            ntaname  puma    shape_area  \\\n",
       "0                      Brooklyn Heights-Cobble Hill  4004  9.015070e+05   \n",
       "1                                  Sunset Park West  4012  1.620770e+06   \n",
       "2  DUMBO-Vinegar Hill-Downtown Brooklyn-Boerum Hill  4004  1.744094e+06   \n",
       "3                                         Bay Ridge  4013  1.398134e+06   \n",
       "4                                         Bay Ridge  4013  2.080303e+06   \n",
       "\n",
       "      ...           TAX_RET   Avg_TransC   REtaxperow     DISP_INC  \\\n",
       "0     ...       1737.071267  7205.977121  2600.965286  36501.21653   \n",
       "1     ...        574.850160  3064.116727   580.101530  13647.01968   \n",
       "2     ...       1374.638495  8024.382252  2001.736607  39450.88208   \n",
       "3     ...       1582.632893  5761.039594  2039.785814  33727.02430   \n",
       "4     ...       1713.269708  4568.334204  3609.383943  24360.97565   \n",
       "\n",
       "    energy_cos  REtax_ACS       AVG_TTL         LOCALNAME  Shape_Area  \\\n",
       "0  1412.983117       4711  17116.407730  Brooklyn Heights    0.000009   \n",
       "1  2061.361323       1700   2968.716870     Bush Terminal    0.000016   \n",
       "2  1690.291069       4224  15948.483090       Boerum Hill    0.000017   \n",
       "3  1585.245533       2937   9382.433070         Bay Ridge    0.000015   \n",
       "4  1599.484797       4026   7439.992247         Bay Ridge    0.000021   \n",
       "\n",
       "   boro_code_y  \n",
       "0            3  \n",
       "1            3  \n",
       "2            3  \n",
       "3            3  \n",
       "4            3  \n",
       "\n",
       "[5 rows x 48 columns]"
      ]
     },
     "execution_count": 402,
     "metadata": {},
     "output_type": "execute_result"
    }
   ],
   "source": [
    "NYC_shape.head()"
   ]
  },
  {
   "cell_type": "code",
   "execution_count": 403,
   "metadata": {
    "collapsed": false
   },
   "outputs": [],
   "source": [
    "house_data.boro_ct2010 = house_data.boro_ct2010.astype(str)"
   ]
  },
  {
   "cell_type": "code",
   "execution_count": 404,
   "metadata": {
    "collapsed": false
   },
   "outputs": [
    {
     "data": {
      "text/plain": [
       "dtype('O')"
      ]
     },
     "execution_count": 404,
     "metadata": {},
     "output_type": "execute_result"
    }
   ],
   "source": [
    "house_data.boro_ct2010.dtype"
   ]
  },
  {
   "cell_type": "code",
   "execution_count": 405,
   "metadata": {
    "collapsed": false
   },
   "outputs": [
    {
     "data": {
      "text/html": [
       "<div>\n",
       "<table border=\"1\" class=\"dataframe\">\n",
       "  <thead>\n",
       "    <tr style=\"text-align: right;\">\n",
       "      <th></th>\n",
       "      <th>FID</th>\n",
       "      <th>STATEFP10</th>\n",
       "      <th>COUNTYFP10</th>\n",
       "      <th>TRACTCE10</th>\n",
       "      <th>GEOID10</th>\n",
       "      <th>INTPTLAT10</th>\n",
       "      <th>INTPTLON10</th>\n",
       "      <th>State</th>\n",
       "      <th>COUNTY</th>\n",
       "      <th>HH_COUNT</th>\n",
       "      <th>...</th>\n",
       "      <th>Avg_TransC</th>\n",
       "      <th>REtaxperow</th>\n",
       "      <th>DISP_INC</th>\n",
       "      <th>energy_cos</th>\n",
       "      <th>REtax_ACS</th>\n",
       "      <th>AVG_TTL</th>\n",
       "      <th>LOCALNAME</th>\n",
       "      <th>Shape_Area</th>\n",
       "      <th>boro_ct2010</th>\n",
       "      <th>boro_code</th>\n",
       "    </tr>\n",
       "  </thead>\n",
       "  <tbody>\n",
       "    <tr>\n",
       "      <th>0</th>\n",
       "      <td>0</td>\n",
       "      <td>34</td>\n",
       "      <td>17</td>\n",
       "      <td>32400</td>\n",
       "      <td>34017032400</td>\n",
       "      <td>40.792844</td>\n",
       "      <td>-74.013482</td>\n",
       "      <td>New Jersey</td>\n",
       "      <td>Hudson County</td>\n",
       "      <td>2187</td>\n",
       "      <td>...</td>\n",
       "      <td>4145.566539</td>\n",
       "      <td>4966.370331</td>\n",
       "      <td>12232.00950</td>\n",
       "      <td>1773.280152</td>\n",
       "      <td>7735</td>\n",
       "      <td>5007.444405</td>\n",
       "      <td>West New York Town</td>\n",
       "      <td>0.000036</td>\n",
       "      <td>nan032400</td>\n",
       "      <td>NaN</td>\n",
       "    </tr>\n",
       "    <tr>\n",
       "      <th>1</th>\n",
       "      <td>1</td>\n",
       "      <td>34</td>\n",
       "      <td>17</td>\n",
       "      <td>10100</td>\n",
       "      <td>34017010100</td>\n",
       "      <td>40.691559</td>\n",
       "      <td>-74.110913</td>\n",
       "      <td>New Jersey</td>\n",
       "      <td>Hudson County</td>\n",
       "      <td>2255</td>\n",
       "      <td>...</td>\n",
       "      <td>5969.286255</td>\n",
       "      <td>4490.984109</td>\n",
       "      <td>22077.84024</td>\n",
       "      <td>1876.844806</td>\n",
       "      <td>7917</td>\n",
       "      <td>6146.888195</td>\n",
       "      <td>Bayonne City</td>\n",
       "      <td>0.000106</td>\n",
       "      <td>nan010100</td>\n",
       "      <td>NaN</td>\n",
       "    </tr>\n",
       "    <tr>\n",
       "      <th>2</th>\n",
       "      <td>2</td>\n",
       "      <td>34</td>\n",
       "      <td>17</td>\n",
       "      <td>10200</td>\n",
       "      <td>34017010200</td>\n",
       "      <td>40.682103</td>\n",
       "      <td>-74.104573</td>\n",
       "      <td>New Jersey</td>\n",
       "      <td>Hudson County</td>\n",
       "      <td>1218</td>\n",
       "      <td>...</td>\n",
       "      <td>6014.489564</td>\n",
       "      <td>3339.224580</td>\n",
       "      <td>20488.60531</td>\n",
       "      <td>2167.175106</td>\n",
       "      <td>7692</td>\n",
       "      <td>6193.436421</td>\n",
       "      <td>Bayonne City</td>\n",
       "      <td>0.000031</td>\n",
       "      <td>nan010200</td>\n",
       "      <td>NaN</td>\n",
       "    </tr>\n",
       "    <tr>\n",
       "      <th>3</th>\n",
       "      <td>3</td>\n",
       "      <td>34</td>\n",
       "      <td>17</td>\n",
       "      <td>10300</td>\n",
       "      <td>34017010300</td>\n",
       "      <td>40.672439</td>\n",
       "      <td>-74.081016</td>\n",
       "      <td>New Jersey</td>\n",
       "      <td>Hudson County</td>\n",
       "      <td>1093</td>\n",
       "      <td>...</td>\n",
       "      <td>4798.787758</td>\n",
       "      <td>3793.386763</td>\n",
       "      <td>15514.61337</td>\n",
       "      <td>2163.964082</td>\n",
       "      <td>7831</td>\n",
       "      <td>4941.564294</td>\n",
       "      <td>Bayonne City</td>\n",
       "      <td>0.000108</td>\n",
       "      <td>nan010300</td>\n",
       "      <td>NaN</td>\n",
       "    </tr>\n",
       "    <tr>\n",
       "      <th>4</th>\n",
       "      <td>4</td>\n",
       "      <td>34</td>\n",
       "      <td>17</td>\n",
       "      <td>10400</td>\n",
       "      <td>34017010400</td>\n",
       "      <td>40.670599</td>\n",
       "      <td>-74.089940</td>\n",
       "      <td>New Jersey</td>\n",
       "      <td>Hudson County</td>\n",
       "      <td>1571</td>\n",
       "      <td>...</td>\n",
       "      <td>7611.970058</td>\n",
       "      <td>4478.110461</td>\n",
       "      <td>35131.00534</td>\n",
       "      <td>2114.480847</td>\n",
       "      <td>7918</td>\n",
       "      <td>7838.446154</td>\n",
       "      <td>Bayonne City</td>\n",
       "      <td>0.000234</td>\n",
       "      <td>nan010400</td>\n",
       "      <td>NaN</td>\n",
       "    </tr>\n",
       "  </tbody>\n",
       "</table>\n",
       "<p>5 rows × 30 columns</p>\n",
       "</div>"
      ],
      "text/plain": [
       "   FID  STATEFP10  COUNTYFP10 TRACTCE10      GEOID10  INTPTLAT10  INTPTLON10  \\\n",
       "0    0         34          17     32400  34017032400   40.792844  -74.013482   \n",
       "1    1         34          17     10100  34017010100   40.691559  -74.110913   \n",
       "2    2         34          17     10200  34017010200   40.682103  -74.104573   \n",
       "3    3         34          17     10300  34017010300   40.672439  -74.081016   \n",
       "4    4         34          17     10400  34017010400   40.670599  -74.089940   \n",
       "\n",
       "        State         COUNTY  HH_COUNT    ...       Avg_TransC   REtaxperow  \\\n",
       "0  New Jersey  Hudson County      2187    ...      4145.566539  4966.370331   \n",
       "1  New Jersey  Hudson County      2255    ...      5969.286255  4490.984109   \n",
       "2  New Jersey  Hudson County      1218    ...      6014.489564  3339.224580   \n",
       "3  New Jersey  Hudson County      1093    ...      4798.787758  3793.386763   \n",
       "4  New Jersey  Hudson County      1571    ...      7611.970058  4478.110461   \n",
       "\n",
       "      DISP_INC   energy_cos  REtax_ACS      AVG_TTL           LOCALNAME  \\\n",
       "0  12232.00950  1773.280152       7735  5007.444405  West New York Town   \n",
       "1  22077.84024  1876.844806       7917  6146.888195        Bayonne City   \n",
       "2  20488.60531  2167.175106       7692  6193.436421        Bayonne City   \n",
       "3  15514.61337  2163.964082       7831  4941.564294        Bayonne City   \n",
       "4  35131.00534  2114.480847       7918  7838.446154        Bayonne City   \n",
       "\n",
       "   Shape_Area  boro_ct2010  boro_code  \n",
       "0    0.000036    nan032400        NaN  \n",
       "1    0.000106    nan010100        NaN  \n",
       "2    0.000031    nan010200        NaN  \n",
       "3    0.000108    nan010300        NaN  \n",
       "4    0.000234    nan010400        NaN  \n",
       "\n",
       "[5 rows x 30 columns]"
      ]
     },
     "execution_count": 405,
     "metadata": {},
     "output_type": "execute_result"
    }
   ],
   "source": [
    "house_data.head()"
   ]
  },
  {
   "cell_type": "code",
   "execution_count": 406,
   "metadata": {
    "collapsed": false
   },
   "outputs": [
    {
     "data": {
      "text/html": [
       "<div>\n",
       "<table border=\"1\" class=\"dataframe\">\n",
       "  <thead>\n",
       "    <tr style=\"text-align: right;\">\n",
       "      <th></th>\n",
       "      <th>boro_code_x</th>\n",
       "      <th>boro_ct2010</th>\n",
       "      <th>boro_name</th>\n",
       "      <th>cdeligibil</th>\n",
       "      <th>ct2010</th>\n",
       "      <th>ctlabel</th>\n",
       "      <th>ntacode</th>\n",
       "      <th>ntaname</th>\n",
       "      <th>puma</th>\n",
       "      <th>shape_area</th>\n",
       "      <th>...</th>\n",
       "      <th>TAX_RET</th>\n",
       "      <th>Avg_TransC</th>\n",
       "      <th>REtaxperow</th>\n",
       "      <th>DISP_INC</th>\n",
       "      <th>energy_cos</th>\n",
       "      <th>REtax_ACS</th>\n",
       "      <th>AVG_TTL</th>\n",
       "      <th>LOCALNAME</th>\n",
       "      <th>Shape_Area</th>\n",
       "      <th>boro_code_y</th>\n",
       "    </tr>\n",
       "  </thead>\n",
       "  <tbody>\n",
       "    <tr>\n",
       "      <th>0</th>\n",
       "      <td>3</td>\n",
       "      <td>3000501</td>\n",
       "      <td>Brooklyn</td>\n",
       "      <td>I</td>\n",
       "      <td>000501</td>\n",
       "      <td>5.01</td>\n",
       "      <td>BK09</td>\n",
       "      <td>Brooklyn Heights-Cobble Hill</td>\n",
       "      <td>4004</td>\n",
       "      <td>9.015070e+05</td>\n",
       "      <td>...</td>\n",
       "      <td>1737.071267</td>\n",
       "      <td>7205.977121</td>\n",
       "      <td>2600.965286</td>\n",
       "      <td>36501.21653</td>\n",
       "      <td>1412.983117</td>\n",
       "      <td>4711</td>\n",
       "      <td>17116.407730</td>\n",
       "      <td>Brooklyn Heights</td>\n",
       "      <td>0.000009</td>\n",
       "      <td>3</td>\n",
       "    </tr>\n",
       "    <tr>\n",
       "      <th>1</th>\n",
       "      <td>3</td>\n",
       "      <td>3002000</td>\n",
       "      <td>Brooklyn</td>\n",
       "      <td>I</td>\n",
       "      <td>002000</td>\n",
       "      <td>20</td>\n",
       "      <td>BK32</td>\n",
       "      <td>Sunset Park West</td>\n",
       "      <td>4012</td>\n",
       "      <td>1.620770e+06</td>\n",
       "      <td>...</td>\n",
       "      <td>574.850160</td>\n",
       "      <td>3064.116727</td>\n",
       "      <td>580.101530</td>\n",
       "      <td>13647.01968</td>\n",
       "      <td>2061.361323</td>\n",
       "      <td>1700</td>\n",
       "      <td>2968.716870</td>\n",
       "      <td>Bush Terminal</td>\n",
       "      <td>0.000016</td>\n",
       "      <td>3</td>\n",
       "    </tr>\n",
       "    <tr>\n",
       "      <th>2</th>\n",
       "      <td>3</td>\n",
       "      <td>3004100</td>\n",
       "      <td>Brooklyn</td>\n",
       "      <td>I</td>\n",
       "      <td>004100</td>\n",
       "      <td>41</td>\n",
       "      <td>BK38</td>\n",
       "      <td>DUMBO-Vinegar Hill-Downtown Brooklyn-Boerum Hill</td>\n",
       "      <td>4004</td>\n",
       "      <td>1.744094e+06</td>\n",
       "      <td>...</td>\n",
       "      <td>1374.638495</td>\n",
       "      <td>8024.382252</td>\n",
       "      <td>2001.736607</td>\n",
       "      <td>39450.88208</td>\n",
       "      <td>1690.291069</td>\n",
       "      <td>4224</td>\n",
       "      <td>15948.483090</td>\n",
       "      <td>Boerum Hill</td>\n",
       "      <td>0.000017</td>\n",
       "      <td>3</td>\n",
       "    </tr>\n",
       "    <tr>\n",
       "      <th>3</th>\n",
       "      <td>3</td>\n",
       "      <td>3005202</td>\n",
       "      <td>Brooklyn</td>\n",
       "      <td>I</td>\n",
       "      <td>005202</td>\n",
       "      <td>52.02</td>\n",
       "      <td>BK31</td>\n",
       "      <td>Bay Ridge</td>\n",
       "      <td>4013</td>\n",
       "      <td>1.398134e+06</td>\n",
       "      <td>...</td>\n",
       "      <td>1582.632893</td>\n",
       "      <td>5761.039594</td>\n",
       "      <td>2039.785814</td>\n",
       "      <td>33727.02430</td>\n",
       "      <td>1585.245533</td>\n",
       "      <td>2937</td>\n",
       "      <td>9382.433070</td>\n",
       "      <td>Bay Ridge</td>\n",
       "      <td>0.000015</td>\n",
       "      <td>3</td>\n",
       "    </tr>\n",
       "    <tr>\n",
       "      <th>4</th>\n",
       "      <td>3</td>\n",
       "      <td>3005800</td>\n",
       "      <td>Brooklyn</td>\n",
       "      <td>E</td>\n",
       "      <td>005800</td>\n",
       "      <td>58</td>\n",
       "      <td>BK31</td>\n",
       "      <td>Bay Ridge</td>\n",
       "      <td>4013</td>\n",
       "      <td>2.080303e+06</td>\n",
       "      <td>...</td>\n",
       "      <td>1713.269708</td>\n",
       "      <td>4568.334204</td>\n",
       "      <td>3609.383943</td>\n",
       "      <td>24360.97565</td>\n",
       "      <td>1599.484797</td>\n",
       "      <td>4026</td>\n",
       "      <td>7439.992247</td>\n",
       "      <td>Bay Ridge</td>\n",
       "      <td>0.000021</td>\n",
       "      <td>3</td>\n",
       "    </tr>\n",
       "  </tbody>\n",
       "</table>\n",
       "<p>5 rows × 48 columns</p>\n",
       "</div>"
      ],
      "text/plain": [
       "  boro_code_x boro_ct2010 boro_name cdeligibil  ct2010 ctlabel ntacode  \\\n",
       "0           3     3000501  Brooklyn          I  000501    5.01    BK09   \n",
       "1           3     3002000  Brooklyn          I  002000      20    BK32   \n",
       "2           3     3004100  Brooklyn          I  004100      41    BK38   \n",
       "3           3     3005202  Brooklyn          I  005202   52.02    BK31   \n",
       "4           3     3005800  Brooklyn          E  005800      58    BK31   \n",
       "\n",
       "                                            ntaname  puma    shape_area  \\\n",
       "0                      Brooklyn Heights-Cobble Hill  4004  9.015070e+05   \n",
       "1                                  Sunset Park West  4012  1.620770e+06   \n",
       "2  DUMBO-Vinegar Hill-Downtown Brooklyn-Boerum Hill  4004  1.744094e+06   \n",
       "3                                         Bay Ridge  4013  1.398134e+06   \n",
       "4                                         Bay Ridge  4013  2.080303e+06   \n",
       "\n",
       "      ...           TAX_RET   Avg_TransC   REtaxperow     DISP_INC  \\\n",
       "0     ...       1737.071267  7205.977121  2600.965286  36501.21653   \n",
       "1     ...        574.850160  3064.116727   580.101530  13647.01968   \n",
       "2     ...       1374.638495  8024.382252  2001.736607  39450.88208   \n",
       "3     ...       1582.632893  5761.039594  2039.785814  33727.02430   \n",
       "4     ...       1713.269708  4568.334204  3609.383943  24360.97565   \n",
       "\n",
       "    energy_cos  REtax_ACS       AVG_TTL         LOCALNAME  Shape_Area  \\\n",
       "0  1412.983117       4711  17116.407730  Brooklyn Heights    0.000009   \n",
       "1  2061.361323       1700   2968.716870     Bush Terminal    0.000016   \n",
       "2  1690.291069       4224  15948.483090       Boerum Hill    0.000017   \n",
       "3  1585.245533       2937   9382.433070         Bay Ridge    0.000015   \n",
       "4  1599.484797       4026   7439.992247         Bay Ridge    0.000021   \n",
       "\n",
       "   boro_code_y  \n",
       "0            3  \n",
       "1            3  \n",
       "2            3  \n",
       "3            3  \n",
       "4            3  \n",
       "\n",
       "[5 rows x 48 columns]"
      ]
     },
     "execution_count": 406,
     "metadata": {},
     "output_type": "execute_result"
    }
   ],
   "source": [
    "NYC_shape.head()"
   ]
  },
  {
   "cell_type": "code",
   "execution_count": 407,
   "metadata": {
    "collapsed": false
   },
   "outputs": [],
   "source": [
    "#building_data.boro_ct2010.dtype"
   ]
  },
  {
   "cell_type": "code",
   "execution_count": 408,
   "metadata": {
    "collapsed": true
   },
   "outputs": [],
   "source": [
    "#NYC_shape = NYC_shape.merge(building_data, on=\"boro_ct2010\", how=\"outer\")"
   ]
  },
  {
   "cell_type": "code",
   "execution_count": 409,
   "metadata": {
    "collapsed": false
   },
   "outputs": [
    {
     "data": {
      "text/plain": [
       "(132, 48)"
      ]
     },
     "execution_count": 409,
     "metadata": {},
     "output_type": "execute_result"
    }
   ],
   "source": [
    "NYC_shape.shape"
   ]
  },
  {
   "cell_type": "code",
   "execution_count": 410,
   "metadata": {
    "collapsed": false
   },
   "outputs": [
    {
     "data": {
      "text/plain": [
       "Index(['FID', 'STATEFP10', 'COUNTYFP10', 'TRACTCE10', 'GEOID10', 'INTPTLAT10',\n",
       "       'INTPTLON10', 'State', 'COUNTY', 'HH_COUNT', 'OHU_OWN', 'OHU_RENT',\n",
       "       'PERC_OWN', 'PERC_RENT', 'MHI', 'MED_VAL', 'HOUSINGCOS', 'MCR_ANNUAL',\n",
       "       'MSMOC_TOT_', 'TAX_RET', 'Avg_TransC', 'REtaxperow', 'DISP_INC',\n",
       "       'energy_cos', 'REtax_ACS', 'AVG_TTL', 'LOCALNAME', 'Shape_Area',\n",
       "       'boro_ct2010', 'boro_code'],\n",
       "      dtype='object')"
      ]
     },
     "execution_count": 410,
     "metadata": {},
     "output_type": "execute_result"
    }
   ],
   "source": [
    "house_data.columns"
   ]
  },
  {
   "cell_type": "code",
   "execution_count": 411,
   "metadata": {
    "collapsed": false
   },
   "outputs": [],
   "source": [
    "#building_data.columns"
   ]
  },
  {
   "cell_type": "code",
   "execution_count": 412,
   "metadata": {
    "collapsed": false
   },
   "outputs": [],
   "source": [
    "# household_density per 1000 sq feet by census tract\n",
    "NYC_shape[\"household_density\"] = (NYC_shape.HH_COUNT/NYC_shape.shape_area) *1000"
   ]
  },
  {
   "cell_type": "code",
   "execution_count": 413,
   "metadata": {
    "collapsed": false
   },
   "outputs": [
    {
     "data": {
      "text/html": [
       "<div>\n",
       "<table border=\"1\" class=\"dataframe\">\n",
       "  <thead>\n",
       "    <tr style=\"text-align: right;\">\n",
       "      <th></th>\n",
       "      <th>boro_code_x</th>\n",
       "      <th>boro_ct2010</th>\n",
       "      <th>boro_name</th>\n",
       "      <th>cdeligibil</th>\n",
       "      <th>ct2010</th>\n",
       "      <th>ctlabel</th>\n",
       "      <th>ntacode</th>\n",
       "      <th>ntaname</th>\n",
       "      <th>puma</th>\n",
       "      <th>shape_area</th>\n",
       "      <th>...</th>\n",
       "      <th>Avg_TransC</th>\n",
       "      <th>REtaxperow</th>\n",
       "      <th>DISP_INC</th>\n",
       "      <th>energy_cos</th>\n",
       "      <th>REtax_ACS</th>\n",
       "      <th>AVG_TTL</th>\n",
       "      <th>LOCALNAME</th>\n",
       "      <th>Shape_Area</th>\n",
       "      <th>boro_code_y</th>\n",
       "      <th>household_density</th>\n",
       "    </tr>\n",
       "  </thead>\n",
       "  <tbody>\n",
       "    <tr>\n",
       "      <th>0</th>\n",
       "      <td>3</td>\n",
       "      <td>3000501</td>\n",
       "      <td>Brooklyn</td>\n",
       "      <td>I</td>\n",
       "      <td>000501</td>\n",
       "      <td>5.01</td>\n",
       "      <td>BK09</td>\n",
       "      <td>Brooklyn Heights-Cobble Hill</td>\n",
       "      <td>4004</td>\n",
       "      <td>9.015070e+05</td>\n",
       "      <td>...</td>\n",
       "      <td>7205.977121</td>\n",
       "      <td>2600.965286</td>\n",
       "      <td>36501.21653</td>\n",
       "      <td>1412.983117</td>\n",
       "      <td>4711</td>\n",
       "      <td>17116.407730</td>\n",
       "      <td>Brooklyn Heights</td>\n",
       "      <td>0.000009</td>\n",
       "      <td>3</td>\n",
       "      <td>2.084288</td>\n",
       "    </tr>\n",
       "    <tr>\n",
       "      <th>1</th>\n",
       "      <td>3</td>\n",
       "      <td>3002000</td>\n",
       "      <td>Brooklyn</td>\n",
       "      <td>I</td>\n",
       "      <td>002000</td>\n",
       "      <td>20</td>\n",
       "      <td>BK32</td>\n",
       "      <td>Sunset Park West</td>\n",
       "      <td>4012</td>\n",
       "      <td>1.620770e+06</td>\n",
       "      <td>...</td>\n",
       "      <td>3064.116727</td>\n",
       "      <td>580.101530</td>\n",
       "      <td>13647.01968</td>\n",
       "      <td>2061.361323</td>\n",
       "      <td>1700</td>\n",
       "      <td>2968.716870</td>\n",
       "      <td>Bush Terminal</td>\n",
       "      <td>0.000016</td>\n",
       "      <td>3</td>\n",
       "      <td>0.269625</td>\n",
       "    </tr>\n",
       "    <tr>\n",
       "      <th>2</th>\n",
       "      <td>3</td>\n",
       "      <td>3004100</td>\n",
       "      <td>Brooklyn</td>\n",
       "      <td>I</td>\n",
       "      <td>004100</td>\n",
       "      <td>41</td>\n",
       "      <td>BK38</td>\n",
       "      <td>DUMBO-Vinegar Hill-Downtown Brooklyn-Boerum Hill</td>\n",
       "      <td>4004</td>\n",
       "      <td>1.744094e+06</td>\n",
       "      <td>...</td>\n",
       "      <td>8024.382252</td>\n",
       "      <td>2001.736607</td>\n",
       "      <td>39450.88208</td>\n",
       "      <td>1690.291069</td>\n",
       "      <td>4224</td>\n",
       "      <td>15948.483090</td>\n",
       "      <td>Boerum Hill</td>\n",
       "      <td>0.000017</td>\n",
       "      <td>3</td>\n",
       "      <td>0.876099</td>\n",
       "    </tr>\n",
       "    <tr>\n",
       "      <th>3</th>\n",
       "      <td>3</td>\n",
       "      <td>3005202</td>\n",
       "      <td>Brooklyn</td>\n",
       "      <td>I</td>\n",
       "      <td>005202</td>\n",
       "      <td>52.02</td>\n",
       "      <td>BK31</td>\n",
       "      <td>Bay Ridge</td>\n",
       "      <td>4013</td>\n",
       "      <td>1.398134e+06</td>\n",
       "      <td>...</td>\n",
       "      <td>5761.039594</td>\n",
       "      <td>2039.785814</td>\n",
       "      <td>33727.02430</td>\n",
       "      <td>1585.245533</td>\n",
       "      <td>2937</td>\n",
       "      <td>9382.433070</td>\n",
       "      <td>Bay Ridge</td>\n",
       "      <td>0.000015</td>\n",
       "      <td>3</td>\n",
       "      <td>1.009202</td>\n",
       "    </tr>\n",
       "    <tr>\n",
       "      <th>4</th>\n",
       "      <td>3</td>\n",
       "      <td>3005800</td>\n",
       "      <td>Brooklyn</td>\n",
       "      <td>E</td>\n",
       "      <td>005800</td>\n",
       "      <td>58</td>\n",
       "      <td>BK31</td>\n",
       "      <td>Bay Ridge</td>\n",
       "      <td>4013</td>\n",
       "      <td>2.080303e+06</td>\n",
       "      <td>...</td>\n",
       "      <td>4568.334204</td>\n",
       "      <td>3609.383943</td>\n",
       "      <td>24360.97565</td>\n",
       "      <td>1599.484797</td>\n",
       "      <td>4026</td>\n",
       "      <td>7439.992247</td>\n",
       "      <td>Bay Ridge</td>\n",
       "      <td>0.000021</td>\n",
       "      <td>3</td>\n",
       "      <td>0.755659</td>\n",
       "    </tr>\n",
       "  </tbody>\n",
       "</table>\n",
       "<p>5 rows × 49 columns</p>\n",
       "</div>"
      ],
      "text/plain": [
       "  boro_code_x boro_ct2010 boro_name cdeligibil  ct2010 ctlabel ntacode  \\\n",
       "0           3     3000501  Brooklyn          I  000501    5.01    BK09   \n",
       "1           3     3002000  Brooklyn          I  002000      20    BK32   \n",
       "2           3     3004100  Brooklyn          I  004100      41    BK38   \n",
       "3           3     3005202  Brooklyn          I  005202   52.02    BK31   \n",
       "4           3     3005800  Brooklyn          E  005800      58    BK31   \n",
       "\n",
       "                                            ntaname  puma    shape_area  \\\n",
       "0                      Brooklyn Heights-Cobble Hill  4004  9.015070e+05   \n",
       "1                                  Sunset Park West  4012  1.620770e+06   \n",
       "2  DUMBO-Vinegar Hill-Downtown Brooklyn-Boerum Hill  4004  1.744094e+06   \n",
       "3                                         Bay Ridge  4013  1.398134e+06   \n",
       "4                                         Bay Ridge  4013  2.080303e+06   \n",
       "\n",
       "         ...           Avg_TransC   REtaxperow     DISP_INC   energy_cos  \\\n",
       "0        ...          7205.977121  2600.965286  36501.21653  1412.983117   \n",
       "1        ...          3064.116727   580.101530  13647.01968  2061.361323   \n",
       "2        ...          8024.382252  2001.736607  39450.88208  1690.291069   \n",
       "3        ...          5761.039594  2039.785814  33727.02430  1585.245533   \n",
       "4        ...          4568.334204  3609.383943  24360.97565  1599.484797   \n",
       "\n",
       "   REtax_ACS       AVG_TTL         LOCALNAME  Shape_Area  boro_code_y  \\\n",
       "0       4711  17116.407730  Brooklyn Heights    0.000009            3   \n",
       "1       1700   2968.716870     Bush Terminal    0.000016            3   \n",
       "2       4224  15948.483090       Boerum Hill    0.000017            3   \n",
       "3       2937   9382.433070         Bay Ridge    0.000015            3   \n",
       "4       4026   7439.992247         Bay Ridge    0.000021            3   \n",
       "\n",
       "   household_density  \n",
       "0           2.084288  \n",
       "1           0.269625  \n",
       "2           0.876099  \n",
       "3           1.009202  \n",
       "4           0.755659  \n",
       "\n",
       "[5 rows x 49 columns]"
      ]
     },
     "execution_count": 413,
     "metadata": {},
     "output_type": "execute_result"
    }
   ],
   "source": [
    "NYC_shape.head()"
   ]
  },
  {
   "cell_type": "code",
   "execution_count": 414,
   "metadata": {
    "collapsed": false
   },
   "outputs": [],
   "source": [
    "NYC_shape[\"boro_code\"] = NYC_shape.boro_code_x"
   ]
  },
  {
   "cell_type": "code",
   "execution_count": 415,
   "metadata": {
    "collapsed": true
   },
   "outputs": [],
   "source": [
    "del NYC_shape[\"cdeligibil\"]\n",
    "del NYC_shape[\"borough\"]\n",
    "del NYC_shape[\"census_tract\"]\n",
    "del NYC_shape[\"dcp_borough_code\"]\n",
    "del NYC_shape[\"FID\"]\n",
    "del NYC_shape[\"STATEFP10\"]\n",
    "del NYC_shape[\"COUNTYFP10\"]\n",
    "del NYC_shape[\"TRACTCE10\"]\n",
    "del NYC_shape[\"GEOID10\"]\n",
    "del NYC_shape[\"Shape_Area\"]\n",
    "del NYC_shape[\"boro_code_y\"]\n",
    "del NYC_shape[\"boro_code_x\"]"
   ]
  },
  {
   "cell_type": "code",
   "execution_count": 416,
   "metadata": {
    "collapsed": false
   },
   "outputs": [
    {
     "data": {
      "text/html": [
       "<div>\n",
       "<table border=\"1\" class=\"dataframe\">\n",
       "  <thead>\n",
       "    <tr style=\"text-align: right;\">\n",
       "      <th></th>\n",
       "      <th>boro_ct2010</th>\n",
       "      <th>boro_name</th>\n",
       "      <th>ct2010</th>\n",
       "      <th>ctlabel</th>\n",
       "      <th>ntacode</th>\n",
       "      <th>ntaname</th>\n",
       "      <th>puma</th>\n",
       "      <th>shape_area</th>\n",
       "      <th>shape_leng</th>\n",
       "      <th>the_geom</th>\n",
       "      <th>...</th>\n",
       "      <th>TAX_RET</th>\n",
       "      <th>Avg_TransC</th>\n",
       "      <th>REtaxperow</th>\n",
       "      <th>DISP_INC</th>\n",
       "      <th>energy_cos</th>\n",
       "      <th>REtax_ACS</th>\n",
       "      <th>AVG_TTL</th>\n",
       "      <th>LOCALNAME</th>\n",
       "      <th>household_density</th>\n",
       "      <th>boro_code</th>\n",
       "    </tr>\n",
       "  </thead>\n",
       "  <tbody>\n",
       "    <tr>\n",
       "      <th>0</th>\n",
       "      <td>3000501</td>\n",
       "      <td>Brooklyn</td>\n",
       "      <td>000501</td>\n",
       "      <td>5.01</td>\n",
       "      <td>BK09</td>\n",
       "      <td>Brooklyn Heights-Cobble Hill</td>\n",
       "      <td>4004</td>\n",
       "      <td>9.015070e+05</td>\n",
       "      <td>4828.16991186</td>\n",
       "      <td>{'type': 'MultiPolygon', 'coordinates': [[[[-7...</td>\n",
       "      <td>...</td>\n",
       "      <td>1737.071267</td>\n",
       "      <td>7205.977121</td>\n",
       "      <td>2600.965286</td>\n",
       "      <td>36501.21653</td>\n",
       "      <td>1412.983117</td>\n",
       "      <td>4711</td>\n",
       "      <td>17116.407730</td>\n",
       "      <td>Brooklyn Heights</td>\n",
       "      <td>2.084288</td>\n",
       "      <td>3</td>\n",
       "    </tr>\n",
       "    <tr>\n",
       "      <th>1</th>\n",
       "      <td>3002000</td>\n",
       "      <td>Brooklyn</td>\n",
       "      <td>002000</td>\n",
       "      <td>20</td>\n",
       "      <td>BK32</td>\n",
       "      <td>Sunset Park West</td>\n",
       "      <td>4012</td>\n",
       "      <td>1.620770e+06</td>\n",
       "      <td>5426.06727936</td>\n",
       "      <td>{'type': 'MultiPolygon', 'coordinates': [[[[-7...</td>\n",
       "      <td>...</td>\n",
       "      <td>574.850160</td>\n",
       "      <td>3064.116727</td>\n",
       "      <td>580.101530</td>\n",
       "      <td>13647.01968</td>\n",
       "      <td>2061.361323</td>\n",
       "      <td>1700</td>\n",
       "      <td>2968.716870</td>\n",
       "      <td>Bush Terminal</td>\n",
       "      <td>0.269625</td>\n",
       "      <td>3</td>\n",
       "    </tr>\n",
       "    <tr>\n",
       "      <th>2</th>\n",
       "      <td>3004100</td>\n",
       "      <td>Brooklyn</td>\n",
       "      <td>004100</td>\n",
       "      <td>41</td>\n",
       "      <td>BK38</td>\n",
       "      <td>DUMBO-Vinegar Hill-Downtown Brooklyn-Boerum Hill</td>\n",
       "      <td>4004</td>\n",
       "      <td>1.744094e+06</td>\n",
       "      <td>5283.85665969</td>\n",
       "      <td>{'type': 'MultiPolygon', 'coordinates': [[[[-7...</td>\n",
       "      <td>...</td>\n",
       "      <td>1374.638495</td>\n",
       "      <td>8024.382252</td>\n",
       "      <td>2001.736607</td>\n",
       "      <td>39450.88208</td>\n",
       "      <td>1690.291069</td>\n",
       "      <td>4224</td>\n",
       "      <td>15948.483090</td>\n",
       "      <td>Boerum Hill</td>\n",
       "      <td>0.876099</td>\n",
       "      <td>3</td>\n",
       "    </tr>\n",
       "    <tr>\n",
       "      <th>3</th>\n",
       "      <td>3005202</td>\n",
       "      <td>Brooklyn</td>\n",
       "      <td>005202</td>\n",
       "      <td>52.02</td>\n",
       "      <td>BK31</td>\n",
       "      <td>Bay Ridge</td>\n",
       "      <td>4013</td>\n",
       "      <td>1.398134e+06</td>\n",
       "      <td>5190.71381772</td>\n",
       "      <td>{'type': 'MultiPolygon', 'coordinates': [[[[-7...</td>\n",
       "      <td>...</td>\n",
       "      <td>1582.632893</td>\n",
       "      <td>5761.039594</td>\n",
       "      <td>2039.785814</td>\n",
       "      <td>33727.02430</td>\n",
       "      <td>1585.245533</td>\n",
       "      <td>2937</td>\n",
       "      <td>9382.433070</td>\n",
       "      <td>Bay Ridge</td>\n",
       "      <td>1.009202</td>\n",
       "      <td>3</td>\n",
       "    </tr>\n",
       "    <tr>\n",
       "      <th>4</th>\n",
       "      <td>3005800</td>\n",
       "      <td>Brooklyn</td>\n",
       "      <td>005800</td>\n",
       "      <td>58</td>\n",
       "      <td>BK31</td>\n",
       "      <td>Bay Ridge</td>\n",
       "      <td>4013</td>\n",
       "      <td>2.080303e+06</td>\n",
       "      <td>6098.16779894</td>\n",
       "      <td>{'type': 'MultiPolygon', 'coordinates': [[[[-7...</td>\n",
       "      <td>...</td>\n",
       "      <td>1713.269708</td>\n",
       "      <td>4568.334204</td>\n",
       "      <td>3609.383943</td>\n",
       "      <td>24360.97565</td>\n",
       "      <td>1599.484797</td>\n",
       "      <td>4026</td>\n",
       "      <td>7439.992247</td>\n",
       "      <td>Bay Ridge</td>\n",
       "      <td>0.755659</td>\n",
       "      <td>3</td>\n",
       "    </tr>\n",
       "  </tbody>\n",
       "</table>\n",
       "<p>5 rows × 38 columns</p>\n",
       "</div>"
      ],
      "text/plain": [
       "  boro_ct2010 boro_name  ct2010 ctlabel ntacode  \\\n",
       "0     3000501  Brooklyn  000501    5.01    BK09   \n",
       "1     3002000  Brooklyn  002000      20    BK32   \n",
       "2     3004100  Brooklyn  004100      41    BK38   \n",
       "3     3005202  Brooklyn  005202   52.02    BK31   \n",
       "4     3005800  Brooklyn  005800      58    BK31   \n",
       "\n",
       "                                            ntaname  puma    shape_area  \\\n",
       "0                      Brooklyn Heights-Cobble Hill  4004  9.015070e+05   \n",
       "1                                  Sunset Park West  4012  1.620770e+06   \n",
       "2  DUMBO-Vinegar Hill-Downtown Brooklyn-Boerum Hill  4004  1.744094e+06   \n",
       "3                                         Bay Ridge  4013  1.398134e+06   \n",
       "4                                         Bay Ridge  4013  2.080303e+06   \n",
       "\n",
       "      shape_leng                                           the_geom  \\\n",
       "0  4828.16991186  {'type': 'MultiPolygon', 'coordinates': [[[[-7...   \n",
       "1  5426.06727936  {'type': 'MultiPolygon', 'coordinates': [[[[-7...   \n",
       "2  5283.85665969  {'type': 'MultiPolygon', 'coordinates': [[[[-7...   \n",
       "3  5190.71381772  {'type': 'MultiPolygon', 'coordinates': [[[[-7...   \n",
       "4  6098.16779894  {'type': 'MultiPolygon', 'coordinates': [[[[-7...   \n",
       "\n",
       "     ...          TAX_RET   Avg_TransC   REtaxperow     DISP_INC   energy_cos  \\\n",
       "0    ...      1737.071267  7205.977121  2600.965286  36501.21653  1412.983117   \n",
       "1    ...       574.850160  3064.116727   580.101530  13647.01968  2061.361323   \n",
       "2    ...      1374.638495  8024.382252  2001.736607  39450.88208  1690.291069   \n",
       "3    ...      1582.632893  5761.039594  2039.785814  33727.02430  1585.245533   \n",
       "4    ...      1713.269708  4568.334204  3609.383943  24360.97565  1599.484797   \n",
       "\n",
       "   REtax_ACS       AVG_TTL         LOCALNAME  household_density  boro_code  \n",
       "0       4711  17116.407730  Brooklyn Heights           2.084288          3  \n",
       "1       1700   2968.716870     Bush Terminal           0.269625          3  \n",
       "2       4224  15948.483090       Boerum Hill           0.876099          3  \n",
       "3       2937   9382.433070         Bay Ridge           1.009202          3  \n",
       "4       4026   7439.992247         Bay Ridge           0.755659          3  \n",
       "\n",
       "[5 rows x 38 columns]"
      ]
     },
     "execution_count": 416,
     "metadata": {},
     "output_type": "execute_result"
    }
   ],
   "source": [
    "NYC_shape.head()"
   ]
  },
  {
   "cell_type": "code",
   "execution_count": 417,
   "metadata": {
    "collapsed": false
   },
   "outputs": [],
   "source": [
    "writer = pd.ExcelWriter('MEGA_DATASET.xlsx')\n",
    "NYC_shape.to_excel(writer)\n",
    "writer.save()"
   ]
  },
  {
   "cell_type": "code",
   "execution_count": 418,
   "metadata": {
    "collapsed": true
   },
   "outputs": [],
   "source": [
    "# geenrate points for wifi data and sjoin with shape maga dataset\n",
    "# generate regression model"
   ]
  },
  {
   "cell_type": "code",
   "execution_count": null,
   "metadata": {
    "collapsed": true
   },
   "outputs": [],
   "source": []
  },
  {
   "cell_type": "code",
   "execution_count": null,
   "metadata": {
    "collapsed": true
   },
   "outputs": [],
   "source": []
  }
 ],
 "metadata": {
  "kernelspec": {
   "display_name": "Python 3",
   "language": "python",
   "name": "python3"
  },
  "language_info": {
   "codemirror_mode": {
    "name": "ipython",
    "version": 3
   },
   "file_extension": ".py",
   "mimetype": "text/x-python",
   "name": "python",
   "nbconvert_exporter": "python",
   "pygments_lexer": "ipython3",
   "version": "3.6.0"
  }
 },
 "nbformat": 4,
 "nbformat_minor": 2
}

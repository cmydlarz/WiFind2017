{
 "cells": [
  {
   "cell_type": "markdown",
   "metadata": {},
   "source": [
    "# Dowloading 2016 Summer Wifi Data\n",
    "\n",
    "### Author_: Christian Rosado"
   ]
  },
  {
   "cell_type": "code",
   "execution_count": 3,
   "metadata": {
    "collapsed": false
   },
   "outputs": [],
   "source": [
    "## Imports\n",
    "import pandas as pd\n",
    "from urllib.request import urlopen"
   ]
  },
  {
   "cell_type": "code",
   "execution_count": 44,
   "metadata": {
    "collapsed": false
   },
   "outputs": [],
   "source": [
    "## Data collected on 06/12/2017 Christian\n",
    "\n",
    "columns = ['lat', 'lng', 'ssid', 'bssid', 'acc', 'time', 'level']\n",
    "startdate4 = '04/12/2016'\n",
    "enddate4 = '08/16/2016'\n",
    "#device_model3 = 'VS425'\n",
    "\n",
    "url4 = \"http://wifindproject.com/wifipulling/\\\n",
    "?columns={}\\\n",
    "&startdate={}&enddate={}\\\n",
    "&timeformat=1\".format(\"%7C\".join(columns), startdate4, enddate4)\n",
    "response4 = urlopen(url4+\"&batch=4000000\")\n",
    "data4 = response4.read()\n",
    "df4 = pd.read_json(data4)"
   ]
  },
  {
   "cell_type": "code",
   "execution_count": 8,
   "metadata": {
    "collapsed": false
   },
   "outputs": [
    {
     "data": {
      "text/plain": [
       "'http://wifindproject.com/wifipulling/?columns=lat%7Clng%7Cssid%7Cbssid%7Cacc%7Ctime%7Clevel&startdate=04/12/2016&enddate=08/16/2016&timeformat=1&batch=100'"
      ]
     },
     "execution_count": 8,
     "metadata": {},
     "output_type": "execute_result"
    }
   ],
   "source": [
    "url4+\"&batch=100\""
   ]
  },
  {
   "cell_type": "code",
   "execution_count": 45,
   "metadata": {
    "collapsed": false
   },
   "outputs": [
    {
     "data": {
      "text/html": [
       "<div>\n",
       "<table border=\"1\" class=\"dataframe\">\n",
       "  <thead>\n",
       "    <tr style=\"text-align: right;\">\n",
       "      <th></th>\n",
       "      <th>acc</th>\n",
       "      <th>bssid</th>\n",
       "      <th>lat</th>\n",
       "      <th>level</th>\n",
       "      <th>lng</th>\n",
       "      <th>ssid</th>\n",
       "      <th>time</th>\n",
       "    </tr>\n",
       "  </thead>\n",
       "  <tbody>\n",
       "    <tr>\n",
       "      <th>0</th>\n",
       "      <td>41.0</td>\n",
       "      <td>38:2c:4a:a2:ee:d6</td>\n",
       "      <td>40.692534</td>\n",
       "      <td>-25.0</td>\n",
       "      <td>-73.986189</td>\n",
       "      <td>s0nycl1f3l1ne</td>\n",
       "      <td>04-14-2016 19:05:03</td>\n",
       "    </tr>\n",
       "    <tr>\n",
       "      <th>1</th>\n",
       "      <td>41.0</td>\n",
       "      <td>cc:d5:39:27:f0:b0</td>\n",
       "      <td>40.692534</td>\n",
       "      <td>-41.0</td>\n",
       "      <td>-73.986189</td>\n",
       "      <td>nyu</td>\n",
       "      <td>04-14-2016 19:05:03</td>\n",
       "    </tr>\n",
       "    <tr>\n",
       "      <th>2</th>\n",
       "      <td>41.0</td>\n",
       "      <td>cc:d5:39:27:f0:bf</td>\n",
       "      <td>40.692534</td>\n",
       "      <td>-57.0</td>\n",
       "      <td>-73.986189</td>\n",
       "      <td>nyu</td>\n",
       "      <td>04-14-2016 19:05:03</td>\n",
       "    </tr>\n",
       "    <tr>\n",
       "      <th>3</th>\n",
       "      <td>41.0</td>\n",
       "      <td>cc:d5:39:27:f2:40</td>\n",
       "      <td>40.692534</td>\n",
       "      <td>-62.0</td>\n",
       "      <td>-73.986189</td>\n",
       "      <td>nyu</td>\n",
       "      <td>04-14-2016 19:05:03</td>\n",
       "    </tr>\n",
       "    <tr>\n",
       "      <th>4</th>\n",
       "      <td>41.0</td>\n",
       "      <td>cc:d5:39:27:ec:90</td>\n",
       "      <td>40.692534</td>\n",
       "      <td>-57.0</td>\n",
       "      <td>-73.986189</td>\n",
       "      <td>nyu</td>\n",
       "      <td>04-14-2016 19:05:03</td>\n",
       "    </tr>\n",
       "  </tbody>\n",
       "</table>\n",
       "</div>"
      ],
      "text/plain": [
       "    acc              bssid        lat  level        lng           ssid  \\\n",
       "0  41.0  38:2c:4a:a2:ee:d6  40.692534  -25.0 -73.986189  s0nycl1f3l1ne   \n",
       "1  41.0  cc:d5:39:27:f0:b0  40.692534  -41.0 -73.986189            nyu   \n",
       "2  41.0  cc:d5:39:27:f0:bf  40.692534  -57.0 -73.986189            nyu   \n",
       "3  41.0  cc:d5:39:27:f2:40  40.692534  -62.0 -73.986189            nyu   \n",
       "4  41.0  cc:d5:39:27:ec:90  40.692534  -57.0 -73.986189            nyu   \n",
       "\n",
       "                  time  \n",
       "0  04-14-2016 19:05:03  \n",
       "1  04-14-2016 19:05:03  \n",
       "2  04-14-2016 19:05:03  \n",
       "3  04-14-2016 19:05:03  \n",
       "4  04-14-2016 19:05:03  "
      ]
     },
     "execution_count": 45,
     "metadata": {},
     "output_type": "execute_result"
    }
   ],
   "source": [
    "df4.head()"
   ]
  },
  {
   "cell_type": "code",
   "execution_count": 46,
   "metadata": {
    "collapsed": false
   },
   "outputs": [
    {
     "data": {
      "text/plain": [
       "(4000000, 7)"
      ]
     },
     "execution_count": 46,
     "metadata": {},
     "output_type": "execute_result"
    }
   ],
   "source": [
    "df4.shape"
   ]
  },
  {
   "cell_type": "code",
   "execution_count": 50,
   "metadata": {
    "collapsed": false
   },
   "outputs": [
    {
     "data": {
      "text/plain": [
       "46376"
      ]
     },
     "execution_count": 50,
     "metadata": {},
     "output_type": "execute_result"
    }
   ],
   "source": [
    "len(df4.ssid.unique())"
   ]
  },
  {
   "cell_type": "code",
   "execution_count": 51,
   "metadata": {
    "collapsed": true
   },
   "outputs": [],
   "source": [
    "df4.to_csv(\"wifi_summer_2016.csv\")"
   ]
  }
 ],
 "metadata": {
  "kernelspec": {
   "display_name": "Python 3",
   "language": "python",
   "name": "python3"
  },
  "language_info": {
   "codemirror_mode": {
    "name": "ipython",
    "version": 3
   },
   "file_extension": ".py",
   "mimetype": "text/x-python",
   "name": "python",
   "nbconvert_exporter": "python",
   "pygments_lexer": "ipython3",
   "version": "3.6.0"
  }
 },
 "nbformat": 4,
 "nbformat_minor": 2
}
